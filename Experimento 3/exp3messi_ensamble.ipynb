{
  "nbformat": 4,
  "nbformat_minor": 0,
  "metadata": {
    "colab": {
      "name": "exp3messi_ensamble.ipynb",
      "provenance": [],
      "collapsed_sections": [],
      "toc_visible": true,
      "machine_shape": "hm"
    },
    "kernelspec": {
      "name": "python3",
      "display_name": "Python 3"
    },
    "accelerator": "GPU"
  },
  "cells": [
    {
      "cell_type": "markdown",
      "metadata": {
        "id": "wQmupb1tezQW"
      },
      "source": [
        "![IPN](https://pbs.twimg.com/profile_images/1323639624074514432/J0RHYpAf_400x400.jpg) \n",
        "\n",
        "\n",
        "\n",
        "# <h1><center> Clasificación de los grados de retinopatía diabética en imágenes del fondo del ojo mediante algoritmos de aprendizaje profundo </center></h1>\n",
        "\n",
        "# <h1><center> IPN </center></h1>\n",
        "\n",
        "# <h1><center> Centro de Investigación en Computación </center></h1>\n",
        "\n",
        "\n",
        "#<h1><center>  Jorge Diego Garcia Torres </center></h1>"
      ]
    },
    {
      "cell_type": "code",
      "metadata": {
        "id": "UFk_I_4z3kSv"
      },
      "source": [
        "import os\n",
        "import cv2\n",
        "import random\n",
        "import warnings\n",
        "import numpy as np\n",
        "import pandas as pd\n",
        "import seaborn as sns\n",
        "import matplotlib.pyplot as plt\n",
        "from sklearn.model_selection import train_test_split, StratifiedKFold\n",
        "\n",
        "import os\n",
        "import sys\n",
        "import cv2\n",
        "import shutil\n",
        "import random\n",
        "import warnings\n",
        "import numpy as np\n",
        "import pandas as pd\n",
        "import seaborn as sns\n",
        "import multiprocessing as mp\n",
        "import matplotlib.pyplot as plt\n",
        "\n",
        "from sklearn.metrics import confusion_matrix, cohen_kappa_score\n",
        "from keras.models import Model\n",
        "from keras.preprocessing.image import ImageDataGenerator\n",
        "from keras.layers import Dense, GlobalAveragePooling2D, Input\n",
        "\n",
        "# Set seeds to make the experiment more reproducible.\n",
        "def seed_everything(seed=0):\n",
        "    random.seed(seed)\n",
        "    os.environ['PYTHONHASHSEED'] = str(seed)\n",
        "    np.random.seed(seed)\n",
        "    \n",
        "seed = 0\n",
        "seed_everything(seed)\n",
        "\n",
        "#%matplotlib inline\n",
        "sns.set(style=\"whitegrid\")\n",
        "warnings.filterwarnings(\"ignore\")"
      ],
      "execution_count": null,
      "outputs": []
    },
    {
      "cell_type": "code",
      "metadata": {
        "id": "vumYJchG3znS",
        "colab": {
          "base_uri": "https://localhost:8080/"
        },
        "outputId": "8959ab1e-1332-4f90-a9f4-c704e5751878"
      },
      "source": [
        "from google.colab import drive\n",
        "drive.mount('/content/gdrive')"
      ],
      "execution_count": null,
      "outputs": [
        {
          "output_type": "stream",
          "text": [
            "Mounted at /content/gdrive\n"
          ],
          "name": "stdout"
        }
      ]
    },
    {
      "cell_type": "code",
      "metadata": {
        "id": "6WjnC_7fIDKn"
      },
      "source": [
        "xtrainaptos = np.load('/content/gdrive/My Drive/tesis/messidor/messi224.npy')\n",
        "aptostraindf = pd.read_csv('/content/gdrive/My Drive/tesis/messidor/messidor_data.csv')"
      ],
      "execution_count": null,
      "outputs": []
    },
    {
      "cell_type": "code",
      "metadata": {
        "id": "cVrqp-1MIGBO",
        "colab": {
          "base_uri": "https://localhost:8080/",
          "height": 419
        },
        "outputId": "f443c089-cc13-4ae9-d005-c30743681c81"
      },
      "source": [
        "aptostraindf"
      ],
      "execution_count": null,
      "outputs": [
        {
          "output_type": "execute_result",
          "data": {
            "text/html": [
              "<div>\n",
              "<style scoped>\n",
              "    .dataframe tbody tr th:only-of-type {\n",
              "        vertical-align: middle;\n",
              "    }\n",
              "\n",
              "    .dataframe tbody tr th {\n",
              "        vertical-align: top;\n",
              "    }\n",
              "\n",
              "    .dataframe thead th {\n",
              "        text-align: right;\n",
              "    }\n",
              "</style>\n",
              "<table border=\"1\" class=\"dataframe\">\n",
              "  <thead>\n",
              "    <tr style=\"text-align: right;\">\n",
              "      <th></th>\n",
              "      <th>image_id</th>\n",
              "      <th>adjudicated_dr_grade</th>\n",
              "      <th>adjudicated_dme</th>\n",
              "      <th>adjudicated_gradable</th>\n",
              "    </tr>\n",
              "  </thead>\n",
              "  <tbody>\n",
              "    <tr>\n",
              "      <th>0</th>\n",
              "      <td>20051020_43808_0100_PP.png</td>\n",
              "      <td>0.0</td>\n",
              "      <td>0.0</td>\n",
              "      <td>1</td>\n",
              "    </tr>\n",
              "    <tr>\n",
              "      <th>1</th>\n",
              "      <td>20051020_43832_0100_PP.png</td>\n",
              "      <td>1.0</td>\n",
              "      <td>0.0</td>\n",
              "      <td>1</td>\n",
              "    </tr>\n",
              "    <tr>\n",
              "      <th>2</th>\n",
              "      <td>20051020_43882_0100_PP.png</td>\n",
              "      <td>1.0</td>\n",
              "      <td>0.0</td>\n",
              "      <td>1</td>\n",
              "    </tr>\n",
              "    <tr>\n",
              "      <th>3</th>\n",
              "      <td>20051020_43906_0100_PP.png</td>\n",
              "      <td>2.0</td>\n",
              "      <td>1.0</td>\n",
              "      <td>1</td>\n",
              "    </tr>\n",
              "    <tr>\n",
              "      <th>4</th>\n",
              "      <td>20051020_44261_0100_PP.png</td>\n",
              "      <td>0.0</td>\n",
              "      <td>0.0</td>\n",
              "      <td>1</td>\n",
              "    </tr>\n",
              "    <tr>\n",
              "      <th>...</th>\n",
              "      <td>...</td>\n",
              "      <td>...</td>\n",
              "      <td>...</td>\n",
              "      <td>...</td>\n",
              "    </tr>\n",
              "    <tr>\n",
              "      <th>1743</th>\n",
              "      <td>IM004806.jpg</td>\n",
              "      <td>0.0</td>\n",
              "      <td>0.0</td>\n",
              "      <td>1</td>\n",
              "    </tr>\n",
              "    <tr>\n",
              "      <th>1744</th>\n",
              "      <td>IM004811.jpg</td>\n",
              "      <td>1.0</td>\n",
              "      <td>0.0</td>\n",
              "      <td>1</td>\n",
              "    </tr>\n",
              "    <tr>\n",
              "      <th>1745</th>\n",
              "      <td>IM004812.jpg</td>\n",
              "      <td>2.0</td>\n",
              "      <td>0.0</td>\n",
              "      <td>1</td>\n",
              "    </tr>\n",
              "    <tr>\n",
              "      <th>1746</th>\n",
              "      <td>IM004831.jpg</td>\n",
              "      <td>0.0</td>\n",
              "      <td>0.0</td>\n",
              "      <td>1</td>\n",
              "    </tr>\n",
              "    <tr>\n",
              "      <th>1747</th>\n",
              "      <td>IM004832.jpg</td>\n",
              "      <td>0.0</td>\n",
              "      <td>0.0</td>\n",
              "      <td>1</td>\n",
              "    </tr>\n",
              "  </tbody>\n",
              "</table>\n",
              "<p>1748 rows × 4 columns</p>\n",
              "</div>"
            ],
            "text/plain": [
              "                        image_id  ...  adjudicated_gradable\n",
              "0     20051020_43808_0100_PP.png  ...                     1\n",
              "1     20051020_43832_0100_PP.png  ...                     1\n",
              "2     20051020_43882_0100_PP.png  ...                     1\n",
              "3     20051020_43906_0100_PP.png  ...                     1\n",
              "4     20051020_44261_0100_PP.png  ...                     1\n",
              "...                          ...  ...                   ...\n",
              "1743                IM004806.jpg  ...                     1\n",
              "1744                IM004811.jpg  ...                     1\n",
              "1745                IM004812.jpg  ...                     1\n",
              "1746                IM004831.jpg  ...                     1\n",
              "1747                IM004832.jpg  ...                     1\n",
              "\n",
              "[1748 rows x 4 columns]"
            ]
          },
          "metadata": {
            "tags": []
          },
          "execution_count": 5
        }
      ]
    },
    {
      "cell_type": "code",
      "metadata": {
        "id": "GLzOC5ydHKCq"
      },
      "source": [
        "train_complete= pd.read_csv('/content/gdrive/My Drive/tesis2/exp3messihold-out.csv')\n",
        "train = pd.read_csv('/content/gdrive/My Drive/tesis2/exp3messi_5-fold.csv')"
      ],
      "execution_count": null,
      "outputs": []
    },
    {
      "cell_type": "code",
      "metadata": {
        "id": "-lYPYfqW5HCF",
        "colab": {
          "base_uri": "https://localhost:8080/",
          "height": 439
        },
        "outputId": "d43d3a13-cb31-4ec8-9432-6cc6bfb0b08f"
      },
      "source": [
        "train_complete"
      ],
      "execution_count": null,
      "outputs": [
        {
          "output_type": "execute_result",
          "data": {
            "text/html": [
              "<div>\n",
              "<style scoped>\n",
              "    .dataframe tbody tr th:only-of-type {\n",
              "        vertical-align: middle;\n",
              "    }\n",
              "\n",
              "    .dataframe tbody tr th {\n",
              "        vertical-align: top;\n",
              "    }\n",
              "\n",
              "    .dataframe thead th {\n",
              "        text-align: right;\n",
              "    }\n",
              "</style>\n",
              "<table border=\"1\" class=\"dataframe\">\n",
              "  <thead>\n",
              "    <tr style=\"text-align: right;\">\n",
              "      <th></th>\n",
              "      <th>image_id</th>\n",
              "      <th>adjudicated_dr_grade</th>\n",
              "      <th>adjudicated_dme</th>\n",
              "      <th>adjudicated_gradable</th>\n",
              "      <th>set</th>\n",
              "      <th>index</th>\n",
              "    </tr>\n",
              "  </thead>\n",
              "  <tbody>\n",
              "    <tr>\n",
              "      <th>0</th>\n",
              "      <td>20051021_52127_0100_PP.png</td>\n",
              "      <td>4.0</td>\n",
              "      <td>0.0</td>\n",
              "      <td>1</td>\n",
              "      <td>train</td>\n",
              "      <td>99</td>\n",
              "    </tr>\n",
              "    <tr>\n",
              "      <th>1</th>\n",
              "      <td>20060412_52038_0200_PP.png</td>\n",
              "      <td>2.0</td>\n",
              "      <td>0.0</td>\n",
              "      <td>1</td>\n",
              "      <td>train</td>\n",
              "      <td>767</td>\n",
              "    </tr>\n",
              "    <tr>\n",
              "      <th>2</th>\n",
              "      <td>20060407_45247_0200_PP.png</td>\n",
              "      <td>0.0</td>\n",
              "      <td>0.0</td>\n",
              "      <td>1</td>\n",
              "      <td>train</td>\n",
              "      <td>583</td>\n",
              "    </tr>\n",
              "    <tr>\n",
              "      <th>3</th>\n",
              "      <td>IM004191.jpg</td>\n",
              "      <td>0.0</td>\n",
              "      <td>0.0</td>\n",
              "      <td>1</td>\n",
              "      <td>train</td>\n",
              "      <td>1662</td>\n",
              "    </tr>\n",
              "    <tr>\n",
              "      <th>4</th>\n",
              "      <td>20051110_38313_0400_PP.png</td>\n",
              "      <td>0.0</td>\n",
              "      <td>0.0</td>\n",
              "      <td>1</td>\n",
              "      <td>train</td>\n",
              "      <td>134</td>\n",
              "    </tr>\n",
              "    <tr>\n",
              "      <th>...</th>\n",
              "      <td>...</td>\n",
              "      <td>...</td>\n",
              "      <td>...</td>\n",
              "      <td>...</td>\n",
              "      <td>...</td>\n",
              "      <td>...</td>\n",
              "    </tr>\n",
              "    <tr>\n",
              "      <th>1743</th>\n",
              "      <td>20060412_58965_0200_PP.png</td>\n",
              "      <td>1.0</td>\n",
              "      <td>0.0</td>\n",
              "      <td>1</td>\n",
              "      <td>test</td>\n",
              "      <td>819</td>\n",
              "    </tr>\n",
              "    <tr>\n",
              "      <th>1744</th>\n",
              "      <td>20060522_46149_0100_PP.png</td>\n",
              "      <td>0.0</td>\n",
              "      <td>0.0</td>\n",
              "      <td>1</td>\n",
              "      <td>test</td>\n",
              "      <td>893</td>\n",
              "    </tr>\n",
              "    <tr>\n",
              "      <th>1745</th>\n",
              "      <td>IM003265.jpg</td>\n",
              "      <td>0.0</td>\n",
              "      <td>0.0</td>\n",
              "      <td>1</td>\n",
              "      <td>test</td>\n",
              "      <td>1543</td>\n",
              "    </tr>\n",
              "    <tr>\n",
              "      <th>1746</th>\n",
              "      <td>20051212_38000_0400_PP.png</td>\n",
              "      <td>2.0</td>\n",
              "      <td>0.0</td>\n",
              "      <td>1</td>\n",
              "      <td>test</td>\n",
              "      <td>396</td>\n",
              "    </tr>\n",
              "    <tr>\n",
              "      <th>1747</th>\n",
              "      <td>20060412_57680_0200_PP.png</td>\n",
              "      <td>2.0</td>\n",
              "      <td>0.0</td>\n",
              "      <td>1</td>\n",
              "      <td>test</td>\n",
              "      <td>793</td>\n",
              "    </tr>\n",
              "  </tbody>\n",
              "</table>\n",
              "<p>1748 rows × 6 columns</p>\n",
              "</div>"
            ],
            "text/plain": [
              "                        image_id  adjudicated_dr_grade  ...    set  index\n",
              "0     20051021_52127_0100_PP.png                   4.0  ...  train     99\n",
              "1     20060412_52038_0200_PP.png                   2.0  ...  train    767\n",
              "2     20060407_45247_0200_PP.png                   0.0  ...  train    583\n",
              "3                   IM004191.jpg                   0.0  ...  train   1662\n",
              "4     20051110_38313_0400_PP.png                   0.0  ...  train    134\n",
              "...                          ...                   ...  ...    ...    ...\n",
              "1743  20060412_58965_0200_PP.png                   1.0  ...   test    819\n",
              "1744  20060522_46149_0100_PP.png                   0.0  ...   test    893\n",
              "1745                IM003265.jpg                   0.0  ...   test   1543\n",
              "1746  20051212_38000_0400_PP.png                   2.0  ...   test    396\n",
              "1747  20060412_57680_0200_PP.png                   2.0  ...   test    793\n",
              "\n",
              "[1748 rows x 6 columns]"
            ]
          },
          "metadata": {
            "tags": []
          },
          "execution_count": 7
        }
      ]
    },
    {
      "cell_type": "code",
      "metadata": {
        "id": "ptFvUlu25JFj",
        "colab": {
          "base_uri": "https://localhost:8080/",
          "height": 439
        },
        "outputId": "2fede791-eda3-48f2-f656-9bb3c43f220c"
      },
      "source": [
        "train"
      ],
      "execution_count": null,
      "outputs": [
        {
          "output_type": "execute_result",
          "data": {
            "text/html": [
              "<div>\n",
              "<style scoped>\n",
              "    .dataframe tbody tr th:only-of-type {\n",
              "        vertical-align: middle;\n",
              "    }\n",
              "\n",
              "    .dataframe tbody tr th {\n",
              "        vertical-align: top;\n",
              "    }\n",
              "\n",
              "    .dataframe thead th {\n",
              "        text-align: right;\n",
              "    }\n",
              "</style>\n",
              "<table border=\"1\" class=\"dataframe\">\n",
              "  <thead>\n",
              "    <tr style=\"text-align: right;\">\n",
              "      <th></th>\n",
              "      <th>image_id</th>\n",
              "      <th>adjudicated_dr_grade</th>\n",
              "      <th>adjudicated_dme</th>\n",
              "      <th>adjudicated_gradable</th>\n",
              "      <th>set</th>\n",
              "      <th>grados</th>\n",
              "      <th>fold_0</th>\n",
              "      <th>fold_1</th>\n",
              "      <th>fold_2</th>\n",
              "      <th>fold_3</th>\n",
              "      <th>fold_4</th>\n",
              "      <th>index</th>\n",
              "    </tr>\n",
              "  </thead>\n",
              "  <tbody>\n",
              "    <tr>\n",
              "      <th>0</th>\n",
              "      <td>20051021_52127_0100_PP.png</td>\n",
              "      <td>4.0</td>\n",
              "      <td>0.0</td>\n",
              "      <td>1</td>\n",
              "      <td>train</td>\n",
              "      <td>4</td>\n",
              "      <td>train</td>\n",
              "      <td>train</td>\n",
              "      <td>validation</td>\n",
              "      <td>train</td>\n",
              "      <td>train</td>\n",
              "      <td>99</td>\n",
              "    </tr>\n",
              "    <tr>\n",
              "      <th>1</th>\n",
              "      <td>20060412_52038_0200_PP.png</td>\n",
              "      <td>2.0</td>\n",
              "      <td>0.0</td>\n",
              "      <td>1</td>\n",
              "      <td>train</td>\n",
              "      <td>2</td>\n",
              "      <td>train</td>\n",
              "      <td>train</td>\n",
              "      <td>validation</td>\n",
              "      <td>train</td>\n",
              "      <td>train</td>\n",
              "      <td>767</td>\n",
              "    </tr>\n",
              "    <tr>\n",
              "      <th>2</th>\n",
              "      <td>20060407_45247_0200_PP.png</td>\n",
              "      <td>0.0</td>\n",
              "      <td>0.0</td>\n",
              "      <td>1</td>\n",
              "      <td>train</td>\n",
              "      <td>0</td>\n",
              "      <td>train</td>\n",
              "      <td>validation</td>\n",
              "      <td>train</td>\n",
              "      <td>train</td>\n",
              "      <td>train</td>\n",
              "      <td>583</td>\n",
              "    </tr>\n",
              "    <tr>\n",
              "      <th>3</th>\n",
              "      <td>IM004191.jpg</td>\n",
              "      <td>0.0</td>\n",
              "      <td>0.0</td>\n",
              "      <td>1</td>\n",
              "      <td>train</td>\n",
              "      <td>0</td>\n",
              "      <td>train</td>\n",
              "      <td>train</td>\n",
              "      <td>train</td>\n",
              "      <td>validation</td>\n",
              "      <td>train</td>\n",
              "      <td>1662</td>\n",
              "    </tr>\n",
              "    <tr>\n",
              "      <th>4</th>\n",
              "      <td>20051110_38313_0400_PP.png</td>\n",
              "      <td>0.0</td>\n",
              "      <td>0.0</td>\n",
              "      <td>1</td>\n",
              "      <td>train</td>\n",
              "      <td>0</td>\n",
              "      <td>validation</td>\n",
              "      <td>train</td>\n",
              "      <td>train</td>\n",
              "      <td>train</td>\n",
              "      <td>train</td>\n",
              "      <td>134</td>\n",
              "    </tr>\n",
              "    <tr>\n",
              "      <th>...</th>\n",
              "      <td>...</td>\n",
              "      <td>...</td>\n",
              "      <td>...</td>\n",
              "      <td>...</td>\n",
              "      <td>...</td>\n",
              "      <td>...</td>\n",
              "      <td>...</td>\n",
              "      <td>...</td>\n",
              "      <td>...</td>\n",
              "      <td>...</td>\n",
              "      <td>...</td>\n",
              "      <td>...</td>\n",
              "    </tr>\n",
              "    <tr>\n",
              "      <th>1393</th>\n",
              "      <td>IM004686.jpg</td>\n",
              "      <td>0.0</td>\n",
              "      <td>0.0</td>\n",
              "      <td>1</td>\n",
              "      <td>train</td>\n",
              "      <td>0</td>\n",
              "      <td>train</td>\n",
              "      <td>train</td>\n",
              "      <td>train</td>\n",
              "      <td>train</td>\n",
              "      <td>validation</td>\n",
              "      <td>1731</td>\n",
              "    </tr>\n",
              "    <tr>\n",
              "      <th>1394</th>\n",
              "      <td>20060410_40953_0200_PP.png</td>\n",
              "      <td>0.0</td>\n",
              "      <td>0.0</td>\n",
              "      <td>1</td>\n",
              "      <td>train</td>\n",
              "      <td>0</td>\n",
              "      <td>train</td>\n",
              "      <td>train</td>\n",
              "      <td>validation</td>\n",
              "      <td>train</td>\n",
              "      <td>train</td>\n",
              "      <td>630</td>\n",
              "    </tr>\n",
              "    <tr>\n",
              "      <th>1395</th>\n",
              "      <td>IM001805.jpg</td>\n",
              "      <td>1.0</td>\n",
              "      <td>0.0</td>\n",
              "      <td>1</td>\n",
              "      <td>train</td>\n",
              "      <td>1</td>\n",
              "      <td>train</td>\n",
              "      <td>train</td>\n",
              "      <td>validation</td>\n",
              "      <td>train</td>\n",
              "      <td>train</td>\n",
              "      <td>1347</td>\n",
              "    </tr>\n",
              "    <tr>\n",
              "      <th>1396</th>\n",
              "      <td>20051212_36525_0400_PP.png</td>\n",
              "      <td>2.0</td>\n",
              "      <td>0.0</td>\n",
              "      <td>1</td>\n",
              "      <td>train</td>\n",
              "      <td>2</td>\n",
              "      <td>train</td>\n",
              "      <td>validation</td>\n",
              "      <td>train</td>\n",
              "      <td>train</td>\n",
              "      <td>train</td>\n",
              "      <td>392</td>\n",
              "    </tr>\n",
              "    <tr>\n",
              "      <th>1397</th>\n",
              "      <td>20060412_61593_0200_PP.png</td>\n",
              "      <td>1.0</td>\n",
              "      <td>0.0</td>\n",
              "      <td>1</td>\n",
              "      <td>train</td>\n",
              "      <td>1</td>\n",
              "      <td>train</td>\n",
              "      <td>train</td>\n",
              "      <td>validation</td>\n",
              "      <td>train</td>\n",
              "      <td>train</td>\n",
              "      <td>864</td>\n",
              "    </tr>\n",
              "  </tbody>\n",
              "</table>\n",
              "<p>1398 rows × 12 columns</p>\n",
              "</div>"
            ],
            "text/plain": [
              "                        image_id  adjudicated_dr_grade  ...      fold_4  index\n",
              "0     20051021_52127_0100_PP.png                   4.0  ...       train     99\n",
              "1     20060412_52038_0200_PP.png                   2.0  ...       train    767\n",
              "2     20060407_45247_0200_PP.png                   0.0  ...       train    583\n",
              "3                   IM004191.jpg                   0.0  ...       train   1662\n",
              "4     20051110_38313_0400_PP.png                   0.0  ...       train    134\n",
              "...                          ...                   ...  ...         ...    ...\n",
              "1393                IM004686.jpg                   0.0  ...  validation   1731\n",
              "1394  20060410_40953_0200_PP.png                   0.0  ...       train    630\n",
              "1395                IM001805.jpg                   1.0  ...       train   1347\n",
              "1396  20051212_36525_0400_PP.png                   2.0  ...       train    392\n",
              "1397  20060412_61593_0200_PP.png                   1.0  ...       train    864\n",
              "\n",
              "[1398 rows x 12 columns]"
            ]
          },
          "metadata": {
            "tags": []
          },
          "execution_count": 8
        }
      ]
    },
    {
      "cell_type": "code",
      "metadata": {
        "id": "AiMlzCe2DCCS",
        "colab": {
          "base_uri": "https://localhost:8080/"
        },
        "outputId": "a66ab11a-153b-4324-ffd4-9142c6f08e2c"
      },
      "source": [
        "X_train = train[train['fold_2'] == 'train']\n",
        "X_val = train[train['fold_2'] == 'validation']\n",
        "X_test = train_complete[train_complete['set'] == 'test']\n",
        "\n",
        "x_train_i = X_train['index'].values\n",
        "x_val_i = X_val['index'].values\n",
        "x_test_i = X_test['index'].values\n",
        "\n",
        "y_train = pd.get_dummies(aptostraindf['adjudicated_dr_grade']).values\n",
        "\n",
        "x_train = np.load('/content/gdrive/My Drive/tesis/messidor/messi224.npy')\n",
        "\n",
        "print(x_train_i.shape)\n",
        "print(x_val_i.shape)\n",
        "print(x_test_i.shape)"
      ],
      "execution_count": null,
      "outputs": [
        {
          "output_type": "stream",
          "text": [
            "(1118,)\n",
            "(280,)\n",
            "(350,)\n"
          ],
          "name": "stdout"
        }
      ]
    },
    {
      "cell_type": "code",
      "metadata": {
        "id": "oD7P9NUqKQO2"
      },
      "source": [
        "x_train1 = np.empty((1118,224,224,3),dtype='uint8')\n",
        "x_val1 = np.empty((280,224,224,3),dtype='uint8')\n",
        "\n",
        "y_train1 =  np.empty((1118,5),dtype='uint8')\n",
        "y_val1 = np.empty((280,5),dtype='uint8')\n",
        "\n",
        "for i in range(len(x_train_i)):\n",
        "  x_train1[i] = x_train[x_train_i[i]]\n",
        "  y_train1[i] = y_train[x_train_i[i]]\n",
        "\n",
        "for j in range(len(x_val_i)):\n",
        "  x_val1[j] = x_train[x_val_i[j]]\n",
        "  y_val1[j] = y_train[x_val_i[j]]\n",
        "\n",
        "x_test1= np.empty((350,224,224,3),dtype='uint8')\n",
        "y_test1= np.empty((350,5),dtype='uint8')\n",
        "\n",
        "for i in range(len(x_test_i)):\n",
        "  x_test1[i]= x_train[x_test_i[i]]\n",
        "  y_test1[i]= y_train[x_test_i[i]]"
      ],
      "execution_count": null,
      "outputs": []
    },
    {
      "cell_type": "code",
      "metadata": {
        "id": "YAVm1XJ5DdG5",
        "colab": {
          "base_uri": "https://localhost:8080/"
        },
        "outputId": "bb883c25-b1f8-4a8b-d1c4-78d26bb389e7"
      },
      "source": [
        "print(x_train1.shape)\n",
        "print(x_val1.shape)\n",
        "print(y_train1.shape)\n",
        "print(y_val1.shape)"
      ],
      "execution_count": null,
      "outputs": [
        {
          "output_type": "stream",
          "text": [
            "(1118, 224, 224, 3)\n",
            "(280, 224, 224, 3)\n",
            "(1118, 5)\n",
            "(280, 5)\n"
          ],
          "name": "stdout"
        }
      ]
    },
    {
      "cell_type": "code",
      "metadata": {
        "id": "n5Wgb_dEORX8"
      },
      "source": [
        "import json\n",
        "import math\n",
        "import os\n",
        "\n",
        "import cv2\n",
        "from PIL import Image\n",
        "import numpy as np\n",
        "from keras import layers\n",
        "from keras.applications import DenseNet121\n",
        "#from keras.callbacks import Callback, ModelCheckpoint\n",
        "from keras.preprocessing.image import ImageDataGenerator\n",
        "from keras.models import Sequential\n",
        "from keras.optimizers import Adam\n",
        "import matplotlib.pyplot as plt\n",
        "import pandas as pd\n",
        "from sklearn.model_selection import train_test_split\n",
        "from sklearn.metrics import cohen_kappa_score, accuracy_score\n",
        "import scipy\n",
        "import tensorflow as tf\n",
        "from tensorflow.keras.callbacks import Callback, ModelCheckpoint\n",
        "from tqdm import tqdm"
      ],
      "execution_count": null,
      "outputs": []
    },
    {
      "cell_type": "code",
      "metadata": {
        "id": "tT-lbmWbmPlt"
      },
      "source": [
        "weights_path_list = ['/content/gdrive/My Drive/tesis2/exp3messifinalefffold0.h5', '/content/gdrive/My Drive/tesis2/exp3messifinalefffold1.h5',\n",
        "                     '/content/gdrive/My Drive/tesis2/exp3messifinalefffold2.h5', '/content/gdrive/My Drive/tesis2/exp3messifinalefffold3.h5',\n",
        "                     '/content/gdrive/My Drive/tesis2/exp3messifinalefffold4.h5']"
      ],
      "execution_count": null,
      "outputs": []
    },
    {
      "cell_type": "code",
      "metadata": {
        "id": "pDeufGe2nEEe"
      },
      "source": [
        "def ensemble_preds(model_list, generator):\n",
        "    preds_ensemble = []\n",
        "    for model in model_list:\n",
        "        generator.reset()\n",
        "        preds = model.predict(generator, verbose = 1)\n",
        "        preds_ensemble.append(preds)\n",
        "        generator.reset()\n",
        "\n",
        "    return np.mean(preds_ensemble, axis=0)\n",
        "\n",
        "\n",
        "def apply_tta(model, generator, steps=5):\n",
        "    step_size = generator.n//generator.batch_size\n",
        "    preds_tta = []\n",
        "    for i in range(steps):\n",
        "        generator.reset()\n",
        "        preds = model.predict_generator(generator, steps=step_size)\n",
        "        preds_tta.append(preds)\n",
        "\n",
        "    return np.mean(preds_tta, axis=0)\n",
        "\n",
        "def test_ensemble_preds(model_list, generator, steps=5):\n",
        "    preds_ensemble = []\n",
        "    for model in model_list:\n",
        "        preds = apply_tta(model, generator, steps)\n",
        "        preds_ensemble.append(preds)\n",
        "\n",
        "    return np.mean(preds_ensemble, axis=0)\n"
      ],
      "execution_count": null,
      "outputs": []
    },
    {
      "cell_type": "code",
      "metadata": {
        "id": "KK_B18zRNW6F"
      },
      "source": [
        "BATCH_SIZE = 32\n",
        "\n",
        "train_datagen = ImageDataGenerator(rescale=1./ 255.,\n",
        "                                   rotation_range=360,                               \n",
        "                                   #shear_range=0.01,\n",
        "                                   zoom_range=[0.9, 1.25],\n",
        "                                   horizontal_flip=True,\n",
        "                                   vertical_flip=True)\n",
        "\n",
        "val_datagen = ImageDataGenerator(rescale=1./ 255.,\n",
        "                                   rotation_range=360,                               \n",
        "                                   #shear_range=0.01,\n",
        "                                   zoom_range=[0.9, 1.25],\n",
        "                                   horizontal_flip=True,\n",
        "                                   vertical_flip=True)\n",
        "\n",
        "test_datagen = ImageDataGenerator(rescale=1./ 255.,\n",
        "                                   rotation_range=360,                               \n",
        "                                   #shear_range=0.01,\n",
        "                                   zoom_range=[0.9, 1.25],\n",
        "                                   horizontal_flip=True,\n",
        "                                   vertical_flip=True)\n"
      ],
      "execution_count": null,
      "outputs": []
    },
    {
      "cell_type": "code",
      "metadata": {
        "id": "Pv5iiJANOY5v"
      },
      "source": [
        "data_generator = train_datagen.flow(x_train1, y_train1, batch_size=1, seed=2020)\n",
        "vdata_gen =  val_datagen.flow(x_val1, y_val1, batch_size=1, seed=2020)\n",
        "tdata_gen =  test_datagen.flow(x_test1, y_test1, batch_size=1, seed=2020)"
      ],
      "execution_count": null,
      "outputs": []
    },
    {
      "cell_type": "code",
      "metadata": {
        "id": "ehbBXbE1RYqk"
      },
      "source": [
        "from tensorflow import keras\n",
        "from tensorflow.keras.layers import Dense, Dropout, Flatten, Conv2D, MaxPooling2D, BatchNormalization, Activation\n",
        "from keras.callbacks import Callback, EarlyStopping, ReduceLROnPlateau\n",
        "from keras.layers import Input,GlobalAveragePooling2D,Dropout,Dense,Activation\n",
        "from keras import applications\n",
        "from keras import optimizers,Model,Sequential"
      ],
      "execution_count": null,
      "outputs": []
    },
    {
      "cell_type": "code",
      "metadata": {
        "id": "gR9R0QnPNeJO",
        "colab": {
          "base_uri": "https://localhost:8080/"
        },
        "outputId": "c08a76d0-4548-4280-e013-470416c048ac"
      },
      "source": [
        "pip install -U efficientnet"
      ],
      "execution_count": null,
      "outputs": [
        {
          "output_type": "stream",
          "text": [
            "Collecting efficientnet\n",
            "  Downloading https://files.pythonhosted.org/packages/53/97/84f88e581d6ac86dcf1ab347c497c4c568c38784e3a2bd659b96912ab793/efficientnet-1.1.1-py3-none-any.whl\n",
            "Requirement already satisfied, skipping upgrade: scikit-image in /usr/local/lib/python3.6/dist-packages (from efficientnet) (0.16.2)\n",
            "Collecting keras-applications<=1.0.8,>=1.0.7\n",
            "\u001b[?25l  Downloading https://files.pythonhosted.org/packages/71/e3/19762fdfc62877ae9102edf6342d71b28fbfd9dea3d2f96a882ce099b03f/Keras_Applications-1.0.8-py3-none-any.whl (50kB)\n",
            "\u001b[K     |████████████████████████████████| 51kB 4.7MB/s \n",
            "\u001b[?25hRequirement already satisfied, skipping upgrade: networkx>=2.0 in /usr/local/lib/python3.6/dist-packages (from scikit-image->efficientnet) (2.5)\n",
            "Requirement already satisfied, skipping upgrade: pillow>=4.3.0 in /usr/local/lib/python3.6/dist-packages (from scikit-image->efficientnet) (7.0.0)\n",
            "Requirement already satisfied, skipping upgrade: scipy>=0.19.0 in /usr/local/lib/python3.6/dist-packages (from scikit-image->efficientnet) (1.4.1)\n",
            "Requirement already satisfied, skipping upgrade: PyWavelets>=0.4.0 in /usr/local/lib/python3.6/dist-packages (from scikit-image->efficientnet) (1.1.1)\n",
            "Requirement already satisfied, skipping upgrade: matplotlib!=3.0.0,>=2.0.0 in /usr/local/lib/python3.6/dist-packages (from scikit-image->efficientnet) (3.2.2)\n",
            "Requirement already satisfied, skipping upgrade: imageio>=2.3.0 in /usr/local/lib/python3.6/dist-packages (from scikit-image->efficientnet) (2.4.1)\n",
            "Requirement already satisfied, skipping upgrade: h5py in /usr/local/lib/python3.6/dist-packages (from keras-applications<=1.0.8,>=1.0.7->efficientnet) (2.10.0)\n",
            "Requirement already satisfied, skipping upgrade: numpy>=1.9.1 in /usr/local/lib/python3.6/dist-packages (from keras-applications<=1.0.8,>=1.0.7->efficientnet) (1.18.5)\n",
            "Requirement already satisfied, skipping upgrade: decorator>=4.3.0 in /usr/local/lib/python3.6/dist-packages (from networkx>=2.0->scikit-image->efficientnet) (4.4.2)\n",
            "Requirement already satisfied, skipping upgrade: python-dateutil>=2.1 in /usr/local/lib/python3.6/dist-packages (from matplotlib!=3.0.0,>=2.0.0->scikit-image->efficientnet) (2.8.1)\n",
            "Requirement already satisfied, skipping upgrade: pyparsing!=2.0.4,!=2.1.2,!=2.1.6,>=2.0.1 in /usr/local/lib/python3.6/dist-packages (from matplotlib!=3.0.0,>=2.0.0->scikit-image->efficientnet) (2.4.7)\n",
            "Requirement already satisfied, skipping upgrade: kiwisolver>=1.0.1 in /usr/local/lib/python3.6/dist-packages (from matplotlib!=3.0.0,>=2.0.0->scikit-image->efficientnet) (1.3.1)\n",
            "Requirement already satisfied, skipping upgrade: cycler>=0.10 in /usr/local/lib/python3.6/dist-packages (from matplotlib!=3.0.0,>=2.0.0->scikit-image->efficientnet) (0.10.0)\n",
            "Requirement already satisfied, skipping upgrade: six in /usr/local/lib/python3.6/dist-packages (from h5py->keras-applications<=1.0.8,>=1.0.7->efficientnet) (1.15.0)\n",
            "Installing collected packages: keras-applications, efficientnet\n",
            "Successfully installed efficientnet-1.1.1 keras-applications-1.0.8\n"
          ],
          "name": "stdout"
        }
      ]
    },
    {
      "cell_type": "code",
      "metadata": {
        "id": "Kx68eODUNzUT"
      },
      "source": [
        "import efficientnet.keras as efn "
      ],
      "execution_count": null,
      "outputs": []
    },
    {
      "cell_type": "code",
      "metadata": {
        "id": "BHSXrbvxRZ6g"
      },
      "source": [
        "def create_model(input_shape, n_out, weights_path):\n",
        "    input_tensor = Input(shape=input_shape)\n",
        "    base_model = efn.EfficientNetB5(weights=None,include_top=False,input_tensor=input_tensor)\n",
        "    #base_model = applications.ResNet50(weights='imagenet', include_top=False,input_tensor=input_tensor)\n",
        "    #base_model.load_weights('resnet50_weights_tf_dim_ordering_tf_kernels_notop.h5')\n",
        "\n",
        "    x = GlobalAveragePooling2D()(base_model.output)\n",
        "    x = Dropout(0.5)(x)\n",
        "    x = Dense(2048, activation='relu')(x)\n",
        "    x = Dropout(0.5)(x)\n",
        "    final_output = Dense(n_out, activation='softmax', name='final_output')(x)\n",
        "    model = Model(input_tensor, final_output)\n",
        "\n",
        "    model.load_weights(weights_path)\n",
        "    return model"
      ],
      "execution_count": null,
      "outputs": []
    },
    {
      "cell_type": "code",
      "metadata": {
        "id": "L8JLAQxqoNSl"
      },
      "source": [
        "model_list = []\n",
        "\n",
        "for weights_path in weights_path_list:\n",
        "  model_list.append(create_model(input_shape=(224, 224, 3), n_out=5, weights_path= weights_path))"
      ],
      "execution_count": null,
      "outputs": []
    },
    {
      "cell_type": "code",
      "metadata": {
        "id": "x2L3jurvTI9X"
      },
      "source": [
        "vdata_gen.reset()\n",
        "\n",
        "x_vdata = np.zeros((280,224, 224, 3))\n",
        "y_val2 = np.array([[0,0,0,0,0]])\n",
        "\n",
        "for i in range(280):\n",
        "  y_val2 =np.append(y_val2, vdata_gen[i][1], axis=0)\n",
        "  x_vdata[i]= vdata_gen[i][0]\n",
        "\n",
        "y_val2 = np.delete(y_val2,0, axis=0)\n",
        "\n",
        "vdata_gen.reset()"
      ],
      "execution_count": null,
      "outputs": []
    },
    {
      "cell_type": "code",
      "metadata": {
        "id": "V-MYEsUsUTUI"
      },
      "source": [
        "val_gen1 = [np.argmax(pred) for pred in y_val2]\n",
        "val_gen1"
      ],
      "execution_count": null,
      "outputs": []
    },
    {
      "cell_type": "code",
      "metadata": {
        "id": "yucQOcQqjyjG"
      },
      "source": [
        "preds_ensemble = []"
      ],
      "execution_count": null,
      "outputs": []
    },
    {
      "cell_type": "code",
      "metadata": {
        "id": "N9Ut3Qlqag3i",
        "colab": {
          "base_uri": "https://localhost:8080/"
        },
        "outputId": "f72dd590-653f-4c1a-afc3-dee5e7c5d5a8"
      },
      "source": [
        "val_preds_model1 = model_list[0].predict(x_vdata, verbose = 1)\n",
        "preds_ensemble.append(val_preds_model1)\n",
        "val_preds_model1 = [np.argmax(pred) for pred in val_preds_model1]\n"
      ],
      "execution_count": null,
      "outputs": [
        {
          "output_type": "stream",
          "text": [
            "1/9 [==>...........................] - ETA: 0sWARNING:tensorflow:Callbacks method `on_predict_batch_end` is slow compared to the batch time (batch time: 0.0211s vs `on_predict_batch_end` time: 0.0488s). Check your callbacks.\n",
            "9/9 [==============================] - 1s 81ms/step\n"
          ],
          "name": "stdout"
        }
      ]
    },
    {
      "cell_type": "code",
      "metadata": {
        "id": "U1XKkTkUbrXA",
        "colab": {
          "base_uri": "https://localhost:8080/"
        },
        "outputId": "2a980e44-fefd-4ab3-8ac4-d356bcd77c9a"
      },
      "source": [
        "print(\"Val Cohen Kappa score: %.3f\" % cohen_kappa_score(val_preds_model1, val_gen1, weights='quadratic'))"
      ],
      "execution_count": null,
      "outputs": [
        {
          "output_type": "stream",
          "text": [
            "Val Cohen Kappa score: 0.761\n"
          ],
          "name": "stdout"
        }
      ]
    },
    {
      "cell_type": "code",
      "metadata": {
        "id": "iUYePlv-c_sd",
        "colab": {
          "base_uri": "https://localhost:8080/"
        },
        "outputId": "cab966b5-4ead-43fb-f248-bea2e775225b"
      },
      "source": [
        "val_preds_model2 = model_list[1].predict(x_vdata, verbose = 1)\n",
        "preds_ensemble.append(val_preds_model2)\n",
        "val_preds_model2 = [np.argmax(pred) for pred in val_preds_model2]"
      ],
      "execution_count": null,
      "outputs": [
        {
          "output_type": "stream",
          "text": [
            "2/9 [=====>........................] - ETA: 0sWARNING:tensorflow:Callbacks method `on_predict_batch_end` is slow compared to the batch time (batch time: 0.0210s vs `on_predict_batch_end` time: 0.0506s). Check your callbacks.\n",
            "9/9 [==============================] - 1s 66ms/step\n"
          ],
          "name": "stdout"
        }
      ]
    },
    {
      "cell_type": "code",
      "metadata": {
        "id": "Cr0VSySjdDKV",
        "colab": {
          "base_uri": "https://localhost:8080/"
        },
        "outputId": "3eb54647-1236-41ca-e9b0-f45e24502846"
      },
      "source": [
        "print(\"Val Cohen Kappa score: %.3f\" % cohen_kappa_score(val_preds_model2, val_gen1, weights='quadratic'))"
      ],
      "execution_count": null,
      "outputs": [
        {
          "output_type": "stream",
          "text": [
            "Val Cohen Kappa score: 0.876\n"
          ],
          "name": "stdout"
        }
      ]
    },
    {
      "cell_type": "code",
      "metadata": {
        "id": "YApWo_19iwD9",
        "colab": {
          "base_uri": "https://localhost:8080/"
        },
        "outputId": "3e4165df-2b89-42e3-9700-d452b6e05bac"
      },
      "source": [
        "val_preds_model3 = model_list[2].predict(x_vdata, verbose = 1)\n",
        "preds_ensemble.append(val_preds_model3)\n",
        "val_preds_model3 = [np.argmax(pred) for pred in val_preds_model3]"
      ],
      "execution_count": null,
      "outputs": [
        {
          "output_type": "stream",
          "text": [
            "2/9 [=====>........................] - ETA: 0sWARNING:tensorflow:Callbacks method `on_predict_batch_end` is slow compared to the batch time (batch time: 0.0214s vs `on_predict_batch_end` time: 0.0475s). Check your callbacks.\n",
            "9/9 [==============================] - 1s 64ms/step\n"
          ],
          "name": "stdout"
        }
      ]
    },
    {
      "cell_type": "code",
      "metadata": {
        "id": "RVRfcfVVi7C4",
        "colab": {
          "base_uri": "https://localhost:8080/"
        },
        "outputId": "b425e525-da2f-4ec5-ad88-0dd802441e4e"
      },
      "source": [
        "print(\"Val Cohen Kappa score: %.3f\" % cohen_kappa_score(val_preds_model3, val_gen1, weights='quadratic'))"
      ],
      "execution_count": null,
      "outputs": [
        {
          "output_type": "stream",
          "text": [
            "Val Cohen Kappa score: 0.813\n"
          ],
          "name": "stdout"
        }
      ]
    },
    {
      "cell_type": "code",
      "metadata": {
        "id": "k5v7NGwgjKb0",
        "colab": {
          "base_uri": "https://localhost:8080/"
        },
        "outputId": "1c56c877-51a4-44cf-c608-d477e9eac6db"
      },
      "source": [
        "val_preds_model4 = model_list[3].predict(x_vdata, verbose = 1)\n",
        "preds_ensemble.append(val_preds_model4)\n",
        "val_preds_model4 = [np.argmax(pred) for pred in val_preds_model4]"
      ],
      "execution_count": null,
      "outputs": [
        {
          "output_type": "stream",
          "text": [
            "2/9 [=====>........................] - ETA: 0sWARNING:tensorflow:Callbacks method `on_predict_batch_end` is slow compared to the batch time (batch time: 0.0202s vs `on_predict_batch_end` time: 0.0485s). Check your callbacks.\n",
            "9/9 [==============================] - 1s 64ms/step\n"
          ],
          "name": "stdout"
        }
      ]
    },
    {
      "cell_type": "code",
      "metadata": {
        "id": "QkZ8UOivjQgH",
        "colab": {
          "base_uri": "https://localhost:8080/"
        },
        "outputId": "130a71ee-4fa1-4efc-b327-1fb58dba5267"
      },
      "source": [
        "print(\"Val Cohen Kappa score: %.3f\" % cohen_kappa_score(val_preds_model4, val_gen1, weights='quadratic'))"
      ],
      "execution_count": null,
      "outputs": [
        {
          "output_type": "stream",
          "text": [
            "Val Cohen Kappa score: 0.881\n"
          ],
          "name": "stdout"
        }
      ]
    },
    {
      "cell_type": "code",
      "metadata": {
        "id": "NgAhi4WAjZ8R",
        "colab": {
          "base_uri": "https://localhost:8080/"
        },
        "outputId": "8bda2e9f-602e-4c3b-d9a7-c5f1d0b15a40"
      },
      "source": [
        "val_preds_model5 = model_list[4].predict(x_vdata, verbose = 1)\n",
        "preds_ensemble.append(val_preds_model5)\n",
        "val_preds_model5 = [np.argmax(pred) for pred in val_preds_model5]"
      ],
      "execution_count": null,
      "outputs": [
        {
          "output_type": "stream",
          "text": [
            "2/9 [=====>........................] - ETA: 0sWARNING:tensorflow:Callbacks method `on_predict_batch_end` is slow compared to the batch time (batch time: 0.0210s vs `on_predict_batch_end` time: 0.0532s). Check your callbacks.\n",
            "9/9 [==============================] - 1s 66ms/step\n"
          ],
          "name": "stdout"
        }
      ]
    },
    {
      "cell_type": "code",
      "metadata": {
        "id": "5s0AvKGXje1M",
        "colab": {
          "base_uri": "https://localhost:8080/"
        },
        "outputId": "bb950217-ca8e-48a1-b0d3-05fe22f4f600"
      },
      "source": [
        "print(\"Val Cohen Kappa score: %.3f\" % cohen_kappa_score(val_preds_model5, val_gen1, weights='quadratic'))"
      ],
      "execution_count": null,
      "outputs": [
        {
          "output_type": "stream",
          "text": [
            "Val Cohen Kappa score: 0.881\n"
          ],
          "name": "stdout"
        }
      ]
    },
    {
      "cell_type": "code",
      "metadata": {
        "id": "frAs7R57kWq4"
      },
      "source": [
        "preds_ensemble =  np.mean(preds_ensemble, axis=0)\n",
        "preds_ensemble = [np.argmax(pred) for pred in preds_ensemble]"
      ],
      "execution_count": null,
      "outputs": []
    },
    {
      "cell_type": "code",
      "metadata": {
        "id": "CHEJGAwjkzpK",
        "colab": {
          "base_uri": "https://localhost:8080/"
        },
        "outputId": "89855b27-a3af-4cc2-c288-3f93fb6b974e"
      },
      "source": [
        "print(\"Val Cohen Kappa score: %.3f\" % cohen_kappa_score(preds_ensemble, val_gen1, weights='quadratic'))"
      ],
      "execution_count": null,
      "outputs": [
        {
          "output_type": "stream",
          "text": [
            "Val Cohen Kappa score: 0.875\n"
          ],
          "name": "stdout"
        }
      ]
    },
    {
      "cell_type": "code",
      "metadata": {
        "id": "hz9YqSB_NXRl"
      },
      "source": [
        "def plot_conf_matrix(true,pred,classes):\n",
        "    cf = confusion_matrix(true, pred)\n",
        "    \n",
        "    df_cm = pd.DataFrame(cf, range(len(classes)), range(len(classes)))\n",
        "    plt.figure(figsize=(8,5.5))\n",
        "    sns.set(font_scale=1.4)\n",
        "    sns.heatmap(df_cm, annot=True, annot_kws={\"size\": 16},xticklabels = classes ,yticklabels = classes,fmt='g')\n",
        "    #sns.heatmap(df_cm, annot=True, annot_kws={\"size\": 16})\n",
        "    plt.show()"
      ],
      "execution_count": null,
      "outputs": []
    },
    {
      "cell_type": "code",
      "metadata": {
        "id": "ziKEz1GoNgSA"
      },
      "source": [
        "import seaborn as sns"
      ],
      "execution_count": null,
      "outputs": []
    },
    {
      "cell_type": "code",
      "metadata": {
        "id": "ENjbYSDKNkJG",
        "colab": {
          "base_uri": "https://localhost:8080/",
          "height": 485
        },
        "outputId": "ddcf0f2a-dc19-4919-d764-7f5aebea8785"
      },
      "source": [
        "labels = ['0 - No DR', '1 - Leve', '2 - Moderada', '3 - Severa', '4 - Proliferativa DR']\n",
        "plot_conf_matrix(val_gen1,preds_ensemble,labels)"
      ],
      "execution_count": null,
      "outputs": [
        {
          "output_type": "display_data",
          "data": {
            "image/png": "[encoded data removed]",
            "text/plain": [
              "<Figure size 576x396 with 2 Axes>"
            ]
          },
          "metadata": {
            "tags": []
          }
        }
      ]
    },
    {
      "cell_type": "code",
      "metadata": {
        "id": "ORCgXzuWN0Zb",
        "colab": {
          "base_uri": "https://localhost:8080/",
          "height": 365
        },
        "outputId": "c465b544-4995-424b-8a7c-5382e9328c88"
      },
      "source": [
        "cnf_matrix = confusion_matrix(val_gen1, preds_ensemble)\n",
        "cnf_matrix_norm = cnf_matrix.astype('float') / cnf_matrix.sum(axis=1)[:, np.newaxis]\n",
        "df_cm = pd.DataFrame(cnf_matrix_norm, index=labels, columns=labels)\n",
        "plt.figure(figsize=(16, 7))\n",
        "sns.heatmap(df_cm, annot=True, fmt='.2f', cmap=\"Blues\")\n",
        "plt.show()"
      ],
      "execution_count": null,
      "outputs": [
        {
          "output_type": "display_data",
          "data": {
            "image/png": "[encoded data removed]",
            "text/plain": [
              "<Figure size 1152x504 with 2 Axes>"
            ]
          },
          "metadata": {
            "tags": []
          }
        }
      ]
    },
    {
      "cell_type": "code",
      "metadata": {
        "id": "nWOm7mqDOLkm"
      },
      "source": [
        "from sklearn.metrics import f1_score, recall_score, precision_score, classification_report"
      ],
      "execution_count": null,
      "outputs": []
    },
    {
      "cell_type": "code",
      "metadata": {
        "id": "oCwLG7kXOOxY",
        "colab": {
          "base_uri": "https://localhost:8080/"
        },
        "outputId": "e687b595-623e-4d2b-d998-bddd9753c55d"
      },
      "source": [
        "print(\"Val Cohen Kappa score: %.3f\" % cohen_kappa_score(val_gen1, preds_ensemble, weights='quadratic'))\n",
        "print(\"Val Accuracy score : %.3f\" % accuracy_score(val_gen1, preds_ensemble))\n",
        "\n",
        "print('F1 score: %.3f' % f1_score(val_gen1, preds_ensemble,average='micro'))\n",
        "print('F1 score: %.3f' % f1_score(val_gen1, preds_ensemble,average='weighted'))\n",
        "print('F1 score: %.3f' % f1_score(val_gen1, preds_ensemble,average='macro'))\n",
        "\n",
        "\n",
        "print('Recall: %.3f' % recall_score(val_gen1, preds_ensemble,average='micro'))\n",
        "print('Recall: %.3f' % recall_score(val_gen1, preds_ensemble,average='weighted'))\n",
        "print('Recall: %.3f' % recall_score(val_gen1, preds_ensemble,average='macro'))\n",
        "\n",
        "print('Precision: %.3f' % precision_score(val_gen1, preds_ensemble,average='micro'))\n",
        "print('Precision: %.3f' % precision_score(val_gen1, preds_ensemble,average='weighted'))\n",
        "print('Precision: %.3f' % precision_score(val_gen1, preds_ensemble,average='macro'))\n",
        "\n",
        "print('\\n clasification report:\\n  ' + classification_report(val_gen1, preds_ensemble)) "
      ],
      "execution_count": null,
      "outputs": [
        {
          "output_type": "stream",
          "text": [
            "Val Cohen Kappa score: 0.875\n",
            "Val Accuracy score : 0.800\n",
            "F1 score: 0.800\n",
            "F1 score: 0.753\n",
            "F1 score: 0.587\n",
            "Recall: 0.800\n",
            "Recall: 0.800\n",
            "Recall: 0.591\n",
            "Precision: 0.800\n",
            "Precision: 0.801\n",
            "Precision: 0.801\n",
            "\n",
            " clasification report:\n",
            "                precision    recall  f1-score   support\n",
            "\n",
            "           0       0.80      0.99      0.89       164\n",
            "           1       0.75      0.13      0.23        45\n",
            "           2       0.86      0.83      0.85        53\n",
            "           3       0.59      0.83      0.69        12\n",
            "           4       1.00      0.17      0.29         6\n",
            "\n",
            "    accuracy                           0.80       280\n",
            "   macro avg       0.80      0.59      0.59       280\n",
            "weighted avg       0.80      0.80      0.75       280\n",
            "\n"
          ],
          "name": "stdout"
        }
      ]
    },
    {
      "cell_type": "markdown",
      "metadata": {
        "id": "YJxUMMukT-ex"
      },
      "source": [
        "test data sin TTA"
      ]
    },
    {
      "cell_type": "code",
      "metadata": {
        "id": "imFPQqD7T94g"
      },
      "source": [
        "tdata_gen.reset()\n",
        "\n",
        "x_tdata = np.zeros((350,224, 224, 3))\n",
        "y_test2 = np.array([[0,0,0,0,0]])\n",
        "\n",
        "for i in range(350):\n",
        "  y_test2 =np.append(y_test2, tdata_gen[i][1], axis=0)\n",
        "  x_tdata[i]= tdata_gen[i][0]\n",
        "\n",
        "y_test2 = np.delete(y_test2,0, axis=0)\n",
        "\n",
        "tdata_gen.reset()"
      ],
      "execution_count": null,
      "outputs": []
    },
    {
      "cell_type": "code",
      "metadata": {
        "id": "g9QEbPPeU3Rq"
      },
      "source": [
        "tpreds_ensemble = []"
      ],
      "execution_count": null,
      "outputs": []
    },
    {
      "cell_type": "code",
      "metadata": {
        "id": "IPbHoDFDaz0N",
        "colab": {
          "base_uri": "https://localhost:8080/"
        },
        "outputId": "be65677e-a3d7-401b-8cc3-9c8d7b6d16dc"
      },
      "source": [
        "test_preds_model1 = model_list[4].predict(x_tdata, verbose = 1)\n",
        "tpreds_ensemble.append(test_preds_model1)\n",
        "test_preds_model1 = [np.argmax(pred) for pred in test_preds_model1]"
      ],
      "execution_count": null,
      "outputs": [
        {
          "output_type": "stream",
          "text": [
            " 2/11 [====>.........................] - ETA: 0sWARNING:tensorflow:Callbacks method `on_predict_batch_end` is slow compared to the batch time (batch time: 0.0191s vs `on_predict_batch_end` time: 0.0492s). Check your callbacks.\n",
            "11/11 [==============================] - 1s 66ms/step\n"
          ],
          "name": "stdout"
        }
      ]
    },
    {
      "cell_type": "code",
      "metadata": {
        "id": "9-1jWEf9c4vv"
      },
      "source": [
        "test_gen1 = [np.argmax(pred) for pred in y_test2]"
      ],
      "execution_count": null,
      "outputs": []
    },
    {
      "cell_type": "code",
      "metadata": {
        "id": "ZlEsE8OIcpKF",
        "colab": {
          "base_uri": "https://localhost:8080/"
        },
        "outputId": "3c7d67b9-5254-4147-f03a-baa5e8828349"
      },
      "source": [
        "print(\"test Cohen Kappa score: %.3f\" % cohen_kappa_score(test_preds_model1, test_gen1, weights='quadratic'))"
      ],
      "execution_count": null,
      "outputs": [
        {
          "output_type": "stream",
          "text": [
            "test Cohen Kappa score: 0.817\n"
          ],
          "name": "stdout"
        }
      ]
    },
    {
      "cell_type": "code",
      "metadata": {
        "id": "L9SBoBk4dnro",
        "colab": {
          "base_uri": "https://localhost:8080/"
        },
        "outputId": "86085644-113e-4085-db51-74543f8f0914"
      },
      "source": [
        "test_preds_model2 = model_list[1].predict(x_tdata, verbose = 1)\n",
        "tpreds_ensemble.append(test_preds_model2)\n",
        "test_preds_model2 = [np.argmax(pred) for pred in test_preds_model2]"
      ],
      "execution_count": null,
      "outputs": [
        {
          "output_type": "stream",
          "text": [
            " 2/11 [====>.........................] - ETA: 0sWARNING:tensorflow:Callbacks method `on_predict_batch_end` is slow compared to the batch time (batch time: 0.0205s vs `on_predict_batch_end` time: 0.0517s). Check your callbacks.\n",
            "11/11 [==============================] - 1s 67ms/step\n"
          ],
          "name": "stdout"
        }
      ]
    },
    {
      "cell_type": "code",
      "metadata": {
        "id": "OFACFJl1dvqg",
        "colab": {
          "base_uri": "https://localhost:8080/"
        },
        "outputId": "7f14633e-f191-4f4e-e5bc-a3b2835f2817"
      },
      "source": [
        "print(\"test Cohen Kappa score: %.3f\" % cohen_kappa_score(test_preds_model2, test_gen1, weights='quadratic'))"
      ],
      "execution_count": null,
      "outputs": [
        {
          "output_type": "stream",
          "text": [
            "test Cohen Kappa score: 0.801\n"
          ],
          "name": "stdout"
        }
      ]
    },
    {
      "cell_type": "code",
      "metadata": {
        "id": "ycyZsZS9d29q",
        "colab": {
          "base_uri": "https://localhost:8080/"
        },
        "outputId": "926fe3ac-c8e2-44a0-ac9c-0adf2e47b936"
      },
      "source": [
        "test_preds_model3 = model_list[2].predict(x_tdata, verbose = 1)\n",
        "tpreds_ensemble.append(test_preds_model3)\n",
        "test_preds_model3 = [np.argmax(pred) for pred in test_preds_model3]"
      ],
      "execution_count": null,
      "outputs": [
        {
          "output_type": "stream",
          "text": [
            " 2/11 [====>.........................] - ETA: 0sWARNING:tensorflow:Callbacks method `on_predict_batch_end` is slow compared to the batch time (batch time: 0.0216s vs `on_predict_batch_end` time: 0.0478s). Check your callbacks.\n",
            "11/11 [==============================] - 1s 67ms/step\n"
          ],
          "name": "stdout"
        }
      ]
    },
    {
      "cell_type": "code",
      "metadata": {
        "id": "Ngaheq7DeBmM",
        "colab": {
          "base_uri": "https://localhost:8080/"
        },
        "outputId": "862e4fcc-6018-4979-e42c-5b98b0e9a1f3"
      },
      "source": [
        "print(\"test Cohen Kappa score: %.3f\" % cohen_kappa_score(test_preds_model3, test_gen1, weights='quadratic'))"
      ],
      "execution_count": null,
      "outputs": [
        {
          "output_type": "stream",
          "text": [
            "test Cohen Kappa score: 0.812\n"
          ],
          "name": "stdout"
        }
      ]
    },
    {
      "cell_type": "code",
      "metadata": {
        "id": "BmwKyW8reD3Z",
        "colab": {
          "base_uri": "https://localhost:8080/"
        },
        "outputId": "27b035aa-135a-4656-c58f-e027fd391607"
      },
      "source": [
        "test_preds_model4 = model_list[3].predict(x_tdata, verbose = 1)\n",
        "tpreds_ensemble.append(test_preds_model4)\n",
        "test_preds_model4 = [np.argmax(pred) for pred in test_preds_model4]"
      ],
      "execution_count": null,
      "outputs": [
        {
          "output_type": "stream",
          "text": [
            " 2/11 [====>.........................] - ETA: 0sWARNING:tensorflow:Callbacks method `on_predict_batch_end` is slow compared to the batch time (batch time: 0.0211s vs `on_predict_batch_end` time: 0.0487s). Check your callbacks.\n",
            "11/11 [==============================] - 1s 66ms/step\n"
          ],
          "name": "stdout"
        }
      ]
    },
    {
      "cell_type": "code",
      "metadata": {
        "id": "XtczpyNCePxS",
        "colab": {
          "base_uri": "https://localhost:8080/"
        },
        "outputId": "5c9ea2a3-6cec-46e4-95db-4253bc6104a8"
      },
      "source": [
        "print(\"test Cohen Kappa score: %.3f\" % cohen_kappa_score(test_preds_model4, test_gen1, weights='quadratic'))"
      ],
      "execution_count": null,
      "outputs": [
        {
          "output_type": "stream",
          "text": [
            "test Cohen Kappa score: 0.803\n"
          ],
          "name": "stdout"
        }
      ]
    },
    {
      "cell_type": "code",
      "metadata": {
        "id": "q61apkDTeRoo",
        "colab": {
          "base_uri": "https://localhost:8080/"
        },
        "outputId": "eff3b35b-317f-4c92-aaee-a8e0e13fc909"
      },
      "source": [
        "test_preds_model5 = model_list[4].predict(x_tdata, verbose = 1)\n",
        "tpreds_ensemble.append(test_preds_model5)\n",
        "test_preds_model5 = [np.argmax(pred) for pred in test_preds_model5]"
      ],
      "execution_count": null,
      "outputs": [
        {
          "output_type": "stream",
          "text": [
            " 2/11 [====>.........................] - ETA: 0sWARNING:tensorflow:Callbacks method `on_predict_batch_end` is slow compared to the batch time (batch time: 0.0188s vs `on_predict_batch_end` time: 0.0494s). Check your callbacks.\n",
            "11/11 [==============================] - 1s 66ms/step\n"
          ],
          "name": "stdout"
        }
      ]
    },
    {
      "cell_type": "code",
      "metadata": {
        "id": "j27LA2-GeXpj",
        "colab": {
          "base_uri": "https://localhost:8080/"
        },
        "outputId": "cf815160-956a-4ce6-9d30-779e0f1fc995"
      },
      "source": [
        "print(\"test Cohen Kappa score: %.3f\" % cohen_kappa_score(test_preds_model5, test_gen1, weights='quadratic'))"
      ],
      "execution_count": null,
      "outputs": [
        {
          "output_type": "stream",
          "text": [
            "test Cohen Kappa score: 0.817\n"
          ],
          "name": "stdout"
        }
      ]
    },
    {
      "cell_type": "code",
      "metadata": {
        "id": "IoOKV525emuU"
      },
      "source": [
        "tpreds_ensemble =  np.mean(tpreds_ensemble, axis=0)\n",
        "tpreds_ensemble = [np.argmax(pred) for pred in tpreds_ensemble]"
      ],
      "execution_count": null,
      "outputs": []
    },
    {
      "cell_type": "code",
      "metadata": {
        "id": "k9Rtl0ZCfAbH",
        "colab": {
          "base_uri": "https://localhost:8080/"
        },
        "outputId": "f8614e87-5748-406d-859b-4f641a87c354"
      },
      "source": [
        "print(\"Test Cohen Kappa score: %.3f\" % cohen_kappa_score(tpreds_ensemble, test_gen1, weights='quadratic'))"
      ],
      "execution_count": null,
      "outputs": [
        {
          "output_type": "stream",
          "text": [
            "Test Cohen Kappa score: 0.820\n"
          ],
          "name": "stdout"
        }
      ]
    },
    {
      "cell_type": "code",
      "metadata": {
        "id": "GzPwXE5Tfgop",
        "colab": {
          "base_uri": "https://localhost:8080/",
          "height": 486
        },
        "outputId": "20d7a57b-aee2-4e14-9cda-dad7456fb03a"
      },
      "source": [
        "labels = ['0 - No DR', '1 - Leve', '2 - Moderada', '3 - Severa', '4 - Proliferativa DR']\n",
        "plot_conf_matrix(test_gen1,tpreds_ensemble,labels)"
      ],
      "execution_count": null,
      "outputs": [
        {
          "output_type": "display_data",
          "data": {
            "image/png": "[encoded data removed]",
            "text/plain": [
              "<Figure size 576x396 with 2 Axes>"
            ]
          },
          "metadata": {
            "tags": []
          }
        }
      ]
    },
    {
      "cell_type": "code",
      "metadata": {
        "id": "BJantp-LfrPY",
        "colab": {
          "base_uri": "https://localhost:8080/",
          "height": 365
        },
        "outputId": "b770cd04-0241-4b87-abd6-d4850f601466"
      },
      "source": [
        "cnf_matrix = confusion_matrix(test_gen1, tpreds_ensemble)\n",
        "cnf_matrix_norm = cnf_matrix.astype('float') / cnf_matrix.sum(axis=1)[:, np.newaxis]\n",
        "df_cm = pd.DataFrame(cnf_matrix_norm, index=labels, columns=labels)\n",
        "plt.figure(figsize=(16, 7))\n",
        "sns.heatmap(df_cm, annot=True, fmt='.2f', cmap=\"Blues\")\n",
        "plt.show()"
      ],
      "execution_count": null,
      "outputs": [
        {
          "output_type": "display_data",
          "data": {
            "image/png": "[encoded data removed]",
            "text/plain": [
              "<Figure size 1152x504 with 2 Axes>"
            ]
          },
          "metadata": {
            "tags": []
          }
        }
      ]
    },
    {
      "cell_type": "code",
      "metadata": {
        "id": "OwWZ7WoT7Zd_"
      },
      "source": [
        "cf = cnf_matrix"
      ],
      "execution_count": null,
      "outputs": []
    },
    {
      "cell_type": "code",
      "metadata": {
        "id": "7DCZmLu67hUe"
      },
      "source": [
        ""
      ],
      "execution_count": null,
      "outputs": []
    },
    {
      "cell_type": "code",
      "metadata": {
        "id": "jgO69a1jKOxh",
        "colab": {
          "base_uri": "https://localhost:8080/"
        },
        "outputId": "13130617-4b54-48bb-e5b8-4ca6fb4cddae"
      },
      "source": [
        "FP = cf.sum(axis=0) - np.diag(cf)  \n",
        "FN = cf.sum(axis=1) - np.diag(cf)\n",
        "TP = np.diag(cf)\n",
        "TN = cf.sum() - (FP + FN + TP)\n",
        "\n",
        "# Sensitivity, hit rate, recall, or true positive rate\n",
        "TPR = TP/(TP+FN)\n",
        "# Specificity or true negative rate\n",
        "TNR = TN/(TN+FP) \n",
        "# Precision or positive predictive value\n",
        "PPV = TP/(TP+FP)\n",
        "# Negative predictive value\n",
        "NPV = TN/(TN+FN)\n",
        "# Fall out or false positive rate\n",
        "FPR = FP/(FP+TN)\n",
        "# False negative rate\n",
        "FNR = FN/(TP+FN)\n",
        "# False discovery rate\n",
        "FDR = FP/(TP+FP)\n",
        "\n",
        "# Overall accuracy\n",
        "ACC = (TP+TN)/(TP+FP+FN+TN)\n",
        "\n",
        "print('FP')\n",
        "print(FP)\n",
        "print('FN')\n",
        "print(FN)\n",
        "print('TP')\n",
        "print(TP)\n",
        "print('TN')\n",
        "print(TN)\n",
        "print('Sensitivity')\n",
        "print(TPR)\n",
        "print('Specificity')\n",
        "print(TNR)\n",
        "print('Precision')\n",
        "print(PPV)\n",
        "print(NPV)\n",
        "print(FPR)\n",
        "print(FNR)\n",
        "print(FDR)\n",
        "print('Acc')\n",
        "print(ACC)\n",
        "\n",
        "print('Sensitivity mean')\n",
        "print(np.mean(TPR))\n",
        "print('Specificity mean')\n",
        "print(np.mean(TNR))\n",
        "print('Precision mean')\n",
        "print(np.mean(PPV))\n"
      ],
      "execution_count": null,
      "outputs": [
        {
          "output_type": "stream",
          "text": [
            "FP\n",
            "[52  3 14  6  0]\n",
            "FN\n",
            "[ 1 41 25  3  5]\n",
            "TP\n",
            "[203   4  53  13   2]\n",
            "TN\n",
            "[ 94 302 258 328 343]\n",
            "Sensitivity\n",
            "[0.99509804 0.08888889 0.67948718 0.8125     0.28571429]\n",
            "Specificity\n",
            "[0.64383562 0.99016393 0.94852941 0.98203593 1.        ]\n",
            "Precision\n",
            "[0.79607843 0.57142857 0.79104478 0.68421053 1.        ]\n",
            "[0.98947368 0.88046647 0.91166078 0.99093656 0.98563218]\n",
            "[0.35616438 0.00983607 0.05147059 0.01796407 0.        ]\n",
            "[0.00490196 0.91111111 0.32051282 0.1875     0.71428571]\n",
            "[0.20392157 0.42857143 0.20895522 0.31578947 0.        ]\n",
            "Acc\n",
            "[0.84857143 0.87428571 0.88857143 0.97428571 0.98571429]\n",
            "Sensitivity mean\n",
            "0.572337678661208\n",
            "Specificity mean\n",
            "0.9129129781546009\n",
            "Precision mean\n",
            "0.7685524610472625\n"
          ],
          "name": "stdout"
        }
      ]
    },
    {
      "cell_type": "code",
      "metadata": {
        "id": "plSMzkvJf4eS",
        "colab": {
          "base_uri": "https://localhost:8080/"
        },
        "outputId": "92379450-9a05-470e-ab27-5834c2093114"
      },
      "source": [
        "print(\"Test Cohen Kappa score: %.3f\" % cohen_kappa_score(test_gen1, tpreds_ensemble, weights='quadratic'))\n",
        "print(\"Test Accuracy score : %.3f\" % accuracy_score(test_gen1, tpreds_ensemble))\n",
        "\n",
        "print('F1 score: %.3f' % f1_score(test_gen1, tpreds_ensemble,average='micro'))\n",
        "print('F1 score: %.3f' % f1_score(test_gen1, tpreds_ensemble,average='weighted'))\n",
        "print('F1 score: %.3f' % f1_score(test_gen1, tpreds_ensemble,average='macro'))\n",
        "\n",
        "print('Recall: %.3f' % recall_score(test_gen1, tpreds_ensemble,average='micro'))\n",
        "print('Recall: %.3f' % recall_score(test_gen1, tpreds_ensemble,average='weighted'))\n",
        "print('Recall: %.3f' % recall_score(test_gen1, tpreds_ensemble,average='macro'))\n",
        "\n",
        "print('Precision: %.3f' % precision_score(test_gen1, tpreds_ensemble,average='micro'))\n",
        "print('Precision: %.3f' % precision_score(test_gen1, tpreds_ensemble,average='weighted'))\n",
        "print('Precision: %.3f' % precision_score(test_gen1, tpreds_ensemble,average='macro'))\n",
        "\n",
        "print('\\n clasification report:\\n  ' + classification_report(test_gen1, tpreds_ensemble)) "
      ],
      "execution_count": null,
      "outputs": [
        {
          "output_type": "stream",
          "text": [
            "Test Cohen Kappa score: 0.816\n",
            "Test Accuracy score : 0.786\n",
            "F1 score: 0.786\n",
            "F1 score: 0.741\n",
            "F1 score: 0.591\n",
            "Recall: 0.786\n",
            "Recall: 0.786\n",
            "Recall: 0.572\n",
            "Precision: 0.786\n",
            "Precision: 0.765\n",
            "Precision: 0.769\n",
            "\n",
            " clasification report:\n",
            "                precision    recall  f1-score   support\n",
            "\n",
            "           0       0.80      1.00      0.88       204\n",
            "           1       0.57      0.09      0.15        45\n",
            "           2       0.79      0.68      0.73        78\n",
            "           3       0.68      0.81      0.74        16\n",
            "           4       1.00      0.29      0.44         7\n",
            "\n",
            "    accuracy                           0.79       350\n",
            "   macro avg       0.77      0.57      0.59       350\n",
            "weighted avg       0.77      0.79      0.74       350\n",
            "\n"
          ],
          "name": "stdout"
        }
      ]
    },
    {
      "cell_type": "code",
      "metadata": {
        "id": "xhHGDDHViGAC"
      },
      "source": [
        "from scipy import stats"
      ],
      "execution_count": null,
      "outputs": []
    },
    {
      "cell_type": "code",
      "metadata": {
        "id": "55EKH3iBiHbr"
      },
      "source": [
        "#stats.trim_mean()"
      ],
      "execution_count": null,
      "outputs": []
    },
    {
      "cell_type": "markdown",
      "metadata": {
        "id": "HD-vD5B6rFiW"
      },
      "source": [
        "trim mean\n"
      ]
    },
    {
      "cell_type": "code",
      "metadata": {
        "id": "EazHafS7voA8"
      },
      "source": [
        "tdata_gen.reset()\n",
        "\n",
        "x_tdata = np.zeros((350,224, 224, 3))\n",
        "y_test2 = np.array([[0,0,0,0,0]])\n",
        "\n",
        "for i in range(350):\n",
        "  y_test2 =np.append(y_test2, tdata_gen[i][1], axis=0)\n",
        "  x_tdata[i]= tdata_gen[i][0]\n",
        "\n",
        "y_test2 = np.delete(y_test2,0, axis=0)\n",
        "\n",
        "tdata_gen.reset()"
      ],
      "execution_count": null,
      "outputs": []
    },
    {
      "cell_type": "code",
      "metadata": {
        "id": "vY6cVDfmwJ38"
      },
      "source": [
        "test_gen1 = [np.argmax(pred) for pred in y_test2]"
      ],
      "execution_count": null,
      "outputs": []
    },
    {
      "cell_type": "code",
      "metadata": {
        "id": "Eyu210PuvzRI"
      },
      "source": [
        "tpreds_ensemble = []"
      ],
      "execution_count": null,
      "outputs": []
    },
    {
      "cell_type": "code",
      "metadata": {
        "id": "P3EICgo3v67J",
        "colab": {
          "base_uri": "https://localhost:8080/"
        },
        "outputId": "5a58d237-57ba-45e3-d518-2bbd94e1e25b"
      },
      "source": [
        "test_preds_model1 = model_list[0].predict(x_tdata, verbose = 1)\n",
        "tpreds_ensemble.append(test_preds_model1)\n",
        "test_preds_model1 = [np.argmax(pred) for pred in test_preds_model1]\n",
        "print(\"test Cohen Kappa score: %.3f\" % cohen_kappa_score(test_preds_model1, test_gen1, weights='quadratic'))"
      ],
      "execution_count": null,
      "outputs": [
        {
          "output_type": "stream",
          "text": [
            " 2/11 [====>.........................] - ETA: 0sWARNING:tensorflow:Callbacks method `on_predict_batch_end` is slow compared to the batch time (batch time: 0.0196s vs `on_predict_batch_end` time: 0.0520s). Check your callbacks.\n",
            "11/11 [==============================] - 1s 67ms/step\n",
            "test Cohen Kappa score: 0.672\n"
          ],
          "name": "stdout"
        }
      ]
    },
    {
      "cell_type": "code",
      "metadata": {
        "id": "prHHTuZSwj0B",
        "colab": {
          "base_uri": "https://localhost:8080/"
        },
        "outputId": "52ebe8d7-edeb-45f0-b846-dfb36fb901d4"
      },
      "source": [
        "test_preds_model2 = model_list[1].predict(x_tdata, verbose = 1)\n",
        "tpreds_ensemble.append(test_preds_model2)\n",
        "test_preds_model2 = [np.argmax(pred) for pred in test_preds_model2]\n",
        "print(\"test Cohen Kappa score: %.3f\" % cohen_kappa_score(test_preds_model2, test_gen1, weights='quadratic'))"
      ],
      "execution_count": null,
      "outputs": [
        {
          "output_type": "stream",
          "text": [
            " 2/11 [====>.........................] - ETA: 0sWARNING:tensorflow:Callbacks method `on_predict_batch_end` is slow compared to the batch time (batch time: 0.0205s vs `on_predict_batch_end` time: 0.0528s). Check your callbacks.\n",
            "11/11 [==============================] - 1s 68ms/step\n",
            "test Cohen Kappa score: 0.786\n"
          ],
          "name": "stdout"
        }
      ]
    },
    {
      "cell_type": "code",
      "metadata": {
        "id": "9QymLcmDwssv",
        "colab": {
          "base_uri": "https://localhost:8080/"
        },
        "outputId": "e33c7585-8b8c-49fa-a533-353059e36ffe"
      },
      "source": [
        "test_preds_model3 = model_list[2].predict(x_tdata, verbose = 1)\n",
        "tpreds_ensemble.append(test_preds_model3)\n",
        "test_preds_model3 = [np.argmax(pred) for pred in test_preds_model3]\n",
        "print(\"test Cohen Kappa score: %.3f\" % cohen_kappa_score(test_preds_model3, test_gen1, weights='quadratic'))"
      ],
      "execution_count": null,
      "outputs": [
        {
          "output_type": "stream",
          "text": [
            " 2/11 [====>.........................] - ETA: 0sWARNING:tensorflow:Callbacks method `on_predict_batch_end` is slow compared to the batch time (batch time: 0.0199s vs `on_predict_batch_end` time: 0.0481s). Check your callbacks.\n",
            "11/11 [==============================] - 1s 66ms/step\n",
            "test Cohen Kappa score: 0.810\n"
          ],
          "name": "stdout"
        }
      ]
    },
    {
      "cell_type": "code",
      "metadata": {
        "id": "QfNdfsn_w1fD",
        "colab": {
          "base_uri": "https://localhost:8080/"
        },
        "outputId": "55bd7881-67a3-47c8-dc4b-4971c00dcdf8"
      },
      "source": [
        "test_preds_model4 = model_list[3].predict(x_tdata, verbose = 1)\n",
        "tpreds_ensemble.append(test_preds_model4)\n",
        "test_preds_model4 = [np.argmax(pred) for pred in test_preds_model4]\n",
        "print(\"test Cohen Kappa score: %.3f\" % cohen_kappa_score(test_preds_model4, test_gen1, weights='quadratic'))"
      ],
      "execution_count": null,
      "outputs": [
        {
          "output_type": "stream",
          "text": [
            " 2/11 [====>.........................] - ETA: 0sWARNING:tensorflow:Callbacks method `on_predict_batch_end` is slow compared to the batch time (batch time: 0.0205s vs `on_predict_batch_end` time: 0.0486s). Check your callbacks.\n",
            "11/11 [==============================] - 1s 66ms/step\n",
            "test Cohen Kappa score: 0.805\n"
          ],
          "name": "stdout"
        }
      ]
    },
    {
      "cell_type": "code",
      "metadata": {
        "id": "9jSy4LAsxBPF",
        "colab": {
          "base_uri": "https://localhost:8080/"
        },
        "outputId": "1f1eea57-7497-48fe-c704-44698016ba1b"
      },
      "source": [
        "test_preds_model5 = model_list[4].predict(x_tdata, verbose = 1)\n",
        "tpreds_ensemble.append(test_preds_model5)\n",
        "test_preds_model5 = [np.argmax(pred) for pred in test_preds_model5]\n",
        "print(\"test Cohen Kappa score: %.3f\" % cohen_kappa_score(test_preds_model5, test_gen1, weights='quadratic'))"
      ],
      "execution_count": null,
      "outputs": [
        {
          "output_type": "stream",
          "text": [
            " 2/11 [====>.........................] - ETA: 0sWARNING:tensorflow:Callbacks method `on_predict_batch_end` is slow compared to the batch time (batch time: 0.0198s vs `on_predict_batch_end` time: 0.0486s). Check your callbacks.\n",
            "11/11 [==============================] - 1s 67ms/step\n",
            "test Cohen Kappa score: 0.813\n"
          ],
          "name": "stdout"
        }
      ]
    },
    {
      "cell_type": "code",
      "metadata": {
        "id": "yPYCTn34xeHY"
      },
      "source": [
        "t1preds_ensemble =  stats.trim_mean(tpreds_ensemble,.25, axis=0)\n",
        "t1preds_ensemble = [np.argmax(pred) for pred in t1preds_ensemble]"
      ],
      "execution_count": null,
      "outputs": []
    },
    {
      "cell_type": "code",
      "metadata": {
        "id": "Ll1L2hFb1aAz",
        "colab": {
          "base_uri": "https://localhost:8080/"
        },
        "outputId": "fc64a400-fb6c-454c-e504-9a7981d86773"
      },
      "source": [
        "print(\"Test Cohen Kappa score: %.3f\" % cohen_kappa_score(t1preds_ensemble, test_gen1, weights='quadratic'))"
      ],
      "execution_count": null,
      "outputs": [
        {
          "output_type": "stream",
          "text": [
            "Test Cohen Kappa score: 0.812\n"
          ],
          "name": "stdout"
        }
      ]
    },
    {
      "cell_type": "code",
      "metadata": {
        "id": "zTRxC_tl8qvS",
        "colab": {
          "base_uri": "https://localhost:8080/",
          "height": 489
        },
        "outputId": "4d18e2ba-a6a7-4dfa-d127-fd68e1e949ca"
      },
      "source": [
        "labels = ['0 - No DR', '1 - Leve', '2 - Moderada', '3 - Severa', '4 - Proliferativa DR']\n",
        "plot_conf_matrix(t1preds_ensemble,test_gen1,labels)"
      ],
      "execution_count": null,
      "outputs": [
        {
          "output_type": "display_data",
          "data": {
            "image/png": "[encoded data removed]",
            "text/plain": [
              "<Figure size 576x396 with 2 Axes>"
            ]
          },
          "metadata": {
            "tags": []
          }
        }
      ]
    },
    {
      "cell_type": "code",
      "metadata": {
        "id": "JVIS9x6587u8",
        "colab": {
          "base_uri": "https://localhost:8080/",
          "height": 370
        },
        "outputId": "b9013a88-7c81-4c63-8f5e-170e3d607937"
      },
      "source": [
        "cnf_matrix = confusion_matrix(t1preds_ensemble, test_gen1)\n",
        "cnf_matrix_norm = cnf_matrix.astype('float') / cnf_matrix.sum(axis=1)[:, np.newaxis]\n",
        "df_cm = pd.DataFrame(cnf_matrix_norm, index=labels, columns=labels)\n",
        "plt.figure(figsize=(16, 7))\n",
        "sns.heatmap(df_cm, annot=True, fmt='.2f', cmap=\"Blues\")\n",
        "plt.show()"
      ],
      "execution_count": null,
      "outputs": [
        {
          "output_type": "display_data",
          "data": {
            "image/png": "[encoded data removed]",
            "text/plain": [
              "<Figure size 1152x504 with 2 Axes>"
            ]
          },
          "metadata": {
            "tags": []
          }
        }
      ]
    },
    {
      "cell_type": "code",
      "metadata": {
        "id": "f0cca2dA9Hfk"
      },
      "source": [
        "cf = cnf_matrix"
      ],
      "execution_count": null,
      "outputs": []
    },
    {
      "cell_type": "code",
      "metadata": {
        "id": "e_CuhQbR9Out"
      },
      "source": [
        ""
      ],
      "execution_count": null,
      "outputs": []
    },
    {
      "cell_type": "code",
      "metadata": {
        "id": "FhIbQdWH9O8_",
        "colab": {
          "base_uri": "https://localhost:8080/"
        },
        "outputId": "8f34f20a-d880-4ed8-d9a8-f32a3c35ba9d"
      },
      "source": [
        "FP = cf.sum(axis=0) - np.diag(cf)  \n",
        "FN = cf.sum(axis=1) - np.diag(cf)\n",
        "TP = np.diag(cf)\n",
        "TN = cf.sum() - (FP + FN + TP)\n",
        "\n",
        "# Sensitivity, hit rate, recall, or true positive rate\n",
        "TPR = TP/(TP+FN)\n",
        "# Specificity or true negative rate\n",
        "TNR = TN/(TN+FP) \n",
        "# Precision or positive predictive value\n",
        "PPV = TP/(TP+FP)\n",
        "# Negative predictive value\n",
        "NPV = TN/(TN+FN)\n",
        "# Fall out or false positive rate\n",
        "FPR = FP/(FP+TN)\n",
        "# False negative rate\n",
        "FNR = FN/(TP+FN)\n",
        "# False discovery rate\n",
        "FDR = FP/(TP+FP)\n",
        "\n",
        "# Overall accuracy\n",
        "ACC = (TP+TN)/(TP+FP+FN+TN)\n",
        "\n",
        "print('FP')\n",
        "print(FP)\n",
        "print('FN')\n",
        "print(FN)\n",
        "print('TP')\n",
        "print(TP)\n",
        "print('TN')\n",
        "print(TN)\n",
        "print('Sensitivity')\n",
        "print(TPR)\n",
        "print('Specificity')\n",
        "print(TNR)\n",
        "print('Precision')\n",
        "print(PPV)\n",
        "print(NPV)\n",
        "print(FPR)\n",
        "print(FNR)\n",
        "print(FDR)\n",
        "print('Acc')\n",
        "print(ACC)\n",
        "\n",
        "print('Sensitivity mean')\n",
        "print(np.mean(TPR))\n",
        "print('Specificity mean')\n",
        "print(np.mean(TNR))\n",
        "print('Precision mean')\n",
        "print(np.mean(PPV))\n"
      ],
      "execution_count": null,
      "outputs": [
        {
          "output_type": "stream",
          "text": [
            "FP\n",
            "[ 3 40 25  5  4]\n",
            "FN\n",
            "[50  5 17  5  0]\n",
            "TP\n",
            "[201   5  53  11   3]\n",
            "TN\n",
            "[ 96 300 255 329 343]\n",
            "Sensitivity\n",
            "[0.80079681 0.5        0.75714286 0.6875     1.        ]\n",
            "Specificity\n",
            "[0.96969697 0.88235294 0.91071429 0.98502994 0.98847262]\n",
            "Precision\n",
            "[0.98529412 0.11111111 0.67948718 0.6875     0.42857143]\n",
            "[0.65753425 0.98360656 0.9375     0.98502994 1.        ]\n",
            "[0.03030303 0.11764706 0.08928571 0.01497006 0.01152738]\n",
            "[0.19920319 0.5        0.24285714 0.3125     0.        ]\n",
            "[0.01470588 0.88888889 0.32051282 0.3125     0.57142857]\n",
            "Acc\n",
            "[0.84857143 0.87142857 0.88       0.97142857 0.98857143]\n",
            "Sensitivity mean\n",
            "0.7490879339783723\n",
            "Specificity mean\n",
            "0.9472533518371746\n",
            "Precision mean\n",
            "0.5783927673633555\n"
          ],
          "name": "stdout"
        }
      ]
    },
    {
      "cell_type": "code",
      "metadata": {
        "id": "hrdEhPsLlsaf",
        "colab": {
          "base_uri": "https://localhost:8080/"
        },
        "outputId": "49a686ac-2e2b-4375-aa1b-58de3644279c"
      },
      "source": [
        "print(\"Test Cohen Kappa score: %.3f\" % cohen_kappa_score(test_gen1, t1preds_ensemble, weights='quadratic'))\n",
        "print(\"Test Accuracy score : %.3f\" % accuracy_score(test_gen1, t1preds_ensemble))\n",
        "\n",
        "print('F1 score: %.3f' % f1_score(test_gen1, t1preds_ensemble,average='micro'))\n",
        "print('F1 score: %.3f' % f1_score(test_gen1, t1preds_ensemble,average='weighted'))\n",
        "print('F1 score: %.3f' % f1_score(test_gen1, t1preds_ensemble,average='macro'))\n",
        "\n",
        "print('Recall: %.3f' % recall_score(test_gen1, t1preds_ensemble,average='micro'))\n",
        "print('Recall: %.3f' % recall_score(test_gen1, t1preds_ensemble,average='weighted'))\n",
        "print('Recall: %.3f' % recall_score(test_gen1, t1preds_ensemble,average='macro'))\n",
        "\n",
        "print('Precision: %.3f' % precision_score(test_gen1, t1preds_ensemble,average='micro'))\n",
        "print('Precision: %.3f' % precision_score(test_gen1, t1preds_ensemble,average='weighted'))\n",
        "print('Precision: %.3f' % precision_score(test_gen1, t1preds_ensemble,average='macro'))\n",
        "\n",
        "print('\\n clasification report:\\n  ' + classification_report(test_gen1, t1preds_ensemble))"
      ],
      "execution_count": null,
      "outputs": [
        {
          "output_type": "stream",
          "text": [
            "Test Cohen Kappa score: 0.812\n",
            "Test Accuracy score : 0.780\n",
            "F1 score: 0.780\n",
            "F1 score: 0.741\n",
            "F1 score: 0.614\n",
            "Recall: 0.780\n",
            "Recall: 0.780\n",
            "Recall: 0.578\n",
            "Precision: 0.780\n",
            "Precision: 0.751\n",
            "Precision: 0.749\n",
            "\n",
            " clasification report:\n",
            "                precision    recall  f1-score   support\n",
            "\n",
            "           0       0.80      0.99      0.88       204\n",
            "           1       0.50      0.11      0.18        45\n",
            "           2       0.76      0.68      0.72        78\n",
            "           3       0.69      0.69      0.69        16\n",
            "           4       1.00      0.43      0.60         7\n",
            "\n",
            "    accuracy                           0.78       350\n",
            "   macro avg       0.75      0.58      0.61       350\n",
            "weighted avg       0.75      0.78      0.74       350\n",
            "\n"
          ],
          "name": "stdout"
        }
      ]
    },
    {
      "cell_type": "markdown",
      "metadata": {
        "id": "-ennol5k7NAi"
      },
      "source": [
        "TTA"
      ]
    },
    {
      "cell_type": "code",
      "metadata": {
        "id": "EOLVF_SV8Uf_"
      },
      "source": [
        "def apply_tta(model, generator, steps=5):\n",
        "    step_size = generator.n//generator.batch_size\n",
        "    preds_tta = []\n",
        "    for i in range(steps):\n",
        "        generator.reset()\n",
        "        preds = model.predict_generator(generator, steps=step_size, verbose= 1)\n",
        "        preds_tta.append(preds)\n",
        "\n",
        "    return np.mean(preds_tta, axis=0)"
      ],
      "execution_count": null,
      "outputs": []
    },
    {
      "cell_type": "code",
      "metadata": {
        "id": "yIwhgvWl7OZv"
      },
      "source": [
        "def test_ensemble_preds(model_list, generator, steps=5):\n",
        "    preds_ensemble = []\n",
        "    for model in model_list:\n",
        "        preds = apply_tta(model, generator, steps)\n",
        "        preds_ensemble.append(preds)\n",
        "\n",
        "    return np.mean(preds_ensemble, axis=0)"
      ],
      "execution_count": null,
      "outputs": []
    },
    {
      "cell_type": "code",
      "metadata": {
        "id": "eci9MKTgHn1i"
      },
      "source": [
        "TTA_STEPS = 10"
      ],
      "execution_count": null,
      "outputs": []
    },
    {
      "cell_type": "code",
      "metadata": {
        "id": "f9fkdj3EnsEv"
      },
      "source": [
        "tdata_gen.reset()\n",
        "\n",
        "x_tdata = np.zeros((350,224, 224, 3))\n",
        "y_test2 = np.array([[0,0,0,0,0]])\n",
        "\n",
        "for i in range(350):\n",
        "  y_test2 =np.append(y_test2, tdata_gen[i][1], axis=0)\n",
        "  x_tdata[i]= tdata_gen[i][0]\n",
        "\n",
        "y_test2 = np.delete(y_test2,0, axis=0)\n",
        "\n",
        "tdata_gen.reset()"
      ],
      "execution_count": null,
      "outputs": []
    },
    {
      "cell_type": "code",
      "metadata": {
        "id": "r1WF5a1tpRXz"
      },
      "source": [
        "tdata_gen.reset()\n",
        "\n",
        "x_tdata1 = np.zeros((350,224, 224, 3))\n",
        "y_test12 = np.array([[0,0,0,0,0]])\n",
        "\n",
        "for i in range(350):\n",
        "  y_test12 =np.append(y_test12, tdata_gen[i][1], axis=0)\n",
        "  x_tdata1[i]= tdata_gen[i][0]\n",
        "\n",
        "y_test12 = np.delete(y_test12,0, axis=0)\n",
        "\n",
        "tdata_gen.reset()"
      ],
      "execution_count": null,
      "outputs": []
    },
    {
      "cell_type": "code",
      "metadata": {
        "id": "D6mldZGapYgs"
      },
      "source": [
        "tdata_gen.reset()\n",
        "\n",
        "x_tdata2 = np.zeros((350,224, 224, 3))\n",
        "y_test22 = np.array([[0,0,0,0,0]])\n",
        "\n",
        "for i in range(350):\n",
        "  y_test22 =np.append(y_test22, tdata_gen[i][1], axis=0)\n",
        "  x_tdata2[i]= tdata_gen[i][0]\n",
        "\n",
        "y_test22 = np.delete(y_test22,0, axis=0)\n",
        "\n",
        "tdata_gen.reset()"
      ],
      "execution_count": null,
      "outputs": []
    },
    {
      "cell_type": "code",
      "metadata": {
        "id": "PrHn-DvMpfjC"
      },
      "source": [
        "tdata_gen.reset()\n",
        "\n",
        "x_tdata3 = np.zeros((350,224, 224, 3))\n",
        "y_test32 = np.array([[0,0,0,0,0]])\n",
        "\n",
        "for i in range(350):\n",
        "  y_test32 =np.append(y_test32, tdata_gen[i][1], axis=0)\n",
        "  x_tdata3[i]= tdata_gen[i][0]\n",
        "\n",
        "y_test32 = np.delete(y_test32,0, axis=0)\n",
        "\n",
        "tdata_gen.reset()"
      ],
      "execution_count": null,
      "outputs": []
    },
    {
      "cell_type": "code",
      "metadata": {
        "id": "Gs4yvWcpqWR3"
      },
      "source": [
        "tdata_gen.reset()\n",
        "\n",
        "x_tdata4 = np.zeros((350,224, 224, 3))\n",
        "y_test42 = np.array([[0,0,0,0,0]])\n",
        "\n",
        "for i in range(350):\n",
        "  y_test42 =np.append(y_test42, tdata_gen[i][1], axis=0)\n",
        "  x_tdata4[i]= tdata_gen[i][0]\n",
        "\n",
        "y_test42 = np.delete(y_test42,0, axis=0)\n",
        "\n",
        "tdata_gen.reset()"
      ],
      "execution_count": null,
      "outputs": []
    },
    {
      "cell_type": "code",
      "metadata": {
        "id": "ydMbUTXIq1vq"
      },
      "source": [
        "tdata_gen.reset()\n",
        "\n",
        "x_tdata5 = np.zeros((350,224, 224, 3))\n",
        "y_test52 = np.array([[0,0,0,0,0]])\n",
        "\n",
        "for i in range(350):\n",
        "  y_test52 =np.append(y_test52, tdata_gen[i][1], axis=0)\n",
        "  x_tdata5[i]= tdata_gen[i][0]\n",
        "\n",
        "y_test52 = np.delete(y_test52,0, axis=0)\n",
        "\n",
        "tdata_gen.reset()"
      ],
      "execution_count": null,
      "outputs": []
    },
    {
      "cell_type": "code",
      "metadata": {
        "id": "cwQ2mAKoteRC"
      },
      "source": [
        "preds_ensemble = []"
      ],
      "execution_count": null,
      "outputs": []
    },
    {
      "cell_type": "code",
      "metadata": {
        "id": "VJlyiYGQrmYp"
      },
      "source": [
        "preds_tta = []"
      ],
      "execution_count": null,
      "outputs": []
    },
    {
      "cell_type": "code",
      "metadata": {
        "id": "9AQ9Sf9Zr1fM",
        "colab": {
          "base_uri": "https://localhost:8080/"
        },
        "outputId": "083ccc2b-5229-4b3d-fde8-5457134669b3"
      },
      "source": [
        "test_preds_model1 = model_list[0].predict(x_tdata, verbose = 1)\n",
        "preds_tta.append(test_preds_model1)\n",
        "\n",
        "test_preds_model1 = model_list[0].predict(x_tdata1, verbose = 1)\n",
        "preds_tta.append(test_preds_model1)\n",
        "\n",
        "test_preds_model1 = model_list[0].predict(x_tdata2, verbose = 1)\n",
        "preds_tta.append(test_preds_model1)\n",
        "\n",
        "test_preds_model1 = model_list[0].predict(x_tdata3, verbose = 1)\n",
        "preds_tta.append(test_preds_model1)\n",
        "\n",
        "test_preds_model1 = model_list[0].predict(x_tdata4, verbose = 1)\n",
        "preds_tta.append(test_preds_model1)\n",
        "\n",
        "test_preds_model1 = model_list[0].predict(x_tdata5, verbose = 1)\n",
        "preds_tta.append(test_preds_model1)\n",
        "\n",
        "test_model1 = np.mean(preds_tta, axis=0)"
      ],
      "execution_count": null,
      "outputs": [
        {
          "output_type": "stream",
          "text": [
            " 2/11 [====>.........................] - ETA: 0sWARNING:tensorflow:Callbacks method `on_predict_batch_end` is slow compared to the batch time (batch time: 0.0201s vs `on_predict_batch_end` time: 0.0530s). Check your callbacks.\n",
            "11/11 [==============================] - 1s 67ms/step\n",
            " 2/11 [====>.........................] - ETA: 0sWARNING:tensorflow:Callbacks method `on_predict_batch_end` is slow compared to the batch time (batch time: 0.0196s vs `on_predict_batch_end` time: 0.0488s). Check your callbacks.\n",
            "11/11 [==============================] - 1s 66ms/step\n",
            " 2/11 [====>.........................] - ETA: 0sWARNING:tensorflow:Callbacks method `on_predict_batch_end` is slow compared to the batch time (batch time: 0.0197s vs `on_predict_batch_end` time: 0.0481s). Check your callbacks.\n",
            "11/11 [==============================] - 1s 66ms/step\n",
            " 2/11 [====>.........................] - ETA: 0sWARNING:tensorflow:Callbacks method `on_predict_batch_end` is slow compared to the batch time (batch time: 0.0201s vs `on_predict_batch_end` time: 0.0478s). Check your callbacks.\n",
            "11/11 [==============================] - 1s 66ms/step\n",
            " 2/11 [====>.........................] - ETA: 0sWARNING:tensorflow:Callbacks method `on_predict_batch_end` is slow compared to the batch time (batch time: 0.0188s vs `on_predict_batch_end` time: 0.0497s). Check your callbacks.\n",
            "11/11 [==============================] - 1s 66ms/step\n",
            " 2/11 [====>.........................] - ETA: 0sWARNING:tensorflow:Callbacks method `on_predict_batch_end` is slow compared to the batch time (batch time: 0.0193s vs `on_predict_batch_end` time: 0.0486s). Check your callbacks.\n",
            "11/11 [==============================] - 1s 66ms/step\n"
          ],
          "name": "stdout"
        }
      ]
    },
    {
      "cell_type": "code",
      "metadata": {
        "id": "8ZcFarA2tCLp"
      },
      "source": [
        "preds_ensemble.append(test_model1)"
      ],
      "execution_count": null,
      "outputs": []
    },
    {
      "cell_type": "code",
      "metadata": {
        "id": "NOj-Z0vCt-Ta"
      },
      "source": [
        "preds_tta = []"
      ],
      "execution_count": null,
      "outputs": []
    },
    {
      "cell_type": "code",
      "metadata": {
        "id": "H2nUagGTt_0T",
        "colab": {
          "base_uri": "https://localhost:8080/"
        },
        "outputId": "41263355-c7b9-4896-f897-db0e9aac54ca"
      },
      "source": [
        "test_preds_model2 = model_list[1].predict(x_tdata, verbose = 1)\n",
        "preds_tta.append(test_preds_model2)\n",
        "\n",
        "test_preds_model2 = model_list[1].predict(x_tdata1, verbose = 1)\n",
        "preds_tta.append(test_preds_model2)\n",
        "\n",
        "test_preds_model2 = model_list[1].predict(x_tdata2, verbose = 1)\n",
        "preds_tta.append(test_preds_model2)\n",
        "\n",
        "test_preds_model2 = model_list[1].predict(x_tdata3, verbose = 1)\n",
        "preds_tta.append(test_preds_model2)\n",
        "\n",
        "test_preds_model2 = model_list[1].predict(x_tdata4, verbose = 1)\n",
        "preds_tta.append(test_preds_model2)\n",
        "\n",
        "test_preds_model2 = model_list[1].predict(x_tdata5, verbose = 1)\n",
        "preds_tta.append(test_preds_model2)\n",
        "\n",
        "test_model2 = np.mean(preds_tta, axis=0)"
      ],
      "execution_count": null,
      "outputs": [
        {
          "output_type": "stream",
          "text": [
            " 2/11 [====>.........................] - ETA: 0sWARNING:tensorflow:Callbacks method `on_predict_batch_end` is slow compared to the batch time (batch time: 0.0200s vs `on_predict_batch_end` time: 0.0530s). Check your callbacks.\n",
            "11/11 [==============================] - 1s 67ms/step\n",
            " 2/11 [====>.........................] - ETA: 0sWARNING:tensorflow:Callbacks method `on_predict_batch_end` is slow compared to the batch time (batch time: 0.0199s vs `on_predict_batch_end` time: 0.0487s). Check your callbacks.\n",
            "11/11 [==============================] - 1s 66ms/step\n",
            " 2/11 [====>.........................] - ETA: 0sWARNING:tensorflow:Callbacks method `on_predict_batch_end` is slow compared to the batch time (batch time: 0.0198s vs `on_predict_batch_end` time: 0.0490s). Check your callbacks.\n",
            "11/11 [==============================] - 1s 66ms/step\n",
            " 2/11 [====>.........................] - ETA: 0sWARNING:tensorflow:Callbacks method `on_predict_batch_end` is slow compared to the batch time (batch time: 0.0199s vs `on_predict_batch_end` time: 0.0493s). Check your callbacks.\n",
            "11/11 [==============================] - 1s 66ms/step\n",
            " 2/11 [====>.........................] - ETA: 0sWARNING:tensorflow:Callbacks method `on_predict_batch_end` is slow compared to the batch time (batch time: 0.0199s vs `on_predict_batch_end` time: 0.0486s). Check your callbacks.\n",
            "11/11 [==============================] - 1s 66ms/step\n",
            " 2/11 [====>.........................] - ETA: 0sWARNING:tensorflow:Callbacks method `on_predict_batch_end` is slow compared to the batch time (batch time: 0.0210s vs `on_predict_batch_end` time: 0.0486s). Check your callbacks.\n",
            "11/11 [==============================] - 1s 66ms/step\n"
          ],
          "name": "stdout"
        }
      ]
    },
    {
      "cell_type": "code",
      "metadata": {
        "id": "--zCwggquvR9"
      },
      "source": [
        "preds_ensemble.append(test_model2)"
      ],
      "execution_count": null,
      "outputs": []
    },
    {
      "cell_type": "code",
      "metadata": {
        "id": "d30oWZffu0XK"
      },
      "source": [
        "preds_tta = []"
      ],
      "execution_count": null,
      "outputs": []
    },
    {
      "cell_type": "code",
      "metadata": {
        "id": "hwtpBIofu4Ei",
        "colab": {
          "base_uri": "https://localhost:8080/"
        },
        "outputId": "d7962f1f-405c-467c-891d-32a6c540e6a3"
      },
      "source": [
        "test_preds_model3 = model_list[2].predict(x_tdata, verbose = 1)\n",
        "preds_tta.append(test_preds_model3)\n",
        "\n",
        "test_preds_model3 = model_list[2].predict(x_tdata1, verbose = 1)\n",
        "preds_tta.append(test_preds_model3)\n",
        "\n",
        "test_preds_model3 = model_list[2].predict(x_tdata2, verbose = 1)\n",
        "preds_tta.append(test_preds_model3)\n",
        "\n",
        "test_preds_model3 = model_list[2].predict(x_tdata3, verbose = 1)\n",
        "preds_tta.append(test_preds_model3)\n",
        "\n",
        "test_preds_model3 = model_list[2].predict(x_tdata4, verbose = 1)\n",
        "preds_tta.append(test_preds_model3)\n",
        "\n",
        "test_preds_model3 = model_list[2].predict(x_tdata5, verbose = 1)\n",
        "preds_tta.append(test_preds_model3)\n",
        "\n",
        "test_model3 = np.mean(preds_tta, axis=0)"
      ],
      "execution_count": null,
      "outputs": [
        {
          "output_type": "stream",
          "text": [
            " 2/11 [====>.........................] - ETA: 0sWARNING:tensorflow:Callbacks method `on_predict_batch_end` is slow compared to the batch time (batch time: 0.0206s vs `on_predict_batch_end` time: 0.0473s). Check your callbacks.\n",
            "11/11 [==============================] - 1s 66ms/step\n",
            " 2/11 [====>.........................] - ETA: 0sWARNING:tensorflow:Callbacks method `on_predict_batch_end` is slow compared to the batch time (batch time: 0.0201s vs `on_predict_batch_end` time: 0.0482s). Check your callbacks.\n",
            "11/11 [==============================] - 1s 66ms/step\n",
            " 2/11 [====>.........................] - ETA: 0sWARNING:tensorflow:Callbacks method `on_predict_batch_end` is slow compared to the batch time (batch time: 0.0202s vs `on_predict_batch_end` time: 0.0480s). Check your callbacks.\n",
            "11/11 [==============================] - 1s 66ms/step\n",
            " 2/11 [====>.........................] - ETA: 0sWARNING:tensorflow:Callbacks method `on_predict_batch_end` is slow compared to the batch time (batch time: 0.0187s vs `on_predict_batch_end` time: 0.0495s). Check your callbacks.\n",
            "11/11 [==============================] - 1s 66ms/step\n",
            " 2/11 [====>.........................] - ETA: 0sWARNING:tensorflow:Callbacks method `on_predict_batch_end` is slow compared to the batch time (batch time: 0.0191s vs `on_predict_batch_end` time: 0.0490s). Check your callbacks.\n",
            "11/11 [==============================] - 1s 66ms/step\n",
            " 2/11 [====>.........................] - ETA: 0sWARNING:tensorflow:Callbacks method `on_predict_batch_end` is slow compared to the batch time (batch time: 0.0192s vs `on_predict_batch_end` time: 0.0490s). Check your callbacks.\n",
            "11/11 [==============================] - 1s 66ms/step\n"
          ],
          "name": "stdout"
        }
      ]
    },
    {
      "cell_type": "code",
      "metadata": {
        "id": "yGKom6BwvJ20"
      },
      "source": [
        "preds_ensemble.append(test_model3)"
      ],
      "execution_count": null,
      "outputs": []
    },
    {
      "cell_type": "code",
      "metadata": {
        "id": "CjM_F8CmvOsf"
      },
      "source": [
        "preds_tta = []"
      ],
      "execution_count": null,
      "outputs": []
    },
    {
      "cell_type": "code",
      "metadata": {
        "id": "PILflOzBvTxA",
        "colab": {
          "base_uri": "https://localhost:8080/"
        },
        "outputId": "6e9761fd-7387-475b-d8b1-32d6691aa58e"
      },
      "source": [
        "test_preds_model3 = model_list[3].predict(x_tdata, verbose = 1)\n",
        "preds_tta.append(test_preds_model3)\n",
        "\n",
        "test_preds_model3 = model_list[3].predict(x_tdata1, verbose = 1)\n",
        "preds_tta.append(test_preds_model3)\n",
        "\n",
        "test_preds_model3 = model_list[3].predict(x_tdata2, verbose = 1)\n",
        "preds_tta.append(test_preds_model3)\n",
        "\n",
        "test_preds_model3 = model_list[3].predict(x_tdata3, verbose = 1)\n",
        "preds_tta.append(test_preds_model3)\n",
        "\n",
        "test_preds_model3 = model_list[3].predict(x_tdata4, verbose = 1)\n",
        "preds_tta.append(test_preds_model3)\n",
        "\n",
        "test_preds_model3 = model_list[3].predict(x_tdata5, verbose = 1)\n",
        "preds_tta.append(test_preds_model3)\n",
        "\n",
        "test_model4 = np.mean(preds_tta, axis=0)"
      ],
      "execution_count": null,
      "outputs": [
        {
          "output_type": "stream",
          "text": [
            " 2/11 [====>.........................] - ETA: 0sWARNING:tensorflow:Callbacks method `on_predict_batch_end` is slow compared to the batch time (batch time: 0.0198s vs `on_predict_batch_end` time: 0.0490s). Check your callbacks.\n",
            "11/11 [==============================] - 1s 66ms/step\n",
            " 2/11 [====>.........................] - ETA: 0sWARNING:tensorflow:Callbacks method `on_predict_batch_end` is slow compared to the batch time (batch time: 0.0201s vs `on_predict_batch_end` time: 0.0489s). Check your callbacks.\n",
            "11/11 [==============================] - 1s 66ms/step\n",
            " 2/11 [====>.........................] - ETA: 0sWARNING:tensorflow:Callbacks method `on_predict_batch_end` is slow compared to the batch time (batch time: 0.0204s vs `on_predict_batch_end` time: 0.0490s). Check your callbacks.\n",
            "11/11 [==============================] - 1s 66ms/step\n",
            " 2/11 [====>.........................] - ETA: 0sWARNING:tensorflow:Callbacks method `on_predict_batch_end` is slow compared to the batch time (batch time: 0.0211s vs `on_predict_batch_end` time: 0.0483s). Check your callbacks.\n",
            "11/11 [==============================] - 1s 67ms/step\n",
            " 2/11 [====>.........................] - ETA: 0sWARNING:tensorflow:Callbacks method `on_predict_batch_end` is slow compared to the batch time (batch time: 0.0201s vs `on_predict_batch_end` time: 0.0484s). Check your callbacks.\n",
            "11/11 [==============================] - 1s 66ms/step\n",
            " 2/11 [====>.........................] - ETA: 0sWARNING:tensorflow:Callbacks method `on_predict_batch_end` is slow compared to the batch time (batch time: 0.0193s vs `on_predict_batch_end` time: 0.0486s). Check your callbacks.\n",
            "11/11 [==============================] - 1s 66ms/step\n"
          ],
          "name": "stdout"
        }
      ]
    },
    {
      "cell_type": "code",
      "metadata": {
        "id": "GWgFQrBzve-0"
      },
      "source": [
        "preds_ensemble.append(test_model4)"
      ],
      "execution_count": null,
      "outputs": []
    },
    {
      "cell_type": "code",
      "metadata": {
        "id": "FL0O4Bw4vmit"
      },
      "source": [
        "preds_tta = []"
      ],
      "execution_count": null,
      "outputs": []
    },
    {
      "cell_type": "code",
      "metadata": {
        "id": "yiMi6Z36vpf3",
        "colab": {
          "base_uri": "https://localhost:8080/"
        },
        "outputId": "aa541a5b-c81c-4d09-e72b-8acd0ebe6e69"
      },
      "source": [
        "test_preds_model3 = model_list[4].predict(x_tdata, verbose = 1)\n",
        "preds_tta.append(test_preds_model3)\n",
        "\n",
        "test_preds_model3 = model_list[4].predict(x_tdata1, verbose = 1)\n",
        "preds_tta.append(test_preds_model3)\n",
        "\n",
        "test_preds_model3 = model_list[4].predict(x_tdata2, verbose = 1)\n",
        "preds_tta.append(test_preds_model3)\n",
        "\n",
        "test_preds_model3 = model_list[4].predict(x_tdata3, verbose = 1)\n",
        "preds_tta.append(test_preds_model3)\n",
        "\n",
        "test_preds_model3 = model_list[4].predict(x_tdata4, verbose = 1)\n",
        "preds_tta.append(test_preds_model3)\n",
        "\n",
        "test_preds_model3 = model_list[4].predict(x_tdata5, verbose = 1)\n",
        "preds_tta.append(test_preds_model3)\n",
        "\n",
        "test_model5 = np.mean(preds_tta, axis=0)"
      ],
      "execution_count": null,
      "outputs": [
        {
          "output_type": "stream",
          "text": [
            " 2/11 [====>.........................] - ETA: 0sWARNING:tensorflow:Callbacks method `on_predict_batch_end` is slow compared to the batch time (batch time: 0.0201s vs `on_predict_batch_end` time: 0.0490s). Check your callbacks.\n",
            "11/11 [==============================] - 1s 66ms/step\n",
            " 2/11 [====>.........................] - ETA: 0sWARNING:tensorflow:Callbacks method `on_predict_batch_end` is slow compared to the batch time (batch time: 0.0197s vs `on_predict_batch_end` time: 0.0490s). Check your callbacks.\n",
            "11/11 [==============================] - 1s 67ms/step\n",
            " 2/11 [====>.........................] - ETA: 0sWARNING:tensorflow:Callbacks method `on_predict_batch_end` is slow compared to the batch time (batch time: 0.0204s vs `on_predict_batch_end` time: 0.0491s). Check your callbacks.\n",
            "11/11 [==============================] - 1s 66ms/step\n",
            " 2/11 [====>.........................] - ETA: 0sWARNING:tensorflow:Callbacks method `on_predict_batch_end` is slow compared to the batch time (batch time: 0.0198s vs `on_predict_batch_end` time: 0.0492s). Check your callbacks.\n",
            "11/11 [==============================] - 1s 66ms/step\n",
            " 2/11 [====>.........................] - ETA: 0sWARNING:tensorflow:Callbacks method `on_predict_batch_end` is slow compared to the batch time (batch time: 0.0199s vs `on_predict_batch_end` time: 0.0489s). Check your callbacks.\n",
            "11/11 [==============================] - 1s 66ms/step\n",
            " 2/11 [====>.........................] - ETA: 0sWARNING:tensorflow:Callbacks method `on_predict_batch_end` is slow compared to the batch time (batch time: 0.0193s vs `on_predict_batch_end` time: 0.0494s). Check your callbacks.\n",
            "11/11 [==============================] - 1s 66ms/step\n"
          ],
          "name": "stdout"
        }
      ]
    },
    {
      "cell_type": "code",
      "metadata": {
        "id": "6amZzSiawNfN"
      },
      "source": [
        "preds_ensemble.append(test_model5)"
      ],
      "execution_count": null,
      "outputs": []
    },
    {
      "cell_type": "code",
      "metadata": {
        "id": "SRm9eDl0wWww"
      },
      "source": [
        "preds_tta = []"
      ],
      "execution_count": null,
      "outputs": []
    },
    {
      "cell_type": "code",
      "metadata": {
        "id": "KIEVrJSZwYrC"
      },
      "source": [
        "ttapreds= np.mean(preds_ensemble, axis=0)"
      ],
      "execution_count": null,
      "outputs": []
    },
    {
      "cell_type": "code",
      "metadata": {
        "id": "BE7kkqRjwqMQ"
      },
      "source": [
        "ttapreds1 = [np.argmax(pred) for pred in ttapreds]"
      ],
      "execution_count": null,
      "outputs": []
    },
    {
      "cell_type": "code",
      "metadata": {
        "id": "suz1lnpCxwTs",
        "colab": {
          "base_uri": "https://localhost:8080/"
        },
        "outputId": "2476a038-bd1c-4fa4-b2d5-d647e23e0375"
      },
      "source": [
        "c=y_test2 == y_test32\n",
        "c.all()"
      ],
      "execution_count": null,
      "outputs": [
        {
          "output_type": "execute_result",
          "data": {
            "text/plain": [
              "True"
            ]
          },
          "metadata": {
            "tags": []
          },
          "execution_count": 108
        }
      ]
    },
    {
      "cell_type": "code",
      "metadata": {
        "id": "47nZaYMVyQk6"
      },
      "source": [
        "y_test2tta = [np.argmax(pred) for pred in y_test2]"
      ],
      "execution_count": null,
      "outputs": []
    },
    {
      "cell_type": "code",
      "metadata": {
        "id": "mzsEBYbNxdEX",
        "colab": {
          "base_uri": "https://localhost:8080/"
        },
        "outputId": "4d7f2832-a0d7-43a4-ee41-04e05a43adff"
      },
      "source": [
        "print(\"test Cohen Kappa score: %.3f\" % cohen_kappa_score(ttapreds1, y_test2tta, weights='quadratic'))"
      ],
      "execution_count": null,
      "outputs": [
        {
          "output_type": "stream",
          "text": [
            "test Cohen Kappa score: 0.817\n"
          ],
          "name": "stdout"
        }
      ]
    },
    {
      "cell_type": "code",
      "metadata": {
        "id": "7ZLbchi7_xEH",
        "colab": {
          "base_uri": "https://localhost:8080/",
          "height": 486
        },
        "outputId": "87ef7055-b70f-4e78-fd10-a4a3b6a2604b"
      },
      "source": [
        "labels = ['0 - No DR', '1 - Leve', '2 - Moderada', '3 - Severa', '4 - Proliferativa DR']\n",
        "plot_conf_matrix(ttapreds1,y_test2tta, labels)"
      ],
      "execution_count": null,
      "outputs": [
        {
          "output_type": "display_data",
          "data": {
            "image/png": "[encoded data removed]",
            "text/plain": [
              "<Figure size 576x396 with 2 Axes>"
            ]
          },
          "metadata": {
            "tags": []
          }
        }
      ]
    },
    {
      "cell_type": "code",
      "metadata": {
        "id": "5jUu1eqHAEYE"
      },
      "source": [
        "cf = confusion_matrix(y_test2tta, ttapreds1)"
      ],
      "execution_count": null,
      "outputs": []
    },
    {
      "cell_type": "code",
      "metadata": {
        "id": "72bxoST2AO1K"
      },
      "source": [
        ""
      ],
      "execution_count": null,
      "outputs": []
    },
    {
      "cell_type": "code",
      "metadata": {
        "id": "OjJzi6JnAPGz",
        "colab": {
          "base_uri": "https://localhost:8080/"
        },
        "outputId": "e250e82c-a9ac-414f-cf6f-a7dba23721e3"
      },
      "source": [
        "FP = cf.sum(axis=0) - np.diag(cf)  \n",
        "FN = cf.sum(axis=1) - np.diag(cf)\n",
        "TP = np.diag(cf)\n",
        "TN = cf.sum() - (FP + FN + TP)\n",
        "\n",
        "# Sensitivity, hit rate, recall, or true positive rate\n",
        "TPR = TP/(TP+FN)\n",
        "# Specificity or true negative rate\n",
        "TNR = TN/(TN+FP) \n",
        "# Precision or positive predictive value\n",
        "PPV = TP/(TP+FP)\n",
        "# Negative predictive value\n",
        "NPV = TN/(TN+FN)\n",
        "# Fall out or false positive rate\n",
        "FPR = FP/(FP+TN)\n",
        "# False negative rate\n",
        "FNR = FN/(TP+FN)\n",
        "# False discovery rate\n",
        "FDR = FP/(TP+FP)\n",
        "\n",
        "# Overall accuracy\n",
        "ACC = (TP+TN)/(TP+FP+FN+TN)\n",
        "\n",
        "print('FP')\n",
        "print(FP)\n",
        "print('FN')\n",
        "print(FN)\n",
        "print('TP')\n",
        "print(TP)\n",
        "print('TN')\n",
        "print(TN)\n",
        "print('Sensitivity')\n",
        "print(TPR)\n",
        "print('Specificity')\n",
        "print(TNR)\n",
        "print('Precision')\n",
        "print(PPV)\n",
        "print(NPV)\n",
        "print(FPR)\n",
        "print(FNR)\n",
        "print(FDR)\n",
        "print('Acc')\n",
        "print(ACC)\n",
        "\n",
        "print('Sensitivity mean')\n",
        "print(np.mean(TPR))\n",
        "print('Specificity mean')\n",
        "print(np.mean(TNR))\n",
        "print('Precision mean')\n",
        "print(np.mean(PPV))\n"
      ],
      "execution_count": null,
      "outputs": [
        {
          "output_type": "stream",
          "text": [
            "FP\n",
            "[53  3 15  6  0]\n",
            "FN\n",
            "[ 1 43 24  4  5]\n",
            "TP\n",
            "[203   2  54  12   2]\n",
            "TN\n",
            "[ 93 302 257 328 343]\n",
            "Sensitivity\n",
            "[0.99509804 0.04444444 0.69230769 0.75       0.28571429]\n",
            "Specificity\n",
            "[0.6369863  0.99016393 0.94485294 0.98203593 1.        ]\n",
            "Precision\n",
            "[0.79296875 0.4        0.7826087  0.66666667 1.        ]\n",
            "[0.9893617  0.87536232 0.91459075 0.98795181 0.98563218]\n",
            "[0.3630137  0.00983607 0.05514706 0.01796407 0.        ]\n",
            "[0.00490196 0.95555556 0.30769231 0.25       0.71428571]\n",
            "[0.20703125 0.6        0.2173913  0.33333333 0.        ]\n",
            "Acc\n",
            "[0.84571429 0.86857143 0.88857143 0.97142857 0.98571429]\n",
            "Sensitivity mean\n",
            "0.5535128923364218\n",
            "Specificity mean\n",
            "0.9108078210232552\n",
            "Precision mean\n",
            "0.7284488224637681\n"
          ],
          "name": "stdout"
        }
      ]
    },
    {
      "cell_type": "code",
      "metadata": {
        "id": "5Iz80vecz1S8",
        "colab": {
          "base_uri": "https://localhost:8080/"
        },
        "outputId": "0dbf0177-3552-4c84-f014-f5abd5c1848a"
      },
      "source": [
        "print(\"Test Cohen Kappa score: %.3f\" % cohen_kappa_score(ttapreds1, y_test2tta, weights='quadratic'))\n",
        "print(\"Test Accuracy score : %.3f\" % accuracy_score(ttapreds1, y_test2tta))\n",
        "\n",
        "print('F1 score: %.3f' % f1_score(ttapreds1, y_test2tta,average='micro'))\n",
        "print('F1 score: %.3f' % f1_score(ttapreds1, y_test2tta,average='weighted'))\n",
        "print('F1 score: %.3f' % f1_score(y_test2tta,ttapreds1,average='macro'))\n",
        "\n",
        "print('Recall: %.3f' % recall_score(ttapreds1, y_test2tta,average='micro'))\n",
        "print('Recall: %.3f' % recall_score(ttapreds1, y_test2tta,average='weighted'))\n",
        "print('Recall: %.3f' % recall_score(y_test2tta,ttapreds1,average='macro'))\n",
        "\n",
        "print('Precision: %.3f' % precision_score(ttapreds1, y_test2tta,average='micro'))\n",
        "print('Precision: %.3f' % precision_score(ttapreds1, y_test2tta,average='weighted'))\n",
        "print('Precision: %.3f' % precision_score(y_test2tta,ttapreds1,average='macro'))\n",
        "\n",
        "print('\\n clasification report:\\n  ' + classification_report(ttapreds1, y_test2tta))"
      ],
      "execution_count": null,
      "outputs": [
        {
          "output_type": "stream",
          "text": [
            "Test Cohen Kappa score: 0.817\n",
            "Test Accuracy score : 0.780\n",
            "F1 score: 0.780\n",
            "F1 score: 0.830\n",
            "F1 score: 0.570\n",
            "Recall: 0.780\n",
            "Recall: 0.780\n",
            "Recall: 0.554\n",
            "Precision: 0.780\n",
            "Precision: 0.905\n",
            "Precision: 0.728\n",
            "\n",
            " clasification report:\n",
            "                precision    recall  f1-score   support\n",
            "\n",
            "           0       1.00      0.79      0.88       256\n",
            "           1       0.04      0.40      0.08         5\n",
            "           2       0.69      0.78      0.73        69\n",
            "           3       0.75      0.67      0.71        18\n",
            "           4       0.29      1.00      0.44         2\n",
            "\n",
            "    accuracy                           0.78       350\n",
            "   macro avg       0.55      0.73      0.57       350\n",
            "weighted avg       0.91      0.78      0.83       350\n",
            "\n"
          ],
          "name": "stdout"
        }
      ]
    },
    {
      "cell_type": "code",
      "metadata": {
        "id": "PFnTD2Ve1qbS",
        "colab": {
          "base_uri": "https://localhost:8080/",
          "height": 486
        },
        "outputId": "8725f768-c6ab-4063-b85e-f35de0735c06"
      },
      "source": [
        "labels = ['0 - No DR', '1 - Leve', '2 - Moderada', '3 - Severa', '4 - Proliferativa DR']\n",
        "plot_conf_matrix(ttapreds1, y_test2tta,labels)"
      ],
      "execution_count": null,
      "outputs": [
        {
          "output_type": "display_data",
          "data": {
            "image/png": "[encoded data removed]",
            "text/plain": [
              "<Figure size 576x396 with 2 Axes>"
            ]
          },
          "metadata": {
            "tags": []
          }
        }
      ]
    },
    {
      "cell_type": "code",
      "metadata": {
        "id": "s4ceoiuq2dh4",
        "colab": {
          "base_uri": "https://localhost:8080/",
          "height": 370
        },
        "outputId": "97a46a5f-9a26-4c67-a85e-9880fe53d54f"
      },
      "source": [
        "cnf_matrix = confusion_matrix(ttapreds1, y_test2tta)\n",
        "cnf_matrix_norm = cnf_matrix.astype('float') / cnf_matrix.sum(axis=1)[:, np.newaxis]\n",
        "df_cm = pd.DataFrame(cnf_matrix_norm, index=labels, columns=labels)\n",
        "plt.figure(figsize=(16, 7))\n",
        "sns.heatmap(df_cm, annot=True, fmt='.2f', cmap=\"Blues\")\n",
        "plt.show()"
      ],
      "execution_count": null,
      "outputs": [
        {
          "output_type": "display_data",
          "data": {
            "image/png": "[encoded data removed]",
            "text/plain": [
              "<Figure size 1152x504 with 2 Axes>"
            ]
          },
          "metadata": {
            "tags": []
          }
        }
      ]
    },
    {
      "cell_type": "markdown",
      "metadata": {
        "id": "QWGOCSfeGrnC"
      },
      "source": [
        "# TTA y trimedian"
      ]
    },
    {
      "cell_type": "code",
      "metadata": {
        "id": "NdQqodqkHCyS",
        "colab": {
          "base_uri": "https://localhost:8080/"
        },
        "outputId": "7c399003-b431-42d1-e676-5edb3a2c9f6e"
      },
      "source": [
        "preds_ensemble = []\n",
        "\n",
        "\n",
        "for i in range(len(model_list)):\n",
        "  preds_tta = []\n",
        "\n",
        "  test_preds_model = model_list[i].predict(x_tdata, verbose = 1)\n",
        "  preds_tta.append(test_preds_model)\n",
        "\n",
        "  test_preds_model = model_list[i].predict(x_tdata1, verbose = 1)\n",
        "  preds_tta.append(test_preds_model)\n",
        "\n",
        "  test_preds_model = model_list[i].predict(x_tdata2, verbose = 1)\n",
        "  preds_tta.append(test_preds_model)\n",
        "\n",
        "  test_preds_model = model_list[i].predict(x_tdata3, verbose = 1)\n",
        "  preds_tta.append(test_preds_model)\n",
        "\n",
        "  test_preds_model = model_list[i].predict(x_tdata4, verbose = 1)\n",
        "  preds_tta.append(test_preds_model)\n",
        "\n",
        "  test_preds_model = model_list[i].predict(x_tdata5, verbose = 1)\n",
        "  preds_tta.append(test_preds_model)\n",
        "\n",
        "  test_model = stats.trim_mean(preds_tta,0.25, axis=0)\n",
        "  preds_ensemble.append(test_model)\n",
        "\n",
        "preds1_ensemble = stats.trim_mean(preds_ensemble,0.25, axis=0)\n"
      ],
      "execution_count": null,
      "outputs": [
        {
          "output_type": "stream",
          "text": [
            " 2/11 [====>.........................] - ETA: 0sWARNING:tensorflow:Callbacks method `on_predict_batch_end` is slow compared to the batch time (batch time: 0.0214s vs `on_predict_batch_end` time: 0.0521s). Check your callbacks.\n",
            "11/11 [==============================] - 1s 67ms/step\n",
            " 2/11 [====>.........................] - ETA: 0sWARNING:tensorflow:Callbacks method `on_predict_batch_end` is slow compared to the batch time (batch time: 0.0187s vs `on_predict_batch_end` time: 0.0494s). Check your callbacks.\n",
            "11/11 [==============================] - 1s 66ms/step\n",
            " 2/11 [====>.........................] - ETA: 0sWARNING:tensorflow:Callbacks method `on_predict_batch_end` is slow compared to the batch time (batch time: 0.0205s vs `on_predict_batch_end` time: 0.0488s). Check your callbacks.\n",
            "11/11 [==============================] - 1s 66ms/step\n",
            " 2/11 [====>.........................] - ETA: 0sWARNING:tensorflow:Callbacks method `on_predict_batch_end` is slow compared to the batch time (batch time: 0.0192s vs `on_predict_batch_end` time: 0.0490s). Check your callbacks.\n",
            "11/11 [==============================] - 1s 66ms/step\n",
            " 2/11 [====>.........................] - ETA: 0sWARNING:tensorflow:Callbacks method `on_predict_batch_end` is slow compared to the batch time (batch time: 0.0189s vs `on_predict_batch_end` time: 0.0488s). Check your callbacks.\n",
            "11/11 [==============================] - 1s 66ms/step\n",
            " 2/11 [====>.........................] - ETA: 0sWARNING:tensorflow:Callbacks method `on_predict_batch_end` is slow compared to the batch time (batch time: 0.0191s vs `on_predict_batch_end` time: 0.0492s). Check your callbacks.\n",
            "11/11 [==============================] - 1s 66ms/step\n",
            " 2/11 [====>.........................] - ETA: 0sWARNING:tensorflow:Callbacks method `on_predict_batch_end` is slow compared to the batch time (batch time: 0.0196s vs `on_predict_batch_end` time: 0.0493s). Check your callbacks.\n",
            "11/11 [==============================] - 1s 67ms/step\n",
            " 2/11 [====>.........................] - ETA: 0sWARNING:tensorflow:Callbacks method `on_predict_batch_end` is slow compared to the batch time (batch time: 0.0202s vs `on_predict_batch_end` time: 0.0491s). Check your callbacks.\n",
            "11/11 [==============================] - 1s 67ms/step\n",
            " 2/11 [====>.........................] - ETA: 0sWARNING:tensorflow:Callbacks method `on_predict_batch_end` is slow compared to the batch time (batch time: 0.0199s vs `on_predict_batch_end` time: 0.0491s). Check your callbacks.\n",
            "11/11 [==============================] - 1s 66ms/step\n",
            " 2/11 [====>.........................] - ETA: 0sWARNING:tensorflow:Callbacks method `on_predict_batch_end` is slow compared to the batch time (batch time: 0.0206s vs `on_predict_batch_end` time: 0.0484s). Check your callbacks.\n",
            "11/11 [==============================] - 1s 66ms/step\n",
            " 2/11 [====>.........................] - ETA: 0sWARNING:tensorflow:Callbacks method `on_predict_batch_end` is slow compared to the batch time (batch time: 0.0202s vs `on_predict_batch_end` time: 0.0488s). Check your callbacks.\n",
            "11/11 [==============================] - 1s 66ms/step\n",
            " 2/11 [====>.........................] - ETA: 0sWARNING:tensorflow:Callbacks method `on_predict_batch_end` is slow compared to the batch time (batch time: 0.0205s vs `on_predict_batch_end` time: 0.0487s). Check your callbacks.\n",
            "11/11 [==============================] - 1s 67ms/step\n",
            " 2/11 [====>.........................] - ETA: 0sWARNING:tensorflow:Callbacks method `on_predict_batch_end` is slow compared to the batch time (batch time: 0.0201s vs `on_predict_batch_end` time: 0.0480s). Check your callbacks.\n",
            "11/11 [==============================] - 1s 66ms/step\n",
            " 2/11 [====>.........................] - ETA: 0sWARNING:tensorflow:Callbacks method `on_predict_batch_end` is slow compared to the batch time (batch time: 0.0189s vs `on_predict_batch_end` time: 0.0492s). Check your callbacks.\n",
            "11/11 [==============================] - 1s 66ms/step\n",
            " 2/11 [====>.........................] - ETA: 0sWARNING:tensorflow:Callbacks method `on_predict_batch_end` is slow compared to the batch time (batch time: 0.0183s vs `on_predict_batch_end` time: 0.0496s). Check your callbacks.\n",
            "11/11 [==============================] - 1s 65ms/step\n",
            " 2/11 [====>.........................] - ETA: 0sWARNING:tensorflow:Callbacks method `on_predict_batch_end` is slow compared to the batch time (batch time: 0.0195s vs `on_predict_batch_end` time: 0.0488s). Check your callbacks.\n",
            "11/11 [==============================] - 1s 66ms/step\n",
            " 2/11 [====>.........................] - ETA: 0sWARNING:tensorflow:Callbacks method `on_predict_batch_end` is slow compared to the batch time (batch time: 0.0190s vs `on_predict_batch_end` time: 0.0490s). Check your callbacks.\n",
            "11/11 [==============================] - 1s 66ms/step\n",
            " 2/11 [====>.........................] - ETA: 0sWARNING:tensorflow:Callbacks method `on_predict_batch_end` is slow compared to the batch time (batch time: 0.0213s vs `on_predict_batch_end` time: 0.0474s). Check your callbacks.\n",
            "11/11 [==============================] - 1s 66ms/step\n",
            " 2/11 [====>.........................] - ETA: 0sWARNING:tensorflow:Callbacks method `on_predict_batch_end` is slow compared to the batch time (batch time: 0.0204s vs `on_predict_batch_end` time: 0.0486s). Check your callbacks.\n",
            "11/11 [==============================] - 1s 66ms/step\n",
            " 2/11 [====>.........................] - ETA: 0sWARNING:tensorflow:Callbacks method `on_predict_batch_end` is slow compared to the batch time (batch time: 0.0198s vs `on_predict_batch_end` time: 0.0489s). Check your callbacks.\n",
            "11/11 [==============================] - 1s 66ms/step\n",
            " 2/11 [====>.........................] - ETA: 0sWARNING:tensorflow:Callbacks method `on_predict_batch_end` is slow compared to the batch time (batch time: 0.0213s vs `on_predict_batch_end` time: 0.0491s). Check your callbacks.\n",
            "11/11 [==============================] - 1s 66ms/step\n",
            " 2/11 [====>.........................] - ETA: 0sWARNING:tensorflow:Callbacks method `on_predict_batch_end` is slow compared to the batch time (batch time: 0.0197s vs `on_predict_batch_end` time: 0.0490s). Check your callbacks.\n",
            "11/11 [==============================] - 1s 66ms/step\n",
            " 2/11 [====>.........................] - ETA: 0sWARNING:tensorflow:Callbacks method `on_predict_batch_end` is slow compared to the batch time (batch time: 0.0193s vs `on_predict_batch_end` time: 0.0494s). Check your callbacks.\n",
            "11/11 [==============================] - 1s 66ms/step\n",
            " 2/11 [====>.........................] - ETA: 0sWARNING:tensorflow:Callbacks method `on_predict_batch_end` is slow compared to the batch time (batch time: 0.0200s vs `on_predict_batch_end` time: 0.0488s). Check your callbacks.\n",
            "11/11 [==============================] - 1s 66ms/step\n",
            " 2/11 [====>.........................] - ETA: 0sWARNING:tensorflow:Callbacks method `on_predict_batch_end` is slow compared to the batch time (batch time: 0.0200s vs `on_predict_batch_end` time: 0.0489s). Check your callbacks.\n",
            "11/11 [==============================] - 1s 66ms/step\n",
            " 2/11 [====>.........................] - ETA: 0sWARNING:tensorflow:Callbacks method `on_predict_batch_end` is slow compared to the batch time (batch time: 0.0216s vs `on_predict_batch_end` time: 0.0488s). Check your callbacks.\n",
            "11/11 [==============================] - 1s 66ms/step\n",
            " 2/11 [====>.........................] - ETA: 0sWARNING:tensorflow:Callbacks method `on_predict_batch_end` is slow compared to the batch time (batch time: 0.0199s vs `on_predict_batch_end` time: 0.0489s). Check your callbacks.\n",
            "11/11 [==============================] - 1s 66ms/step\n",
            " 2/11 [====>.........................] - ETA: 0sWARNING:tensorflow:Callbacks method `on_predict_batch_end` is slow compared to the batch time (batch time: 0.0192s vs `on_predict_batch_end` time: 0.0494s). Check your callbacks.\n",
            "11/11 [==============================] - 1s 66ms/step\n",
            " 2/11 [====>.........................] - ETA: 0sWARNING:tensorflow:Callbacks method `on_predict_batch_end` is slow compared to the batch time (batch time: 0.0203s vs `on_predict_batch_end` time: 0.0490s). Check your callbacks.\n",
            "11/11 [==============================] - 1s 66ms/step\n",
            " 2/11 [====>.........................] - ETA: 0sWARNING:tensorflow:Callbacks method `on_predict_batch_end` is slow compared to the batch time (batch time: 0.0200s vs `on_predict_batch_end` time: 0.0490s). Check your callbacks.\n",
            "11/11 [==============================] - 1s 66ms/step\n"
          ],
          "name": "stdout"
        }
      ]
    },
    {
      "cell_type": "code",
      "metadata": {
        "id": "BlPyjkEYLXzl"
      },
      "source": [
        "preds1_ensemble1 = [np.argmax(pred) for pred in preds1_ensemble]"
      ],
      "execution_count": null,
      "outputs": []
    },
    {
      "cell_type": "code",
      "metadata": {
        "id": "jyzGfeoTMuFm",
        "colab": {
          "base_uri": "https://localhost:8080/"
        },
        "outputId": "3297e8bc-45c9-4517-c338-1b457f004a08"
      },
      "source": [
        "print(\"Test Cohen Kappa score: %.3f\" % cohen_kappa_score(preds1_ensemble1, y_test2tta, weights='quadratic'))\n",
        "print(\"Test Accuracy score : %.3f\" % accuracy_score(preds1_ensemble1, y_test2tta))\n",
        "\n",
        "print('F1 score: %.3f' % f1_score(preds1_ensemble1, y_test2tta,average='micro'))\n",
        "print('F1 score: %.3f' % f1_score(preds1_ensemble1, y_test2tta,average='weighted'))\n",
        "print('F1 score: %.3f' % f1_score( y_test2tta,preds1_ensemble1,average='macro'))\n",
        "\n",
        "print('Recall: %.3f' % recall_score(preds1_ensemble1, y_test2tta,average='micro'))\n",
        "print('Recall: %.3f' % recall_score(y_test2tta,preds1_ensemble1,average='weighted'))\n",
        "print('Recall: %.3f' % recall_score(y_test2tta,preds1_ensemble1,average='macro'))\n",
        "\n",
        "\n",
        "print('Precision: %.3f' % precision_score(preds1_ensemble1, y_test2tta,average='micro'))\n",
        "print('Precision: %.3f' % precision_score(preds1_ensemble1, y_test2tta,average='weighted'))\n",
        "print('Precision: %.3f' % precision_score(y_test2tta, preds1_ensemble1, average='macro'))\n",
        "\n",
        "print('\\n clasification report:\\n  ' + classification_report(preds1_ensemble1, y_test2tta))"
      ],
      "execution_count": null,
      "outputs": [
        {
          "output_type": "stream",
          "text": [
            "Test Cohen Kappa score: 0.817\n",
            "Test Accuracy score : 0.780\n",
            "F1 score: 0.780\n",
            "F1 score: 0.830\n",
            "F1 score: 0.570\n",
            "Recall: 0.780\n",
            "Recall: 0.780\n",
            "Recall: 0.554\n",
            "Precision: 0.780\n",
            "Precision: 0.905\n",
            "Precision: 0.728\n",
            "\n",
            " clasification report:\n",
            "                precision    recall  f1-score   support\n",
            "\n",
            "           0       1.00      0.79      0.88       256\n",
            "           1       0.04      0.40      0.08         5\n",
            "           2       0.69      0.78      0.73        69\n",
            "           3       0.75      0.67      0.71        18\n",
            "           4       0.29      1.00      0.44         2\n",
            "\n",
            "    accuracy                           0.78       350\n",
            "   macro avg       0.55      0.73      0.57       350\n",
            "weighted avg       0.91      0.78      0.83       350\n",
            "\n"
          ],
          "name": "stdout"
        }
      ]
    }
  ]
}