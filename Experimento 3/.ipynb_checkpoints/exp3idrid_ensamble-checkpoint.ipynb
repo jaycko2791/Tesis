{
 "cells": [
  {
   "cell_type": "markdown",
   "metadata": {},
   "source": [
    "### Experimento 3\n",
    "### IPN- CIC\n",
    "### Alumno: Jorge Diego García Torres\n",
    "#### Titulo : Clasificación de los grados de retinopatía diabética en imágenes del fondo del ojo mediante algoritmos de aprendizaje profundo.\n",
    "#### Ensamble IDRiD"
   ]
  },
  {
   "cell_type": "code",
   "execution_count": 1,
   "metadata": {
    "executionInfo": {
     "elapsed": 4152,
     "status": "ok",
     "timestamp": 1604709850469,
     "user": {
      "displayName": "Jorge Diego Garcia Torres",
      "photoUrl": "https://lh3.googleusercontent.com/a-/AOh14GgUm411NCPxL0CyuKgBlBhJ9SxhXr8inmS25Nfq=s64",
      "userId": "03990517325461913005"
     },
     "user_tz": 360
    },
    "id": "UFk_I_4z3kSv"
   },
   "outputs": [],
   "source": [
    "import os\n",
    "import cv2\n",
    "import random\n",
    "import warnings\n",
    "import numpy as np\n",
    "import pandas as pd\n",
    "import seaborn as sns\n",
    "import matplotlib.pyplot as plt\n",
    "from sklearn.model_selection import train_test_split, StratifiedKFold\n",
    "\n",
    "import os\n",
    "import sys\n",
    "import cv2\n",
    "import shutil\n",
    "import random\n",
    "import warnings\n",
    "import numpy as np\n",
    "import pandas as pd\n",
    "import seaborn as sns\n",
    "import multiprocessing as mp\n",
    "import matplotlib.pyplot as plt\n",
    "\n",
    "from sklearn.metrics import confusion_matrix, cohen_kappa_score\n",
    "from keras.models import Model\n",
    "from keras.preprocessing.image import ImageDataGenerator\n",
    "from keras.layers import Dense, GlobalAveragePooling2D, Input\n",
    "\n",
    "\n",
    "def seed_everything(seed=0):\n",
    "    random.seed(seed)\n",
    "    os.environ['PYTHONHASHSEED'] = str(seed)\n",
    "    np.random.seed(seed)\n",
    "    \n",
    "seed = 0\n",
    "seed_everything(seed)\n",
    "\n",
    "\n",
    "sns.set(style=\"whitegrid\")\n",
    "warnings.filterwarnings(\"ignore\")"
   ]
  },
  {
   "cell_type": "code",
   "execution_count": 2,
   "metadata": {
    "colab": {
     "base_uri": "https://localhost:8080/"
    },
    "executionInfo": {
     "elapsed": 31512,
     "status": "ok",
     "timestamp": 1604709890162,
     "user": {
      "displayName": "Jorge Diego Garcia Torres",
      "photoUrl": "https://lh3.googleusercontent.com/a-/AOh14GgUm411NCPxL0CyuKgBlBhJ9SxhXr8inmS25Nfq=s64",
      "userId": "03990517325461913005"
     },
     "user_tz": 360
    },
    "id": "vumYJchG3znS",
    "outputId": "f7fb6d41-c8ce-4fdf-8472-43d84d78a6c6"
   },
   "outputs": [
    {
     "name": "stdout",
     "output_type": "stream",
     "text": [
      "Mounted at /content/gdrive\n"
     ]
    }
   ],
   "source": [
    "from google.colab import drive\n",
    "drive.mount('/content/gdrive')"
   ]
  },
  {
   "cell_type": "code",
   "execution_count": 5,
   "metadata": {
    "executionInfo": {
     "elapsed": 753,
     "status": "ok",
     "timestamp": 1604710114522,
     "user": {
      "displayName": "Jorge Diego Garcia Torres",
      "photoUrl": "https://lh3.googleusercontent.com/a-/AOh14GgUm411NCPxL0CyuKgBlBhJ9SxhXr8inmS25Nfq=s64",
      "userId": "03990517325461913005"
     },
     "user_tz": 360
    },
    "id": "6WjnC_7fIDKn"
   },
   "outputs": [],
   "source": [
    "dftrain = pd.read_csv('/content/gdrive/My Drive/tesis/idrid/a. IDRiD_Disease Grading_Training Labels.csv')\n",
    "dftest = pd.read_csv('/content/gdrive/My Drive/tesis/idrid/b. IDRiD_Disease Grading_Testing Labels.csv')\n",
    "x_train = np.load('/content/gdrive/My Drive/tesis/idrid/idrid224.npy')\n",
    "x_test1 = np.load('/content/gdrive/My Drive/tesis/idrid/testidrid224.npy')\n",
    "y_test1 = pd.get_dummies(dftest['Retinopathy grade']).values\n",
    "\n",
    "y_train = pd.get_dummies(dftrain['Retinopathy grade']).values\n",
    "\n",
    "train = pd.read_csv('/content/gdrive/My Drive/tesis2/exp3idrid_5-fold.csv')\n",
    "\n",
    "X_train = train[train['fold_0'] == 'train']\n",
    "X_val = train[train['fold_0'] == 'validation']\n",
    "\n",
    "x_train_i = X_train['index'].values\n",
    "x_val_i = X_val['index'].values"
   ]
  },
  {
   "cell_type": "code",
   "execution_count": 6,
   "metadata": {
    "executionInfo": {
     "elapsed": 820,
     "status": "ok",
     "timestamp": 1604710139079,
     "user": {
      "displayName": "Jorge Diego Garcia Torres",
      "photoUrl": "https://lh3.googleusercontent.com/a-/AOh14GgUm411NCPxL0CyuKgBlBhJ9SxhXr8inmS25Nfq=s64",
      "userId": "03990517325461913005"
     },
     "user_tz": 360
    },
    "id": "Ruz831THLTAq"
   },
   "outputs": [],
   "source": [
    "x_train1 = np.empty((330,224,224,3),dtype='uint8')\n",
    "x_val1 = np.empty((83,224,224,3),dtype='uint8')\n",
    "\n",
    "y_train1 =  np.empty((330,5),dtype='uint8')\n",
    "y_val1 = np.empty((83,5),dtype='uint8')\n",
    "\n",
    "for i in range(len(x_train_i)):\n",
    "  x_train1[i] = x_train[x_train_i[i]]\n",
    "  y_train1[i] = y_train[x_train_i[i]]\n",
    "\n",
    "for j in range(len(x_val_i)):\n",
    "  x_val1[j] = x_train[x_val_i[j]]\n",
    "  y_val1[j] = y_train[x_val_i[j]]"
   ]
  },
  {
   "cell_type": "code",
   "execution_count": 7,
   "metadata": {
    "colab": {
     "base_uri": "https://localhost:8080/"
    },
    "executionInfo": {
     "elapsed": 635,
     "status": "ok",
     "timestamp": 1604710155075,
     "user": {
      "displayName": "Jorge Diego Garcia Torres",
      "photoUrl": "https://lh3.googleusercontent.com/a-/AOh14GgUm411NCPxL0CyuKgBlBhJ9SxhXr8inmS25Nfq=s64",
      "userId": "03990517325461913005"
     },
     "user_tz": 360
    },
    "id": "YAVm1XJ5DdG5",
    "outputId": "4e7c9ddb-8ca9-44e0-c10e-ec793b299ed6"
   },
   "outputs": [
    {
     "name": "stdout",
     "output_type": "stream",
     "text": [
      "(330, 224, 224, 3)\n",
      "(83, 224, 224, 3)\n",
      "(330, 5)\n",
      "(83, 5)\n"
     ]
    }
   ],
   "source": [
    "print(x_train1.shape)\n",
    "print(x_val1.shape)\n",
    "print(y_train1.shape)\n",
    "print(y_val1.shape)"
   ]
  },
  {
   "cell_type": "code",
   "execution_count": 41,
   "metadata": {
    "colab": {
     "base_uri": "https://localhost:8080/"
    },
    "executionInfo": {
     "elapsed": 511,
     "status": "ok",
     "timestamp": 1604710571618,
     "user": {
      "displayName": "Jorge Diego Garcia Torres",
      "photoUrl": "https://lh3.googleusercontent.com/a-/AOh14GgUm411NCPxL0CyuKgBlBhJ9SxhXr8inmS25Nfq=s64",
      "userId": "03990517325461913005"
     },
     "user_tz": 360
    },
    "id": "N6rgcmSGM_-y",
    "outputId": "409076c4-7fc7-4af1-a51b-f5f31ea8a8ec"
   },
   "outputs": [
    {
     "data": {
      "text/plain": [
       "(103, 224, 224, 3)"
      ]
     },
     "execution_count": 41,
     "metadata": {
      "tags": []
     },
     "output_type": "execute_result"
    }
   ],
   "source": [
    "x_test1.shape"
   ]
  },
  {
   "cell_type": "code",
   "execution_count": 8,
   "metadata": {
    "executionInfo": {
     "elapsed": 826,
     "status": "ok",
     "timestamp": 1604710158612,
     "user": {
      "displayName": "Jorge Diego Garcia Torres",
      "photoUrl": "https://lh3.googleusercontent.com/a-/AOh14GgUm411NCPxL0CyuKgBlBhJ9SxhXr8inmS25Nfq=s64",
      "userId": "03990517325461913005"
     },
     "user_tz": 360
    },
    "id": "n5Wgb_dEORX8"
   },
   "outputs": [],
   "source": [
    "import json\n",
    "import math\n",
    "import os\n",
    "\n",
    "import cv2\n",
    "from PIL import Image\n",
    "import numpy as np\n",
    "from keras import layers\n",
    "from keras.applications import DenseNet121\n",
    "#from keras.callbacks import Callback, ModelCheckpoint\n",
    "from keras.preprocessing.image import ImageDataGenerator\n",
    "from keras.models import Sequential\n",
    "from keras.optimizers import Adam\n",
    "import matplotlib.pyplot as plt\n",
    "import pandas as pd\n",
    "from sklearn.model_selection import train_test_split\n",
    "from sklearn.metrics import cohen_kappa_score, accuracy_score\n",
    "import scipy\n",
    "import tensorflow as tf\n",
    "from tensorflow.keras.callbacks import Callback, ModelCheckpoint\n",
    "from tqdm import tqdm"
   ]
  },
  {
   "cell_type": "code",
   "execution_count": 9,
   "metadata": {
    "executionInfo": {
     "elapsed": 497,
     "status": "ok",
     "timestamp": 1604710216250,
     "user": {
      "displayName": "Jorge Diego Garcia Torres",
      "photoUrl": "https://lh3.googleusercontent.com/a-/AOh14GgUm411NCPxL0CyuKgBlBhJ9SxhXr8inmS25Nfq=s64",
      "userId": "03990517325461913005"
     },
     "user_tz": 360
    },
    "id": "tT-lbmWbmPlt"
   },
   "outputs": [],
   "source": [
    "weights_path_list = ['/content/gdrive/My Drive/tesismodelos/exp3idridfinalefffold0.h5', '/content/gdrive/My Drive/tesismodelos/exp3idridfinalefffold1.h5',\n",
    "                     '/content/gdrive/My Drive/tesismodelos/exp3idridfinalefffold2.h5', '/content/gdrive/My Drive/tesismodelos/exp3idridfinalefffold3.h5',\n",
    "                     '/content/gdrive/My Drive/tesismodelos/exp3idridfinalefffold4.h5']"
   ]
  },
  {
   "cell_type": "code",
   "execution_count": 10,
   "metadata": {
    "executionInfo": {
     "elapsed": 792,
     "status": "ok",
     "timestamp": 1604710219031,
     "user": {
      "displayName": "Jorge Diego Garcia Torres",
      "photoUrl": "https://lh3.googleusercontent.com/a-/AOh14GgUm411NCPxL0CyuKgBlBhJ9SxhXr8inmS25Nfq=s64",
      "userId": "03990517325461913005"
     },
     "user_tz": 360
    },
    "id": "pDeufGe2nEEe"
   },
   "outputs": [],
   "source": [
    "def ensemble_preds(model_list, generator):\n",
    "    preds_ensemble = []\n",
    "    for model in model_list:\n",
    "        generator.reset()\n",
    "        preds = model.predict(generator, verbose = 1)\n",
    "        preds_ensemble.append(preds)\n",
    "        generator.reset()\n",
    "\n",
    "    return np.mean(preds_ensemble, axis=0)\n",
    "\n",
    "\n",
    "def apply_tta(model, generator, steps=5):\n",
    "    step_size = generator.n//generator.batch_size\n",
    "    preds_tta = []\n",
    "    for i in range(steps):\n",
    "        generator.reset()\n",
    "        preds = model.predict_generator(generator, steps=step_size)\n",
    "        preds_tta.append(preds)\n",
    "\n",
    "    return np.mean(preds_tta, axis=0)\n",
    "\n",
    "def test_ensemble_preds(model_list, generator, steps=5):\n",
    "    preds_ensemble = []\n",
    "    for model in model_list:\n",
    "        preds = apply_tta(model, generator, steps)\n",
    "        preds_ensemble.append(preds)\n",
    "\n",
    "    return np.mean(preds_ensemble, axis=0)\n"
   ]
  },
  {
   "cell_type": "code",
   "execution_count": 11,
   "metadata": {
    "executionInfo": {
     "elapsed": 496,
     "status": "ok",
     "timestamp": 1604710226535,
     "user": {
      "displayName": "Jorge Diego Garcia Torres",
      "photoUrl": "https://lh3.googleusercontent.com/a-/AOh14GgUm411NCPxL0CyuKgBlBhJ9SxhXr8inmS25Nfq=s64",
      "userId": "03990517325461913005"
     },
     "user_tz": 360
    },
    "id": "KK_B18zRNW6F"
   },
   "outputs": [],
   "source": [
    "BATCH_SIZE = 8\n",
    "\n",
    "train_datagen = ImageDataGenerator(rescale=1./ 255.,\n",
    "                                   rotation_range=360,                               \n",
    "                                   #shear_range=0.01,\n",
    "                                   zoom_range=[0.9, 1.25],\n",
    "                                   horizontal_flip=True,\n",
    "                                   vertical_flip=True)\n",
    "\n",
    "val_datagen = ImageDataGenerator(rescale=1./ 255.,\n",
    "                                   rotation_range=360,                               \n",
    "                                   #shear_range=0.01,\n",
    "                                   zoom_range=[0.9, 1.25],\n",
    "                                   horizontal_flip=True,\n",
    "                                   vertical_flip=True)\n",
    "\n",
    "test_datagen = ImageDataGenerator(rescale=1./ 255.,\n",
    "                                   rotation_range=360,                               \n",
    "                                   #shear_range=0.01,\n",
    "                                   zoom_range=[0.9, 1.25],\n",
    "                                   horizontal_flip=True,\n",
    "                                   vertical_flip=True)\n"
   ]
  },
  {
   "cell_type": "code",
   "execution_count": 12,
   "metadata": {
    "executionInfo": {
     "elapsed": 781,
     "status": "ok",
     "timestamp": 1604710231382,
     "user": {
      "displayName": "Jorge Diego Garcia Torres",
      "photoUrl": "https://lh3.googleusercontent.com/a-/AOh14GgUm411NCPxL0CyuKgBlBhJ9SxhXr8inmS25Nfq=s64",
      "userId": "03990517325461913005"
     },
     "user_tz": 360
    },
    "id": "Pv5iiJANOY5v"
   },
   "outputs": [],
   "source": [
    "data_generator = train_datagen.flow(x_train1, y_train1, batch_size=1, seed=2020)\n",
    "vdata_gen =  val_datagen.flow(x_val1, y_val1, batch_size=1, seed=2020)\n",
    "tdata_gen =  test_datagen.flow(x_test1, y_test1, batch_size=1, seed=2020)"
   ]
  },
  {
   "cell_type": "code",
   "execution_count": 13,
   "metadata": {
    "executionInfo": {
     "elapsed": 756,
     "status": "ok",
     "timestamp": 1604710233471,
     "user": {
      "displayName": "Jorge Diego Garcia Torres",
      "photoUrl": "https://lh3.googleusercontent.com/a-/AOh14GgUm411NCPxL0CyuKgBlBhJ9SxhXr8inmS25Nfq=s64",
      "userId": "03990517325461913005"
     },
     "user_tz": 360
    },
    "id": "ehbBXbE1RYqk"
   },
   "outputs": [],
   "source": [
    "from tensorflow import keras\n",
    "from tensorflow.keras.layers import Dense, Dropout, Flatten, Conv2D, MaxPooling2D, BatchNormalization, Activation\n",
    "from keras.callbacks import Callback, EarlyStopping, ReduceLROnPlateau\n",
    "from keras.layers import Input,GlobalAveragePooling2D,Dropout,Dense,Activation\n",
    "from keras import applications\n",
    "from keras import optimizers,Model,Sequential"
   ]
  },
  {
   "cell_type": "code",
   "execution_count": 14,
   "metadata": {
    "colab": {
     "base_uri": "https://localhost:8080/"
    },
    "executionInfo": {
     "elapsed": 4955,
     "status": "ok",
     "timestamp": 1604710240607,
     "user": {
      "displayName": "Jorge Diego Garcia Torres",
      "photoUrl": "https://lh3.googleusercontent.com/a-/AOh14GgUm411NCPxL0CyuKgBlBhJ9SxhXr8inmS25Nfq=s64",
      "userId": "03990517325461913005"
     },
     "user_tz": 360
    },
    "id": "gR9R0QnPNeJO",
    "outputId": "2f5a482d-1bec-48c4-a416-83606fb984e6"
   },
   "outputs": [
    {
     "name": "stdout",
     "output_type": "stream",
     "text": [
      "Collecting efficientnet\n",
      "  Downloading https://files.pythonhosted.org/packages/53/97/84f88e581d6ac86dcf1ab347c497c4c568c38784e3a2bd659b96912ab793/efficientnet-1.1.1-py3-none-any.whl\n",
      "Requirement already satisfied, skipping upgrade: scikit-image in /usr/local/lib/python3.6/dist-packages (from efficientnet) (0.16.2)\n",
      "Collecting keras-applications<=1.0.8,>=1.0.7\n",
      "\u001b[?25l  Downloading https://files.pythonhosted.org/packages/71/e3/19762fdfc62877ae9102edf6342d71b28fbfd9dea3d2f96a882ce099b03f/Keras_Applications-1.0.8-py3-none-any.whl (50kB)\n",
      "\u001b[K     |████████████████████████████████| 51kB 4.7MB/s \n",
      "\u001b[?25hRequirement already satisfied, skipping upgrade: networkx>=2.0 in /usr/local/lib/python3.6/dist-packages (from scikit-image->efficientnet) (2.5)\n",
      "Requirement already satisfied, skipping upgrade: pillow>=4.3.0 in /usr/local/lib/python3.6/dist-packages (from scikit-image->efficientnet) (7.0.0)\n",
      "Requirement already satisfied, skipping upgrade: scipy>=0.19.0 in /usr/local/lib/python3.6/dist-packages (from scikit-image->efficientnet) (1.4.1)\n",
      "Requirement already satisfied, skipping upgrade: PyWavelets>=0.4.0 in /usr/local/lib/python3.6/dist-packages (from scikit-image->efficientnet) (1.1.1)\n",
      "Requirement already satisfied, skipping upgrade: matplotlib!=3.0.0,>=2.0.0 in /usr/local/lib/python3.6/dist-packages (from scikit-image->efficientnet) (3.2.2)\n",
      "Requirement already satisfied, skipping upgrade: imageio>=2.3.0 in /usr/local/lib/python3.6/dist-packages (from scikit-image->efficientnet) (2.4.1)\n",
      "Requirement already satisfied, skipping upgrade: h5py in /usr/local/lib/python3.6/dist-packages (from keras-applications<=1.0.8,>=1.0.7->efficientnet) (2.10.0)\n",
      "Requirement already satisfied, skipping upgrade: numpy>=1.9.1 in /usr/local/lib/python3.6/dist-packages (from keras-applications<=1.0.8,>=1.0.7->efficientnet) (1.18.5)\n",
      "Requirement already satisfied, skipping upgrade: decorator>=4.3.0 in /usr/local/lib/python3.6/dist-packages (from networkx>=2.0->scikit-image->efficientnet) (4.4.2)\n",
      "Requirement already satisfied, skipping upgrade: python-dateutil>=2.1 in /usr/local/lib/python3.6/dist-packages (from matplotlib!=3.0.0,>=2.0.0->scikit-image->efficientnet) (2.8.1)\n",
      "Requirement already satisfied, skipping upgrade: pyparsing!=2.0.4,!=2.1.2,!=2.1.6,>=2.0.1 in /usr/local/lib/python3.6/dist-packages (from matplotlib!=3.0.0,>=2.0.0->scikit-image->efficientnet) (2.4.7)\n",
      "Requirement already satisfied, skipping upgrade: kiwisolver>=1.0.1 in /usr/local/lib/python3.6/dist-packages (from matplotlib!=3.0.0,>=2.0.0->scikit-image->efficientnet) (1.3.1)\n",
      "Requirement already satisfied, skipping upgrade: cycler>=0.10 in /usr/local/lib/python3.6/dist-packages (from matplotlib!=3.0.0,>=2.0.0->scikit-image->efficientnet) (0.10.0)\n",
      "Requirement already satisfied, skipping upgrade: six in /usr/local/lib/python3.6/dist-packages (from h5py->keras-applications<=1.0.8,>=1.0.7->efficientnet) (1.15.0)\n",
      "Installing collected packages: keras-applications, efficientnet\n",
      "Successfully installed efficientnet-1.1.1 keras-applications-1.0.8\n"
     ]
    }
   ],
   "source": [
    "pip install -U efficientnet"
   ]
  },
  {
   "cell_type": "code",
   "execution_count": 15,
   "metadata": {
    "executionInfo": {
     "elapsed": 916,
     "status": "ok",
     "timestamp": 1604710243187,
     "user": {
      "displayName": "Jorge Diego Garcia Torres",
      "photoUrl": "https://lh3.googleusercontent.com/a-/AOh14GgUm411NCPxL0CyuKgBlBhJ9SxhXr8inmS25Nfq=s64",
      "userId": "03990517325461913005"
     },
     "user_tz": 360
    },
    "id": "Kx68eODUNzUT"
   },
   "outputs": [],
   "source": [
    "import efficientnet.keras as efn "
   ]
  },
  {
   "cell_type": "code",
   "execution_count": 16,
   "metadata": {
    "executionInfo": {
     "elapsed": 359,
     "status": "ok",
     "timestamp": 1604710244581,
     "user": {
      "displayName": "Jorge Diego Garcia Torres",
      "photoUrl": "https://lh3.googleusercontent.com/a-/AOh14GgUm411NCPxL0CyuKgBlBhJ9SxhXr8inmS25Nfq=s64",
      "userId": "03990517325461913005"
     },
     "user_tz": 360
    },
    "id": "BHSXrbvxRZ6g"
   },
   "outputs": [],
   "source": [
    "def create_model(input_shape, n_out, weights_path):\n",
    "    input_tensor = Input(shape=input_shape)\n",
    "    base_model = efn.EfficientNetB5(weights=None,include_top=False,input_tensor=input_tensor)\n",
    "    #base_model = applications.ResNet50(weights='imagenet', include_top=False,input_tensor=input_tensor)\n",
    "    #base_model.load_weights('resnet50_weights_tf_dim_ordering_tf_kernels_notop.h5')\n",
    "\n",
    "    x = GlobalAveragePooling2D()(base_model.output)\n",
    "    x = Dropout(0.5)(x)\n",
    "    x = Dense(2048, activation='relu')(x)\n",
    "    x = Dropout(0.5)(x)\n",
    "    final_output = Dense(n_out, activation='softmax', name='final_output')(x)\n",
    "    model = Model(input_tensor, final_output)\n",
    "\n",
    "    model.load_weights(weights_path)\n",
    "    return model"
   ]
  },
  {
   "cell_type": "code",
   "execution_count": 17,
   "metadata": {
    "executionInfo": {
     "elapsed": 65455,
     "status": "ok",
     "timestamp": 1604710313722,
     "user": {
      "displayName": "Jorge Diego Garcia Torres",
      "photoUrl": "https://lh3.googleusercontent.com/a-/AOh14GgUm411NCPxL0CyuKgBlBhJ9SxhXr8inmS25Nfq=s64",
      "userId": "03990517325461913005"
     },
     "user_tz": 360
    },
    "id": "L8JLAQxqoNSl"
   },
   "outputs": [],
   "source": [
    "model_list = []\n",
    "\n",
    "for weights_path in weights_path_list:\n",
    "  model_list.append(create_model(input_shape=(224, 224, 3), n_out=5, weights_path= weights_path))"
   ]
  },
  {
   "cell_type": "code",
   "execution_count": 18,
   "metadata": {
    "executionInfo": {
     "elapsed": 2225,
     "status": "ok",
     "timestamp": 1604710333834,
     "user": {
      "displayName": "Jorge Diego Garcia Torres",
      "photoUrl": "https://lh3.googleusercontent.com/a-/AOh14GgUm411NCPxL0CyuKgBlBhJ9SxhXr8inmS25Nfq=s64",
      "userId": "03990517325461913005"
     },
     "user_tz": 360
    },
    "id": "x2L3jurvTI9X"
   },
   "outputs": [],
   "source": [
    "vdata_gen.reset()\n",
    "\n",
    "x_vdata = np.zeros((83,224, 224, 3))\n",
    "y_val2 = np.array([[0,0,0,0,0]])\n",
    "\n",
    "for i in range(83):\n",
    "  y_val2 =np.append(y_val2, vdata_gen[i][1], axis=0)\n",
    "  x_vdata[i]= vdata_gen[i][0]\n",
    "\n",
    "y_val2 = np.delete(y_val2,0, axis=0)\n",
    "\n",
    "vdata_gen.reset()"
   ]
  },
  {
   "cell_type": "code",
   "execution_count": null,
   "metadata": {
    "id": "V-MYEsUsUTUI"
   },
   "outputs": [],
   "source": [
    "val_gen1 = [np.argmax(pred) for pred in y_val2]\n",
    "val_gen1"
   ]
  },
  {
   "cell_type": "code",
   "execution_count": 20,
   "metadata": {
    "executionInfo": {
     "elapsed": 534,
     "status": "ok",
     "timestamp": 1604710340185,
     "user": {
      "displayName": "Jorge Diego Garcia Torres",
      "photoUrl": "https://lh3.googleusercontent.com/a-/AOh14GgUm411NCPxL0CyuKgBlBhJ9SxhXr8inmS25Nfq=s64",
      "userId": "03990517325461913005"
     },
     "user_tz": 360
    },
    "id": "yucQOcQqjyjG"
   },
   "outputs": [],
   "source": [
    "preds_ensemble = []"
   ]
  },
  {
   "cell_type": "code",
   "execution_count": 34,
   "metadata": {
    "colab": {
     "base_uri": "https://localhost:8080/"
    },
    "executionInfo": {
     "elapsed": 993,
     "status": "ok",
     "timestamp": 1604710463648,
     "user": {
      "displayName": "Jorge Diego Garcia Torres",
      "photoUrl": "https://lh3.googleusercontent.com/a-/AOh14GgUm411NCPxL0CyuKgBlBhJ9SxhXr8inmS25Nfq=s64",
      "userId": "03990517325461913005"
     },
     "user_tz": 360
    },
    "id": "AxjhF0JsMiem",
    "outputId": "a1102834-2a2e-485d-d743-d67bb8b0207b"
   },
   "outputs": [
    {
     "data": {
      "text/plain": [
       "(83, 224, 224, 3)"
      ]
     },
     "execution_count": 34,
     "metadata": {
      "tags": []
     },
     "output_type": "execute_result"
    }
   ],
   "source": [
    "x_vdata.shape"
   ]
  },
  {
   "cell_type": "code",
   "execution_count": 21,
   "metadata": {
    "colab": {
     "base_uri": "https://localhost:8080/"
    },
    "executionInfo": {
     "elapsed": 12144,
     "status": "ok",
     "timestamp": 1604710353674,
     "user": {
      "displayName": "Jorge Diego Garcia Torres",
      "photoUrl": "https://lh3.googleusercontent.com/a-/AOh14GgUm411NCPxL0CyuKgBlBhJ9SxhXr8inmS25Nfq=s64",
      "userId": "03990517325461913005"
     },
     "user_tz": 360
    },
    "id": "N9Ut3Qlqag3i",
    "outputId": "886e5b8d-2c83-4e04-b2e9-c5ea77bf5842"
   },
   "outputs": [
    {
     "name": "stdout",
     "output_type": "stream",
     "text": [
      "1/3 [=========>....................] - ETA: 0sWARNING:tensorflow:Callbacks method `on_predict_batch_end` is slow compared to the batch time (batch time: 0.0203s vs `on_predict_batch_end` time: 0.0505s). Check your callbacks.\n",
      "3/3 [==============================] - 0s 106ms/step\n"
     ]
    }
   ],
   "source": [
    "val_preds_model1 = model_list[0].predict(x_vdata, verbose = 1)\n",
    "preds_ensemble.append(val_preds_model1)\n",
    "val_preds_model1 = [np.argmax(pred) for pred in val_preds_model1]\n"
   ]
  },
  {
   "cell_type": "code",
   "execution_count": 22,
   "metadata": {
    "colab": {
     "base_uri": "https://localhost:8080/"
    },
    "executionInfo": {
     "elapsed": 803,
     "status": "ok",
     "timestamp": 1604710377518,
     "user": {
      "displayName": "Jorge Diego Garcia Torres",
      "photoUrl": "https://lh3.googleusercontent.com/a-/AOh14GgUm411NCPxL0CyuKgBlBhJ9SxhXr8inmS25Nfq=s64",
      "userId": "03990517325461913005"
     },
     "user_tz": 360
    },
    "id": "U1XKkTkUbrXA",
    "outputId": "cf832cae-36b3-4182-bd78-d65e2cee4530"
   },
   "outputs": [
    {
     "name": "stdout",
     "output_type": "stream",
     "text": [
      "Val Cohen Kappa score: 0.879\n"
     ]
    }
   ],
   "source": [
    "print(\"Val Cohen Kappa score: %.3f\" % cohen_kappa_score(val_preds_model1, val_gen1, weights='quadratic'))"
   ]
  },
  {
   "cell_type": "code",
   "execution_count": 23,
   "metadata": {
    "colab": {
     "base_uri": "https://localhost:8080/"
    },
    "executionInfo": {
     "elapsed": 3638,
     "status": "ok",
     "timestamp": 1604710385819,
     "user": {
      "displayName": "Jorge Diego Garcia Torres",
      "photoUrl": "https://lh3.googleusercontent.com/a-/AOh14GgUm411NCPxL0CyuKgBlBhJ9SxhXr8inmS25Nfq=s64",
      "userId": "03990517325461913005"
     },
     "user_tz": 360
    },
    "id": "iUYePlv-c_sd",
    "outputId": "aea3ab74-d6a3-4aad-ebf7-11033cd9e6af"
   },
   "outputs": [
    {
     "name": "stdout",
     "output_type": "stream",
     "text": [
      "2/3 [===================>..........] - ETA: 0sWARNING:tensorflow:Callbacks method `on_predict_batch_end` is slow compared to the batch time (batch time: 0.0185s vs `on_predict_batch_end` time: 0.0531s). Check your callbacks.\n",
      "3/3 [==============================] - 0s 56ms/step\n"
     ]
    }
   ],
   "source": [
    "val_preds_model2 = model_list[1].predict(x_vdata, verbose = 1)\n",
    "preds_ensemble.append(val_preds_model2)\n",
    "val_preds_model2 = [np.argmax(pred) for pred in val_preds_model2]"
   ]
  },
  {
   "cell_type": "code",
   "execution_count": 24,
   "metadata": {
    "colab": {
     "base_uri": "https://localhost:8080/"
    },
    "executionInfo": {
     "elapsed": 665,
     "status": "ok",
     "timestamp": 1604710388885,
     "user": {
      "displayName": "Jorge Diego Garcia Torres",
      "photoUrl": "https://lh3.googleusercontent.com/a-/AOh14GgUm411NCPxL0CyuKgBlBhJ9SxhXr8inmS25Nfq=s64",
      "userId": "03990517325461913005"
     },
     "user_tz": 360
    },
    "id": "Cr0VSySjdDKV",
    "outputId": "3e3cd50d-4b5d-44bf-c216-227deca09c7b"
   },
   "outputs": [
    {
     "name": "stdout",
     "output_type": "stream",
     "text": [
      "Val Cohen Kappa score: 0.865\n"
     ]
    }
   ],
   "source": [
    "print(\"Val Cohen Kappa score: %.3f\" % cohen_kappa_score(val_preds_model2, val_gen1, weights='quadratic'))"
   ]
  },
  {
   "cell_type": "code",
   "execution_count": 25,
   "metadata": {
    "colab": {
     "base_uri": "https://localhost:8080/"
    },
    "executionInfo": {
     "elapsed": 3408,
     "status": "ok",
     "timestamp": 1604710395303,
     "user": {
      "displayName": "Jorge Diego Garcia Torres",
      "photoUrl": "https://lh3.googleusercontent.com/a-/AOh14GgUm411NCPxL0CyuKgBlBhJ9SxhXr8inmS25Nfq=s64",
      "userId": "03990517325461913005"
     },
     "user_tz": 360
    },
    "id": "YApWo_19iwD9",
    "outputId": "d4d15927-81fb-4750-c3ba-3bbd44ee2de1"
   },
   "outputs": [
    {
     "name": "stdout",
     "output_type": "stream",
     "text": [
      "2/3 [===================>..........] - ETA: 0sWARNING:tensorflow:Callbacks method `on_predict_batch_end` is slow compared to the batch time (batch time: 0.0196s vs `on_predict_batch_end` time: 0.0501s). Check your callbacks.\n",
      "3/3 [==============================] - 0s 56ms/step\n"
     ]
    }
   ],
   "source": [
    "val_preds_model3 = model_list[2].predict(x_vdata, verbose = 1)\n",
    "preds_ensemble.append(val_preds_model3)\n",
    "val_preds_model3 = [np.argmax(pred) for pred in val_preds_model3]"
   ]
  },
  {
   "cell_type": "code",
   "execution_count": 26,
   "metadata": {
    "colab": {
     "base_uri": "https://localhost:8080/"
    },
    "executionInfo": {
     "elapsed": 811,
     "status": "ok",
     "timestamp": 1604710402973,
     "user": {
      "displayName": "Jorge Diego Garcia Torres",
      "photoUrl": "https://lh3.googleusercontent.com/a-/AOh14GgUm411NCPxL0CyuKgBlBhJ9SxhXr8inmS25Nfq=s64",
      "userId": "03990517325461913005"
     },
     "user_tz": 360
    },
    "id": "RVRfcfVVi7C4",
    "outputId": "e809f001-2ea1-4665-f079-049a636c404f"
   },
   "outputs": [
    {
     "name": "stdout",
     "output_type": "stream",
     "text": [
      "Val Cohen Kappa score: 0.924\n"
     ]
    }
   ],
   "source": [
    "print(\"Val Cohen Kappa score: %.3f\" % cohen_kappa_score(val_preds_model3, val_gen1, weights='quadratic'))"
   ]
  },
  {
   "cell_type": "code",
   "execution_count": 27,
   "metadata": {
    "colab": {
     "base_uri": "https://localhost:8080/"
    },
    "executionInfo": {
     "elapsed": 3400,
     "status": "ok",
     "timestamp": 1604710407857,
     "user": {
      "displayName": "Jorge Diego Garcia Torres",
      "photoUrl": "https://lh3.googleusercontent.com/a-/AOh14GgUm411NCPxL0CyuKgBlBhJ9SxhXr8inmS25Nfq=s64",
      "userId": "03990517325461913005"
     },
     "user_tz": 360
    },
    "id": "k5v7NGwgjKb0",
    "outputId": "ca9ddb5b-2edf-42db-bd12-a1c60d51bf18"
   },
   "outputs": [
    {
     "name": "stdout",
     "output_type": "stream",
     "text": [
      "2/3 [===================>..........] - ETA: 0sWARNING:tensorflow:Callbacks method `on_predict_batch_end` is slow compared to the batch time (batch time: 0.0227s vs `on_predict_batch_end` time: 0.0496s). Check your callbacks.\n",
      "3/3 [==============================] - 0s 57ms/step\n"
     ]
    }
   ],
   "source": [
    "val_preds_model4 = model_list[3].predict(x_vdata, verbose = 1)\n",
    "preds_ensemble.append(val_preds_model4)\n",
    "val_preds_model4 = [np.argmax(pred) for pred in val_preds_model4]"
   ]
  },
  {
   "cell_type": "code",
   "execution_count": 28,
   "metadata": {
    "colab": {
     "base_uri": "https://localhost:8080/"
    },
    "executionInfo": {
     "elapsed": 769,
     "status": "ok",
     "timestamp": 1604710411436,
     "user": {
      "displayName": "Jorge Diego Garcia Torres",
      "photoUrl": "https://lh3.googleusercontent.com/a-/AOh14GgUm411NCPxL0CyuKgBlBhJ9SxhXr8inmS25Nfq=s64",
      "userId": "03990517325461913005"
     },
     "user_tz": 360
    },
    "id": "QkZ8UOivjQgH",
    "outputId": "d12f50f6-f588-4508-d222-c06d743ef42a"
   },
   "outputs": [
    {
     "name": "stdout",
     "output_type": "stream",
     "text": [
      "Val Cohen Kappa score: 0.975\n"
     ]
    }
   ],
   "source": [
    "print(\"Val Cohen Kappa score: %.3f\" % cohen_kappa_score(val_preds_model4, val_gen1, weights='quadratic'))"
   ]
  },
  {
   "cell_type": "code",
   "execution_count": 29,
   "metadata": {
    "colab": {
     "base_uri": "https://localhost:8080/"
    },
    "executionInfo": {
     "elapsed": 3681,
     "status": "ok",
     "timestamp": 1604710418268,
     "user": {
      "displayName": "Jorge Diego Garcia Torres",
      "photoUrl": "https://lh3.googleusercontent.com/a-/AOh14GgUm411NCPxL0CyuKgBlBhJ9SxhXr8inmS25Nfq=s64",
      "userId": "03990517325461913005"
     },
     "user_tz": 360
    },
    "id": "NgAhi4WAjZ8R",
    "outputId": "64f4ab0f-7742-4d8a-ff85-76a04b399dbd"
   },
   "outputs": [
    {
     "name": "stdout",
     "output_type": "stream",
     "text": [
      "WARNING:tensorflow:5 out of the last 13 calls to <function Model.make_predict_function.<locals>.predict_function at 0x7f5aaa238ea0> triggered tf.function retracing. Tracing is expensive and the excessive number of tracings could be due to (1) creating @tf.function repeatedly in a loop, (2) passing tensors with different shapes, (3) passing Python objects instead of tensors. For (1), please define your @tf.function outside of the loop. For (2), @tf.function has experimental_relax_shapes=True option that relaxes argument shapes that can avoid unnecessary retracing. For (3), please refer to https://www.tensorflow.org/tutorials/customization/performance#python_or_tensor_args and https://www.tensorflow.org/api_docs/python/tf/function for  more details.\n",
      "2/3 [===================>..........] - ETA: 0sWARNING:tensorflow:Callbacks method `on_predict_batch_end` is slow compared to the batch time (batch time: 0.0183s vs `on_predict_batch_end` time: 0.0500s). Check your callbacks.\n",
      "3/3 [==============================] - 0s 55ms/step\n"
     ]
    }
   ],
   "source": [
    "val_preds_model5 = model_list[4].predict(x_vdata, verbose = 1)\n",
    "preds_ensemble.append(val_preds_model5)\n",
    "val_preds_model5 = [np.argmax(pred) for pred in val_preds_model5]"
   ]
  },
  {
   "cell_type": "code",
   "execution_count": 30,
   "metadata": {
    "colab": {
     "base_uri": "https://localhost:8080/"
    },
    "executionInfo": {
     "elapsed": 618,
     "status": "ok",
     "timestamp": 1604710425640,
     "user": {
      "displayName": "Jorge Diego Garcia Torres",
      "photoUrl": "https://lh3.googleusercontent.com/a-/AOh14GgUm411NCPxL0CyuKgBlBhJ9SxhXr8inmS25Nfq=s64",
      "userId": "03990517325461913005"
     },
     "user_tz": 360
    },
    "id": "5s0AvKGXje1M",
    "outputId": "d4ff58b9-a256-4b7a-99c7-ee87d1d1d526"
   },
   "outputs": [
    {
     "name": "stdout",
     "output_type": "stream",
     "text": [
      "Val Cohen Kappa score: 0.932\n"
     ]
    }
   ],
   "source": [
    "print(\"Val Cohen Kappa score: %.3f\" % cohen_kappa_score(val_preds_model5, val_gen1, weights='quadratic'))"
   ]
  },
  {
   "cell_type": "code",
   "execution_count": 31,
   "metadata": {
    "executionInfo": {
     "elapsed": 503,
     "status": "ok",
     "timestamp": 1604710428727,
     "user": {
      "displayName": "Jorge Diego Garcia Torres",
      "photoUrl": "https://lh3.googleusercontent.com/a-/AOh14GgUm411NCPxL0CyuKgBlBhJ9SxhXr8inmS25Nfq=s64",
      "userId": "03990517325461913005"
     },
     "user_tz": 360
    },
    "id": "frAs7R57kWq4"
   },
   "outputs": [],
   "source": [
    "preds_ensemble =  np.mean(preds_ensemble, axis=0)\n",
    "preds_ensemble = [np.argmax(pred) for pred in preds_ensemble]"
   ]
  },
  {
   "cell_type": "code",
   "execution_count": 32,
   "metadata": {
    "colab": {
     "base_uri": "https://localhost:8080/"
    },
    "executionInfo": {
     "elapsed": 753,
     "status": "ok",
     "timestamp": 1604710430786,
     "user": {
      "displayName": "Jorge Diego Garcia Torres",
      "photoUrl": "https://lh3.googleusercontent.com/a-/AOh14GgUm411NCPxL0CyuKgBlBhJ9SxhXr8inmS25Nfq=s64",
      "userId": "03990517325461913005"
     },
     "user_tz": 360
    },
    "id": "CHEJGAwjkzpK",
    "outputId": "61770627-af10-40fa-df29-e1b453227b29"
   },
   "outputs": [
    {
     "name": "stdout",
     "output_type": "stream",
     "text": [
      "Val Cohen Kappa score: 0.953\n"
     ]
    }
   ],
   "source": [
    "print(\"Val Cohen Kappa score: %.3f\" % cohen_kappa_score(preds_ensemble, val_gen1, weights='quadratic'))"
   ]
  },
  {
   "cell_type": "code",
   "execution_count": 35,
   "metadata": {
    "executionInfo": {
     "elapsed": 919,
     "status": "ok",
     "timestamp": 1604710516298,
     "user": {
      "displayName": "Jorge Diego Garcia Torres",
      "photoUrl": "https://lh3.googleusercontent.com/a-/AOh14GgUm411NCPxL0CyuKgBlBhJ9SxhXr8inmS25Nfq=s64",
      "userId": "03990517325461913005"
     },
     "user_tz": 360
    },
    "id": "hz9YqSB_NXRl"
   },
   "outputs": [],
   "source": [
    "def plot_conf_matrix(true,pred,classes):\n",
    "    cf = confusion_matrix(true, pred)\n",
    "    \n",
    "    df_cm = pd.DataFrame(cf, range(len(classes)), range(len(classes)))\n",
    "    plt.figure(figsize=(8,5.5))\n",
    "    sns.set(font_scale=1.4)\n",
    "    sns.heatmap(df_cm, annot=True, annot_kws={\"size\": 16},xticklabels = classes ,yticklabels = classes,fmt='g')\n",
    "    #sns.heatmap(df_cm, annot=True, annot_kws={\"size\": 16})\n",
    "    plt.show()"
   ]
  },
  {
   "cell_type": "code",
   "execution_count": 36,
   "metadata": {
    "executionInfo": {
     "elapsed": 928,
     "status": "ok",
     "timestamp": 1604710518596,
     "user": {
      "displayName": "Jorge Diego Garcia Torres",
      "photoUrl": "https://lh3.googleusercontent.com/a-/AOh14GgUm411NCPxL0CyuKgBlBhJ9SxhXr8inmS25Nfq=s64",
      "userId": "03990517325461913005"
     },
     "user_tz": 360
    },
    "id": "ziKEz1GoNgSA"
   },
   "outputs": [],
   "source": [
    "import seaborn as sns"
   ]
  },
  {
   "cell_type": "code",
   "execution_count": 37,
   "metadata": {
    "colab": {
     "base_uri": "https://localhost:8080/",
     "height": 484
    },
    "executionInfo": {
     "elapsed": 788,
     "status": "ok",
     "timestamp": 1604710520460,
     "user": {
      "displayName": "Jorge Diego Garcia Torres",
      "photoUrl": "https://lh3.googleusercontent.com/a-/AOh14GgUm411NCPxL0CyuKgBlBhJ9SxhXr8inmS25Nfq=s64",
      "userId": "03990517325461913005"
     },
     "user_tz": 360
    },
    "id": "ENjbYSDKNkJG",
    "outputId": "b416cb2e-d47b-4147-8496-494ef1c702d1"
   },
   "outputs": [
    {
     "data": {
      "image/png": "[encoded data removed]",
      "text/plain": [
       "<Figure size 576x396 with 2 Axes>"
      ]
     },
     "metadata": {
      "needs_background": "light",
      "tags": []
     },
     "output_type": "display_data"
    }
   ],
   "source": [
    "labels = ['0 - No DR', '1 - Leve', '2 - Moderada', '3 - Severa', '4 - Proliferativa DR']\n",
    "plot_conf_matrix(val_gen1,preds_ensemble,labels)"
   ]
  },
  {
   "cell_type": "code",
   "execution_count": 38,
   "metadata": {
    "colab": {
     "base_uri": "https://localhost:8080/",
     "height": 370
    },
    "executionInfo": {
     "elapsed": 1013,
     "status": "ok",
     "timestamp": 1604710529027,
     "user": {
      "displayName": "Jorge Diego Garcia Torres",
      "photoUrl": "https://lh3.googleusercontent.com/a-/AOh14GgUm411NCPxL0CyuKgBlBhJ9SxhXr8inmS25Nfq=s64",
      "userId": "03990517325461913005"
     },
     "user_tz": 360
    },
    "id": "ORCgXzuWN0Zb",
    "outputId": "52619b4c-aef6-4e15-b017-541a3ff4c47b"
   },
   "outputs": [
    {
     "data": {
      "image/png": "[encoded data removed]",
      "text/plain": [
       "<Figure size 1152x504 with 2 Axes>"
      ]
     },
     "metadata": {
      "tags": []
     },
     "output_type": "display_data"
    }
   ],
   "source": [
    "cnf_matrix = confusion_matrix(val_gen1, preds_ensemble)\n",
    "cnf_matrix_norm = cnf_matrix.astype('float') / cnf_matrix.sum(axis=1)[:, np.newaxis]\n",
    "df_cm = pd.DataFrame(cnf_matrix_norm, index=labels, columns=labels)\n",
    "plt.figure(figsize=(16, 7))\n",
    "sns.heatmap(df_cm, annot=True, fmt='.2f', cmap=\"Blues\")\n",
    "plt.show()"
   ]
  },
  {
   "cell_type": "code",
   "execution_count": 39,
   "metadata": {
    "executionInfo": {
     "elapsed": 797,
     "status": "ok",
     "timestamp": 1604710534077,
     "user": {
      "displayName": "Jorge Diego Garcia Torres",
      "photoUrl": "https://lh3.googleusercontent.com/a-/AOh14GgUm411NCPxL0CyuKgBlBhJ9SxhXr8inmS25Nfq=s64",
      "userId": "03990517325461913005"
     },
     "user_tz": 360
    },
    "id": "nWOm7mqDOLkm"
   },
   "outputs": [],
   "source": [
    "from sklearn.metrics import f1_score, recall_score, precision_score, classification_report"
   ]
  },
  {
   "cell_type": "code",
   "execution_count": 40,
   "metadata": {
    "colab": {
     "base_uri": "https://localhost:8080/"
    },
    "executionInfo": {
     "elapsed": 826,
     "status": "ok",
     "timestamp": 1604710535926,
     "user": {
      "displayName": "Jorge Diego Garcia Torres",
      "photoUrl": "https://lh3.googleusercontent.com/a-/AOh14GgUm411NCPxL0CyuKgBlBhJ9SxhXr8inmS25Nfq=s64",
      "userId": "03990517325461913005"
     },
     "user_tz": 360
    },
    "id": "oCwLG7kXOOxY",
    "outputId": "f76a0e5a-91a2-4fb0-a5f5-a80c1c163996"
   },
   "outputs": [
    {
     "name": "stdout",
     "output_type": "stream",
     "text": [
      "Val Cohen Kappa score: 0.953\n",
      "Val Accuracy score : 0.843\n",
      "F1 score: 0.843\n",
      "F1 score: 0.814\n",
      "F1 score: 0.659\n",
      "Recall: 0.843\n",
      "Recall: 0.843\n",
      "Recall: 0.679\n",
      "Precision: 0.843\n",
      "Precision: 0.809\n",
      "Precision: 0.664\n",
      "\n",
      " clasification report:\n",
      "                precision    recall  f1-score   support\n",
      "\n",
      "           0       0.87      1.00      0.93        27\n",
      "           1       0.00      0.00      0.00         4\n",
      "           2       0.87      0.96      0.91        27\n",
      "           3       0.89      0.53      0.67        15\n",
      "           4       0.69      0.90      0.78        10\n",
      "\n",
      "    accuracy                           0.84        83\n",
      "   macro avg       0.66      0.68      0.66        83\n",
      "weighted avg       0.81      0.84      0.81        83\n",
      "\n"
     ]
    }
   ],
   "source": [
    "print(\"Val Cohen Kappa score: %.3f\" % cohen_kappa_score(val_gen1, preds_ensemble, weights='quadratic'))\n",
    "print(\"Val Accuracy score : %.3f\" % accuracy_score(val_gen1, preds_ensemble))\n",
    "\n",
    "print('F1 score: %.3f' % f1_score(val_gen1, preds_ensemble,average='micro'))\n",
    "print('F1 score: %.3f' % f1_score(val_gen1, preds_ensemble,average='weighted'))\n",
    "print('F1 score: %.3f' % f1_score(val_gen1, preds_ensemble,average='macro'))\n",
    "\n",
    "\n",
    "print('Recall: %.3f' % recall_score(val_gen1, preds_ensemble,average='micro'))\n",
    "print('Recall: %.3f' % recall_score(val_gen1, preds_ensemble,average='weighted'))\n",
    "print('Recall: %.3f' % recall_score(val_gen1, preds_ensemble,average='macro'))\n",
    "\n",
    "print('Precision: %.3f' % precision_score(val_gen1, preds_ensemble,average='micro'))\n",
    "print('Precision: %.3f' % precision_score(val_gen1, preds_ensemble,average='weighted'))\n",
    "print('Precision: %.3f' % precision_score(val_gen1, preds_ensemble,average='macro'))\n",
    "\n",
    "print('\\n clasification report:\\n  ' + classification_report(val_gen1, preds_ensemble)) "
   ]
  },
  {
   "cell_type": "markdown",
   "metadata": {
    "id": "YJxUMMukT-ex"
   },
   "source": [
    "test data sin TTA"
   ]
  },
  {
   "cell_type": "code",
   "execution_count": 42,
   "metadata": {
    "executionInfo": {
     "elapsed": 2656,
     "status": "ok",
     "timestamp": 1604710594187,
     "user": {
      "displayName": "Jorge Diego Garcia Torres",
      "photoUrl": "https://lh3.googleusercontent.com/a-/AOh14GgUm411NCPxL0CyuKgBlBhJ9SxhXr8inmS25Nfq=s64",
      "userId": "03990517325461913005"
     },
     "user_tz": 360
    },
    "id": "imFPQqD7T94g"
   },
   "outputs": [],
   "source": [
    "tdata_gen.reset()\n",
    "\n",
    "x_tdata = np.zeros((103,224, 224, 3))\n",
    "y_test2 = np.array([[0,0,0,0,0]])\n",
    "\n",
    "for i in range(103):\n",
    "  y_test2 =np.append(y_test2, tdata_gen[i][1], axis=0)\n",
    "  x_tdata[i]= tdata_gen[i][0]\n",
    "\n",
    "y_test2 = np.delete(y_test2,0, axis=0)\n",
    "\n",
    "tdata_gen.reset()"
   ]
  },
  {
   "cell_type": "code",
   "execution_count": 43,
   "metadata": {
    "executionInfo": {
     "elapsed": 887,
     "status": "ok",
     "timestamp": 1604710597488,
     "user": {
      "displayName": "Jorge Diego Garcia Torres",
      "photoUrl": "https://lh3.googleusercontent.com/a-/AOh14GgUm411NCPxL0CyuKgBlBhJ9SxhXr8inmS25Nfq=s64",
      "userId": "03990517325461913005"
     },
     "user_tz": 360
    },
    "id": "g9QEbPPeU3Rq"
   },
   "outputs": [],
   "source": [
    "tpreds_ensemble = []"
   ]
  },
  {
   "cell_type": "code",
   "execution_count": 54,
   "metadata": {
    "colab": {
     "base_uri": "https://localhost:8080/",
     "height": 295
    },
    "executionInfo": {
     "elapsed": 833,
     "status": "ok",
     "timestamp": 1604710734746,
     "user": {
      "displayName": "Jorge Diego Garcia Torres",
      "photoUrl": "https://lh3.googleusercontent.com/a-/AOh14GgUm411NCPxL0CyuKgBlBhJ9SxhXr8inmS25Nfq=s64",
      "userId": "03990517325461913005"
     },
     "user_tz": 360
    },
    "id": "ILHDUxg1NXXz",
    "outputId": "8e0711d5-0449-48d5-ac98-7565adfe89db"
   },
   "outputs": [
    {
     "name": "stdout",
     "output_type": "stream",
     "text": [
      "[0 0 0 0 1]\n"
     ]
    },
    {
     "data": {
      "image/png": "[encoded data removed]",
      "text/plain": [
       "<Figure size 432x288 with 1 Axes>"
      ]
     },
     "metadata": {
      "tags": []
     },
     "output_type": "display_data"
    }
   ],
   "source": [
    "plt.imshow(x_tdata[4])\n",
    "print(y_test2[4])"
   ]
  },
  {
   "cell_type": "code",
   "execution_count": 44,
   "metadata": {
    "colab": {
     "base_uri": "https://localhost:8080/"
    },
    "executionInfo": {
     "elapsed": 948,
     "status": "ok",
     "timestamp": 1604710603638,
     "user": {
      "displayName": "Jorge Diego Garcia Torres",
      "photoUrl": "https://lh3.googleusercontent.com/a-/AOh14GgUm411NCPxL0CyuKgBlBhJ9SxhXr8inmS25Nfq=s64",
      "userId": "03990517325461913005"
     },
     "user_tz": 360
    },
    "id": "IPbHoDFDaz0N",
    "outputId": "dfbb8b13-3b55-497c-dd13-ad46d7ca34cf"
   },
   "outputs": [
    {
     "name": "stdout",
     "output_type": "stream",
     "text": [
      "2/4 [==============>...............] - ETA: 0sWARNING:tensorflow:Callbacks method `on_predict_batch_end` is slow compared to the batch time (batch time: 0.0232s vs `on_predict_batch_end` time: 0.0495s). Check your callbacks.\n",
      "4/4 [==============================] - 0s 96ms/step\n"
     ]
    }
   ],
   "source": [
    "test_preds_model1 = model_list[0].predict(x_tdata, verbose = 1)\n",
    "tpreds_ensemble.append(test_preds_model1)\n",
    "test_preds_model1 = [np.argmax(pred) for pred in test_preds_model1]"
   ]
  },
  {
   "cell_type": "code",
   "execution_count": 45,
   "metadata": {
    "executionInfo": {
     "elapsed": 593,
     "status": "ok",
     "timestamp": 1604710609577,
     "user": {
      "displayName": "Jorge Diego Garcia Torres",
      "photoUrl": "https://lh3.googleusercontent.com/a-/AOh14GgUm411NCPxL0CyuKgBlBhJ9SxhXr8inmS25Nfq=s64",
      "userId": "03990517325461913005"
     },
     "user_tz": 360
    },
    "id": "9-1jWEf9c4vv"
   },
   "outputs": [],
   "source": [
    "test_gen1 = [np.argmax(pred) for pred in y_test2]"
   ]
  },
  {
   "cell_type": "code",
   "execution_count": 46,
   "metadata": {
    "colab": {
     "base_uri": "https://localhost:8080/"
    },
    "executionInfo": {
     "elapsed": 538,
     "status": "ok",
     "timestamp": 1604710611501,
     "user": {
      "displayName": "Jorge Diego Garcia Torres",
      "photoUrl": "https://lh3.googleusercontent.com/a-/AOh14GgUm411NCPxL0CyuKgBlBhJ9SxhXr8inmS25Nfq=s64",
      "userId": "03990517325461913005"
     },
     "user_tz": 360
    },
    "id": "ZlEsE8OIcpKF",
    "outputId": "c22380c5-54c9-4094-907f-f87b7829ca28"
   },
   "outputs": [
    {
     "name": "stdout",
     "output_type": "stream",
     "text": [
      "test Cohen Kappa score: 0.729\n"
     ]
    }
   ],
   "source": [
    "print(\"test Cohen Kappa score: %.3f\" % cohen_kappa_score(test_preds_model1, test_gen1, weights='quadratic'))"
   ]
  },
  {
   "cell_type": "code",
   "execution_count": 47,
   "metadata": {
    "colab": {
     "base_uri": "https://localhost:8080/"
    },
    "executionInfo": {
     "elapsed": 1307,
     "status": "ok",
     "timestamp": 1604710623482,
     "user": {
      "displayName": "Jorge Diego Garcia Torres",
      "photoUrl": "https://lh3.googleusercontent.com/a-/AOh14GgUm411NCPxL0CyuKgBlBhJ9SxhXr8inmS25Nfq=s64",
      "userId": "03990517325461913005"
     },
     "user_tz": 360
    },
    "id": "L9SBoBk4dnro",
    "outputId": "1a89690e-ef9f-4d2e-8c0c-7d2f915cf5f2"
   },
   "outputs": [
    {
     "name": "stdout",
     "output_type": "stream",
     "text": [
      "2/4 [==============>...............] - ETA: 0sWARNING:tensorflow:Callbacks method `on_predict_batch_end` is slow compared to the batch time (batch time: 0.0194s vs `on_predict_batch_end` time: 0.0511s). Check your callbacks.\n",
      "4/4 [==============================] - 0s 54ms/step\n"
     ]
    }
   ],
   "source": [
    "test_preds_model2 = model_list[1].predict(x_tdata, verbose = 1)\n",
    "tpreds_ensemble.append(test_preds_model2)\n",
    "test_preds_model2 = [np.argmax(pred) for pred in test_preds_model2]"
   ]
  },
  {
   "cell_type": "code",
   "execution_count": 48,
   "metadata": {
    "colab": {
     "base_uri": "https://localhost:8080/"
    },
    "executionInfo": {
     "elapsed": 569,
     "status": "ok",
     "timestamp": 1604710626225,
     "user": {
      "displayName": "Jorge Diego Garcia Torres",
      "photoUrl": "https://lh3.googleusercontent.com/a-/AOh14GgUm411NCPxL0CyuKgBlBhJ9SxhXr8inmS25Nfq=s64",
      "userId": "03990517325461913005"
     },
     "user_tz": 360
    },
    "id": "OFACFJl1dvqg",
    "outputId": "9b30de14-82f3-4f98-c7cf-7aba26d76f98"
   },
   "outputs": [
    {
     "name": "stdout",
     "output_type": "stream",
     "text": [
      "test Cohen Kappa score: 0.740\n"
     ]
    }
   ],
   "source": [
    "print(\"test Cohen Kappa score: %.3f\" % cohen_kappa_score(test_preds_model2, test_gen1, weights='quadratic'))"
   ]
  },
  {
   "cell_type": "code",
   "execution_count": 55,
   "metadata": {
    "colab": {
     "base_uri": "https://localhost:8080/"
    },
    "executionInfo": {
     "elapsed": 783,
     "status": "ok",
     "timestamp": 1604710763366,
     "user": {
      "displayName": "Jorge Diego Garcia Torres",
      "photoUrl": "https://lh3.googleusercontent.com/a-/AOh14GgUm411NCPxL0CyuKgBlBhJ9SxhXr8inmS25Nfq=s64",
      "userId": "03990517325461913005"
     },
     "user_tz": 360
    },
    "id": "ycyZsZS9d29q",
    "outputId": "226fa33b-d55b-4df1-8e0d-128caab9dcd1"
   },
   "outputs": [
    {
     "name": "stdout",
     "output_type": "stream",
     "text": [
      "2/4 [==============>...............] - ETA: 0sWARNING:tensorflow:Callbacks method `on_predict_batch_end` is slow compared to the batch time (batch time: 0.0181s vs `on_predict_batch_end` time: 0.0534s). Check your callbacks.\n",
      "4/4 [==============================] - 0s 55ms/step\n"
     ]
    }
   ],
   "source": [
    "test_preds_model3 = model_list[2].predict(x_tdata, verbose = 1)\n",
    "tpreds_ensemble.append(test_preds_model3)\n",
    "test_preds_model3 = [np.argmax(pred) for pred in test_preds_model3]"
   ]
  },
  {
   "cell_type": "code",
   "execution_count": 56,
   "metadata": {
    "colab": {
     "base_uri": "https://localhost:8080/"
    },
    "executionInfo": {
     "elapsed": 1054,
     "status": "ok",
     "timestamp": 1604710766442,
     "user": {
      "displayName": "Jorge Diego Garcia Torres",
      "photoUrl": "https://lh3.googleusercontent.com/a-/AOh14GgUm411NCPxL0CyuKgBlBhJ9SxhXr8inmS25Nfq=s64",
      "userId": "03990517325461913005"
     },
     "user_tz": 360
    },
    "id": "Ngaheq7DeBmM",
    "outputId": "e1e6ed61-91da-4355-f115-bb5fa710e4d9"
   },
   "outputs": [
    {
     "name": "stdout",
     "output_type": "stream",
     "text": [
      "test Cohen Kappa score: 0.754\n"
     ]
    }
   ],
   "source": [
    "print(\"test Cohen Kappa score: %.3f\" % cohen_kappa_score(test_preds_model3, test_gen1, weights='quadratic'))"
   ]
  },
  {
   "cell_type": "code",
   "execution_count": 57,
   "metadata": {
    "colab": {
     "base_uri": "https://localhost:8080/"
    },
    "executionInfo": {
     "elapsed": 1471,
     "status": "ok",
     "timestamp": 1604710819163,
     "user": {
      "displayName": "Jorge Diego Garcia Torres",
      "photoUrl": "https://lh3.googleusercontent.com/a-/AOh14GgUm411NCPxL0CyuKgBlBhJ9SxhXr8inmS25Nfq=s64",
      "userId": "03990517325461913005"
     },
     "user_tz": 360
    },
    "id": "BmwKyW8reD3Z",
    "outputId": "eef462be-f2eb-41e5-c4fc-e43550ae4dfc"
   },
   "outputs": [
    {
     "name": "stdout",
     "output_type": "stream",
     "text": [
      "2/4 [==============>...............] - ETA: 0sWARNING:tensorflow:Callbacks method `on_predict_batch_end` is slow compared to the batch time (batch time: 0.0194s vs `on_predict_batch_end` time: 0.0520s). Check your callbacks.\n",
      "4/4 [==============================] - 0s 56ms/step\n"
     ]
    }
   ],
   "source": [
    "test_preds_model4 = model_list[3].predict(x_tdata, verbose = 1)\n",
    "tpreds_ensemble.append(test_preds_model4)\n",
    "test_preds_model4 = [np.argmax(pred) for pred in test_preds_model4]"
   ]
  },
  {
   "cell_type": "code",
   "execution_count": 58,
   "metadata": {
    "colab": {
     "base_uri": "https://localhost:8080/"
    },
    "executionInfo": {
     "elapsed": 574,
     "status": "ok",
     "timestamp": 1604710821050,
     "user": {
      "displayName": "Jorge Diego Garcia Torres",
      "photoUrl": "https://lh3.googleusercontent.com/a-/AOh14GgUm411NCPxL0CyuKgBlBhJ9SxhXr8inmS25Nfq=s64",
      "userId": "03990517325461913005"
     },
     "user_tz": 360
    },
    "id": "XtczpyNCePxS",
    "outputId": "85b8c098-67a7-4f46-96b0-00798e434526"
   },
   "outputs": [
    {
     "name": "stdout",
     "output_type": "stream",
     "text": [
      "test Cohen Kappa score: 0.689\n"
     ]
    }
   ],
   "source": [
    "print(\"test Cohen Kappa score: %.3f\" % cohen_kappa_score(test_preds_model4, test_gen1, weights='quadratic'))"
   ]
  },
  {
   "cell_type": "code",
   "execution_count": 59,
   "metadata": {
    "colab": {
     "base_uri": "https://localhost:8080/"
    },
    "executionInfo": {
     "elapsed": 768,
     "status": "ok",
     "timestamp": 1604710826697,
     "user": {
      "displayName": "Jorge Diego Garcia Torres",
      "photoUrl": "https://lh3.googleusercontent.com/a-/AOh14GgUm411NCPxL0CyuKgBlBhJ9SxhXr8inmS25Nfq=s64",
      "userId": "03990517325461913005"
     },
     "user_tz": 360
    },
    "id": "q61apkDTeRoo",
    "outputId": "0ba9e7f7-9eac-4150-889d-a2d0d67a5c92"
   },
   "outputs": [
    {
     "name": "stdout",
     "output_type": "stream",
     "text": [
      "2/4 [==============>...............] - ETA: 0sWARNING:tensorflow:Callbacks method `on_predict_batch_end` is slow compared to the batch time (batch time: 0.0191s vs `on_predict_batch_end` time: 0.0530s). Check your callbacks.\n",
      "4/4 [==============================] - 0s 56ms/step\n"
     ]
    }
   ],
   "source": [
    "test_preds_model5 = model_list[4].predict(x_tdata, verbose = 1)\n",
    "tpreds_ensemble.append(test_preds_model5)\n",
    "test_preds_model5 = [np.argmax(pred) for pred in test_preds_model5]"
   ]
  },
  {
   "cell_type": "code",
   "execution_count": 60,
   "metadata": {
    "colab": {
     "base_uri": "https://localhost:8080/"
    },
    "executionInfo": {
     "elapsed": 786,
     "status": "ok",
     "timestamp": 1604710829371,
     "user": {
      "displayName": "Jorge Diego Garcia Torres",
      "photoUrl": "https://lh3.googleusercontent.com/a-/AOh14GgUm411NCPxL0CyuKgBlBhJ9SxhXr8inmS25Nfq=s64",
      "userId": "03990517325461913005"
     },
     "user_tz": 360
    },
    "id": "j27LA2-GeXpj",
    "outputId": "b80fde51-3a3c-41ee-ad46-56fdc42bddb5"
   },
   "outputs": [
    {
     "name": "stdout",
     "output_type": "stream",
     "text": [
      "test Cohen Kappa score: 0.727\n"
     ]
    }
   ],
   "source": [
    "print(\"test Cohen Kappa score: %.3f\" % cohen_kappa_score(test_preds_model5, test_gen1, weights='quadratic'))"
   ]
  },
  {
   "cell_type": "code",
   "execution_count": 61,
   "metadata": {
    "executionInfo": {
     "elapsed": 635,
     "status": "ok",
     "timestamp": 1604710836705,
     "user": {
      "displayName": "Jorge Diego Garcia Torres",
      "photoUrl": "https://lh3.googleusercontent.com/a-/AOh14GgUm411NCPxL0CyuKgBlBhJ9SxhXr8inmS25Nfq=s64",
      "userId": "03990517325461913005"
     },
     "user_tz": 360
    },
    "id": "IoOKV525emuU"
   },
   "outputs": [],
   "source": [
    "tpreds_ensemble =  np.mean(tpreds_ensemble, axis=0)\n",
    "tpreds_ensemble = [np.argmax(pred) for pred in tpreds_ensemble]"
   ]
  },
  {
   "cell_type": "code",
   "execution_count": 62,
   "metadata": {
    "colab": {
     "base_uri": "https://localhost:8080/"
    },
    "executionInfo": {
     "elapsed": 502,
     "status": "ok",
     "timestamp": 1604710838788,
     "user": {
      "displayName": "Jorge Diego Garcia Torres",
      "photoUrl": "https://lh3.googleusercontent.com/a-/AOh14GgUm411NCPxL0CyuKgBlBhJ9SxhXr8inmS25Nfq=s64",
      "userId": "03990517325461913005"
     },
     "user_tz": 360
    },
    "id": "k9Rtl0ZCfAbH",
    "outputId": "2119579d-47b9-487e-f1ec-c913acf9cc8c"
   },
   "outputs": [
    {
     "name": "stdout",
     "output_type": "stream",
     "text": [
      "Test Cohen Kappa score: 0.740\n"
     ]
    }
   ],
   "source": [
    "print(\"Test Cohen Kappa score: %.3f\" % cohen_kappa_score(tpreds_ensemble, test_gen1, weights='quadratic'))"
   ]
  },
  {
   "cell_type": "code",
   "execution_count": 63,
   "metadata": {
    "colab": {
     "base_uri": "https://localhost:8080/",
     "height": 484
    },
    "executionInfo": {
     "elapsed": 953,
     "status": "ok",
     "timestamp": 1604710848552,
     "user": {
      "displayName": "Jorge Diego Garcia Torres",
      "photoUrl": "https://lh3.googleusercontent.com/a-/AOh14GgUm411NCPxL0CyuKgBlBhJ9SxhXr8inmS25Nfq=s64",
      "userId": "03990517325461913005"
     },
     "user_tz": 360
    },
    "id": "GzPwXE5Tfgop",
    "outputId": "2fe095f3-0526-4d35-fe4b-490efb27128d"
   },
   "outputs": [
    {
     "data": {
      "image/png": "[encoded data removed]",
      "text/plain": [
       "<Figure size 576x396 with 2 Axes>"
      ]
     },
     "metadata": {
      "tags": []
     },
     "output_type": "display_data"
    }
   ],
   "source": [
    "labels = ['0 - No DR', '1 - Leve', '2 - Moderada', '3 - Severa', '4 - Proliferativa DR']\n",
    "plot_conf_matrix(test_gen1,tpreds_ensemble,labels)"
   ]
  },
  {
   "cell_type": "code",
   "execution_count": 64,
   "metadata": {
    "colab": {
     "base_uri": "https://localhost:8080/",
     "height": 370
    },
    "executionInfo": {
     "elapsed": 1051,
     "status": "ok",
     "timestamp": 1604710854001,
     "user": {
      "displayName": "Jorge Diego Garcia Torres",
      "photoUrl": "https://lh3.googleusercontent.com/a-/AOh14GgUm411NCPxL0CyuKgBlBhJ9SxhXr8inmS25Nfq=s64",
      "userId": "03990517325461913005"
     },
     "user_tz": 360
    },
    "id": "BJantp-LfrPY",
    "outputId": "4750905f-6a96-4d3d-f982-8d55772aec65"
   },
   "outputs": [
    {
     "data": {
      "image/png": "[encoded data removed]",
      "text/plain": [
       "<Figure size 1152x504 with 2 Axes>"
      ]
     },
     "metadata": {
      "tags": []
     },
     "output_type": "display_data"
    }
   ],
   "source": [
    "cnf_matrix = confusion_matrix(test_gen1, tpreds_ensemble)\n",
    "cnf_matrix_norm = cnf_matrix.astype('float') / cnf_matrix.sum(axis=1)[:, np.newaxis]\n",
    "df_cm = pd.DataFrame(cnf_matrix_norm, index=labels, columns=labels)\n",
    "plt.figure(figsize=(16, 7))\n",
    "sns.heatmap(df_cm, annot=True, fmt='.2f', cmap=\"Blues\")\n",
    "plt.show()"
   ]
  },
  {
   "cell_type": "code",
   "execution_count": 65,
   "metadata": {
    "executionInfo": {
     "elapsed": 788,
     "status": "ok",
     "timestamp": 1604710858662,
     "user": {
      "displayName": "Jorge Diego Garcia Torres",
      "photoUrl": "https://lh3.googleusercontent.com/a-/AOh14GgUm411NCPxL0CyuKgBlBhJ9SxhXr8inmS25Nfq=s64",
      "userId": "03990517325461913005"
     },
     "user_tz": 360
    },
    "id": "OwWZ7WoT7Zd_"
   },
   "outputs": [],
   "source": [
    "cf = cnf_matrix"
   ]
  },
  {
   "cell_type": "code",
   "execution_count": null,
   "metadata": {
    "id": "7DCZmLu67hUe"
   },
   "outputs": [],
   "source": []
  },
  {
   "cell_type": "code",
   "execution_count": 66,
   "metadata": {
    "colab": {
     "base_uri": "https://localhost:8080/"
    },
    "executionInfo": {
     "elapsed": 701,
     "status": "ok",
     "timestamp": 1604710860337,
     "user": {
      "displayName": "Jorge Diego Garcia Torres",
      "photoUrl": "https://lh3.googleusercontent.com/a-/AOh14GgUm411NCPxL0CyuKgBlBhJ9SxhXr8inmS25Nfq=s64",
      "userId": "03990517325461913005"
     },
     "user_tz": 360
    },
    "id": "jgO69a1jKOxh",
    "outputId": "10a6f5c6-8e10-4405-cf1b-69a533f1998e"
   },
   "outputs": [
    {
     "name": "stdout",
     "output_type": "stream",
     "text": [
      "FP\n",
      "[16  0 12  3  7]\n",
      "FN\n",
      "[ 1  5 12 14  6]\n",
      "TP\n",
      "[33  0 20  5  7]\n",
      "TN\n",
      "[53 98 59 81 83]\n",
      "Sensitivity\n",
      "[0.97058824 0.         0.625      0.26315789 0.53846154]\n",
      "Specificity\n",
      "[0.76811594 1.         0.83098592 0.96428571 0.92222222]\n",
      "Precision\n",
      "[0.67346939        nan 0.625      0.625      0.5       ]\n",
      "[0.98148148 0.95145631 0.83098592 0.85263158 0.93258427]\n",
      "[0.23188406 0.         0.16901408 0.03571429 0.07777778]\n",
      "[0.02941176 1.         0.375      0.73684211 0.46153846]\n",
      "[0.32653061        nan 0.375      0.375      0.5       ]\n",
      "Acc\n",
      "[0.83495146 0.95145631 0.76699029 0.83495146 0.87378641]\n",
      "Sensitivity mean\n",
      "0.4794415336984996\n",
      "Specificity mean\n",
      "0.897121958805976\n",
      "Precision mean\n",
      "nan\n"
     ]
    }
   ],
   "source": [
    "FP = cf.sum(axis=0) - np.diag(cf)  \n",
    "FN = cf.sum(axis=1) - np.diag(cf)\n",
    "TP = np.diag(cf)\n",
    "TN = cf.sum() - (FP + FN + TP)\n",
    "\n",
    "# Sensitivity, hit rate, recall, or true positive rate\n",
    "TPR = TP/(TP+FN)\n",
    "# Specificity or true negative rate\n",
    "TNR = TN/(TN+FP) \n",
    "# Precision or positive predictive value\n",
    "PPV = TP/(TP+FP)\n",
    "# Negative predictive value\n",
    "NPV = TN/(TN+FN)\n",
    "# Fall out or false positive rate\n",
    "FPR = FP/(FP+TN)\n",
    "# False negative rate\n",
    "FNR = FN/(TP+FN)\n",
    "# False discovery rate\n",
    "FDR = FP/(TP+FP)\n",
    "\n",
    "# Overall accuracy\n",
    "ACC = (TP+TN)/(TP+FP+FN+TN)\n",
    "\n",
    "print('FP')\n",
    "print(FP)\n",
    "print('FN')\n",
    "print(FN)\n",
    "print('TP')\n",
    "print(TP)\n",
    "print('TN')\n",
    "print(TN)\n",
    "print('Sensitivity')\n",
    "print(TPR)\n",
    "print('Specificity')\n",
    "print(TNR)\n",
    "print('Precision')\n",
    "print(PPV)\n",
    "print(NPV)\n",
    "print(FPR)\n",
    "print(FNR)\n",
    "print(FDR)\n",
    "print('Acc')\n",
    "print(ACC)\n",
    "\n",
    "print('Sensitivity mean')\n",
    "print(np.mean(TPR))\n",
    "print('Specificity mean')\n",
    "print(np.mean(TNR))\n",
    "print('Precision mean')\n",
    "print(np.mean(PPV))\n"
   ]
  },
  {
   "cell_type": "code",
   "execution_count": 67,
   "metadata": {
    "colab": {
     "base_uri": "https://localhost:8080/"
    },
    "executionInfo": {
     "elapsed": 659,
     "status": "ok",
     "timestamp": 1604710864518,
     "user": {
      "displayName": "Jorge Diego Garcia Torres",
      "photoUrl": "https://lh3.googleusercontent.com/a-/AOh14GgUm411NCPxL0CyuKgBlBhJ9SxhXr8inmS25Nfq=s64",
      "userId": "03990517325461913005"
     },
     "user_tz": 360
    },
    "id": "plSMzkvJf4eS",
    "outputId": "cdfdd405-1517-46bb-d983-8bbf0c881657"
   },
   "outputs": [
    {
     "name": "stdout",
     "output_type": "stream",
     "text": [
      "Test Cohen Kappa score: 0.740\n",
      "Test Accuracy score : 0.631\n",
      "F1 score: 0.631\n",
      "F1 score: 0.590\n",
      "F1 score: 0.462\n",
      "Recall: 0.631\n",
      "Recall: 0.631\n",
      "Recall: 0.479\n",
      "Precision: 0.631\n",
      "Precision: 0.595\n",
      "Precision: 0.485\n",
      "\n",
      " clasification report:\n",
      "                precision    recall  f1-score   support\n",
      "\n",
      "           0       0.67      0.97      0.80        34\n",
      "           1       0.00      0.00      0.00         5\n",
      "           2       0.62      0.62      0.62        32\n",
      "           3       0.62      0.26      0.37        19\n",
      "           4       0.50      0.54      0.52        13\n",
      "\n",
      "    accuracy                           0.63       103\n",
      "   macro avg       0.48      0.48      0.46       103\n",
      "weighted avg       0.59      0.63      0.59       103\n",
      "\n"
     ]
    }
   ],
   "source": [
    "print(\"Test Cohen Kappa score: %.3f\" % cohen_kappa_score(test_gen1, tpreds_ensemble, weights='quadratic'))\n",
    "print(\"Test Accuracy score : %.3f\" % accuracy_score(test_gen1, tpreds_ensemble))\n",
    "\n",
    "print('F1 score: %.3f' % f1_score(test_gen1, tpreds_ensemble,average='micro'))\n",
    "print('F1 score: %.3f' % f1_score(test_gen1, tpreds_ensemble,average='weighted'))\n",
    "print('F1 score: %.3f' % f1_score(test_gen1, tpreds_ensemble,average='macro'))\n",
    "\n",
    "print('Recall: %.3f' % recall_score(test_gen1, tpreds_ensemble,average='micro'))\n",
    "print('Recall: %.3f' % recall_score(test_gen1, tpreds_ensemble,average='weighted'))\n",
    "print('Recall: %.3f' % recall_score(test_gen1, tpreds_ensemble,average='macro'))\n",
    "\n",
    "print('Precision: %.3f' % precision_score(test_gen1, tpreds_ensemble,average='micro'))\n",
    "print('Precision: %.3f' % precision_score(test_gen1, tpreds_ensemble,average='weighted'))\n",
    "print('Precision: %.3f' % precision_score(test_gen1, tpreds_ensemble,average='macro'))\n",
    "\n",
    "print('\\n clasification report:\\n  ' + classification_report(test_gen1, tpreds_ensemble)) "
   ]
  },
  {
   "cell_type": "code",
   "execution_count": 68,
   "metadata": {
    "executionInfo": {
     "elapsed": 492,
     "status": "ok",
     "timestamp": 1604710880110,
     "user": {
      "displayName": "Jorge Diego Garcia Torres",
      "photoUrl": "https://lh3.googleusercontent.com/a-/AOh14GgUm411NCPxL0CyuKgBlBhJ9SxhXr8inmS25Nfq=s64",
      "userId": "03990517325461913005"
     },
     "user_tz": 360
    },
    "id": "xhHGDDHViGAC"
   },
   "outputs": [],
   "source": [
    "from scipy import stats"
   ]
  },
  {
   "cell_type": "code",
   "execution_count": null,
   "metadata": {
    "id": "55EKH3iBiHbr"
   },
   "outputs": [],
   "source": [
    "#stats.trim_mean()"
   ]
  },
  {
   "cell_type": "markdown",
   "metadata": {
    "id": "HD-vD5B6rFiW"
   },
   "source": [
    "trim mean\n"
   ]
  },
  {
   "cell_type": "code",
   "execution_count": 81,
   "metadata": {
    "executionInfo": {
     "elapsed": 2910,
     "status": "ok",
     "timestamp": 1604711048373,
     "user": {
      "displayName": "Jorge Diego Garcia Torres",
      "photoUrl": "https://lh3.googleusercontent.com/a-/AOh14GgUm411NCPxL0CyuKgBlBhJ9SxhXr8inmS25Nfq=s64",
      "userId": "03990517325461913005"
     },
     "user_tz": 360
    },
    "id": "EazHafS7voA8"
   },
   "outputs": [],
   "source": [
    "tdata_gen.reset()\n",
    "\n",
    "x_tdata = np.zeros((103,224, 224, 3))\n",
    "y_test2 = np.array([[0,0,0,0,0]])\n",
    "\n",
    "for i in range(103):\n",
    "  y_test2 =np.append(y_test2, tdata_gen[i][1], axis=0)\n",
    "  x_tdata[i]= tdata_gen[i][0]\n",
    "\n",
    "y_test2 = np.delete(y_test2,0, axis=0)\n",
    "\n",
    "tdata_gen.reset()"
   ]
  },
  {
   "cell_type": "code",
   "execution_count": 82,
   "metadata": {
    "executionInfo": {
     "elapsed": 564,
     "status": "ok",
     "timestamp": 1604711050834,
     "user": {
      "displayName": "Jorge Diego Garcia Torres",
      "photoUrl": "https://lh3.googleusercontent.com/a-/AOh14GgUm411NCPxL0CyuKgBlBhJ9SxhXr8inmS25Nfq=s64",
      "userId": "03990517325461913005"
     },
     "user_tz": 360
    },
    "id": "vY6cVDfmwJ38"
   },
   "outputs": [],
   "source": [
    "test_gen1 = [np.argmax(pred) for pred in y_test2]"
   ]
  },
  {
   "cell_type": "code",
   "execution_count": 83,
   "metadata": {
    "executionInfo": {
     "elapsed": 761,
     "status": "ok",
     "timestamp": 1604711052738,
     "user": {
      "displayName": "Jorge Diego Garcia Torres",
      "photoUrl": "https://lh3.googleusercontent.com/a-/AOh14GgUm411NCPxL0CyuKgBlBhJ9SxhXr8inmS25Nfq=s64",
      "userId": "03990517325461913005"
     },
     "user_tz": 360
    },
    "id": "Eyu210PuvzRI"
   },
   "outputs": [],
   "source": [
    "tpreds_ensemble = []"
   ]
  },
  {
   "cell_type": "code",
   "execution_count": 84,
   "metadata": {
    "colab": {
     "base_uri": "https://localhost:8080/"
    },
    "executionInfo": {
     "elapsed": 1035,
     "status": "ok",
     "timestamp": 1604711054743,
     "user": {
      "displayName": "Jorge Diego Garcia Torres",
      "photoUrl": "https://lh3.googleusercontent.com/a-/AOh14GgUm411NCPxL0CyuKgBlBhJ9SxhXr8inmS25Nfq=s64",
      "userId": "03990517325461913005"
     },
     "user_tz": 360
    },
    "id": "P3EICgo3v67J",
    "outputId": "adf84c5d-194a-4e7c-f901-beb1ccf05559"
   },
   "outputs": [
    {
     "name": "stdout",
     "output_type": "stream",
     "text": [
      "2/4 [==============>...............] - ETA: 0sWARNING:tensorflow:Callbacks method `on_predict_batch_end` is slow compared to the batch time (batch time: 0.0210s vs `on_predict_batch_end` time: 0.0515s). Check your callbacks.\n",
      "4/4 [==============================] - 0s 55ms/step\n",
      "test Cohen Kappa score: 0.742\n"
     ]
    }
   ],
   "source": [
    "test_preds_model1 = model_list[0].predict(x_tdata, verbose = 1)\n",
    "tpreds_ensemble.append(test_preds_model1)\n",
    "test_preds_model1 = [np.argmax(pred) for pred in test_preds_model1]\n",
    "print(\"test Cohen Kappa score: %.3f\" % cohen_kappa_score(test_preds_model1, test_gen1, weights='quadratic'))"
   ]
  },
  {
   "cell_type": "code",
   "execution_count": 85,
   "metadata": {
    "colab": {
     "base_uri": "https://localhost:8080/"
    },
    "executionInfo": {
     "elapsed": 649,
     "status": "ok",
     "timestamp": 1604711057987,
     "user": {
      "displayName": "Jorge Diego Garcia Torres",
      "photoUrl": "https://lh3.googleusercontent.com/a-/AOh14GgUm411NCPxL0CyuKgBlBhJ9SxhXr8inmS25Nfq=s64",
      "userId": "03990517325461913005"
     },
     "user_tz": 360
    },
    "id": "prHHTuZSwj0B",
    "outputId": "d8295496-0a4e-44fb-dd57-efedf3801447"
   },
   "outputs": [
    {
     "name": "stdout",
     "output_type": "stream",
     "text": [
      "2/4 [==============>...............] - ETA: 0sWARNING:tensorflow:Callbacks method `on_predict_batch_end` is slow compared to the batch time (batch time: 0.0183s vs `on_predict_batch_end` time: 0.0509s). Check your callbacks.\n",
      "4/4 [==============================] - 0s 53ms/step\n",
      "test Cohen Kappa score: 0.745\n"
     ]
    }
   ],
   "source": [
    "test_preds_model2 = model_list[1].predict(x_tdata, verbose = 1)\n",
    "tpreds_ensemble.append(test_preds_model2)\n",
    "test_preds_model2 = [np.argmax(pred) for pred in test_preds_model2]\n",
    "print(\"test Cohen Kappa score: %.3f\" % cohen_kappa_score(test_preds_model2, test_gen1, weights='quadratic'))"
   ]
  },
  {
   "cell_type": "code",
   "execution_count": 86,
   "metadata": {
    "colab": {
     "base_uri": "https://localhost:8080/"
    },
    "executionInfo": {
     "elapsed": 695,
     "status": "ok",
     "timestamp": 1604711062077,
     "user": {
      "displayName": "Jorge Diego Garcia Torres",
      "photoUrl": "https://lh3.googleusercontent.com/a-/AOh14GgUm411NCPxL0CyuKgBlBhJ9SxhXr8inmS25Nfq=s64",
      "userId": "03990517325461913005"
     },
     "user_tz": 360
    },
    "id": "9QymLcmDwssv",
    "outputId": "e1aa3a22-2001-42a8-a22b-d7f146c8f432"
   },
   "outputs": [
    {
     "name": "stdout",
     "output_type": "stream",
     "text": [
      "2/4 [==============>...............] - ETA: 0sWARNING:tensorflow:Callbacks method `on_predict_batch_end` is slow compared to the batch time (batch time: 0.0188s vs `on_predict_batch_end` time: 0.0491s). Check your callbacks.\n",
      "4/4 [==============================] - 0s 52ms/step\n",
      "test Cohen Kappa score: 0.699\n"
     ]
    }
   ],
   "source": [
    "test_preds_model3 = model_list[2].predict(x_tdata, verbose = 1)\n",
    "tpreds_ensemble.append(test_preds_model3)\n",
    "test_preds_model3 = [np.argmax(pred) for pred in test_preds_model3]\n",
    "print(\"test Cohen Kappa score: %.3f\" % cohen_kappa_score(test_preds_model3, test_gen1, weights='quadratic'))"
   ]
  },
  {
   "cell_type": "code",
   "execution_count": 87,
   "metadata": {
    "colab": {
     "base_uri": "https://localhost:8080/"
    },
    "executionInfo": {
     "elapsed": 944,
     "status": "ok",
     "timestamp": 1604711065458,
     "user": {
      "displayName": "Jorge Diego Garcia Torres",
      "photoUrl": "https://lh3.googleusercontent.com/a-/AOh14GgUm411NCPxL0CyuKgBlBhJ9SxhXr8inmS25Nfq=s64",
      "userId": "03990517325461913005"
     },
     "user_tz": 360
    },
    "id": "QfNdfsn_w1fD",
    "outputId": "94579101-0beb-4969-a411-30e661498fb2"
   },
   "outputs": [
    {
     "name": "stdout",
     "output_type": "stream",
     "text": [
      "2/4 [==============>...............] - ETA: 0sWARNING:tensorflow:Callbacks method `on_predict_batch_end` is slow compared to the batch time (batch time: 0.0196s vs `on_predict_batch_end` time: 0.0483s). Check your callbacks.\n",
      "4/4 [==============================] - 0s 52ms/step\n",
      "test Cohen Kappa score: 0.708\n"
     ]
    }
   ],
   "source": [
    "test_preds_model4 = model_list[3].predict(x_tdata, verbose = 1)\n",
    "tpreds_ensemble.append(test_preds_model4)\n",
    "test_preds_model4 = [np.argmax(pred) for pred in test_preds_model4]\n",
    "print(\"test Cohen Kappa score: %.3f\" % cohen_kappa_score(test_preds_model4, test_gen1, weights='quadratic'))"
   ]
  },
  {
   "cell_type": "code",
   "execution_count": 88,
   "metadata": {
    "colab": {
     "base_uri": "https://localhost:8080/"
    },
    "executionInfo": {
     "elapsed": 1014,
     "status": "ok",
     "timestamp": 1604711068707,
     "user": {
      "displayName": "Jorge Diego Garcia Torres",
      "photoUrl": "https://lh3.googleusercontent.com/a-/AOh14GgUm411NCPxL0CyuKgBlBhJ9SxhXr8inmS25Nfq=s64",
      "userId": "03990517325461913005"
     },
     "user_tz": 360
    },
    "id": "9jSy4LAsxBPF",
    "outputId": "88bad09d-0c54-4f59-a5fe-f3e61cc86c34"
   },
   "outputs": [
    {
     "name": "stdout",
     "output_type": "stream",
     "text": [
      "2/4 [==============>...............] - ETA: 0sWARNING:tensorflow:Callbacks method `on_predict_batch_end` is slow compared to the batch time (batch time: 0.0196s vs `on_predict_batch_end` time: 0.0483s). Check your callbacks.\n",
      "4/4 [==============================] - 0s 52ms/step\n",
      "test Cohen Kappa score: 0.775\n"
     ]
    }
   ],
   "source": [
    "test_preds_model5 = model_list[4].predict(x_tdata, verbose = 1)\n",
    "tpreds_ensemble.append(test_preds_model5)\n",
    "test_preds_model5 = [np.argmax(pred) for pred in test_preds_model5]\n",
    "print(\"test Cohen Kappa score: %.3f\" % cohen_kappa_score(test_preds_model5, test_gen1, weights='quadratic'))"
   ]
  },
  {
   "cell_type": "code",
   "execution_count": 89,
   "metadata": {
    "executionInfo": {
     "elapsed": 951,
     "status": "ok",
     "timestamp": 1604711072024,
     "user": {
      "displayName": "Jorge Diego Garcia Torres",
      "photoUrl": "https://lh3.googleusercontent.com/a-/AOh14GgUm411NCPxL0CyuKgBlBhJ9SxhXr8inmS25Nfq=s64",
      "userId": "03990517325461913005"
     },
     "user_tz": 360
    },
    "id": "yPYCTn34xeHY"
   },
   "outputs": [],
   "source": [
    "t1preds_ensemble =  stats.trim_mean(tpreds_ensemble,.25, axis=0)\n",
    "t1preds_ensemble = [np.argmax(pred) for pred in t1preds_ensemble]"
   ]
  },
  {
   "cell_type": "code",
   "execution_count": 90,
   "metadata": {
    "colab": {
     "base_uri": "https://localhost:8080/"
    },
    "executionInfo": {
     "elapsed": 750,
     "status": "ok",
     "timestamp": 1604711074444,
     "user": {
      "displayName": "Jorge Diego Garcia Torres",
      "photoUrl": "https://lh3.googleusercontent.com/a-/AOh14GgUm411NCPxL0CyuKgBlBhJ9SxhXr8inmS25Nfq=s64",
      "userId": "03990517325461913005"
     },
     "user_tz": 360
    },
    "id": "Ll1L2hFb1aAz",
    "outputId": "65f4f945-990a-4cc7-8113-d20d881e69bf"
   },
   "outputs": [
    {
     "name": "stdout",
     "output_type": "stream",
     "text": [
      "Test Cohen Kappa score: 0.708\n"
     ]
    }
   ],
   "source": [
    "print(\"Test Cohen Kappa score: %.3f\" % cohen_kappa_score(t1preds_ensemble, test_gen1, weights='quadratic'))"
   ]
  },
  {
   "cell_type": "code",
   "execution_count": 91,
   "metadata": {
    "colab": {
     "base_uri": "https://localhost:8080/",
     "height": 484
    },
    "executionInfo": {
     "elapsed": 749,
     "status": "ok",
     "timestamp": 1604711086193,
     "user": {
      "displayName": "Jorge Diego Garcia Torres",
      "photoUrl": "https://lh3.googleusercontent.com/a-/AOh14GgUm411NCPxL0CyuKgBlBhJ9SxhXr8inmS25Nfq=s64",
      "userId": "03990517325461913005"
     },
     "user_tz": 360
    },
    "id": "zTRxC_tl8qvS",
    "outputId": "7940aa84-7d17-4f49-9ba7-8ec3c729f955"
   },
   "outputs": [
    {
     "data": {
      "image/png": "[encoded data removed]",
      "text/plain": [
       "<Figure size 576x396 with 2 Axes>"
      ]
     },
     "metadata": {
      "tags": []
     },
     "output_type": "display_data"
    }
   ],
   "source": [
    "labels = ['0 - No DR', '1 - Leve', '2 - Moderada', '3 - Severa', '4 - Proliferativa DR']\n",
    "plot_conf_matrix(t1preds_ensemble,test_gen1,labels)"
   ]
  },
  {
   "cell_type": "code",
   "execution_count": 92,
   "metadata": {
    "colab": {
     "base_uri": "https://localhost:8080/",
     "height": 365
    },
    "executionInfo": {
     "elapsed": 1003,
     "status": "ok",
     "timestamp": 1604711090760,
     "user": {
      "displayName": "Jorge Diego Garcia Torres",
      "photoUrl": "https://lh3.googleusercontent.com/a-/AOh14GgUm411NCPxL0CyuKgBlBhJ9SxhXr8inmS25Nfq=s64",
      "userId": "03990517325461913005"
     },
     "user_tz": 360
    },
    "id": "JVIS9x6587u8",
    "outputId": "7145b65e-8be5-4c1c-8104-5dee02571225"
   },
   "outputs": [
    {
     "data": {
      "image/png": "[encoded data removed]",
      "text/plain": [
       "<Figure size 1152x504 with 2 Axes>"
      ]
     },
     "metadata": {
      "tags": []
     },
     "output_type": "display_data"
    }
   ],
   "source": [
    "cnf_matrix = confusion_matrix(t1preds_ensemble, test_gen1)\n",
    "cnf_matrix_norm = cnf_matrix.astype('float') / cnf_matrix.sum(axis=1)[:, np.newaxis]\n",
    "df_cm = pd.DataFrame(cnf_matrix_norm, index=labels, columns=labels)\n",
    "plt.figure(figsize=(16, 7))\n",
    "sns.heatmap(df_cm, annot=True, fmt='.2f', cmap=\"Blues\")\n",
    "plt.show()"
   ]
  },
  {
   "cell_type": "code",
   "execution_count": 93,
   "metadata": {
    "executionInfo": {
     "elapsed": 407,
     "status": "ok",
     "timestamp": 1604711094415,
     "user": {
      "displayName": "Jorge Diego Garcia Torres",
      "photoUrl": "https://lh3.googleusercontent.com/a-/AOh14GgUm411NCPxL0CyuKgBlBhJ9SxhXr8inmS25Nfq=s64",
      "userId": "03990517325461913005"
     },
     "user_tz": 360
    },
    "id": "f0cca2dA9Hfk"
   },
   "outputs": [],
   "source": [
    "cf = cnf_matrix"
   ]
  },
  {
   "cell_type": "code",
   "execution_count": null,
   "metadata": {
    "id": "e_CuhQbR9Out"
   },
   "outputs": [],
   "source": []
  },
  {
   "cell_type": "code",
   "execution_count": 94,
   "metadata": {
    "colab": {
     "base_uri": "https://localhost:8080/"
    },
    "executionInfo": {
     "elapsed": 533,
     "status": "ok",
     "timestamp": 1604711096291,
     "user": {
      "displayName": "Jorge Diego Garcia Torres",
      "photoUrl": "https://lh3.googleusercontent.com/a-/AOh14GgUm411NCPxL0CyuKgBlBhJ9SxhXr8inmS25Nfq=s64",
      "userId": "03990517325461913005"
     },
     "user_tz": 360
    },
    "id": "FhIbQdWH9O8_",
    "outputId": "3f945001-65e7-4bee-cdec-c238ce907e54"
   },
   "outputs": [
    {
     "name": "stdout",
     "output_type": "stream",
     "text": [
      "FP\n",
      "[ 0  5 13 14  7]\n",
      "FN\n",
      "[17  0 12  4  6]\n",
      "TP\n",
      "[34  0 19  5  6]\n",
      "TN\n",
      "[52 98 59 80 84]\n",
      "Sensitivity\n",
      "[0.66666667        nan 0.61290323 0.55555556 0.5       ]\n",
      "Specificity\n",
      "[1.         0.95145631 0.81944444 0.85106383 0.92307692]\n",
      "Precision\n",
      "[1.         0.         0.59375    0.26315789 0.46153846]\n",
      "[0.75362319 1.         0.83098592 0.95238095 0.93333333]\n",
      "[0.         0.04854369 0.18055556 0.14893617 0.07692308]\n",
      "[0.33333333        nan 0.38709677 0.44444444 0.5       ]\n",
      "[0.         1.         0.40625    0.73684211 0.53846154]\n",
      "Acc\n",
      "[0.83495146 0.95145631 0.75728155 0.82524272 0.87378641]\n",
      "Sensitivity mean\n",
      "nan\n",
      "Specificity mean\n",
      "0.9090083015976426\n",
      "Precision mean\n",
      "0.46368927125506076\n"
     ]
    }
   ],
   "source": [
    "FP = cf.sum(axis=0) - np.diag(cf)  \n",
    "FN = cf.sum(axis=1) - np.diag(cf)\n",
    "TP = np.diag(cf)\n",
    "TN = cf.sum() - (FP + FN + TP)\n",
    "\n",
    "# Sensitivity, hit rate, recall, or true positive rate\n",
    "TPR = TP/(TP+FN)\n",
    "# Specificity or true negative rate\n",
    "TNR = TN/(TN+FP) \n",
    "# Precision or positive predictive value\n",
    "PPV = TP/(TP+FP)\n",
    "# Negative predictive value\n",
    "NPV = TN/(TN+FN)\n",
    "# Fall out or false positive rate\n",
    "FPR = FP/(FP+TN)\n",
    "# False negative rate\n",
    "FNR = FN/(TP+FN)\n",
    "# False discovery rate\n",
    "FDR = FP/(TP+FP)\n",
    "\n",
    "# Overall accuracy\n",
    "ACC = (TP+TN)/(TP+FP+FN+TN)\n",
    "\n",
    "print('FP')\n",
    "print(FP)\n",
    "print('FN')\n",
    "print(FN)\n",
    "print('TP')\n",
    "print(TP)\n",
    "print('TN')\n",
    "print(TN)\n",
    "print('Sensitivity')\n",
    "print(TPR)\n",
    "print('Specificity')\n",
    "print(TNR)\n",
    "print('Precision')\n",
    "print(PPV)\n",
    "print(NPV)\n",
    "print(FPR)\n",
    "print(FNR)\n",
    "print(FDR)\n",
    "print('Acc')\n",
    "print(ACC)\n",
    "\n",
    "print('Sensitivity mean')\n",
    "print(np.mean(TPR))\n",
    "print('Specificity mean')\n",
    "print(np.mean(TNR))\n",
    "print('Precision mean')\n",
    "print(np.mean(PPV))\n"
   ]
  },
  {
   "cell_type": "code",
   "execution_count": 95,
   "metadata": {
    "colab": {
     "base_uri": "https://localhost:8080/"
    },
    "executionInfo": {
     "elapsed": 941,
     "status": "ok",
     "timestamp": 1604711105652,
     "user": {
      "displayName": "Jorge Diego Garcia Torres",
      "photoUrl": "https://lh3.googleusercontent.com/a-/AOh14GgUm411NCPxL0CyuKgBlBhJ9SxhXr8inmS25Nfq=s64",
      "userId": "03990517325461913005"
     },
     "user_tz": 360
    },
    "id": "hrdEhPsLlsaf",
    "outputId": "25c2e939-0fab-4174-fe85-9352158f5b6d"
   },
   "outputs": [
    {
     "name": "stdout",
     "output_type": "stream",
     "text": [
      "Test Cohen Kappa score: 0.708\n",
      "Test Accuracy score : 0.621\n",
      "F1 score: 0.621\n",
      "F1 score: 0.578\n",
      "F1 score: 0.448\n",
      "Recall: 0.621\n",
      "Recall: 0.621\n",
      "Recall: 0.464\n",
      "Precision: 0.621\n",
      "Precision: 0.576\n",
      "Precision: 0.467\n",
      "\n",
      " clasification report:\n",
      "                precision    recall  f1-score   support\n",
      "\n",
      "           0       0.67      1.00      0.80        34\n",
      "           1       0.00      0.00      0.00         5\n",
      "           2       0.61      0.59      0.60        32\n",
      "           3       0.56      0.26      0.36        19\n",
      "           4       0.50      0.46      0.48        13\n",
      "\n",
      "    accuracy                           0.62       103\n",
      "   macro avg       0.47      0.46      0.45       103\n",
      "weighted avg       0.58      0.62      0.58       103\n",
      "\n"
     ]
    }
   ],
   "source": [
    "print(\"Test Cohen Kappa score: %.3f\" % cohen_kappa_score(test_gen1, t1preds_ensemble, weights='quadratic'))\n",
    "print(\"Test Accuracy score : %.3f\" % accuracy_score(test_gen1, t1preds_ensemble))\n",
    "\n",
    "print('F1 score: %.3f' % f1_score(test_gen1, t1preds_ensemble,average='micro'))\n",
    "print('F1 score: %.3f' % f1_score(test_gen1, t1preds_ensemble,average='weighted'))\n",
    "print('F1 score: %.3f' % f1_score(test_gen1, t1preds_ensemble,average='macro'))\n",
    "\n",
    "print('Recall: %.3f' % recall_score(test_gen1, t1preds_ensemble,average='micro'))\n",
    "print('Recall: %.3f' % recall_score(test_gen1, t1preds_ensemble,average='weighted'))\n",
    "print('Recall: %.3f' % recall_score(test_gen1, t1preds_ensemble,average='macro'))\n",
    "\n",
    "print('Precision: %.3f' % precision_score(test_gen1, t1preds_ensemble,average='micro'))\n",
    "print('Precision: %.3f' % precision_score(test_gen1, t1preds_ensemble,average='weighted'))\n",
    "print('Precision: %.3f' % precision_score(test_gen1, t1preds_ensemble,average='macro'))\n",
    "\n",
    "print('\\n clasification report:\\n  ' + classification_report(test_gen1, t1preds_ensemble))"
   ]
  },
  {
   "cell_type": "markdown",
   "metadata": {
    "id": "-ennol5k7NAi"
   },
   "source": [
    "TTA"
   ]
  },
  {
   "cell_type": "code",
   "execution_count": 96,
   "metadata": {
    "executionInfo": {
     "elapsed": 546,
     "status": "ok",
     "timestamp": 1604711110574,
     "user": {
      "displayName": "Jorge Diego Garcia Torres",
      "photoUrl": "https://lh3.googleusercontent.com/a-/AOh14GgUm411NCPxL0CyuKgBlBhJ9SxhXr8inmS25Nfq=s64",
      "userId": "03990517325461913005"
     },
     "user_tz": 360
    },
    "id": "EOLVF_SV8Uf_"
   },
   "outputs": [],
   "source": [
    "def apply_tta(model, generator, steps=5):\n",
    "    step_size = generator.n//generator.batch_size\n",
    "    preds_tta = []\n",
    "    for i in range(steps):\n",
    "        generator.reset()\n",
    "        preds = model.predict_generator(generator, steps=step_size, verbose= 1)\n",
    "        preds_tta.append(preds)\n",
    "\n",
    "    return np.mean(preds_tta, axis=0)"
   ]
  },
  {
   "cell_type": "code",
   "execution_count": 97,
   "metadata": {
    "executionInfo": {
     "elapsed": 417,
     "status": "ok",
     "timestamp": 1604711111949,
     "user": {
      "displayName": "Jorge Diego Garcia Torres",
      "photoUrl": "https://lh3.googleusercontent.com/a-/AOh14GgUm411NCPxL0CyuKgBlBhJ9SxhXr8inmS25Nfq=s64",
      "userId": "03990517325461913005"
     },
     "user_tz": 360
    },
    "id": "yIwhgvWl7OZv"
   },
   "outputs": [],
   "source": [
    "def test_ensemble_preds(model_list, generator, steps=5):\n",
    "    preds_ensemble = []\n",
    "    for model in model_list:\n",
    "        preds = apply_tta(model, generator, steps)\n",
    "        preds_ensemble.append(preds)\n",
    "\n",
    "    return np.mean(preds_ensemble, axis=0)"
   ]
  },
  {
   "cell_type": "code",
   "execution_count": 98,
   "metadata": {
    "executionInfo": {
     "elapsed": 827,
     "status": "ok",
     "timestamp": 1604711114990,
     "user": {
      "displayName": "Jorge Diego Garcia Torres",
      "photoUrl": "https://lh3.googleusercontent.com/a-/AOh14GgUm411NCPxL0CyuKgBlBhJ9SxhXr8inmS25Nfq=s64",
      "userId": "03990517325461913005"
     },
     "user_tz": 360
    },
    "id": "eci9MKTgHn1i"
   },
   "outputs": [],
   "source": [
    "TTA_STEPS = 10"
   ]
  },
  {
   "cell_type": "code",
   "execution_count": 99,
   "metadata": {
    "executionInfo": {
     "elapsed": 2688,
     "status": "ok",
     "timestamp": 1604711124921,
     "user": {
      "displayName": "Jorge Diego Garcia Torres",
      "photoUrl": "https://lh3.googleusercontent.com/a-/AOh14GgUm411NCPxL0CyuKgBlBhJ9SxhXr8inmS25Nfq=s64",
      "userId": "03990517325461913005"
     },
     "user_tz": 360
    },
    "id": "f9fkdj3EnsEv"
   },
   "outputs": [],
   "source": [
    "tdata_gen.reset()\n",
    "\n",
    "x_tdata = np.zeros((103,224, 224, 3))\n",
    "y_test2 = np.array([[0,0,0,0,0]])\n",
    "\n",
    "for i in range(103):\n",
    "  y_test2 =np.append(y_test2, tdata_gen[i][1], axis=0)\n",
    "  x_tdata[i]= tdata_gen[i][0]\n",
    "\n",
    "y_test2 = np.delete(y_test2,0, axis=0)\n",
    "\n",
    "tdata_gen.reset()"
   ]
  },
  {
   "cell_type": "code",
   "execution_count": 100,
   "metadata": {
    "executionInfo": {
     "elapsed": 2865,
     "status": "ok",
     "timestamp": 1604711134077,
     "user": {
      "displayName": "Jorge Diego Garcia Torres",
      "photoUrl": "https://lh3.googleusercontent.com/a-/AOh14GgUm411NCPxL0CyuKgBlBhJ9SxhXr8inmS25Nfq=s64",
      "userId": "03990517325461913005"
     },
     "user_tz": 360
    },
    "id": "r1WF5a1tpRXz"
   },
   "outputs": [],
   "source": [
    "tdata_gen.reset()\n",
    "\n",
    "x_tdata1 = np.zeros((103,224, 224, 3))\n",
    "y_test12 = np.array([[0,0,0,0,0]])\n",
    "\n",
    "for i in range(103):\n",
    "  y_test12 =np.append(y_test12, tdata_gen[i][1], axis=0)\n",
    "  x_tdata1[i]= tdata_gen[i][0]\n",
    "\n",
    "y_test12 = np.delete(y_test12,0, axis=0)\n",
    "\n",
    "tdata_gen.reset()"
   ]
  },
  {
   "cell_type": "code",
   "execution_count": 101,
   "metadata": {
    "executionInfo": {
     "elapsed": 2569,
     "status": "ok",
     "timestamp": 1604711143392,
     "user": {
      "displayName": "Jorge Diego Garcia Torres",
      "photoUrl": "https://lh3.googleusercontent.com/a-/AOh14GgUm411NCPxL0CyuKgBlBhJ9SxhXr8inmS25Nfq=s64",
      "userId": "03990517325461913005"
     },
     "user_tz": 360
    },
    "id": "D6mldZGapYgs"
   },
   "outputs": [],
   "source": [
    "tdata_gen.reset()\n",
    "\n",
    "x_tdata2 = np.zeros((103,224, 224, 3))\n",
    "y_test22 = np.array([[0,0,0,0,0]])\n",
    "\n",
    "for i in range(103):\n",
    "  y_test22 =np.append(y_test22, tdata_gen[i][1], axis=0)\n",
    "  x_tdata2[i]= tdata_gen[i][0]\n",
    "\n",
    "y_test22 = np.delete(y_test22,0, axis=0)\n",
    "\n",
    "tdata_gen.reset()"
   ]
  },
  {
   "cell_type": "code",
   "execution_count": 102,
   "metadata": {
    "executionInfo": {
     "elapsed": 3290,
     "status": "ok",
     "timestamp": 1604711152612,
     "user": {
      "displayName": "Jorge Diego Garcia Torres",
      "photoUrl": "https://lh3.googleusercontent.com/a-/AOh14GgUm411NCPxL0CyuKgBlBhJ9SxhXr8inmS25Nfq=s64",
      "userId": "03990517325461913005"
     },
     "user_tz": 360
    },
    "id": "PrHn-DvMpfjC"
   },
   "outputs": [],
   "source": [
    "tdata_gen.reset()\n",
    "\n",
    "x_tdata3 = np.zeros((103,224, 224, 3))\n",
    "y_test32 = np.array([[0,0,0,0,0]])\n",
    "\n",
    "for i in range(103):\n",
    "  y_test32 =np.append(y_test32, tdata_gen[i][1], axis=0)\n",
    "  x_tdata3[i]= tdata_gen[i][0]\n",
    "\n",
    "y_test32 = np.delete(y_test32,0, axis=0)\n",
    "\n",
    "tdata_gen.reset()"
   ]
  },
  {
   "cell_type": "code",
   "execution_count": 103,
   "metadata": {
    "executionInfo": {
     "elapsed": 2597,
     "status": "ok",
     "timestamp": 1604711160601,
     "user": {
      "displayName": "Jorge Diego Garcia Torres",
      "photoUrl": "https://lh3.googleusercontent.com/a-/AOh14GgUm411NCPxL0CyuKgBlBhJ9SxhXr8inmS25Nfq=s64",
      "userId": "03990517325461913005"
     },
     "user_tz": 360
    },
    "id": "Gs4yvWcpqWR3"
   },
   "outputs": [],
   "source": [
    "tdata_gen.reset()\n",
    "\n",
    "x_tdata4 = np.zeros((103,224, 224, 3))\n",
    "y_test42 = np.array([[0,0,0,0,0]])\n",
    "\n",
    "for i in range(103):\n",
    "  y_test42 =np.append(y_test42, tdata_gen[i][1], axis=0)\n",
    "  x_tdata4[i]= tdata_gen[i][0]\n",
    "\n",
    "y_test42 = np.delete(y_test42,0, axis=0)\n",
    "\n",
    "tdata_gen.reset()"
   ]
  },
  {
   "cell_type": "code",
   "execution_count": 104,
   "metadata": {
    "executionInfo": {
     "elapsed": 2566,
     "status": "ok",
     "timestamp": 1604711168814,
     "user": {
      "displayName": "Jorge Diego Garcia Torres",
      "photoUrl": "https://lh3.googleusercontent.com/a-/AOh14GgUm411NCPxL0CyuKgBlBhJ9SxhXr8inmS25Nfq=s64",
      "userId": "03990517325461913005"
     },
     "user_tz": 360
    },
    "id": "ydMbUTXIq1vq"
   },
   "outputs": [],
   "source": [
    "tdata_gen.reset()\n",
    "\n",
    "x_tdata5 = np.zeros((103,224, 224, 3))\n",
    "y_test52 = np.array([[0,0,0,0,0]])\n",
    "\n",
    "for i in range(103):\n",
    "  y_test52 =np.append(y_test52, tdata_gen[i][1], axis=0)\n",
    "  x_tdata5[i]= tdata_gen[i][0]\n",
    "\n",
    "y_test52 = np.delete(y_test52,0, axis=0)\n",
    "\n",
    "tdata_gen.reset()"
   ]
  },
  {
   "cell_type": "code",
   "execution_count": 105,
   "metadata": {
    "executionInfo": {
     "elapsed": 542,
     "status": "ok",
     "timestamp": 1604711171434,
     "user": {
      "displayName": "Jorge Diego Garcia Torres",
      "photoUrl": "https://lh3.googleusercontent.com/a-/AOh14GgUm411NCPxL0CyuKgBlBhJ9SxhXr8inmS25Nfq=s64",
      "userId": "03990517325461913005"
     },
     "user_tz": 360
    },
    "id": "cwQ2mAKoteRC"
   },
   "outputs": [],
   "source": [
    "preds_ensemble = []"
   ]
  },
  {
   "cell_type": "code",
   "execution_count": 106,
   "metadata": {
    "executionInfo": {
     "elapsed": 803,
     "status": "ok",
     "timestamp": 1604711174253,
     "user": {
      "displayName": "Jorge Diego Garcia Torres",
      "photoUrl": "https://lh3.googleusercontent.com/a-/AOh14GgUm411NCPxL0CyuKgBlBhJ9SxhXr8inmS25Nfq=s64",
      "userId": "03990517325461913005"
     },
     "user_tz": 360
    },
    "id": "VJlyiYGQrmYp"
   },
   "outputs": [],
   "source": [
    "preds_tta = []"
   ]
  },
  {
   "cell_type": "code",
   "execution_count": 107,
   "metadata": {
    "colab": {
     "base_uri": "https://localhost:8080/"
    },
    "executionInfo": {
     "elapsed": 2432,
     "status": "ok",
     "timestamp": 1604711178683,
     "user": {
      "displayName": "Jorge Diego Garcia Torres",
      "photoUrl": "https://lh3.googleusercontent.com/a-/AOh14GgUm411NCPxL0CyuKgBlBhJ9SxhXr8inmS25Nfq=s64",
      "userId": "03990517325461913005"
     },
     "user_tz": 360
    },
    "id": "9AQ9Sf9Zr1fM",
    "outputId": "9862653b-23c3-4b8f-df8c-3f02c3904a5d"
   },
   "outputs": [
    {
     "name": "stdout",
     "output_type": "stream",
     "text": [
      "2/4 [==============>...............] - ETA: 0sWARNING:tensorflow:Callbacks method `on_predict_batch_end` is slow compared to the batch time (batch time: 0.0211s vs `on_predict_batch_end` time: 0.0512s). Check your callbacks.\n",
      "4/4 [==============================] - 0s 55ms/step\n",
      "2/4 [==============>...............] - ETA: 0sWARNING:tensorflow:Callbacks method `on_predict_batch_end` is slow compared to the batch time (batch time: 0.0193s vs `on_predict_batch_end` time: 0.0489s). Check your callbacks.\n",
      "4/4 [==============================] - 0s 51ms/step\n",
      "2/4 [==============>...............] - ETA: 0sWARNING:tensorflow:Callbacks method `on_predict_batch_end` is slow compared to the batch time (batch time: 0.0198s vs `on_predict_batch_end` time: 0.0483s). Check your callbacks.\n",
      "4/4 [==============================] - 0s 52ms/step\n",
      "2/4 [==============>...............] - ETA: 0sWARNING:tensorflow:Callbacks method `on_predict_batch_end` is slow compared to the batch time (batch time: 0.0194s vs `on_predict_batch_end` time: 0.0489s). Check your callbacks.\n",
      "4/4 [==============================] - 0s 52ms/step\n",
      "2/4 [==============>...............] - ETA: 0sWARNING:tensorflow:Callbacks method `on_predict_batch_end` is slow compared to the batch time (batch time: 0.0192s vs `on_predict_batch_end` time: 0.0487s). Check your callbacks.\n",
      "4/4 [==============================] - 0s 52ms/step\n",
      "2/4 [==============>...............] - ETA: 0sWARNING:tensorflow:Callbacks method `on_predict_batch_end` is slow compared to the batch time (batch time: 0.0191s vs `on_predict_batch_end` time: 0.0486s). Check your callbacks.\n",
      "4/4 [==============================] - 0s 52ms/step\n"
     ]
    }
   ],
   "source": [
    "test_preds_model1 = model_list[0].predict(x_tdata, verbose = 1)\n",
    "preds_tta.append(test_preds_model1)\n",
    "\n",
    "test_preds_model1 = model_list[0].predict(x_tdata1, verbose = 1)\n",
    "preds_tta.append(test_preds_model1)\n",
    "\n",
    "test_preds_model1 = model_list[0].predict(x_tdata2, verbose = 1)\n",
    "preds_tta.append(test_preds_model1)\n",
    "\n",
    "test_preds_model1 = model_list[0].predict(x_tdata3, verbose = 1)\n",
    "preds_tta.append(test_preds_model1)\n",
    "\n",
    "test_preds_model1 = model_list[0].predict(x_tdata4, verbose = 1)\n",
    "preds_tta.append(test_preds_model1)\n",
    "\n",
    "test_preds_model1 = model_list[0].predict(x_tdata5, verbose = 1)\n",
    "preds_tta.append(test_preds_model1)\n",
    "\n",
    "test_model1 = np.mean(preds_tta, axis=0)"
   ]
  },
  {
   "cell_type": "code",
   "execution_count": 108,
   "metadata": {
    "executionInfo": {
     "elapsed": 531,
     "status": "ok",
     "timestamp": 1604711181396,
     "user": {
      "displayName": "Jorge Diego Garcia Torres",
      "photoUrl": "https://lh3.googleusercontent.com/a-/AOh14GgUm411NCPxL0CyuKgBlBhJ9SxhXr8inmS25Nfq=s64",
      "userId": "03990517325461913005"
     },
     "user_tz": 360
    },
    "id": "8ZcFarA2tCLp"
   },
   "outputs": [],
   "source": [
    "preds_ensemble.append(test_model1)"
   ]
  },
  {
   "cell_type": "code",
   "execution_count": 109,
   "metadata": {
    "executionInfo": {
     "elapsed": 789,
     "status": "ok",
     "timestamp": 1604711183436,
     "user": {
      "displayName": "Jorge Diego Garcia Torres",
      "photoUrl": "https://lh3.googleusercontent.com/a-/AOh14GgUm411NCPxL0CyuKgBlBhJ9SxhXr8inmS25Nfq=s64",
      "userId": "03990517325461913005"
     },
     "user_tz": 360
    },
    "id": "NOj-Z0vCt-Ta"
   },
   "outputs": [],
   "source": [
    "preds_tta = []"
   ]
  },
  {
   "cell_type": "code",
   "execution_count": 110,
   "metadata": {
    "colab": {
     "base_uri": "https://localhost:8080/"
    },
    "executionInfo": {
     "elapsed": 2373,
     "status": "ok",
     "timestamp": 1604711188204,
     "user": {
      "displayName": "Jorge Diego Garcia Torres",
      "photoUrl": "https://lh3.googleusercontent.com/a-/AOh14GgUm411NCPxL0CyuKgBlBhJ9SxhXr8inmS25Nfq=s64",
      "userId": "03990517325461913005"
     },
     "user_tz": 360
    },
    "id": "H2nUagGTt_0T",
    "outputId": "c01443d8-4eb8-4e6e-907e-af7096086a16"
   },
   "outputs": [
    {
     "name": "stdout",
     "output_type": "stream",
     "text": [
      "2/4 [==============>...............] - ETA: 0sWARNING:tensorflow:Callbacks method `on_predict_batch_end` is slow compared to the batch time (batch time: 0.0191s vs `on_predict_batch_end` time: 0.0529s). Check your callbacks.\n",
      "4/4 [==============================] - 0s 56ms/step\n",
      "2/4 [==============>...............] - ETA: 0sWARNING:tensorflow:Callbacks method `on_predict_batch_end` is slow compared to the batch time (batch time: 0.0213s vs `on_predict_batch_end` time: 0.0466s). Check your callbacks.\n",
      "4/4 [==============================] - 0s 53ms/step\n",
      "2/4 [==============>...............] - ETA: 0sWARNING:tensorflow:Callbacks method `on_predict_batch_end` is slow compared to the batch time (batch time: 0.0192s vs `on_predict_batch_end` time: 0.0489s). Check your callbacks.\n",
      "4/4 [==============================] - 0s 52ms/step\n",
      "2/4 [==============>...............] - ETA: 0sWARNING:tensorflow:Callbacks method `on_predict_batch_end` is slow compared to the batch time (batch time: 0.0194s vs `on_predict_batch_end` time: 0.0485s). Check your callbacks.\n",
      "4/4 [==============================] - 0s 52ms/step\n",
      "2/4 [==============>...............] - ETA: 0sWARNING:tensorflow:Callbacks method `on_predict_batch_end` is slow compared to the batch time (batch time: 0.0192s vs `on_predict_batch_end` time: 0.0486s). Check your callbacks.\n",
      "4/4 [==============================] - 0s 52ms/step\n",
      "2/4 [==============>...............] - ETA: 0sWARNING:tensorflow:Callbacks method `on_predict_batch_end` is slow compared to the batch time (batch time: 0.0197s vs `on_predict_batch_end` time: 0.0481s). Check your callbacks.\n",
      "4/4 [==============================] - 0s 52ms/step\n"
     ]
    }
   ],
   "source": [
    "test_preds_model2 = model_list[1].predict(x_tdata, verbose = 1)\n",
    "preds_tta.append(test_preds_model2)\n",
    "\n",
    "test_preds_model2 = model_list[1].predict(x_tdata1, verbose = 1)\n",
    "preds_tta.append(test_preds_model2)\n",
    "\n",
    "test_preds_model2 = model_list[1].predict(x_tdata2, verbose = 1)\n",
    "preds_tta.append(test_preds_model2)\n",
    "\n",
    "test_preds_model2 = model_list[1].predict(x_tdata3, verbose = 1)\n",
    "preds_tta.append(test_preds_model2)\n",
    "\n",
    "test_preds_model2 = model_list[1].predict(x_tdata4, verbose = 1)\n",
    "preds_tta.append(test_preds_model2)\n",
    "\n",
    "test_preds_model2 = model_list[1].predict(x_tdata5, verbose = 1)\n",
    "preds_tta.append(test_preds_model2)\n",
    "\n",
    "test_model2 = np.mean(preds_tta, axis=0)"
   ]
  },
  {
   "cell_type": "code",
   "execution_count": 111,
   "metadata": {
    "executionInfo": {
     "elapsed": 585,
     "status": "ok",
     "timestamp": 1604711190893,
     "user": {
      "displayName": "Jorge Diego Garcia Torres",
      "photoUrl": "https://lh3.googleusercontent.com/a-/AOh14GgUm411NCPxL0CyuKgBlBhJ9SxhXr8inmS25Nfq=s64",
      "userId": "03990517325461913005"
     },
     "user_tz": 360
    },
    "id": "--zCwggquvR9"
   },
   "outputs": [],
   "source": [
    "preds_ensemble.append(test_model2)"
   ]
  },
  {
   "cell_type": "code",
   "execution_count": 112,
   "metadata": {
    "executionInfo": {
     "elapsed": 667,
     "status": "ok",
     "timestamp": 1604711192833,
     "user": {
      "displayName": "Jorge Diego Garcia Torres",
      "photoUrl": "https://lh3.googleusercontent.com/a-/AOh14GgUm411NCPxL0CyuKgBlBhJ9SxhXr8inmS25Nfq=s64",
      "userId": "03990517325461913005"
     },
     "user_tz": 360
    },
    "id": "d30oWZffu0XK"
   },
   "outputs": [],
   "source": [
    "preds_tta = []"
   ]
  },
  {
   "cell_type": "code",
   "execution_count": 113,
   "metadata": {
    "colab": {
     "base_uri": "https://localhost:8080/"
    },
    "executionInfo": {
     "elapsed": 2588,
     "status": "ok",
     "timestamp": 1604711197443,
     "user": {
      "displayName": "Jorge Diego Garcia Torres",
      "photoUrl": "https://lh3.googleusercontent.com/a-/AOh14GgUm411NCPxL0CyuKgBlBhJ9SxhXr8inmS25Nfq=s64",
      "userId": "03990517325461913005"
     },
     "user_tz": 360
    },
    "id": "hwtpBIofu4Ei",
    "outputId": "1750b4bb-8ed7-4828-ea9d-fb719e80074a"
   },
   "outputs": [
    {
     "name": "stdout",
     "output_type": "stream",
     "text": [
      "2/4 [==============>...............] - ETA: 0sWARNING:tensorflow:Callbacks method `on_predict_batch_end` is slow compared to the batch time (batch time: 0.0222s vs `on_predict_batch_end` time: 0.0469s). Check your callbacks.\n",
      "4/4 [==============================] - 0s 52ms/step\n",
      "2/4 [==============>...............] - ETA: 0sWARNING:tensorflow:Callbacks method `on_predict_batch_end` is slow compared to the batch time (batch time: 0.0191s vs `on_predict_batch_end` time: 0.0491s). Check your callbacks.\n",
      "4/4 [==============================] - 0s 52ms/step\n",
      "2/4 [==============>...............] - ETA: 0sWARNING:tensorflow:Callbacks method `on_predict_batch_end` is slow compared to the batch time (batch time: 0.0190s vs `on_predict_batch_end` time: 0.0489s). Check your callbacks.\n",
      "4/4 [==============================] - 0s 52ms/step\n",
      "2/4 [==============>...............] - ETA: 0sWARNING:tensorflow:Callbacks method `on_predict_batch_end` is slow compared to the batch time (batch time: 0.0240s vs `on_predict_batch_end` time: 0.0444s). Check your callbacks.\n",
      "4/4 [==============================] - 0s 53ms/step\n",
      "2/4 [==============>...............] - ETA: 0sWARNING:tensorflow:Callbacks method `on_predict_batch_end` is slow compared to the batch time (batch time: 0.0182s vs `on_predict_batch_end` time: 0.0493s). Check your callbacks.\n",
      "4/4 [==============================] - 0s 52ms/step\n",
      "2/4 [==============>...............] - ETA: 0sWARNING:tensorflow:Callbacks method `on_predict_batch_end` is slow compared to the batch time (batch time: 0.0194s vs `on_predict_batch_end` time: 0.0487s). Check your callbacks.\n",
      "4/4 [==============================] - 0s 52ms/step\n"
     ]
    }
   ],
   "source": [
    "test_preds_model3 = model_list[2].predict(x_tdata, verbose = 1)\n",
    "preds_tta.append(test_preds_model3)\n",
    "\n",
    "test_preds_model3 = model_list[2].predict(x_tdata1, verbose = 1)\n",
    "preds_tta.append(test_preds_model3)\n",
    "\n",
    "test_preds_model3 = model_list[2].predict(x_tdata2, verbose = 1)\n",
    "preds_tta.append(test_preds_model3)\n",
    "\n",
    "test_preds_model3 = model_list[2].predict(x_tdata3, verbose = 1)\n",
    "preds_tta.append(test_preds_model3)\n",
    "\n",
    "test_preds_model3 = model_list[2].predict(x_tdata4, verbose = 1)\n",
    "preds_tta.append(test_preds_model3)\n",
    "\n",
    "test_preds_model3 = model_list[2].predict(x_tdata5, verbose = 1)\n",
    "preds_tta.append(test_preds_model3)\n",
    "\n",
    "test_model3 = np.mean(preds_tta, axis=0)"
   ]
  },
  {
   "cell_type": "code",
   "execution_count": 114,
   "metadata": {
    "executionInfo": {
     "elapsed": 800,
     "status": "ok",
     "timestamp": 1604711200907,
     "user": {
      "displayName": "Jorge Diego Garcia Torres",
      "photoUrl": "https://lh3.googleusercontent.com/a-/AOh14GgUm411NCPxL0CyuKgBlBhJ9SxhXr8inmS25Nfq=s64",
      "userId": "03990517325461913005"
     },
     "user_tz": 360
    },
    "id": "yGKom6BwvJ20"
   },
   "outputs": [],
   "source": [
    "preds_ensemble.append(test_model3)"
   ]
  },
  {
   "cell_type": "code",
   "execution_count": 115,
   "metadata": {
    "executionInfo": {
     "elapsed": 464,
     "status": "ok",
     "timestamp": 1604711202259,
     "user": {
      "displayName": "Jorge Diego Garcia Torres",
      "photoUrl": "https://lh3.googleusercontent.com/a-/AOh14GgUm411NCPxL0CyuKgBlBhJ9SxhXr8inmS25Nfq=s64",
      "userId": "03990517325461913005"
     },
     "user_tz": 360
    },
    "id": "CjM_F8CmvOsf"
   },
   "outputs": [],
   "source": [
    "preds_tta = []"
   ]
  },
  {
   "cell_type": "code",
   "execution_count": 116,
   "metadata": {
    "colab": {
     "base_uri": "https://localhost:8080/"
    },
    "executionInfo": {
     "elapsed": 2353,
     "status": "ok",
     "timestamp": 1604711206146,
     "user": {
      "displayName": "Jorge Diego Garcia Torres",
      "photoUrl": "https://lh3.googleusercontent.com/a-/AOh14GgUm411NCPxL0CyuKgBlBhJ9SxhXr8inmS25Nfq=s64",
      "userId": "03990517325461913005"
     },
     "user_tz": 360
    },
    "id": "PILflOzBvTxA",
    "outputId": "68d0ce59-6c5b-4d37-c242-300273bbba74"
   },
   "outputs": [
    {
     "name": "stdout",
     "output_type": "stream",
     "text": [
      "2/4 [==============>...............] - ETA: 0sWARNING:tensorflow:Callbacks method `on_predict_batch_end` is slow compared to the batch time (batch time: 0.0197s vs `on_predict_batch_end` time: 0.0481s). Check your callbacks.\n",
      "4/4 [==============================] - 0s 52ms/step\n",
      "2/4 [==============>...............] - ETA: 0sWARNING:tensorflow:Callbacks method `on_predict_batch_end` is slow compared to the batch time (batch time: 0.0187s vs `on_predict_batch_end` time: 0.0488s). Check your callbacks.\n",
      "4/4 [==============================] - 0s 52ms/step\n",
      "2/4 [==============>...............] - ETA: 0sWARNING:tensorflow:Callbacks method `on_predict_batch_end` is slow compared to the batch time (batch time: 0.0196s vs `on_predict_batch_end` time: 0.0485s). Check your callbacks.\n",
      "4/4 [==============================] - 0s 52ms/step\n",
      "2/4 [==============>...............] - ETA: 0sWARNING:tensorflow:Callbacks method `on_predict_batch_end` is slow compared to the batch time (batch time: 0.0200s vs `on_predict_batch_end` time: 0.0484s). Check your callbacks.\n",
      "4/4 [==============================] - 0s 52ms/step\n",
      "2/4 [==============>...............] - ETA: 0sWARNING:tensorflow:Callbacks method `on_predict_batch_end` is slow compared to the batch time (batch time: 0.0187s vs `on_predict_batch_end` time: 0.0490s). Check your callbacks.\n",
      "4/4 [==============================] - 0s 52ms/step\n",
      "2/4 [==============>...............] - ETA: 0sWARNING:tensorflow:Callbacks method `on_predict_batch_end` is slow compared to the batch time (batch time: 0.0198s vs `on_predict_batch_end` time: 0.0482s). Check your callbacks.\n",
      "4/4 [==============================] - 0s 52ms/step\n"
     ]
    }
   ],
   "source": [
    "test_preds_model3 = model_list[3].predict(x_tdata, verbose = 1)\n",
    "preds_tta.append(test_preds_model3)\n",
    "\n",
    "test_preds_model3 = model_list[3].predict(x_tdata1, verbose = 1)\n",
    "preds_tta.append(test_preds_model3)\n",
    "\n",
    "test_preds_model3 = model_list[3].predict(x_tdata2, verbose = 1)\n",
    "preds_tta.append(test_preds_model3)\n",
    "\n",
    "test_preds_model3 = model_list[3].predict(x_tdata3, verbose = 1)\n",
    "preds_tta.append(test_preds_model3)\n",
    "\n",
    "test_preds_model3 = model_list[3].predict(x_tdata4, verbose = 1)\n",
    "preds_tta.append(test_preds_model3)\n",
    "\n",
    "test_preds_model3 = model_list[3].predict(x_tdata5, verbose = 1)\n",
    "preds_tta.append(test_preds_model3)\n",
    "\n",
    "test_model4 = np.mean(preds_tta, axis=0)"
   ]
  },
  {
   "cell_type": "code",
   "execution_count": 117,
   "metadata": {
    "executionInfo": {
     "elapsed": 589,
     "status": "ok",
     "timestamp": 1604711208760,
     "user": {
      "displayName": "Jorge Diego Garcia Torres",
      "photoUrl": "https://lh3.googleusercontent.com/a-/AOh14GgUm411NCPxL0CyuKgBlBhJ9SxhXr8inmS25Nfq=s64",
      "userId": "03990517325461913005"
     },
     "user_tz": 360
    },
    "id": "GWgFQrBzve-0"
   },
   "outputs": [],
   "source": [
    "preds_ensemble.append(test_model4)"
   ]
  },
  {
   "cell_type": "code",
   "execution_count": 118,
   "metadata": {
    "executionInfo": {
     "elapsed": 608,
     "status": "ok",
     "timestamp": 1604711210452,
     "user": {
      "displayName": "Jorge Diego Garcia Torres",
      "photoUrl": "https://lh3.googleusercontent.com/a-/AOh14GgUm411NCPxL0CyuKgBlBhJ9SxhXr8inmS25Nfq=s64",
      "userId": "03990517325461913005"
     },
     "user_tz": 360
    },
    "id": "FL0O4Bw4vmit"
   },
   "outputs": [],
   "source": [
    "preds_tta = []"
   ]
  },
  {
   "cell_type": "code",
   "execution_count": 119,
   "metadata": {
    "colab": {
     "base_uri": "https://localhost:8080/"
    },
    "executionInfo": {
     "elapsed": 2250,
     "status": "ok",
     "timestamp": 1604711214612,
     "user": {
      "displayName": "Jorge Diego Garcia Torres",
      "photoUrl": "https://lh3.googleusercontent.com/a-/AOh14GgUm411NCPxL0CyuKgBlBhJ9SxhXr8inmS25Nfq=s64",
      "userId": "03990517325461913005"
     },
     "user_tz": 360
    },
    "id": "yiMi6Z36vpf3",
    "outputId": "b81011e1-c10d-481b-d5c6-6e6634f6f573"
   },
   "outputs": [
    {
     "name": "stdout",
     "output_type": "stream",
     "text": [
      "2/4 [==============>...............] - ETA: 0sWARNING:tensorflow:Callbacks method `on_predict_batch_end` is slow compared to the batch time (batch time: 0.0211s vs `on_predict_batch_end` time: 0.0469s). Check your callbacks.\n",
      "4/4 [==============================] - 0s 52ms/step\n",
      "2/4 [==============>...............] - ETA: 0sWARNING:tensorflow:Callbacks method `on_predict_batch_end` is slow compared to the batch time (batch time: 0.0193s vs `on_predict_batch_end` time: 0.0484s). Check your callbacks.\n",
      "4/4 [==============================] - 0s 52ms/step\n",
      "2/4 [==============>...............] - ETA: 0sWARNING:tensorflow:Callbacks method `on_predict_batch_end` is slow compared to the batch time (batch time: 0.0187s vs `on_predict_batch_end` time: 0.0491s). Check your callbacks.\n",
      "4/4 [==============================] - 0s 52ms/step\n",
      "2/4 [==============>...............] - ETA: 0sWARNING:tensorflow:Callbacks method `on_predict_batch_end` is slow compared to the batch time (batch time: 0.0201s vs `on_predict_batch_end` time: 0.0481s). Check your callbacks.\n",
      "4/4 [==============================] - 0s 52ms/step\n",
      "2/4 [==============>...............] - ETA: 0sWARNING:tensorflow:Callbacks method `on_predict_batch_end` is slow compared to the batch time (batch time: 0.0240s vs `on_predict_batch_end` time: 0.0440s). Check your callbacks.\n",
      "4/4 [==============================] - 0s 51ms/step\n",
      "2/4 [==============>...............] - ETA: 0sWARNING:tensorflow:Callbacks method `on_predict_batch_end` is slow compared to the batch time (batch time: 0.0206s vs `on_predict_batch_end` time: 0.0482s). Check your callbacks.\n",
      "4/4 [==============================] - 0s 52ms/step\n"
     ]
    }
   ],
   "source": [
    "test_preds_model3 = model_list[4].predict(x_tdata, verbose = 1)\n",
    "preds_tta.append(test_preds_model3)\n",
    "\n",
    "test_preds_model3 = model_list[4].predict(x_tdata1, verbose = 1)\n",
    "preds_tta.append(test_preds_model3)\n",
    "\n",
    "test_preds_model3 = model_list[4].predict(x_tdata2, verbose = 1)\n",
    "preds_tta.append(test_preds_model3)\n",
    "\n",
    "test_preds_model3 = model_list[4].predict(x_tdata3, verbose = 1)\n",
    "preds_tta.append(test_preds_model3)\n",
    "\n",
    "test_preds_model3 = model_list[4].predict(x_tdata4, verbose = 1)\n",
    "preds_tta.append(test_preds_model3)\n",
    "\n",
    "test_preds_model3 = model_list[4].predict(x_tdata5, verbose = 1)\n",
    "preds_tta.append(test_preds_model3)\n",
    "\n",
    "test_model5 = np.mean(preds_tta, axis=0)"
   ]
  },
  {
   "cell_type": "code",
   "execution_count": 120,
   "metadata": {
    "executionInfo": {
     "elapsed": 546,
     "status": "ok",
     "timestamp": 1604711216529,
     "user": {
      "displayName": "Jorge Diego Garcia Torres",
      "photoUrl": "https://lh3.googleusercontent.com/a-/AOh14GgUm411NCPxL0CyuKgBlBhJ9SxhXr8inmS25Nfq=s64",
      "userId": "03990517325461913005"
     },
     "user_tz": 360
    },
    "id": "6amZzSiawNfN"
   },
   "outputs": [],
   "source": [
    "preds_ensemble.append(test_model5)"
   ]
  },
  {
   "cell_type": "code",
   "execution_count": 121,
   "metadata": {
    "executionInfo": {
     "elapsed": 754,
     "status": "ok",
     "timestamp": 1604711218296,
     "user": {
      "displayName": "Jorge Diego Garcia Torres",
      "photoUrl": "https://lh3.googleusercontent.com/a-/AOh14GgUm411NCPxL0CyuKgBlBhJ9SxhXr8inmS25Nfq=s64",
      "userId": "03990517325461913005"
     },
     "user_tz": 360
    },
    "id": "SRm9eDl0wWww"
   },
   "outputs": [],
   "source": [
    "preds_tta = []"
   ]
  },
  {
   "cell_type": "code",
   "execution_count": 122,
   "metadata": {
    "executionInfo": {
     "elapsed": 319,
     "status": "ok",
     "timestamp": 1604711219389,
     "user": {
      "displayName": "Jorge Diego Garcia Torres",
      "photoUrl": "https://lh3.googleusercontent.com/a-/AOh14GgUm411NCPxL0CyuKgBlBhJ9SxhXr8inmS25Nfq=s64",
      "userId": "03990517325461913005"
     },
     "user_tz": 360
    },
    "id": "KIEVrJSZwYrC"
   },
   "outputs": [],
   "source": [
    "ttapreds= np.mean(preds_ensemble, axis=0)"
   ]
  },
  {
   "cell_type": "code",
   "execution_count": 123,
   "metadata": {
    "executionInfo": {
     "elapsed": 850,
     "status": "ok",
     "timestamp": 1604711221506,
     "user": {
      "displayName": "Jorge Diego Garcia Torres",
      "photoUrl": "https://lh3.googleusercontent.com/a-/AOh14GgUm411NCPxL0CyuKgBlBhJ9SxhXr8inmS25Nfq=s64",
      "userId": "03990517325461913005"
     },
     "user_tz": 360
    },
    "id": "BE7kkqRjwqMQ"
   },
   "outputs": [],
   "source": [
    "ttapreds1 = [np.argmax(pred) for pred in ttapreds]"
   ]
  },
  {
   "cell_type": "code",
   "execution_count": 124,
   "metadata": {
    "colab": {
     "base_uri": "https://localhost:8080/"
    },
    "executionInfo": {
     "elapsed": 376,
     "status": "ok",
     "timestamp": 1604711222765,
     "user": {
      "displayName": "Jorge Diego Garcia Torres",
      "photoUrl": "https://lh3.googleusercontent.com/a-/AOh14GgUm411NCPxL0CyuKgBlBhJ9SxhXr8inmS25Nfq=s64",
      "userId": "03990517325461913005"
     },
     "user_tz": 360
    },
    "id": "suz1lnpCxwTs",
    "outputId": "cba5644e-da67-49a9-e02b-dcdae5c83d46"
   },
   "outputs": [
    {
     "data": {
      "text/plain": [
       "True"
      ]
     },
     "execution_count": 124,
     "metadata": {
      "tags": []
     },
     "output_type": "execute_result"
    }
   ],
   "source": [
    "c=y_test2 == y_test32\n",
    "c.all()"
   ]
  },
  {
   "cell_type": "code",
   "execution_count": 125,
   "metadata": {
    "executionInfo": {
     "elapsed": 797,
     "status": "ok",
     "timestamp": 1604711226037,
     "user": {
      "displayName": "Jorge Diego Garcia Torres",
      "photoUrl": "https://lh3.googleusercontent.com/a-/AOh14GgUm411NCPxL0CyuKgBlBhJ9SxhXr8inmS25Nfq=s64",
      "userId": "03990517325461913005"
     },
     "user_tz": 360
    },
    "id": "47nZaYMVyQk6"
   },
   "outputs": [],
   "source": [
    "y_test2tta = [np.argmax(pred) for pred in y_test2]"
   ]
  },
  {
   "cell_type": "code",
   "execution_count": 126,
   "metadata": {
    "colab": {
     "base_uri": "https://localhost:8080/"
    },
    "executionInfo": {
     "elapsed": 512,
     "status": "ok",
     "timestamp": 1604711227882,
     "user": {
      "displayName": "Jorge Diego Garcia Torres",
      "photoUrl": "https://lh3.googleusercontent.com/a-/AOh14GgUm411NCPxL0CyuKgBlBhJ9SxhXr8inmS25Nfq=s64",
      "userId": "03990517325461913005"
     },
     "user_tz": 360
    },
    "id": "mzsEBYbNxdEX",
    "outputId": "978b6d64-cff2-409e-e277-56c432fe7528"
   },
   "outputs": [
    {
     "name": "stdout",
     "output_type": "stream",
     "text": [
      "test Cohen Kappa score: 0.713\n"
     ]
    }
   ],
   "source": [
    "print(\"test Cohen Kappa score: %.3f\" % cohen_kappa_score(ttapreds1, y_test2tta, weights='quadratic'))"
   ]
  },
  {
   "cell_type": "code",
   "execution_count": 127,
   "metadata": {
    "colab": {
     "base_uri": "https://localhost:8080/",
     "height": 484
    },
    "executionInfo": {
     "elapsed": 936,
     "status": "ok",
     "timestamp": 1604711244784,
     "user": {
      "displayName": "Jorge Diego Garcia Torres",
      "photoUrl": "https://lh3.googleusercontent.com/a-/AOh14GgUm411NCPxL0CyuKgBlBhJ9SxhXr8inmS25Nfq=s64",
      "userId": "03990517325461913005"
     },
     "user_tz": 360
    },
    "id": "7ZLbchi7_xEH",
    "outputId": "7410d3fc-e6c6-4144-e19a-1641197217b4"
   },
   "outputs": [
    {
     "data": {
      "image/png": "[encoded data removed]",
      "text/plain": [
       "<Figure size 576x396 with 2 Axes>"
      ]
     },
     "metadata": {
      "tags": []
     },
     "output_type": "display_data"
    }
   ],
   "source": [
    "labels = ['0 - No DR', '1 - Leve', '2 - Moderada', '3 - Severa', '4 - Proliferativa DR']\n",
    "plot_conf_matrix(ttapreds1,y_test2tta, labels)"
   ]
  },
  {
   "cell_type": "code",
   "execution_count": 128,
   "metadata": {
    "executionInfo": {
     "elapsed": 833,
     "status": "ok",
     "timestamp": 1604711248676,
     "user": {
      "displayName": "Jorge Diego Garcia Torres",
      "photoUrl": "https://lh3.googleusercontent.com/a-/AOh14GgUm411NCPxL0CyuKgBlBhJ9SxhXr8inmS25Nfq=s64",
      "userId": "03990517325461913005"
     },
     "user_tz": 360
    },
    "id": "5jUu1eqHAEYE"
   },
   "outputs": [],
   "source": [
    "cf = confusion_matrix(y_test2tta, ttapreds1)"
   ]
  },
  {
   "cell_type": "code",
   "execution_count": null,
   "metadata": {
    "id": "72bxoST2AO1K"
   },
   "outputs": [],
   "source": []
  },
  {
   "cell_type": "code",
   "execution_count": 129,
   "metadata": {
    "colab": {
     "base_uri": "https://localhost:8080/"
    },
    "executionInfo": {
     "elapsed": 547,
     "status": "ok",
     "timestamp": 1604711250203,
     "user": {
      "displayName": "Jorge Diego Garcia Torres",
      "photoUrl": "https://lh3.googleusercontent.com/a-/AOh14GgUm411NCPxL0CyuKgBlBhJ9SxhXr8inmS25Nfq=s64",
      "userId": "03990517325461913005"
     },
     "user_tz": 360
    },
    "id": "OjJzi6JnAPGz",
    "outputId": "3ef4c2eb-ef47-4252-c648-fabedf840b35"
   },
   "outputs": [
    {
     "name": "stdout",
     "output_type": "stream",
     "text": [
      "FP\n",
      "[17  0 11  5  4]\n",
      "FN\n",
      "[ 0  5 12 12  8]\n",
      "TP\n",
      "[34  0 20  7  5]\n",
      "TN\n",
      "[52 98 60 79 86]\n",
      "Sensitivity\n",
      "[1.         0.         0.625      0.36842105 0.38461538]\n",
      "Specificity\n",
      "[0.75362319 1.         0.84507042 0.94047619 0.95555556]\n",
      "Precision\n",
      "[0.66666667        nan 0.64516129 0.58333333 0.55555556]\n",
      "[1.         0.95145631 0.83333333 0.86813187 0.91489362]\n",
      "[0.24637681 0.         0.15492958 0.05952381 0.04444444]\n",
      "[0.         1.         0.375      0.63157895 0.61538462]\n",
      "[0.33333333        nan 0.35483871 0.41666667 0.44444444]\n",
      "Acc\n",
      "[0.83495146 0.95145631 0.77669903 0.83495146 0.88349515]\n",
      "Sensitivity mean\n",
      "0.47560728744939273\n",
      "Specificity mean\n",
      "0.8989450713945508\n",
      "Precision mean\n",
      "nan\n"
     ]
    }
   ],
   "source": [
    "FP = cf.sum(axis=0) - np.diag(cf)  \n",
    "FN = cf.sum(axis=1) - np.diag(cf)\n",
    "TP = np.diag(cf)\n",
    "TN = cf.sum() - (FP + FN + TP)\n",
    "\n",
    "# Sensitivity, hit rate, recall, or true positive rate\n",
    "TPR = TP/(TP+FN)\n",
    "# Specificity or true negative rate\n",
    "TNR = TN/(TN+FP) \n",
    "# Precision or positive predictive value\n",
    "PPV = TP/(TP+FP)\n",
    "# Negative predictive value\n",
    "NPV = TN/(TN+FN)\n",
    "# Fall out or false positive rate\n",
    "FPR = FP/(FP+TN)\n",
    "# False negative rate\n",
    "FNR = FN/(TP+FN)\n",
    "# False discovery rate\n",
    "FDR = FP/(TP+FP)\n",
    "\n",
    "# Overall accuracy\n",
    "ACC = (TP+TN)/(TP+FP+FN+TN)\n",
    "\n",
    "print('FP')\n",
    "print(FP)\n",
    "print('FN')\n",
    "print(FN)\n",
    "print('TP')\n",
    "print(TP)\n",
    "print('TN')\n",
    "print(TN)\n",
    "print('Sensitivity')\n",
    "print(TPR)\n",
    "print('Specificity')\n",
    "print(TNR)\n",
    "print('Precision')\n",
    "print(PPV)\n",
    "print(NPV)\n",
    "print(FPR)\n",
    "print(FNR)\n",
    "print(FDR)\n",
    "print('Acc')\n",
    "print(ACC)\n",
    "\n",
    "print('Sensitivity mean')\n",
    "print(np.mean(TPR))\n",
    "print('Specificity mean')\n",
    "print(np.mean(TNR))\n",
    "print('Precision mean')\n",
    "print(np.mean(PPV))\n"
   ]
  },
  {
   "cell_type": "code",
   "execution_count": 130,
   "metadata": {
    "colab": {
     "base_uri": "https://localhost:8080/"
    },
    "executionInfo": {
     "elapsed": 786,
     "status": "ok",
     "timestamp": 1604711255417,
     "user": {
      "displayName": "Jorge Diego Garcia Torres",
      "photoUrl": "https://lh3.googleusercontent.com/a-/AOh14GgUm411NCPxL0CyuKgBlBhJ9SxhXr8inmS25Nfq=s64",
      "userId": "03990517325461913005"
     },
     "user_tz": 360
    },
    "id": "5Iz80vecz1S8",
    "outputId": "fe2f713c-30f3-4db5-85b4-70244731eabc"
   },
   "outputs": [
    {
     "name": "stdout",
     "output_type": "stream",
     "text": [
      "Test Cohen Kappa score: 0.713\n",
      "Test Accuracy score : 0.641\n",
      "F1 score: 0.641\n",
      "F1 score: 0.680\n",
      "F1 score: 0.468\n",
      "Recall: 0.641\n",
      "Recall: 0.641\n",
      "Recall: 0.476\n",
      "Precision: 0.641\n",
      "Precision: 0.760\n",
      "Precision: 0.490\n",
      "\n",
      " clasification report:\n",
      "                precision    recall  f1-score   support\n",
      "\n",
      "           0       1.00      0.67      0.80        51\n",
      "           1       0.00      0.00      0.00         0\n",
      "           2       0.62      0.65      0.63        31\n",
      "           3       0.37      0.58      0.45        12\n",
      "           4       0.38      0.56      0.45         9\n",
      "\n",
      "    accuracy                           0.64       103\n",
      "   macro avg       0.48      0.49      0.47       103\n",
      "weighted avg       0.76      0.64      0.68       103\n",
      "\n"
     ]
    }
   ],
   "source": [
    "print(\"Test Cohen Kappa score: %.3f\" % cohen_kappa_score(ttapreds1, y_test2tta, weights='quadratic'))\n",
    "print(\"Test Accuracy score : %.3f\" % accuracy_score(ttapreds1, y_test2tta))\n",
    "\n",
    "print('F1 score: %.3f' % f1_score(ttapreds1, y_test2tta,average='micro'))\n",
    "print('F1 score: %.3f' % f1_score(ttapreds1, y_test2tta,average='weighted'))\n",
    "print('F1 score: %.3f' % f1_score(y_test2tta,ttapreds1,average='macro'))\n",
    "\n",
    "print('Recall: %.3f' % recall_score(ttapreds1, y_test2tta,average='micro'))\n",
    "print('Recall: %.3f' % recall_score(ttapreds1, y_test2tta,average='weighted'))\n",
    "print('Recall: %.3f' % recall_score(y_test2tta,ttapreds1,average='macro'))\n",
    "\n",
    "print('Precision: %.3f' % precision_score(ttapreds1, y_test2tta,average='micro'))\n",
    "print('Precision: %.3f' % precision_score(ttapreds1, y_test2tta,average='weighted'))\n",
    "print('Precision: %.3f' % precision_score(y_test2tta,ttapreds1,average='macro'))\n",
    "\n",
    "print('\\n clasification report:\\n  ' + classification_report(ttapreds1, y_test2tta))"
   ]
  },
  {
   "cell_type": "code",
   "execution_count": 131,
   "metadata": {
    "colab": {
     "base_uri": "https://localhost:8080/",
     "height": 484
    },
    "executionInfo": {
     "elapsed": 1126,
     "status": "ok",
     "timestamp": 1604711324825,
     "user": {
      "displayName": "Jorge Diego Garcia Torres",
      "photoUrl": "https://lh3.googleusercontent.com/a-/AOh14GgUm411NCPxL0CyuKgBlBhJ9SxhXr8inmS25Nfq=s64",
      "userId": "03990517325461913005"
     },
     "user_tz": 360
    },
    "id": "PFnTD2Ve1qbS",
    "outputId": "063fc13c-729c-45e8-b15e-aa44d624b97c"
   },
   "outputs": [
    {
     "data": {
      "image/png": "[encoded data removed]",
      "text/plain": [
       "<Figure size 576x396 with 2 Axes>"
      ]
     },
     "metadata": {
      "tags": []
     },
     "output_type": "display_data"
    }
   ],
   "source": [
    "labels = ['0 - No DR', '1 - Leve', '2 - Moderada', '3 - Severa', '4 - Proliferativa DR']\n",
    "plot_conf_matrix(ttapreds1, y_test2tta,labels)"
   ]
  },
  {
   "cell_type": "code",
   "execution_count": 132,
   "metadata": {
    "colab": {
     "base_uri": "https://localhost:8080/",
     "height": 365
    },
    "executionInfo": {
     "elapsed": 1152,
     "status": "ok",
     "timestamp": 1604711331272,
     "user": {
      "displayName": "Jorge Diego Garcia Torres",
      "photoUrl": "https://lh3.googleusercontent.com/a-/AOh14GgUm411NCPxL0CyuKgBlBhJ9SxhXr8inmS25Nfq=s64",
      "userId": "03990517325461913005"
     },
     "user_tz": 360
    },
    "id": "s4ceoiuq2dh4",
    "outputId": "ee82d83e-e88f-4a33-d4e5-e3cab3a1d3ac"
   },
   "outputs": [
    {
     "data": {
      "image/png": "[encoded data removed]",
      "text/plain": [
       "<Figure size 1152x504 with 2 Axes>"
      ]
     },
     "metadata": {
      "tags": []
     },
     "output_type": "display_data"
    }
   ],
   "source": [
    "cnf_matrix = confusion_matrix(ttapreds1, y_test2tta)\n",
    "cnf_matrix_norm = cnf_matrix.astype('float') / cnf_matrix.sum(axis=1)[:, np.newaxis]\n",
    "df_cm = pd.DataFrame(cnf_matrix_norm, index=labels, columns=labels)\n",
    "plt.figure(figsize=(16, 7))\n",
    "sns.heatmap(df_cm, annot=True, fmt='.2f', cmap=\"Blues\")\n",
    "plt.show()"
   ]
  },
  {
   "cell_type": "markdown",
   "metadata": {
    "id": "QWGOCSfeGrnC"
   },
   "source": [
    "# TTA y trimedian"
   ]
  },
  {
   "cell_type": "code",
   "execution_count": 133,
   "metadata": {
    "colab": {
     "base_uri": "https://localhost:8080/"
    },
    "executionInfo": {
     "elapsed": 9991,
     "status": "ok",
     "timestamp": 1604711345311,
     "user": {
      "displayName": "Jorge Diego Garcia Torres",
      "photoUrl": "https://lh3.googleusercontent.com/a-/AOh14GgUm411NCPxL0CyuKgBlBhJ9SxhXr8inmS25Nfq=s64",
      "userId": "03990517325461913005"
     },
     "user_tz": 360
    },
    "id": "NdQqodqkHCyS",
    "outputId": "5a62ba45-1e98-4275-e312-5d5b3647aa64"
   },
   "outputs": [
    {
     "name": "stdout",
     "output_type": "stream",
     "text": [
      "2/4 [==============>...............] - ETA: 0sWARNING:tensorflow:Callbacks method `on_predict_batch_end` is slow compared to the batch time (batch time: 0.0195s vs `on_predict_batch_end` time: 0.0526s). Check your callbacks.\n",
      "4/4 [==============================] - 0s 55ms/step\n",
      "2/4 [==============>...............] - ETA: 0sWARNING:tensorflow:Callbacks method `on_predict_batch_end` is slow compared to the batch time (batch time: 0.0189s vs `on_predict_batch_end` time: 0.0489s). Check your callbacks.\n",
      "4/4 [==============================] - 0s 52ms/step\n",
      "2/4 [==============>...............] - ETA: 0sWARNING:tensorflow:Callbacks method `on_predict_batch_end` is slow compared to the batch time (batch time: 0.0197s vs `on_predict_batch_end` time: 0.0489s). Check your callbacks.\n",
      "4/4 [==============================] - 0s 52ms/step\n",
      "2/4 [==============>...............] - ETA: 0sWARNING:tensorflow:Callbacks method `on_predict_batch_end` is slow compared to the batch time (batch time: 0.0187s vs `on_predict_batch_end` time: 0.0489s). Check your callbacks.\n",
      "4/4 [==============================] - 0s 52ms/step\n",
      "2/4 [==============>...............] - ETA: 0sWARNING:tensorflow:Callbacks method `on_predict_batch_end` is slow compared to the batch time (batch time: 0.0182s vs `on_predict_batch_end` time: 0.0496s). Check your callbacks.\n",
      "4/4 [==============================] - 0s 52ms/step\n",
      "2/4 [==============>...............] - ETA: 0sWARNING:tensorflow:Callbacks method `on_predict_batch_end` is slow compared to the batch time (batch time: 0.0210s vs `on_predict_batch_end` time: 0.0470s). Check your callbacks.\n",
      "4/4 [==============================] - 0s 52ms/step\n",
      "2/4 [==============>...............] - ETA: 0sWARNING:tensorflow:Callbacks method `on_predict_batch_end` is slow compared to the batch time (batch time: 0.0194s vs `on_predict_batch_end` time: 0.0482s). Check your callbacks.\n",
      "4/4 [==============================] - 0s 52ms/step\n",
      "2/4 [==============>...............] - ETA: 0sWARNING:tensorflow:Callbacks method `on_predict_batch_end` is slow compared to the batch time (batch time: 0.0190s vs `on_predict_batch_end` time: 0.0490s). Check your callbacks.\n",
      "4/4 [==============================] - 0s 52ms/step\n",
      "2/4 [==============>...............] - ETA: 0sWARNING:tensorflow:Callbacks method `on_predict_batch_end` is slow compared to the batch time (batch time: 0.0192s vs `on_predict_batch_end` time: 0.0487s). Check your callbacks.\n",
      "4/4 [==============================] - 0s 52ms/step\n",
      "2/4 [==============>...............] - ETA: 0sWARNING:tensorflow:Callbacks method `on_predict_batch_end` is slow compared to the batch time (batch time: 0.0196s vs `on_predict_batch_end` time: 0.0485s). Check your callbacks.\n",
      "4/4 [==============================] - 0s 52ms/step\n",
      "2/4 [==============>...............] - ETA: 0sWARNING:tensorflow:Callbacks method `on_predict_batch_end` is slow compared to the batch time (batch time: 0.0199s vs `on_predict_batch_end` time: 0.0482s). Check your callbacks.\n",
      "4/4 [==============================] - 0s 52ms/step\n",
      "2/4 [==============>...............] - ETA: 0sWARNING:tensorflow:Callbacks method `on_predict_batch_end` is slow compared to the batch time (batch time: 0.0191s vs `on_predict_batch_end` time: 0.0487s). Check your callbacks.\n",
      "4/4 [==============================] - 0s 52ms/step\n",
      "2/4 [==============>...............] - ETA: 0sWARNING:tensorflow:Callbacks method `on_predict_batch_end` is slow compared to the batch time (batch time: 0.0190s vs `on_predict_batch_end` time: 0.0492s). Check your callbacks.\n",
      "4/4 [==============================] - 0s 52ms/step\n",
      "2/4 [==============>...............] - ETA: 0sWARNING:tensorflow:Callbacks method `on_predict_batch_end` is slow compared to the batch time (batch time: 0.0199s vs `on_predict_batch_end` time: 0.0482s). Check your callbacks.\n",
      "4/4 [==============================] - 0s 51ms/step\n",
      "2/4 [==============>...............] - ETA: 0sWARNING:tensorflow:Callbacks method `on_predict_batch_end` is slow compared to the batch time (batch time: 0.0191s vs `on_predict_batch_end` time: 0.0488s). Check your callbacks.\n",
      "4/4 [==============================] - 0s 52ms/step\n",
      "2/4 [==============>...............] - ETA: 0sWARNING:tensorflow:Callbacks method `on_predict_batch_end` is slow compared to the batch time (batch time: 0.0193s vs `on_predict_batch_end` time: 0.0488s). Check your callbacks.\n",
      "4/4 [==============================] - 0s 52ms/step\n",
      "2/4 [==============>...............] - ETA: 0sWARNING:tensorflow:Callbacks method `on_predict_batch_end` is slow compared to the batch time (batch time: 0.0202s vs `on_predict_batch_end` time: 0.0480s). Check your callbacks.\n",
      "4/4 [==============================] - 0s 52ms/step\n",
      "2/4 [==============>...............] - ETA: 0sWARNING:tensorflow:Callbacks method `on_predict_batch_end` is slow compared to the batch time (batch time: 0.0196s vs `on_predict_batch_end` time: 0.0486s). Check your callbacks.\n",
      "4/4 [==============================] - 0s 52ms/step\n",
      "2/4 [==============>...............] - ETA: 0sWARNING:tensorflow:Callbacks method `on_predict_batch_end` is slow compared to the batch time (batch time: 0.0193s vs `on_predict_batch_end` time: 0.0487s). Check your callbacks.\n",
      "4/4 [==============================] - 0s 52ms/step\n",
      "2/4 [==============>...............] - ETA: 0sWARNING:tensorflow:Callbacks method `on_predict_batch_end` is slow compared to the batch time (batch time: 0.0203s vs `on_predict_batch_end` time: 0.0477s). Check your callbacks.\n",
      "4/4 [==============================] - 0s 51ms/step\n",
      "2/4 [==============>...............] - ETA: 0sWARNING:tensorflow:Callbacks method `on_predict_batch_end` is slow compared to the batch time (batch time: 0.0198s vs `on_predict_batch_end` time: 0.0483s). Check your callbacks.\n",
      "4/4 [==============================] - 0s 52ms/step\n",
      "2/4 [==============>...............] - ETA: 0sWARNING:tensorflow:Callbacks method `on_predict_batch_end` is slow compared to the batch time (batch time: 0.0188s vs `on_predict_batch_end` time: 0.0491s). Check your callbacks.\n",
      "4/4 [==============================] - 0s 52ms/step\n",
      "2/4 [==============>...............] - ETA: 0sWARNING:tensorflow:Callbacks method `on_predict_batch_end` is slow compared to the batch time (batch time: 0.0196s vs `on_predict_batch_end` time: 0.0483s). Check your callbacks.\n",
      "4/4 [==============================] - 0s 52ms/step\n",
      "2/4 [==============>...............] - ETA: 0sWARNING:tensorflow:Callbacks method `on_predict_batch_end` is slow compared to the batch time (batch time: 0.0202s vs `on_predict_batch_end` time: 0.0479s). Check your callbacks.\n",
      "4/4 [==============================] - 0s 52ms/step\n",
      "2/4 [==============>...............] - ETA: 0sWARNING:tensorflow:Callbacks method `on_predict_batch_end` is slow compared to the batch time (batch time: 0.0192s vs `on_predict_batch_end` time: 0.0485s). Check your callbacks.\n",
      "4/4 [==============================] - 0s 52ms/step\n",
      "2/4 [==============>...............] - ETA: 0sWARNING:tensorflow:Callbacks method `on_predict_batch_end` is slow compared to the batch time (batch time: 0.0195s vs `on_predict_batch_end` time: 0.0484s). Check your callbacks.\n",
      "4/4 [==============================] - 0s 51ms/step\n",
      "2/4 [==============>...............] - ETA: 0sWARNING:tensorflow:Callbacks method `on_predict_batch_end` is slow compared to the batch time (batch time: 0.0231s vs `on_predict_batch_end` time: 0.0448s). Check your callbacks.\n",
      "4/4 [==============================] - 0s 52ms/step\n",
      "2/4 [==============>...............] - ETA: 0sWARNING:tensorflow:Callbacks method `on_predict_batch_end` is slow compared to the batch time (batch time: 0.0197s vs `on_predict_batch_end` time: 0.0484s). Check your callbacks.\n",
      "4/4 [==============================] - 0s 52ms/step\n",
      "2/4 [==============>...............] - ETA: 0sWARNING:tensorflow:Callbacks method `on_predict_batch_end` is slow compared to the batch time (batch time: 0.0200s vs `on_predict_batch_end` time: 0.0480s). Check your callbacks.\n",
      "4/4 [==============================] - 0s 53ms/step\n",
      "2/4 [==============>...............] - ETA: 0sWARNING:tensorflow:Callbacks method `on_predict_batch_end` is slow compared to the batch time (batch time: 0.0240s vs `on_predict_batch_end` time: 0.0443s). Check your callbacks.\n",
      "4/4 [==============================] - 0s 53ms/step\n"
     ]
    }
   ],
   "source": [
    "preds_ensemble = []\n",
    "\n",
    "\n",
    "for i in range(len(model_list)):\n",
    "  preds_tta = []\n",
    "\n",
    "  test_preds_model = model_list[i].predict(x_tdata, verbose = 1)\n",
    "  preds_tta.append(test_preds_model)\n",
    "\n",
    "  test_preds_model = model_list[i].predict(x_tdata1, verbose = 1)\n",
    "  preds_tta.append(test_preds_model)\n",
    "\n",
    "  test_preds_model = model_list[i].predict(x_tdata2, verbose = 1)\n",
    "  preds_tta.append(test_preds_model)\n",
    "\n",
    "  test_preds_model = model_list[i].predict(x_tdata3, verbose = 1)\n",
    "  preds_tta.append(test_preds_model)\n",
    "\n",
    "  test_preds_model = model_list[i].predict(x_tdata4, verbose = 1)\n",
    "  preds_tta.append(test_preds_model)\n",
    "\n",
    "  test_preds_model = model_list[i].predict(x_tdata5, verbose = 1)\n",
    "  preds_tta.append(test_preds_model)\n",
    "\n",
    "  test_model = stats.trim_mean(preds_tta,0.25, axis=0)\n",
    "  preds_ensemble.append(test_model)\n",
    "\n",
    "preds1_ensemble = stats.trim_mean(preds_ensemble,0.25, axis=0)\n"
   ]
  },
  {
   "cell_type": "code",
   "execution_count": 134,
   "metadata": {
    "executionInfo": {
     "elapsed": 541,
     "status": "ok",
     "timestamp": 1604711348486,
     "user": {
      "displayName": "Jorge Diego Garcia Torres",
      "photoUrl": "https://lh3.googleusercontent.com/a-/AOh14GgUm411NCPxL0CyuKgBlBhJ9SxhXr8inmS25Nfq=s64",
      "userId": "03990517325461913005"
     },
     "user_tz": 360
    },
    "id": "BlPyjkEYLXzl"
   },
   "outputs": [],
   "source": [
    "preds1_ensemble1 = [np.argmax(pred) for pred in preds1_ensemble]"
   ]
  },
  {
   "cell_type": "code",
   "execution_count": 135,
   "metadata": {
    "colab": {
     "base_uri": "https://localhost:8080/"
    },
    "executionInfo": {
     "elapsed": 346,
     "status": "ok",
     "timestamp": 1604711349947,
     "user": {
      "displayName": "Jorge Diego Garcia Torres",
      "photoUrl": "https://lh3.googleusercontent.com/a-/AOh14GgUm411NCPxL0CyuKgBlBhJ9SxhXr8inmS25Nfq=s64",
      "userId": "03990517325461913005"
     },
     "user_tz": 360
    },
    "id": "jyzGfeoTMuFm",
    "outputId": "a3c102eb-1ce4-4413-a236-cefdd982f6e4"
   },
   "outputs": [
    {
     "name": "stdout",
     "output_type": "stream",
     "text": [
      "Test Cohen Kappa score: 0.713\n",
      "Test Accuracy score : 0.641\n",
      "F1 score: 0.641\n",
      "F1 score: 0.680\n",
      "F1 score: 0.468\n",
      "Recall: 0.641\n",
      "Recall: 0.641\n",
      "Recall: 0.476\n",
      "Precision: 0.641\n",
      "Precision: 0.760\n",
      "Precision: 0.490\n",
      "\n",
      " clasification report:\n",
      "                precision    recall  f1-score   support\n",
      "\n",
      "           0       1.00      0.67      0.80        51\n",
      "           1       0.00      0.00      0.00         0\n",
      "           2       0.62      0.65      0.63        31\n",
      "           3       0.37      0.58      0.45        12\n",
      "           4       0.38      0.56      0.45         9\n",
      "\n",
      "    accuracy                           0.64       103\n",
      "   macro avg       0.48      0.49      0.47       103\n",
      "weighted avg       0.76      0.64      0.68       103\n",
      "\n"
     ]
    }
   ],
   "source": [
    "print(\"Test Cohen Kappa score: %.3f\" % cohen_kappa_score(preds1_ensemble1, y_test2tta, weights='quadratic'))\n",
    "print(\"Test Accuracy score : %.3f\" % accuracy_score(preds1_ensemble1, y_test2tta))\n",
    "\n",
    "print('F1 score: %.3f' % f1_score(preds1_ensemble1, y_test2tta,average='micro'))\n",
    "print('F1 score: %.3f' % f1_score(preds1_ensemble1, y_test2tta,average='weighted'))\n",
    "print('F1 score: %.3f' % f1_score( y_test2tta,preds1_ensemble1,average='macro'))\n",
    "\n",
    "print('Recall: %.3f' % recall_score(preds1_ensemble1, y_test2tta,average='micro'))\n",
    "print('Recall: %.3f' % recall_score(y_test2tta,preds1_ensemble1,average='weighted'))\n",
    "print('Recall: %.3f' % recall_score(y_test2tta,preds1_ensemble1,average='macro'))\n",
    "\n",
    "\n",
    "print('Precision: %.3f' % precision_score(preds1_ensemble1, y_test2tta,average='micro'))\n",
    "print('Precision: %.3f' % precision_score(preds1_ensemble1, y_test2tta,average='weighted'))\n",
    "print('Precision: %.3f' % precision_score(y_test2tta, preds1_ensemble1, average='macro'))\n",
    "\n",
    "print('\\n clasification report:\\n  ' + classification_report(preds1_ensemble1, y_test2tta))"
   ]
  }
 ],
 "metadata": {
  "accelerator": "GPU",
  "colab": {
   "authorship_tag": "ABX9TyMSjv+DMMeOY7TjHAj4EsrA",
   "collapsed_sections": [],
   "machine_shape": "hm",
   "name": "exp3idrid_ensamble.ipynb",
   "provenance": [
    {
     "file_id": "13g_yoajK5Q1Jh4-uAxh0nMrxqgJCUEYb",
     "timestamp": 1604709704269
    },
    {
     "file_id": "1ZBlNp5sybQ2fXyQCWtaSeywWp9QF9URL",
     "timestamp": 1604640614480
    },
    {
     "file_id": "1nAzgQcXasq3r3kSnHufkKrrpgxfjEwfP",
     "timestamp": 1603987286286
    },
    {
     "file_id": "1My-VkpVWMCoQgcE2mT49F6xcIOQ1hWwP",
     "timestamp": 1602699042312
    },
    {
     "file_id": "1SWAmiXNdEI0d0olnnQpmsxmO5oQEFM07",
     "timestamp": 1602694501776
    },
    {
     "file_id": "1qrm490RUFjRQz5ePNOx3x_SN_IZxQX7N",
     "timestamp": 1602691237554
    },
    {
     "file_id": "16oQtNa0kcqNK6UfPhZQKUDUC5PgWLPo6",
     "timestamp": 1602653047501
    },
    {
     "file_id": "1KWSCpDXHL2pEZTr5K6pVJqubzgFiGDJv",
     "timestamp": 1602649103471
    }
   ]
  },
  "kernelspec": {
   "display_name": "Python 3",
   "language": "python",
   "name": "python3"
  },
  "language_info": {
   "codemirror_mode": {
    "name": "ipython",
    "version": 3
   },
   "file_extension": ".py",
   "mimetype": "text/x-python",
   "name": "python",
   "nbconvert_exporter": "python",
   "pygments_lexer": "ipython3",
   "version": "3.7.4"
  }
 },
 "nbformat": 4,
 "nbformat_minor": 1
}
