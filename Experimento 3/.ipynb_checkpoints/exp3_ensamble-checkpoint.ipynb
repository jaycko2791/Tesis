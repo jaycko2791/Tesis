{
 "cells": [
  {
   "cell_type": "markdown",
   "metadata": {},
   "source": [
    "### Experimento 3\n",
    "### IPN- CIC\n",
    "### Alumno: Jorge Diego García Torres\n",
    "#### Titulo : Clasificación de los grados de retinopatía diabética en imágenes del fondo del ojo mediante algoritmos de aprendizaje profundo.\n",
    "####  Ensamble APTOS"
   ]
  },
  {
   "cell_type": "code",
   "execution_count": 1,
   "metadata": {
    "executionInfo": {
     "elapsed": 5782,
     "status": "ok",
     "timestamp": 1604621413078,
     "user": {
      "displayName": "Jorge Diego Garcia Torres",
      "photoUrl": "https://lh3.googleusercontent.com/a-/AOh14GgUm411NCPxL0CyuKgBlBhJ9SxhXr8inmS25Nfq=s64",
      "userId": "03990517325461913005"
     },
     "user_tz": 360
    },
    "id": "UFk_I_4z3kSv"
   },
   "outputs": [],
   "source": [
    "import os\n",
    "import cv2\n",
    "import random\n",
    "import warnings\n",
    "import numpy as np\n",
    "import pandas as pd\n",
    "import seaborn as sns\n",
    "import matplotlib.pyplot as plt\n",
    "from sklearn.model_selection import train_test_split, StratifiedKFold\n",
    "\n",
    "import os\n",
    "import sys\n",
    "import cv2\n",
    "import shutil\n",
    "import random\n",
    "import warnings\n",
    "import numpy as np\n",
    "import pandas as pd\n",
    "import seaborn as sns\n",
    "import multiprocessing as mp\n",
    "import matplotlib.pyplot as plt\n",
    "\n",
    "from sklearn.metrics import confusion_matrix, cohen_kappa_score\n",
    "from keras.models import Model\n",
    "from keras.preprocessing.image import ImageDataGenerator\n",
    "from keras.layers import Dense, GlobalAveragePooling2D, Input\n",
    "\n",
    "\n",
    "def seed_everything(seed=0):\n",
    "    random.seed(seed)\n",
    "    os.environ['PYTHONHASHSEED'] = str(seed)\n",
    "    np.random.seed(seed)\n",
    "    \n",
    "seed = 0\n",
    "seed_everything(seed)\n",
    "\n",
    "\n",
    "sns.set(style=\"whitegrid\")\n",
    "warnings.filterwarnings(\"ignore\")"
   ]
  },
  {
   "cell_type": "code",
   "execution_count": 2,
   "metadata": {
    "colab": {
     "base_uri": "https://localhost:8080/"
    },
    "executionInfo": {
     "elapsed": 23056,
     "status": "ok",
     "timestamp": 1604621440739,
     "user": {
      "displayName": "Jorge Diego Garcia Torres",
      "photoUrl": "https://lh3.googleusercontent.com/a-/AOh14GgUm411NCPxL0CyuKgBlBhJ9SxhXr8inmS25Nfq=s64",
      "userId": "03990517325461913005"
     },
     "user_tz": 360
    },
    "id": "vumYJchG3znS",
    "outputId": "4f13b128-d7a7-4d37-e0e9-ee2844ae32ad"
   },
   "outputs": [
    {
     "name": "stdout",
     "output_type": "stream",
     "text": [
      "Mounted at /content/gdrive\n"
     ]
    }
   ],
   "source": [
    "from google.colab import drive\n",
    "drive.mount('/content/gdrive')"
   ]
  },
  {
   "cell_type": "code",
   "execution_count": 4,
   "metadata": {
    "executionInfo": {
     "elapsed": 1988,
     "status": "ok",
     "timestamp": 1604621448164,
     "user": {
      "displayName": "Jorge Diego Garcia Torres",
      "photoUrl": "https://lh3.googleusercontent.com/a-/AOh14GgUm411NCPxL0CyuKgBlBhJ9SxhXr8inmS25Nfq=s64",
      "userId": "03990517325461913005"
     },
     "user_tz": 360
    },
    "id": "6WjnC_7fIDKn"
   },
   "outputs": [],
   "source": [
    "aptostraindf = pd.read_csv('/content/gdrive/My Drive/tesis/aptos/train.csv')"
   ]
  },
  {
   "cell_type": "code",
   "execution_count": 5,
   "metadata": {
    "colab": {
     "base_uri": "https://localhost:8080/",
     "height": 419
    },
    "executionInfo": {
     "elapsed": 1260,
     "status": "ok",
     "timestamp": 1604621451995,
     "user": {
      "displayName": "Jorge Diego Garcia Torres",
      "photoUrl": "https://lh3.googleusercontent.com/a-/AOh14GgUm411NCPxL0CyuKgBlBhJ9SxhXr8inmS25Nfq=s64",
      "userId": "03990517325461913005"
     },
     "user_tz": 360
    },
    "id": "cVrqp-1MIGBO",
    "outputId": "cedb0b44-205a-4cd4-cfb6-9677705b7b81"
   },
   "outputs": [
    {
     "data": {
      "text/html": [
       "<div>\n",
       "<style scoped>\n",
       "    .dataframe tbody tr th:only-of-type {\n",
       "        vertical-align: middle;\n",
       "    }\n",
       "\n",
       "    .dataframe tbody tr th {\n",
       "        vertical-align: top;\n",
       "    }\n",
       "\n",
       "    .dataframe thead th {\n",
       "        text-align: right;\n",
       "    }\n",
       "</style>\n",
       "<table border=\"1\" class=\"dataframe\">\n",
       "  <thead>\n",
       "    <tr style=\"text-align: right;\">\n",
       "      <th></th>\n",
       "      <th>id_code</th>\n",
       "      <th>diagnosis</th>\n",
       "    </tr>\n",
       "  </thead>\n",
       "  <tbody>\n",
       "    <tr>\n",
       "      <th>0</th>\n",
       "      <td>000c1434d8d7</td>\n",
       "      <td>2</td>\n",
       "    </tr>\n",
       "    <tr>\n",
       "      <th>1</th>\n",
       "      <td>001639a390f0</td>\n",
       "      <td>4</td>\n",
       "    </tr>\n",
       "    <tr>\n",
       "      <th>2</th>\n",
       "      <td>0024cdab0c1e</td>\n",
       "      <td>1</td>\n",
       "    </tr>\n",
       "    <tr>\n",
       "      <th>3</th>\n",
       "      <td>002c21358ce6</td>\n",
       "      <td>0</td>\n",
       "    </tr>\n",
       "    <tr>\n",
       "      <th>4</th>\n",
       "      <td>005b95c28852</td>\n",
       "      <td>0</td>\n",
       "    </tr>\n",
       "    <tr>\n",
       "      <th>...</th>\n",
       "      <td>...</td>\n",
       "      <td>...</td>\n",
       "    </tr>\n",
       "    <tr>\n",
       "      <th>3657</th>\n",
       "      <td>ffa47f6a7bf4</td>\n",
       "      <td>2</td>\n",
       "    </tr>\n",
       "    <tr>\n",
       "      <th>3658</th>\n",
       "      <td>ffc04fed30e6</td>\n",
       "      <td>0</td>\n",
       "    </tr>\n",
       "    <tr>\n",
       "      <th>3659</th>\n",
       "      <td>ffcf7b45f213</td>\n",
       "      <td>2</td>\n",
       "    </tr>\n",
       "    <tr>\n",
       "      <th>3660</th>\n",
       "      <td>ffd97f8cd5aa</td>\n",
       "      <td>0</td>\n",
       "    </tr>\n",
       "    <tr>\n",
       "      <th>3661</th>\n",
       "      <td>ffec9a18a3ce</td>\n",
       "      <td>2</td>\n",
       "    </tr>\n",
       "  </tbody>\n",
       "</table>\n",
       "<p>3662 rows × 2 columns</p>\n",
       "</div>"
      ],
      "text/plain": [
       "           id_code  diagnosis\n",
       "0     000c1434d8d7          2\n",
       "1     001639a390f0          4\n",
       "2     0024cdab0c1e          1\n",
       "3     002c21358ce6          0\n",
       "4     005b95c28852          0\n",
       "...            ...        ...\n",
       "3657  ffa47f6a7bf4          2\n",
       "3658  ffc04fed30e6          0\n",
       "3659  ffcf7b45f213          2\n",
       "3660  ffd97f8cd5aa          0\n",
       "3661  ffec9a18a3ce          2\n",
       "\n",
       "[3662 rows x 2 columns]"
      ]
     },
     "execution_count": 5,
     "metadata": {
      "tags": []
     },
     "output_type": "execute_result"
    }
   ],
   "source": [
    "aptostraindf"
   ]
  },
  {
   "cell_type": "code",
   "execution_count": 6,
   "metadata": {
    "executionInfo": {
     "elapsed": 1386,
     "status": "ok",
     "timestamp": 1604621462311,
     "user": {
      "displayName": "Jorge Diego Garcia Torres",
      "photoUrl": "https://lh3.googleusercontent.com/a-/AOh14GgUm411NCPxL0CyuKgBlBhJ9SxhXr8inmS25Nfq=s64",
      "userId": "03990517325461913005"
     },
     "user_tz": 360
    },
    "id": "GLzOC5ydHKCq"
   },
   "outputs": [],
   "source": [
    "train_complete= pd.read_csv('/content/gdrive/My Drive/tesis2/exp3hold-out.csv')\n",
    "train = pd.read_csv('/content/gdrive/My Drive/tesis2/exp3_5-fold.csv')"
   ]
  },
  {
   "cell_type": "code",
   "execution_count": 7,
   "metadata": {
    "colab": {
     "base_uri": "https://localhost:8080/",
     "height": 419
    },
    "executionInfo": {
     "elapsed": 628,
     "status": "ok",
     "timestamp": 1604621469130,
     "user": {
      "displayName": "Jorge Diego Garcia Torres",
      "photoUrl": "https://lh3.googleusercontent.com/a-/AOh14GgUm411NCPxL0CyuKgBlBhJ9SxhXr8inmS25Nfq=s64",
      "userId": "03990517325461913005"
     },
     "user_tz": 360
    },
    "id": "-lYPYfqW5HCF",
    "outputId": "09d55a45-128e-4ff0-e306-8b6bca71102f"
   },
   "outputs": [
    {
     "data": {
      "text/html": [
       "<div>\n",
       "<style scoped>\n",
       "    .dataframe tbody tr th:only-of-type {\n",
       "        vertical-align: middle;\n",
       "    }\n",
       "\n",
       "    .dataframe tbody tr th {\n",
       "        vertical-align: top;\n",
       "    }\n",
       "\n",
       "    .dataframe thead th {\n",
       "        text-align: right;\n",
       "    }\n",
       "</style>\n",
       "<table border=\"1\" class=\"dataframe\">\n",
       "  <thead>\n",
       "    <tr style=\"text-align: right;\">\n",
       "      <th></th>\n",
       "      <th>id_code</th>\n",
       "      <th>diagnosis</th>\n",
       "      <th>set</th>\n",
       "      <th>index</th>\n",
       "    </tr>\n",
       "  </thead>\n",
       "  <tbody>\n",
       "    <tr>\n",
       "      <th>0</th>\n",
       "      <td>52ae917fcea4</td>\n",
       "      <td>1</td>\n",
       "      <td>train</td>\n",
       "      <td>1196</td>\n",
       "    </tr>\n",
       "    <tr>\n",
       "      <th>1</th>\n",
       "      <td>aa4407aab872</td>\n",
       "      <td>0</td>\n",
       "      <td>train</td>\n",
       "      <td>2447</td>\n",
       "    </tr>\n",
       "    <tr>\n",
       "      <th>2</th>\n",
       "      <td>6a57a3db3eff</td>\n",
       "      <td>0</td>\n",
       "      <td>train</td>\n",
       "      <td>1511</td>\n",
       "    </tr>\n",
       "    <tr>\n",
       "      <th>3</th>\n",
       "      <td>873dcc0b468f</td>\n",
       "      <td>4</td>\n",
       "      <td>train</td>\n",
       "      <td>1917</td>\n",
       "    </tr>\n",
       "    <tr>\n",
       "      <th>4</th>\n",
       "      <td>1f4bf8e28b41</td>\n",
       "      <td>2</td>\n",
       "      <td>train</td>\n",
       "      <td>444</td>\n",
       "    </tr>\n",
       "    <tr>\n",
       "      <th>...</th>\n",
       "      <td>...</td>\n",
       "      <td>...</td>\n",
       "      <td>...</td>\n",
       "      <td>...</td>\n",
       "    </tr>\n",
       "    <tr>\n",
       "      <th>3657</th>\n",
       "      <td>a88365134c3c</td>\n",
       "      <td>0</td>\n",
       "      <td>test</td>\n",
       "      <td>2414</td>\n",
       "    </tr>\n",
       "    <tr>\n",
       "      <th>3658</th>\n",
       "      <td>59ee65760535</td>\n",
       "      <td>2</td>\n",
       "      <td>test</td>\n",
       "      <td>1290</td>\n",
       "    </tr>\n",
       "    <tr>\n",
       "      <th>3659</th>\n",
       "      <td>0e82bcacc475</td>\n",
       "      <td>4</td>\n",
       "      <td>test</td>\n",
       "      <td>196</td>\n",
       "    </tr>\n",
       "    <tr>\n",
       "      <th>3660</th>\n",
       "      <td>b3819a805dca</td>\n",
       "      <td>4</td>\n",
       "      <td>test</td>\n",
       "      <td>2587</td>\n",
       "    </tr>\n",
       "    <tr>\n",
       "      <th>3661</th>\n",
       "      <td>e037643244b7</td>\n",
       "      <td>4</td>\n",
       "      <td>test</td>\n",
       "      <td>3218</td>\n",
       "    </tr>\n",
       "  </tbody>\n",
       "</table>\n",
       "<p>3662 rows × 4 columns</p>\n",
       "</div>"
      ],
      "text/plain": [
       "           id_code  diagnosis    set  index\n",
       "0     52ae917fcea4          1  train   1196\n",
       "1     aa4407aab872          0  train   2447\n",
       "2     6a57a3db3eff          0  train   1511\n",
       "3     873dcc0b468f          4  train   1917\n",
       "4     1f4bf8e28b41          2  train    444\n",
       "...            ...        ...    ...    ...\n",
       "3657  a88365134c3c          0   test   2414\n",
       "3658  59ee65760535          2   test   1290\n",
       "3659  0e82bcacc475          4   test    196\n",
       "3660  b3819a805dca          4   test   2587\n",
       "3661  e037643244b7          4   test   3218\n",
       "\n",
       "[3662 rows x 4 columns]"
      ]
     },
     "execution_count": 7,
     "metadata": {
      "tags": []
     },
     "output_type": "execute_result"
    }
   ],
   "source": [
    "train_complete"
   ]
  },
  {
   "cell_type": "code",
   "execution_count": 8,
   "metadata": {
    "colab": {
     "base_uri": "https://localhost:8080/",
     "height": 419
    },
    "executionInfo": {
     "elapsed": 889,
     "status": "ok",
     "timestamp": 1604621477777,
     "user": {
      "displayName": "Jorge Diego Garcia Torres",
      "photoUrl": "https://lh3.googleusercontent.com/a-/AOh14GgUm411NCPxL0CyuKgBlBhJ9SxhXr8inmS25Nfq=s64",
      "userId": "03990517325461913005"
     },
     "user_tz": 360
    },
    "id": "ptFvUlu25JFj",
    "outputId": "49d91f8e-5b0b-4d18-bb37-d3c25d22af3d"
   },
   "outputs": [
    {
     "data": {
      "text/html": [
       "<div>\n",
       "<style scoped>\n",
       "    .dataframe tbody tr th:only-of-type {\n",
       "        vertical-align: middle;\n",
       "    }\n",
       "\n",
       "    .dataframe tbody tr th {\n",
       "        vertical-align: top;\n",
       "    }\n",
       "\n",
       "    .dataframe thead th {\n",
       "        text-align: right;\n",
       "    }\n",
       "</style>\n",
       "<table border=\"1\" class=\"dataframe\">\n",
       "  <thead>\n",
       "    <tr style=\"text-align: right;\">\n",
       "      <th></th>\n",
       "      <th>id_code</th>\n",
       "      <th>diagnosis</th>\n",
       "      <th>set</th>\n",
       "      <th>fold_0</th>\n",
       "      <th>fold_1</th>\n",
       "      <th>fold_2</th>\n",
       "      <th>fold_3</th>\n",
       "      <th>fold_4</th>\n",
       "      <th>index</th>\n",
       "    </tr>\n",
       "  </thead>\n",
       "  <tbody>\n",
       "    <tr>\n",
       "      <th>0</th>\n",
       "      <td>52ae917fcea4</td>\n",
       "      <td>1</td>\n",
       "      <td>train</td>\n",
       "      <td>train</td>\n",
       "      <td>train</td>\n",
       "      <td>train</td>\n",
       "      <td>train</td>\n",
       "      <td>validation</td>\n",
       "      <td>1196</td>\n",
       "    </tr>\n",
       "    <tr>\n",
       "      <th>1</th>\n",
       "      <td>aa4407aab872</td>\n",
       "      <td>0</td>\n",
       "      <td>train</td>\n",
       "      <td>train</td>\n",
       "      <td>train</td>\n",
       "      <td>train</td>\n",
       "      <td>train</td>\n",
       "      <td>validation</td>\n",
       "      <td>2447</td>\n",
       "    </tr>\n",
       "    <tr>\n",
       "      <th>2</th>\n",
       "      <td>6a57a3db3eff</td>\n",
       "      <td>0</td>\n",
       "      <td>train</td>\n",
       "      <td>train</td>\n",
       "      <td>train</td>\n",
       "      <td>validation</td>\n",
       "      <td>train</td>\n",
       "      <td>train</td>\n",
       "      <td>1511</td>\n",
       "    </tr>\n",
       "    <tr>\n",
       "      <th>3</th>\n",
       "      <td>873dcc0b468f</td>\n",
       "      <td>4</td>\n",
       "      <td>train</td>\n",
       "      <td>train</td>\n",
       "      <td>train</td>\n",
       "      <td>validation</td>\n",
       "      <td>train</td>\n",
       "      <td>train</td>\n",
       "      <td>1917</td>\n",
       "    </tr>\n",
       "    <tr>\n",
       "      <th>4</th>\n",
       "      <td>1f4bf8e28b41</td>\n",
       "      <td>2</td>\n",
       "      <td>train</td>\n",
       "      <td>train</td>\n",
       "      <td>train</td>\n",
       "      <td>train</td>\n",
       "      <td>train</td>\n",
       "      <td>validation</td>\n",
       "      <td>444</td>\n",
       "    </tr>\n",
       "    <tr>\n",
       "      <th>...</th>\n",
       "      <td>...</td>\n",
       "      <td>...</td>\n",
       "      <td>...</td>\n",
       "      <td>...</td>\n",
       "      <td>...</td>\n",
       "      <td>...</td>\n",
       "      <td>...</td>\n",
       "      <td>...</td>\n",
       "      <td>...</td>\n",
       "    </tr>\n",
       "    <tr>\n",
       "      <th>2924</th>\n",
       "      <td>96ce10a1dbd7</td>\n",
       "      <td>0</td>\n",
       "      <td>train</td>\n",
       "      <td>validation</td>\n",
       "      <td>train</td>\n",
       "      <td>train</td>\n",
       "      <td>train</td>\n",
       "      <td>train</td>\n",
       "      <td>2139</td>\n",
       "    </tr>\n",
       "    <tr>\n",
       "      <th>2925</th>\n",
       "      <td>b960142a8de7</td>\n",
       "      <td>3</td>\n",
       "      <td>train</td>\n",
       "      <td>train</td>\n",
       "      <td>train</td>\n",
       "      <td>validation</td>\n",
       "      <td>train</td>\n",
       "      <td>train</td>\n",
       "      <td>2678</td>\n",
       "    </tr>\n",
       "    <tr>\n",
       "      <th>2926</th>\n",
       "      <td>eb32a815f78c</td>\n",
       "      <td>2</td>\n",
       "      <td>train</td>\n",
       "      <td>validation</td>\n",
       "      <td>train</td>\n",
       "      <td>train</td>\n",
       "      <td>train</td>\n",
       "      <td>train</td>\n",
       "      <td>3395</td>\n",
       "    </tr>\n",
       "    <tr>\n",
       "      <th>2927</th>\n",
       "      <td>1c9c583c10bf</td>\n",
       "      <td>0</td>\n",
       "      <td>train</td>\n",
       "      <td>train</td>\n",
       "      <td>train</td>\n",
       "      <td>train</td>\n",
       "      <td>validation</td>\n",
       "      <td>train</td>\n",
       "      <td>392</td>\n",
       "    </tr>\n",
       "    <tr>\n",
       "      <th>2928</th>\n",
       "      <td>3e6bfc4d5c65</td>\n",
       "      <td>2</td>\n",
       "      <td>train</td>\n",
       "      <td>train</td>\n",
       "      <td>validation</td>\n",
       "      <td>train</td>\n",
       "      <td>train</td>\n",
       "      <td>train</td>\n",
       "      <td>864</td>\n",
       "    </tr>\n",
       "  </tbody>\n",
       "</table>\n",
       "<p>2929 rows × 9 columns</p>\n",
       "</div>"
      ],
      "text/plain": [
       "           id_code  diagnosis    set  ...      fold_3      fold_4 index\n",
       "0     52ae917fcea4          1  train  ...       train  validation  1196\n",
       "1     aa4407aab872          0  train  ...       train  validation  2447\n",
       "2     6a57a3db3eff          0  train  ...       train       train  1511\n",
       "3     873dcc0b468f          4  train  ...       train       train  1917\n",
       "4     1f4bf8e28b41          2  train  ...       train  validation   444\n",
       "...            ...        ...    ...  ...         ...         ...   ...\n",
       "2924  96ce10a1dbd7          0  train  ...       train       train  2139\n",
       "2925  b960142a8de7          3  train  ...       train       train  2678\n",
       "2926  eb32a815f78c          2  train  ...       train       train  3395\n",
       "2927  1c9c583c10bf          0  train  ...  validation       train   392\n",
       "2928  3e6bfc4d5c65          2  train  ...       train       train   864\n",
       "\n",
       "[2929 rows x 9 columns]"
      ]
     },
     "execution_count": 8,
     "metadata": {
      "tags": []
     },
     "output_type": "execute_result"
    }
   ],
   "source": [
    "train"
   ]
  },
  {
   "cell_type": "code",
   "execution_count": 9,
   "metadata": {
    "executionInfo": {
     "elapsed": 1042,
     "status": "ok",
     "timestamp": 1604621490713,
     "user": {
      "displayName": "Jorge Diego Garcia Torres",
      "photoUrl": "https://lh3.googleusercontent.com/a-/AOh14GgUm411NCPxL0CyuKgBlBhJ9SxhXr8inmS25Nfq=s64",
      "userId": "03990517325461913005"
     },
     "user_tz": 360
    },
    "id": "rvhKSKc0I7AQ"
   },
   "outputs": [],
   "source": [
    "X_train = train[train['fold_4'] == 'train']\n",
    "X_val = train[train['fold_4'] == 'validation']\n",
    "X_test = train_complete[train_complete['set'] == 'test']"
   ]
  },
  {
   "cell_type": "code",
   "execution_count": 12,
   "metadata": {
    "colab": {
     "base_uri": "https://localhost:8080/",
     "height": 419
    },
    "executionInfo": {
     "elapsed": 954,
     "status": "ok",
     "timestamp": 1604621513824,
     "user": {
      "displayName": "Jorge Diego Garcia Torres",
      "photoUrl": "https://lh3.googleusercontent.com/a-/AOh14GgUm411NCPxL0CyuKgBlBhJ9SxhXr8inmS25Nfq=s64",
      "userId": "03990517325461913005"
     },
     "user_tz": 360
    },
    "id": "CC3wgIzZ5OCA",
    "outputId": "8f9b318a-2c5f-42c1-91f5-241e6b06194c"
   },
   "outputs": [
    {
     "data": {
      "text/html": [
       "<div>\n",
       "<style scoped>\n",
       "    .dataframe tbody tr th:only-of-type {\n",
       "        vertical-align: middle;\n",
       "    }\n",
       "\n",
       "    .dataframe tbody tr th {\n",
       "        vertical-align: top;\n",
       "    }\n",
       "\n",
       "    .dataframe thead th {\n",
       "        text-align: right;\n",
       "    }\n",
       "</style>\n",
       "<table border=\"1\" class=\"dataframe\">\n",
       "  <thead>\n",
       "    <tr style=\"text-align: right;\">\n",
       "      <th></th>\n",
       "      <th>id_code</th>\n",
       "      <th>diagnosis</th>\n",
       "      <th>set</th>\n",
       "      <th>index</th>\n",
       "    </tr>\n",
       "  </thead>\n",
       "  <tbody>\n",
       "    <tr>\n",
       "      <th>2929</th>\n",
       "      <td>840527bc6628</td>\n",
       "      <td>2</td>\n",
       "      <td>test</td>\n",
       "      <td>1871</td>\n",
       "    </tr>\n",
       "    <tr>\n",
       "      <th>2930</th>\n",
       "      <td>c8fc0df22999</td>\n",
       "      <td>1</td>\n",
       "      <td>test</td>\n",
       "      <td>2891</td>\n",
       "    </tr>\n",
       "    <tr>\n",
       "      <th>2931</th>\n",
       "      <td>93be637084a2</td>\n",
       "      <td>1</td>\n",
       "      <td>test</td>\n",
       "      <td>2104</td>\n",
       "    </tr>\n",
       "    <tr>\n",
       "      <th>2932</th>\n",
       "      <td>3e61703b5ab2</td>\n",
       "      <td>0</td>\n",
       "      <td>test</td>\n",
       "      <td>863</td>\n",
       "    </tr>\n",
       "    <tr>\n",
       "      <th>2933</th>\n",
       "      <td>599b89048034</td>\n",
       "      <td>2</td>\n",
       "      <td>test</td>\n",
       "      <td>1287</td>\n",
       "    </tr>\n",
       "    <tr>\n",
       "      <th>...</th>\n",
       "      <td>...</td>\n",
       "      <td>...</td>\n",
       "      <td>...</td>\n",
       "      <td>...</td>\n",
       "    </tr>\n",
       "    <tr>\n",
       "      <th>3657</th>\n",
       "      <td>a88365134c3c</td>\n",
       "      <td>0</td>\n",
       "      <td>test</td>\n",
       "      <td>2414</td>\n",
       "    </tr>\n",
       "    <tr>\n",
       "      <th>3658</th>\n",
       "      <td>59ee65760535</td>\n",
       "      <td>2</td>\n",
       "      <td>test</td>\n",
       "      <td>1290</td>\n",
       "    </tr>\n",
       "    <tr>\n",
       "      <th>3659</th>\n",
       "      <td>0e82bcacc475</td>\n",
       "      <td>4</td>\n",
       "      <td>test</td>\n",
       "      <td>196</td>\n",
       "    </tr>\n",
       "    <tr>\n",
       "      <th>3660</th>\n",
       "      <td>b3819a805dca</td>\n",
       "      <td>4</td>\n",
       "      <td>test</td>\n",
       "      <td>2587</td>\n",
       "    </tr>\n",
       "    <tr>\n",
       "      <th>3661</th>\n",
       "      <td>e037643244b7</td>\n",
       "      <td>4</td>\n",
       "      <td>test</td>\n",
       "      <td>3218</td>\n",
       "    </tr>\n",
       "  </tbody>\n",
       "</table>\n",
       "<p>733 rows × 4 columns</p>\n",
       "</div>"
      ],
      "text/plain": [
       "           id_code  diagnosis   set  index\n",
       "2929  840527bc6628          2  test   1871\n",
       "2930  c8fc0df22999          1  test   2891\n",
       "2931  93be637084a2          1  test   2104\n",
       "2932  3e61703b5ab2          0  test    863\n",
       "2933  599b89048034          2  test   1287\n",
       "...            ...        ...   ...    ...\n",
       "3657  a88365134c3c          0  test   2414\n",
       "3658  59ee65760535          2  test   1290\n",
       "3659  0e82bcacc475          4  test    196\n",
       "3660  b3819a805dca          4  test   2587\n",
       "3661  e037643244b7          4  test   3218\n",
       "\n",
       "[733 rows x 4 columns]"
      ]
     },
     "execution_count": 12,
     "metadata": {
      "tags": []
     },
     "output_type": "execute_result"
    }
   ],
   "source": [
    "X_test"
   ]
  },
  {
   "cell_type": "code",
   "execution_count": 13,
   "metadata": {
    "executionInfo": {
     "elapsed": 499,
     "status": "ok",
     "timestamp": 1604621558529,
     "user": {
      "displayName": "Jorge Diego Garcia Torres",
      "photoUrl": "https://lh3.googleusercontent.com/a-/AOh14GgUm411NCPxL0CyuKgBlBhJ9SxhXr8inmS25Nfq=s64",
      "userId": "03990517325461913005"
     },
     "user_tz": 360
    },
    "id": "se0hmxouKEWR"
   },
   "outputs": [],
   "source": [
    "x_train_i =X_train['index'].values\n",
    "x_val_i = X_val['index'].values\n",
    "x_test_i = X_test['index'].values"
   ]
  },
  {
   "cell_type": "code",
   "execution_count": 14,
   "metadata": {
    "executionInfo": {
     "elapsed": 4713,
     "status": "ok",
     "timestamp": 1604621564886,
     "user": {
      "displayName": "Jorge Diego Garcia Torres",
      "photoUrl": "https://lh3.googleusercontent.com/a-/AOh14GgUm411NCPxL0CyuKgBlBhJ9SxhXr8inmS25Nfq=s64",
      "userId": "03990517325461913005"
     },
     "user_tz": 360
    },
    "id": "6rA2q5BwKL-k"
   },
   "outputs": [],
   "source": [
    "y_train = pd.get_dummies(aptostraindf['diagnosis']).values\n",
    "x_train = np.load('/content/gdrive/My Drive/tesis/aptos/train224.npy')"
   ]
  },
  {
   "cell_type": "code",
   "execution_count": 15,
   "metadata": {
    "executionInfo": {
     "elapsed": 517,
     "status": "ok",
     "timestamp": 1604621588877,
     "user": {
      "displayName": "Jorge Diego Garcia Torres",
      "photoUrl": "https://lh3.googleusercontent.com/a-/AOh14GgUm411NCPxL0CyuKgBlBhJ9SxhXr8inmS25Nfq=s64",
      "userId": "03990517325461913005"
     },
     "user_tz": 360
    },
    "id": "oD7P9NUqKQO2"
   },
   "outputs": [],
   "source": [
    "x_train1 = np.empty((2344,224,224,3),dtype='uint8')\n",
    "x_val1 = np.empty((585,224,224,3),dtype='uint8')\n",
    "\n",
    "y_train1 =  np.empty((2344,5),dtype='uint8')\n",
    "y_val1 = np.empty((585,5),dtype='uint8')\n",
    "\n",
    "for i in range(len(x_train_i)):\n",
    "  x_train1[i] = x_train[x_train_i[i]]\n",
    "  y_train1[i] = y_train[x_train_i[i]]\n",
    "\n",
    "for j in range(len(x_val_i)):\n",
    "  x_val1[j] = x_train[x_val_i[j]]\n",
    "  y_val1[j] = y_train[x_val_i[j]]"
   ]
  },
  {
   "cell_type": "code",
   "execution_count": 16,
   "metadata": {
    "executionInfo": {
     "elapsed": 804,
     "status": "ok",
     "timestamp": 1604621591448,
     "user": {
      "displayName": "Jorge Diego Garcia Torres",
      "photoUrl": "https://lh3.googleusercontent.com/a-/AOh14GgUm411NCPxL0CyuKgBlBhJ9SxhXr8inmS25Nfq=s64",
      "userId": "03990517325461913005"
     },
     "user_tz": 360
    },
    "id": "KN8D8FERKjBy"
   },
   "outputs": [],
   "source": [
    "x_test1= np.empty((733,224,224,3),dtype='uint8')\n",
    "y_test1= np.empty((733,5),dtype='uint8')\n",
    "\n",
    "for i in range(len(x_test_i)):\n",
    "  x_test1[i]= x_train[x_test_i[i]]\n",
    "  y_test1[i]= y_train[x_test_i[i]]"
   ]
  },
  {
   "cell_type": "code",
   "execution_count": 17,
   "metadata": {
    "executionInfo": {
     "elapsed": 519,
     "status": "ok",
     "timestamp": 1604621594231,
     "user": {
      "displayName": "Jorge Diego Garcia Torres",
      "photoUrl": "https://lh3.googleusercontent.com/a-/AOh14GgUm411NCPxL0CyuKgBlBhJ9SxhXr8inmS25Nfq=s64",
      "userId": "03990517325461913005"
     },
     "user_tz": 360
    },
    "id": "n5Wgb_dEORX8"
   },
   "outputs": [],
   "source": [
    "import json\n",
    "import math\n",
    "import os\n",
    "\n",
    "import cv2\n",
    "from PIL import Image\n",
    "import numpy as np\n",
    "from keras import layers\n",
    "from keras.applications import DenseNet121\n",
    "#from keras.callbacks import Callback, ModelCheckpoint\n",
    "from keras.preprocessing.image import ImageDataGenerator\n",
    "from keras.models import Sequential\n",
    "from keras.optimizers import Adam\n",
    "import matplotlib.pyplot as plt\n",
    "import pandas as pd\n",
    "from sklearn.model_selection import train_test_split\n",
    "from sklearn.metrics import cohen_kappa_score, accuracy_score\n",
    "import scipy\n",
    "import tensorflow as tf\n",
    "from tensorflow.keras.callbacks import Callback, ModelCheckpoint\n",
    "from tqdm import tqdm"
   ]
  },
  {
   "cell_type": "code",
   "execution_count": 18,
   "metadata": {
    "executionInfo": {
     "elapsed": 822,
     "status": "ok",
     "timestamp": 1604621602131,
     "user": {
      "displayName": "Jorge Diego Garcia Torres",
      "photoUrl": "https://lh3.googleusercontent.com/a-/AOh14GgUm411NCPxL0CyuKgBlBhJ9SxhXr8inmS25Nfq=s64",
      "userId": "03990517325461913005"
     },
     "user_tz": 360
    },
    "id": "tT-lbmWbmPlt"
   },
   "outputs": [],
   "source": [
    "weights_path_list = ['/content/gdrive/My Drive/tesis2/exp3finalefffold0.h5', '/content/gdrive/My Drive/tesis2/exp3finalefffold1.h5',\n",
    "                     '/content/gdrive/My Drive/tesis2/exp3finalefffold2.h5', '/content/gdrive/My Drive/tesis2/exp3finalefffold3.h5',\n",
    "                     '/content/gdrive/My Drive/tesis2/exp3finalefffold4.h5']"
   ]
  },
  {
   "cell_type": "code",
   "execution_count": 19,
   "metadata": {
    "executionInfo": {
     "elapsed": 784,
     "status": "ok",
     "timestamp": 1604621604382,
     "user": {
      "displayName": "Jorge Diego Garcia Torres",
      "photoUrl": "https://lh3.googleusercontent.com/a-/AOh14GgUm411NCPxL0CyuKgBlBhJ9SxhXr8inmS25Nfq=s64",
      "userId": "03990517325461913005"
     },
     "user_tz": 360
    },
    "id": "pDeufGe2nEEe"
   },
   "outputs": [],
   "source": [
    "def ensemble_preds(model_list, generator):\n",
    "    preds_ensemble = []\n",
    "    for model in model_list:\n",
    "        generator.reset()\n",
    "        preds = model.predict(generator, verbose = 1)\n",
    "        preds_ensemble.append(preds)\n",
    "        generator.reset()\n",
    "\n",
    "    return np.mean(preds_ensemble, axis=0)\n",
    "\n",
    "\n",
    "def apply_tta(model, generator, steps=5):\n",
    "    step_size = generator.n//generator.batch_size\n",
    "    preds_tta = []\n",
    "    for i in range(steps):\n",
    "        generator.reset()\n",
    "        preds = model.predict_generator(generator, steps=step_size)\n",
    "        preds_tta.append(preds)\n",
    "\n",
    "    return np.mean(preds_tta, axis=0)\n",
    "\n",
    "def test_ensemble_preds(model_list, generator, steps=5):\n",
    "    preds_ensemble = []\n",
    "    for model in model_list:\n",
    "        preds = apply_tta(model, generator, steps)\n",
    "        preds_ensemble.append(preds)\n",
    "\n",
    "    return np.mean(preds_ensemble, axis=0)\n"
   ]
  },
  {
   "cell_type": "code",
   "execution_count": 20,
   "metadata": {
    "executionInfo": {
     "elapsed": 604,
     "status": "ok",
     "timestamp": 1604621608286,
     "user": {
      "displayName": "Jorge Diego Garcia Torres",
      "photoUrl": "https://lh3.googleusercontent.com/a-/AOh14GgUm411NCPxL0CyuKgBlBhJ9SxhXr8inmS25Nfq=s64",
      "userId": "03990517325461913005"
     },
     "user_tz": 360
    },
    "id": "KK_B18zRNW6F"
   },
   "outputs": [],
   "source": [
    "BATCH_SIZE = 32\n",
    "\n",
    "train_datagen = ImageDataGenerator(rescale=1./ 255.,\n",
    "                                   rotation_range=360,                               \n",
    "                                   #shear_range=0.01,\n",
    "                                   zoom_range=[0.9, 1.25],\n",
    "                                   horizontal_flip=True,\n",
    "                                   vertical_flip=True)\n",
    "\n",
    "val_datagen = ImageDataGenerator(rescale=1./ 255.,\n",
    "                                   rotation_range=360,                               \n",
    "                                   #shear_range=0.01,\n",
    "                                   zoom_range=[0.9, 1.25],\n",
    "                                   horizontal_flip=True,\n",
    "                                   vertical_flip=True)\n",
    "\n",
    "test_datagen = ImageDataGenerator(rescale=1./ 255.,\n",
    "                                   rotation_range=360,                               \n",
    "                                   #shear_range=0.01,\n",
    "                                   zoom_range=[0.9, 1.25],\n",
    "                                   horizontal_flip=True,\n",
    "                                   vertical_flip=True)\n"
   ]
  },
  {
   "cell_type": "code",
   "execution_count": 21,
   "metadata": {
    "executionInfo": {
     "elapsed": 1292,
     "status": "ok",
     "timestamp": 1604621615442,
     "user": {
      "displayName": "Jorge Diego Garcia Torres",
      "photoUrl": "https://lh3.googleusercontent.com/a-/AOh14GgUm411NCPxL0CyuKgBlBhJ9SxhXr8inmS25Nfq=s64",
      "userId": "03990517325461913005"
     },
     "user_tz": 360
    },
    "id": "Pv5iiJANOY5v"
   },
   "outputs": [],
   "source": [
    "data_generator = train_datagen.flow(x_train1, y_train1, batch_size=1, seed=2020)\n",
    "vdata_gen =  val_datagen.flow(x_val1, y_val1, batch_size=1, seed=2020)\n",
    "tdata_gen =  test_datagen.flow(x_test1, y_test1, batch_size=1, seed=2020)"
   ]
  },
  {
   "cell_type": "code",
   "execution_count": 22,
   "metadata": {
    "executionInfo": {
     "elapsed": 688,
     "status": "ok",
     "timestamp": 1604621619205,
     "user": {
      "displayName": "Jorge Diego Garcia Torres",
      "photoUrl": "https://lh3.googleusercontent.com/a-/AOh14GgUm411NCPxL0CyuKgBlBhJ9SxhXr8inmS25Nfq=s64",
      "userId": "03990517325461913005"
     },
     "user_tz": 360
    },
    "id": "ehbBXbE1RYqk"
   },
   "outputs": [],
   "source": [
    "from tensorflow import keras\n",
    "from tensorflow.keras.layers import Dense, Dropout, Flatten, Conv2D, MaxPooling2D, BatchNormalization, Activation\n",
    "from keras.callbacks import Callback, EarlyStopping, ReduceLROnPlateau\n",
    "from keras.layers import Input,GlobalAveragePooling2D,Dropout,Dense,Activation\n",
    "from keras import applications\n",
    "from keras import optimizers,Model,Sequential"
   ]
  },
  {
   "cell_type": "code",
   "execution_count": 23,
   "metadata": {
    "colab": {
     "base_uri": "https://localhost:8080/"
    },
    "executionInfo": {
     "elapsed": 4653,
     "status": "ok",
     "timestamp": 1604621625688,
     "user": {
      "displayName": "Jorge Diego Garcia Torres",
      "photoUrl": "https://lh3.googleusercontent.com/a-/AOh14GgUm411NCPxL0CyuKgBlBhJ9SxhXr8inmS25Nfq=s64",
      "userId": "03990517325461913005"
     },
     "user_tz": 360
    },
    "id": "gR9R0QnPNeJO",
    "outputId": "ccd2a9c3-0d8d-4ef5-e7d7-94f9b84a214e"
   },
   "outputs": [
    {
     "name": "stdout",
     "output_type": "stream",
     "text": [
      "Collecting efficientnet\n",
      "  Downloading https://files.pythonhosted.org/packages/53/97/84f88e581d6ac86dcf1ab347c497c4c568c38784e3a2bd659b96912ab793/efficientnet-1.1.1-py3-none-any.whl\n",
      "Requirement already satisfied, skipping upgrade: scikit-image in /usr/local/lib/python3.6/dist-packages (from efficientnet) (0.16.2)\n",
      "Collecting keras-applications<=1.0.8,>=1.0.7\n",
      "\u001b[?25l  Downloading https://files.pythonhosted.org/packages/71/e3/19762fdfc62877ae9102edf6342d71b28fbfd9dea3d2f96a882ce099b03f/Keras_Applications-1.0.8-py3-none-any.whl (50kB)\n",
      "\r",
      "\u001b[K     |██████▌                         | 10kB 24.1MB/s eta 0:00:01\r",
      "\u001b[K     |█████████████                   | 20kB 28.4MB/s eta 0:00:01\r",
      "\u001b[K     |███████████████████▍            | 30kB 8.9MB/s eta 0:00:01\r",
      "\u001b[K     |█████████████████████████▉      | 40kB 9.3MB/s eta 0:00:01\r",
      "\u001b[K     |████████████████████████████████| 51kB 4.5MB/s \n",
      "\u001b[?25hRequirement already satisfied, skipping upgrade: networkx>=2.0 in /usr/local/lib/python3.6/dist-packages (from scikit-image->efficientnet) (2.5)\n",
      "Requirement already satisfied, skipping upgrade: pillow>=4.3.0 in /usr/local/lib/python3.6/dist-packages (from scikit-image->efficientnet) (7.0.0)\n",
      "Requirement already satisfied, skipping upgrade: scipy>=0.19.0 in /usr/local/lib/python3.6/dist-packages (from scikit-image->efficientnet) (1.4.1)\n",
      "Requirement already satisfied, skipping upgrade: PyWavelets>=0.4.0 in /usr/local/lib/python3.6/dist-packages (from scikit-image->efficientnet) (1.1.1)\n",
      "Requirement already satisfied, skipping upgrade: matplotlib!=3.0.0,>=2.0.0 in /usr/local/lib/python3.6/dist-packages (from scikit-image->efficientnet) (3.2.2)\n",
      "Requirement already satisfied, skipping upgrade: imageio>=2.3.0 in /usr/local/lib/python3.6/dist-packages (from scikit-image->efficientnet) (2.4.1)\n",
      "Requirement already satisfied, skipping upgrade: h5py in /usr/local/lib/python3.6/dist-packages (from keras-applications<=1.0.8,>=1.0.7->efficientnet) (2.10.0)\n",
      "Requirement already satisfied, skipping upgrade: numpy>=1.9.1 in /usr/local/lib/python3.6/dist-packages (from keras-applications<=1.0.8,>=1.0.7->efficientnet) (1.18.5)\n",
      "Requirement already satisfied, skipping upgrade: decorator>=4.3.0 in /usr/local/lib/python3.6/dist-packages (from networkx>=2.0->scikit-image->efficientnet) (4.4.2)\n",
      "Requirement already satisfied, skipping upgrade: python-dateutil>=2.1 in /usr/local/lib/python3.6/dist-packages (from matplotlib!=3.0.0,>=2.0.0->scikit-image->efficientnet) (2.8.1)\n",
      "Requirement already satisfied, skipping upgrade: pyparsing!=2.0.4,!=2.1.2,!=2.1.6,>=2.0.1 in /usr/local/lib/python3.6/dist-packages (from matplotlib!=3.0.0,>=2.0.0->scikit-image->efficientnet) (2.4.7)\n",
      "Requirement already satisfied, skipping upgrade: kiwisolver>=1.0.1 in /usr/local/lib/python3.6/dist-packages (from matplotlib!=3.0.0,>=2.0.0->scikit-image->efficientnet) (1.3.1)\n",
      "Requirement already satisfied, skipping upgrade: cycler>=0.10 in /usr/local/lib/python3.6/dist-packages (from matplotlib!=3.0.0,>=2.0.0->scikit-image->efficientnet) (0.10.0)\n",
      "Requirement already satisfied, skipping upgrade: six in /usr/local/lib/python3.6/dist-packages (from h5py->keras-applications<=1.0.8,>=1.0.7->efficientnet) (1.15.0)\n",
      "Installing collected packages: keras-applications, efficientnet\n",
      "Successfully installed efficientnet-1.1.1 keras-applications-1.0.8\n"
     ]
    }
   ],
   "source": [
    "pip install -U efficientnet"
   ]
  },
  {
   "cell_type": "code",
   "execution_count": 24,
   "metadata": {
    "executionInfo": {
     "elapsed": 1048,
     "status": "ok",
     "timestamp": 1604621627728,
     "user": {
      "displayName": "Jorge Diego Garcia Torres",
      "photoUrl": "https://lh3.googleusercontent.com/a-/AOh14GgUm411NCPxL0CyuKgBlBhJ9SxhXr8inmS25Nfq=s64",
      "userId": "03990517325461913005"
     },
     "user_tz": 360
    },
    "id": "Kx68eODUNzUT"
   },
   "outputs": [],
   "source": [
    "import efficientnet.keras as efn "
   ]
  },
  {
   "cell_type": "code",
   "execution_count": 25,
   "metadata": {
    "executionInfo": {
     "elapsed": 896,
     "status": "ok",
     "timestamp": 1604621629908,
     "user": {
      "displayName": "Jorge Diego Garcia Torres",
      "photoUrl": "https://lh3.googleusercontent.com/a-/AOh14GgUm411NCPxL0CyuKgBlBhJ9SxhXr8inmS25Nfq=s64",
      "userId": "03990517325461913005"
     },
     "user_tz": 360
    },
    "id": "BHSXrbvxRZ6g"
   },
   "outputs": [],
   "source": [
    "def create_model(input_shape, n_out, weights_path):\n",
    "    input_tensor = Input(shape=input_shape)\n",
    "    base_model = efn.EfficientNetB5(weights=None,include_top=False,input_tensor=input_tensor)\n",
    "    #base_model = applications.ResNet50(weights='imagenet', include_top=False,input_tensor=input_tensor)\n",
    "    #base_model.load_weights('resnet50_weights_tf_dim_ordering_tf_kernels_notop.h5')\n",
    "\n",
    "    x = GlobalAveragePooling2D()(base_model.output)\n",
    "    x = Dropout(0.5)(x)\n",
    "    x = Dense(2048, activation='relu')(x)\n",
    "    x = Dropout(0.5)(x)\n",
    "    final_output = Dense(n_out, activation='softmax', name='final_output')(x)\n",
    "    model = Model(input_tensor, final_output)\n",
    "\n",
    "    model.load_weights(weights_path)\n",
    "    return model"
   ]
  },
  {
   "cell_type": "code",
   "execution_count": 26,
   "metadata": {
    "executionInfo": {
     "elapsed": 47025,
     "status": "ok",
     "timestamp": 1604621679490,
     "user": {
      "displayName": "Jorge Diego Garcia Torres",
      "photoUrl": "https://lh3.googleusercontent.com/a-/AOh14GgUm411NCPxL0CyuKgBlBhJ9SxhXr8inmS25Nfq=s64",
      "userId": "03990517325461913005"
     },
     "user_tz": 360
    },
    "id": "L8JLAQxqoNSl"
   },
   "outputs": [],
   "source": [
    "model_list = []\n",
    "\n",
    "for weights_path in weights_path_list:\n",
    "  model_list.append(create_model(input_shape=(224, 224, 3), n_out=5, weights_path= weights_path))"
   ]
  },
  {
   "cell_type": "code",
   "execution_count": 27,
   "metadata": {
    "executionInfo": {
     "elapsed": 12666,
     "status": "ok",
     "timestamp": 1604621695010,
     "user": {
      "displayName": "Jorge Diego Garcia Torres",
      "photoUrl": "https://lh3.googleusercontent.com/a-/AOh14GgUm411NCPxL0CyuKgBlBhJ9SxhXr8inmS25Nfq=s64",
      "userId": "03990517325461913005"
     },
     "user_tz": 360
    },
    "id": "x2L3jurvTI9X"
   },
   "outputs": [],
   "source": [
    "vdata_gen.reset()\n",
    "\n",
    "x_vdata = np.zeros((583,224, 224, 3))\n",
    "y_val2 = np.array([[0,0,0,0,0]])\n",
    "\n",
    "for i in range(583):\n",
    "  y_val2 =np.append(y_val2, vdata_gen[i][1], axis=0)\n",
    "  x_vdata[i]= vdata_gen[i][0]\n",
    "\n",
    "y_val2 = np.delete(y_val2,0, axis=0)\n",
    "\n",
    "vdata_gen.reset()"
   ]
  },
  {
   "cell_type": "code",
   "execution_count": 28,
   "metadata": {
    "colab": {
     "base_uri": "https://localhost:8080/"
    },
    "executionInfo": {
     "elapsed": 675,
     "status": "ok",
     "timestamp": 1604621697147,
     "user": {
      "displayName": "Jorge Diego Garcia Torres",
      "photoUrl": "https://lh3.googleusercontent.com/a-/AOh14GgUm411NCPxL0CyuKgBlBhJ9SxhXr8inmS25Nfq=s64",
      "userId": "03990517325461913005"
     },
     "user_tz": 360
    },
    "id": "V-MYEsUsUTUI",
    "outputId": "f1dfce79-9a21-4232-ecdc-bfd2396e3bef"
   },
   "outputs": [
    {
     "data": {
      "text/plain": [
       "[0,\n",
       " 0,\n",
       " 0,\n",
       " 0,\n",
       " 2,\n",
       " 2,\n",
       " 0,\n",
       " 0,\n",
       " 2,\n",
       " 0,\n",
       " 0,\n",
       " 2,\n",
       " 0,\n",
       " 0,\n",
       " 1,\n",
       " 4,\n",
       " 0,\n",
       " 4,\n",
       " 2,\n",
       " 2,\n",
       " 2,\n",
       " 2,\n",
       " 0,\n",
       " 2,\n",
       " 0,\n",
       " 0,\n",
       " 4,\n",
       " 0,\n",
       " 4,\n",
       " 2,\n",
       " 0,\n",
       " 0,\n",
       " 0,\n",
       " 0,\n",
       " 0,\n",
       " 4,\n",
       " 1,\n",
       " 0,\n",
       " 0,\n",
       " 2,\n",
       " 0,\n",
       " 2,\n",
       " 4,\n",
       " 0,\n",
       " 0,\n",
       " 2,\n",
       " 2,\n",
       " 0,\n",
       " 2,\n",
       " 2,\n",
       " 3,\n",
       " 0,\n",
       " 0,\n",
       " 2,\n",
       " 0,\n",
       " 2,\n",
       " 2,\n",
       " 2,\n",
       " 0,\n",
       " 2,\n",
       " 2,\n",
       " 1,\n",
       " 0,\n",
       " 0,\n",
       " 4,\n",
       " 1,\n",
       " 0,\n",
       " 4,\n",
       " 4,\n",
       " 4,\n",
       " 0,\n",
       " 0,\n",
       " 4,\n",
       " 1,\n",
       " 2,\n",
       " 2,\n",
       " 0,\n",
       " 0,\n",
       " 0,\n",
       " 0,\n",
       " 0,\n",
       " 2,\n",
       " 0,\n",
       " 0,\n",
       " 2,\n",
       " 0,\n",
       " 3,\n",
       " 0,\n",
       " 0,\n",
       " 1,\n",
       " 0,\n",
       " 2,\n",
       " 0,\n",
       " 4,\n",
       " 0,\n",
       " 2,\n",
       " 0,\n",
       " 3,\n",
       " 0,\n",
       " 2,\n",
       " 0,\n",
       " 0,\n",
       " 2,\n",
       " 0,\n",
       " 0,\n",
       " 2,\n",
       " 4,\n",
       " 1,\n",
       " 0,\n",
       " 2,\n",
       " 0,\n",
       " 4,\n",
       " 0,\n",
       " 0,\n",
       " 0,\n",
       " 0,\n",
       " 0,\n",
       " 4,\n",
       " 2,\n",
       " 0,\n",
       " 2,\n",
       " 0,\n",
       " 0,\n",
       " 2,\n",
       " 2,\n",
       " 1,\n",
       " 0,\n",
       " 2,\n",
       " 4,\n",
       " 1,\n",
       " 0,\n",
       " 2,\n",
       " 0,\n",
       " 0,\n",
       " 0,\n",
       " 0,\n",
       " 0,\n",
       " 0,\n",
       " 1,\n",
       " 0,\n",
       " 0,\n",
       " 0,\n",
       " 0,\n",
       " 4,\n",
       " 1,\n",
       " 0,\n",
       " 2,\n",
       " 1,\n",
       " 1,\n",
       " 2,\n",
       " 0,\n",
       " 3,\n",
       " 2,\n",
       " 0,\n",
       " 2,\n",
       " 0,\n",
       " 2,\n",
       " 2,\n",
       " 4,\n",
       " 0,\n",
       " 2,\n",
       " 0,\n",
       " 1,\n",
       " 0,\n",
       " 2,\n",
       " 3,\n",
       " 0,\n",
       " 2,\n",
       " 0,\n",
       " 2,\n",
       " 0,\n",
       " 0,\n",
       " 0,\n",
       " 0,\n",
       " 4,\n",
       " 0,\n",
       " 0,\n",
       " 2,\n",
       " 0,\n",
       " 0,\n",
       " 0,\n",
       " 0,\n",
       " 0,\n",
       " 1,\n",
       " 2,\n",
       " 0,\n",
       " 0,\n",
       " 0,\n",
       " 2,\n",
       " 0,\n",
       " 2,\n",
       " 0,\n",
       " 2,\n",
       " 2,\n",
       " 2,\n",
       " 0,\n",
       " 2,\n",
       " 2,\n",
       " 0,\n",
       " 2,\n",
       " 4,\n",
       " 0,\n",
       " 0,\n",
       " 0,\n",
       " 2,\n",
       " 2,\n",
       " 3,\n",
       " 1,\n",
       " 2,\n",
       " 2,\n",
       " 0,\n",
       " 0,\n",
       " 0,\n",
       " 0,\n",
       " 4,\n",
       " 2,\n",
       " 1,\n",
       " 2,\n",
       " 1,\n",
       " 0,\n",
       " 2,\n",
       " 1,\n",
       " 0,\n",
       " 1,\n",
       " 0,\n",
       " 2,\n",
       " 2,\n",
       " 0,\n",
       " 1,\n",
       " 2,\n",
       " 2,\n",
       " 0,\n",
       " 2,\n",
       " 0,\n",
       " 1,\n",
       " 0,\n",
       " 4,\n",
       " 3,\n",
       " 2,\n",
       " 2,\n",
       " 0,\n",
       " 0,\n",
       " 2,\n",
       " 2,\n",
       " 0,\n",
       " 0,\n",
       " 2,\n",
       " 0,\n",
       " 0,\n",
       " 0,\n",
       " 0,\n",
       " 2,\n",
       " 0,\n",
       " 2,\n",
       " 2,\n",
       " 0,\n",
       " 0,\n",
       " 1,\n",
       " 0,\n",
       " 0,\n",
       " 0,\n",
       " 0,\n",
       " 2,\n",
       " 0,\n",
       " 4,\n",
       " 2,\n",
       " 0,\n",
       " 0,\n",
       " 4,\n",
       " 3,\n",
       " 0,\n",
       " 3,\n",
       " 0,\n",
       " 0,\n",
       " 2,\n",
       " 1,\n",
       " 2,\n",
       " 0,\n",
       " 2,\n",
       " 2,\n",
       " 0,\n",
       " 4,\n",
       " 0,\n",
       " 2,\n",
       " 0,\n",
       " 3,\n",
       " 1,\n",
       " 2,\n",
       " 2,\n",
       " 0,\n",
       " 0,\n",
       " 4,\n",
       " 4,\n",
       " 0,\n",
       " 3,\n",
       " 0,\n",
       " 0,\n",
       " 1,\n",
       " 0,\n",
       " 4,\n",
       " 2,\n",
       " 0,\n",
       " 2,\n",
       " 2,\n",
       " 0,\n",
       " 2,\n",
       " 2,\n",
       " 4,\n",
       " 2,\n",
       " 1,\n",
       " 1,\n",
       " 0,\n",
       " 0,\n",
       " 0,\n",
       " 1,\n",
       " 2,\n",
       " 1,\n",
       " 1,\n",
       " 2,\n",
       " 0,\n",
       " 2,\n",
       " 2,\n",
       " 0,\n",
       " 2,\n",
       " 0,\n",
       " 4,\n",
       " 0,\n",
       " 1,\n",
       " 3,\n",
       " 3,\n",
       " 1,\n",
       " 1,\n",
       " 2,\n",
       " 0,\n",
       " 0,\n",
       " 3,\n",
       " 0,\n",
       " 0,\n",
       " 0,\n",
       " 2,\n",
       " 4,\n",
       " 0,\n",
       " 2,\n",
       " 0,\n",
       " 3,\n",
       " 0,\n",
       " 0,\n",
       " 0,\n",
       " 2,\n",
       " 0,\n",
       " 0,\n",
       " 1,\n",
       " 0,\n",
       " 0,\n",
       " 2,\n",
       " 2,\n",
       " 0,\n",
       " 0,\n",
       " 2,\n",
       " 2,\n",
       " 0,\n",
       " 1,\n",
       " 0,\n",
       " 2,\n",
       " 3,\n",
       " 4,\n",
       " 0,\n",
       " 0,\n",
       " 0,\n",
       " 0,\n",
       " 4,\n",
       " 0,\n",
       " 1,\n",
       " 2,\n",
       " 0,\n",
       " 0,\n",
       " 0,\n",
       " 0,\n",
       " 0,\n",
       " 4,\n",
       " 0,\n",
       " 0,\n",
       " 1,\n",
       " 2,\n",
       " 0,\n",
       " 0,\n",
       " 4,\n",
       " 0,\n",
       " 2,\n",
       " 2,\n",
       " 0,\n",
       " 0,\n",
       " 4,\n",
       " 0,\n",
       " 1,\n",
       " 0,\n",
       " 0,\n",
       " 2,\n",
       " 0,\n",
       " 0,\n",
       " 0,\n",
       " 0,\n",
       " 2,\n",
       " 0,\n",
       " 0,\n",
       " 2,\n",
       " 0,\n",
       " 2,\n",
       " 1,\n",
       " 0,\n",
       " 2,\n",
       " 1,\n",
       " 2,\n",
       " 0,\n",
       " 0,\n",
       " 0,\n",
       " 3,\n",
       " 0,\n",
       " 0,\n",
       " 0,\n",
       " 2,\n",
       " 1,\n",
       " 0,\n",
       " 0,\n",
       " 2,\n",
       " 2,\n",
       " 2,\n",
       " 2,\n",
       " 2,\n",
       " 0,\n",
       " 1,\n",
       " 2,\n",
       " 0,\n",
       " 2,\n",
       " 0,\n",
       " 2,\n",
       " 0,\n",
       " 0,\n",
       " 1,\n",
       " 0,\n",
       " 2,\n",
       " 4,\n",
       " 2,\n",
       " 0,\n",
       " 0,\n",
       " 3,\n",
       " 2,\n",
       " 0,\n",
       " 1,\n",
       " 4,\n",
       " 0,\n",
       " 0,\n",
       " 4,\n",
       " 4,\n",
       " 1,\n",
       " 1,\n",
       " 2,\n",
       " 2,\n",
       " 2,\n",
       " 1,\n",
       " 2,\n",
       " 3,\n",
       " 1,\n",
       " 0,\n",
       " 1,\n",
       " 3,\n",
       " 0,\n",
       " 2,\n",
       " 1,\n",
       " 3,\n",
       " 0,\n",
       " 0,\n",
       " 0,\n",
       " 2,\n",
       " 2,\n",
       " 0,\n",
       " 0,\n",
       " 3,\n",
       " 2,\n",
       " 0,\n",
       " 2,\n",
       " 0,\n",
       " 0,\n",
       " 0,\n",
       " 3,\n",
       " 2,\n",
       " 1,\n",
       " 2,\n",
       " 1,\n",
       " 0,\n",
       " 3,\n",
       " 3,\n",
       " 0,\n",
       " 0,\n",
       " 2,\n",
       " 0,\n",
       " 0,\n",
       " 0,\n",
       " 0,\n",
       " 0,\n",
       " 0,\n",
       " 0,\n",
       " 4,\n",
       " 2,\n",
       " 2,\n",
       " 2,\n",
       " 0,\n",
       " 2,\n",
       " 0,\n",
       " 1,\n",
       " 3,\n",
       " 2,\n",
       " 2,\n",
       " 4,\n",
       " 2,\n",
       " 0,\n",
       " 3,\n",
       " 0,\n",
       " 0,\n",
       " 0,\n",
       " 0,\n",
       " 4,\n",
       " 0,\n",
       " 1,\n",
       " 0,\n",
       " 0,\n",
       " 1,\n",
       " 2,\n",
       " 2,\n",
       " 0,\n",
       " 2,\n",
       " 0,\n",
       " 3,\n",
       " 0,\n",
       " 0,\n",
       " 0,\n",
       " 1,\n",
       " 0,\n",
       " 2,\n",
       " 3,\n",
       " 0,\n",
       " 4,\n",
       " 0,\n",
       " 0,\n",
       " 0,\n",
       " 2,\n",
       " 0,\n",
       " 0,\n",
       " 2,\n",
       " 0,\n",
       " 2,\n",
       " 0,\n",
       " 0,\n",
       " 2,\n",
       " 0,\n",
       " 0,\n",
       " 2,\n",
       " 0,\n",
       " 1,\n",
       " 0,\n",
       " 4,\n",
       " 2,\n",
       " 2,\n",
       " 0,\n",
       " 2,\n",
       " 0,\n",
       " 2,\n",
       " 0,\n",
       " 2,\n",
       " 0,\n",
       " 0,\n",
       " 4,\n",
       " 0,\n",
       " 0,\n",
       " 2,\n",
       " 0,\n",
       " 0,\n",
       " 1,\n",
       " 0,\n",
       " 4,\n",
       " 2,\n",
       " 1,\n",
       " 0]"
      ]
     },
     "execution_count": 28,
     "metadata": {
      "tags": []
     },
     "output_type": "execute_result"
    }
   ],
   "source": [
    "val_gen1 = [np.argmax(pred) for pred in y_val2]\n",
    "val_gen1"
   ]
  },
  {
   "cell_type": "code",
   "execution_count": 29,
   "metadata": {
    "executionInfo": {
     "elapsed": 832,
     "status": "ok",
     "timestamp": 1604621701795,
     "user": {
      "displayName": "Jorge Diego Garcia Torres",
      "photoUrl": "https://lh3.googleusercontent.com/a-/AOh14GgUm411NCPxL0CyuKgBlBhJ9SxhXr8inmS25Nfq=s64",
      "userId": "03990517325461913005"
     },
     "user_tz": 360
    },
    "id": "yucQOcQqjyjG"
   },
   "outputs": [],
   "source": [
    "preds_ensemble = []"
   ]
  },
  {
   "cell_type": "code",
   "execution_count": 30,
   "metadata": {
    "colab": {
     "base_uri": "https://localhost:8080/"
    },
    "executionInfo": {
     "elapsed": 12837,
     "status": "ok",
     "timestamp": 1604621716445,
     "user": {
      "displayName": "Jorge Diego Garcia Torres",
      "photoUrl": "https://lh3.googleusercontent.com/a-/AOh14GgUm411NCPxL0CyuKgBlBhJ9SxhXr8inmS25Nfq=s64",
      "userId": "03990517325461913005"
     },
     "user_tz": 360
    },
    "id": "N9Ut3Qlqag3i",
    "outputId": "85c97626-3fba-44c7-f52f-e1902cb02f4b"
   },
   "outputs": [
    {
     "name": "stdout",
     "output_type": "stream",
     "text": [
      " 1/19 [>.............................] - ETA: 0sWARNING:tensorflow:Callbacks method `on_predict_batch_end` is slow compared to the batch time (batch time: 0.0284s vs `on_predict_batch_end` time: 0.0456s). Check your callbacks.\n",
      "19/19 [==============================] - 1s 72ms/step\n"
     ]
    }
   ],
   "source": [
    "val_preds_model1 = model_list[0].predict(x_vdata, verbose = 1)\n",
    "preds_ensemble.append(val_preds_model1)\n",
    "val_preds_model1 = [np.argmax(pred) for pred in val_preds_model1]\n"
   ]
  },
  {
   "cell_type": "code",
   "execution_count": 31,
   "metadata": {
    "colab": {
     "base_uri": "https://localhost:8080/"
    },
    "executionInfo": {
     "elapsed": 1008,
     "status": "ok",
     "timestamp": 1604621738312,
     "user": {
      "displayName": "Jorge Diego Garcia Torres",
      "photoUrl": "https://lh3.googleusercontent.com/a-/AOh14GgUm411NCPxL0CyuKgBlBhJ9SxhXr8inmS25Nfq=s64",
      "userId": "03990517325461913005"
     },
     "user_tz": 360
    },
    "id": "U1XKkTkUbrXA",
    "outputId": "89096429-e0a1-43c9-a6e5-7c2547c9bd57"
   },
   "outputs": [
    {
     "name": "stdout",
     "output_type": "stream",
     "text": [
      "Val Cohen Kappa score: 0.957\n"
     ]
    }
   ],
   "source": [
    "print(\"Val Cohen Kappa score: %.3f\" % cohen_kappa_score(val_preds_model1, val_gen1, weights='quadratic'))"
   ]
  },
  {
   "cell_type": "code",
   "execution_count": 32,
   "metadata": {
    "colab": {
     "base_uri": "https://localhost:8080/"
    },
    "executionInfo": {
     "elapsed": 4826,
     "status": "ok",
     "timestamp": 1604621753229,
     "user": {
      "displayName": "Jorge Diego Garcia Torres",
      "photoUrl": "https://lh3.googleusercontent.com/a-/AOh14GgUm411NCPxL0CyuKgBlBhJ9SxhXr8inmS25Nfq=s64",
      "userId": "03990517325461913005"
     },
     "user_tz": 360
    },
    "id": "iUYePlv-c_sd",
    "outputId": "0f30c67b-13b0-409d-b014-a768a2648a6e"
   },
   "outputs": [
    {
     "name": "stdout",
     "output_type": "stream",
     "text": [
      " 2/19 [==>...........................] - ETA: 0sWARNING:tensorflow:Callbacks method `on_predict_batch_end` is slow compared to the batch time (batch time: 0.0216s vs `on_predict_batch_end` time: 0.0529s). Check your callbacks.\n",
      "19/19 [==============================] - 1s 66ms/step\n"
     ]
    }
   ],
   "source": [
    "val_preds_model2 = model_list[1].predict(x_vdata, verbose = 1)\n",
    "preds_ensemble.append(val_preds_model2)\n",
    "val_preds_model2 = [np.argmax(pred) for pred in val_preds_model2]"
   ]
  },
  {
   "cell_type": "code",
   "execution_count": 33,
   "metadata": {
    "colab": {
     "base_uri": "https://localhost:8080/"
    },
    "executionInfo": {
     "elapsed": 617,
     "status": "ok",
     "timestamp": 1604621755447,
     "user": {
      "displayName": "Jorge Diego Garcia Torres",
      "photoUrl": "https://lh3.googleusercontent.com/a-/AOh14GgUm411NCPxL0CyuKgBlBhJ9SxhXr8inmS25Nfq=s64",
      "userId": "03990517325461913005"
     },
     "user_tz": 360
    },
    "id": "Cr0VSySjdDKV",
    "outputId": "f7efb3de-7039-4e4c-9ea6-15205e64c556"
   },
   "outputs": [
    {
     "name": "stdout",
     "output_type": "stream",
     "text": [
      "Val Cohen Kappa score: 0.941\n"
     ]
    }
   ],
   "source": [
    "print(\"Val Cohen Kappa score: %.3f\" % cohen_kappa_score(val_preds_model2, val_gen1, weights='quadratic'))"
   ]
  },
  {
   "cell_type": "code",
   "execution_count": 34,
   "metadata": {
    "colab": {
     "base_uri": "https://localhost:8080/"
    },
    "executionInfo": {
     "elapsed": 4736,
     "status": "ok",
     "timestamp": 1604621763829,
     "user": {
      "displayName": "Jorge Diego Garcia Torres",
      "photoUrl": "https://lh3.googleusercontent.com/a-/AOh14GgUm411NCPxL0CyuKgBlBhJ9SxhXr8inmS25Nfq=s64",
      "userId": "03990517325461913005"
     },
     "user_tz": 360
    },
    "id": "YApWo_19iwD9",
    "outputId": "f77a9c37-4cdd-41ab-fa73-76409d20eb5a"
   },
   "outputs": [
    {
     "name": "stdout",
     "output_type": "stream",
     "text": [
      " 2/19 [==>...........................] - ETA: 0sWARNING:tensorflow:Callbacks method `on_predict_batch_end` is slow compared to the batch time (batch time: 0.0212s vs `on_predict_batch_end` time: 0.0484s). Check your callbacks.\n",
      "19/19 [==============================] - 1s 65ms/step\n"
     ]
    }
   ],
   "source": [
    "val_preds_model3 = model_list[2].predict(x_vdata, verbose = 1)\n",
    "preds_ensemble.append(val_preds_model3)\n",
    "val_preds_model3 = [np.argmax(pred) for pred in val_preds_model3]"
   ]
  },
  {
   "cell_type": "code",
   "execution_count": 35,
   "metadata": {
    "colab": {
     "base_uri": "https://localhost:8080/"
    },
    "executionInfo": {
     "elapsed": 828,
     "status": "ok",
     "timestamp": 1604621767490,
     "user": {
      "displayName": "Jorge Diego Garcia Torres",
      "photoUrl": "https://lh3.googleusercontent.com/a-/AOh14GgUm411NCPxL0CyuKgBlBhJ9SxhXr8inmS25Nfq=s64",
      "userId": "03990517325461913005"
     },
     "user_tz": 360
    },
    "id": "RVRfcfVVi7C4",
    "outputId": "0c45e8f7-7b93-4920-84f3-21804dbfa1ce"
   },
   "outputs": [
    {
     "name": "stdout",
     "output_type": "stream",
     "text": [
      "Val Cohen Kappa score: 0.946\n"
     ]
    }
   ],
   "source": [
    "print(\"Val Cohen Kappa score: %.3f\" % cohen_kappa_score(val_preds_model3, val_gen1, weights='quadratic'))"
   ]
  },
  {
   "cell_type": "code",
   "execution_count": 36,
   "metadata": {
    "colab": {
     "base_uri": "https://localhost:8080/"
    },
    "executionInfo": {
     "elapsed": 5014,
     "status": "ok",
     "timestamp": 1604621776888,
     "user": {
      "displayName": "Jorge Diego Garcia Torres",
      "photoUrl": "https://lh3.googleusercontent.com/a-/AOh14GgUm411NCPxL0CyuKgBlBhJ9SxhXr8inmS25Nfq=s64",
      "userId": "03990517325461913005"
     },
     "user_tz": 360
    },
    "id": "k5v7NGwgjKb0",
    "outputId": "28b28ebe-5b7c-48d2-cba5-995f9ce2eb35"
   },
   "outputs": [
    {
     "name": "stdout",
     "output_type": "stream",
     "text": [
      " 2/19 [==>...........................] - ETA: 0sWARNING:tensorflow:Callbacks method `on_predict_batch_end` is slow compared to the batch time (batch time: 0.0208s vs `on_predict_batch_end` time: 0.0531s). Check your callbacks.\n",
      "19/19 [==============================] - 1s 66ms/step\n"
     ]
    }
   ],
   "source": [
    "val_preds_model4 = model_list[3].predict(x_vdata, verbose = 1)\n",
    "preds_ensemble.append(val_preds_model4)\n",
    "val_preds_model4 = [np.argmax(pred) for pred in val_preds_model4]"
   ]
  },
  {
   "cell_type": "code",
   "execution_count": 37,
   "metadata": {
    "colab": {
     "base_uri": "https://localhost:8080/"
    },
    "executionInfo": {
     "elapsed": 650,
     "status": "ok",
     "timestamp": 1604621780099,
     "user": {
      "displayName": "Jorge Diego Garcia Torres",
      "photoUrl": "https://lh3.googleusercontent.com/a-/AOh14GgUm411NCPxL0CyuKgBlBhJ9SxhXr8inmS25Nfq=s64",
      "userId": "03990517325461913005"
     },
     "user_tz": 360
    },
    "id": "QkZ8UOivjQgH",
    "outputId": "c1bfa8c8-f067-4115-c9f3-b5ce1d0878e7"
   },
   "outputs": [
    {
     "name": "stdout",
     "output_type": "stream",
     "text": [
      "Val Cohen Kappa score: 0.953\n"
     ]
    }
   ],
   "source": [
    "print(\"Val Cohen Kappa score: %.3f\" % cohen_kappa_score(val_preds_model4, val_gen1, weights='quadratic'))"
   ]
  },
  {
   "cell_type": "code",
   "execution_count": 38,
   "metadata": {
    "colab": {
     "base_uri": "https://localhost:8080/"
    },
    "executionInfo": {
     "elapsed": 5315,
     "status": "ok",
     "timestamp": 1604621791242,
     "user": {
      "displayName": "Jorge Diego Garcia Torres",
      "photoUrl": "https://lh3.googleusercontent.com/a-/AOh14GgUm411NCPxL0CyuKgBlBhJ9SxhXr8inmS25Nfq=s64",
      "userId": "03990517325461913005"
     },
     "user_tz": 360
    },
    "id": "NgAhi4WAjZ8R",
    "outputId": "1d5ef033-1b6c-4db0-acfe-ecbdf521a5d1"
   },
   "outputs": [
    {
     "name": "stdout",
     "output_type": "stream",
     "text": [
      " 2/19 [==>...........................] - ETA: 0sWARNING:tensorflow:Callbacks method `on_predict_batch_end` is slow compared to the batch time (batch time: 0.0209s vs `on_predict_batch_end` time: 0.0477s). Check your callbacks.\n",
      "19/19 [==============================] - 1s 65ms/step\n"
     ]
    }
   ],
   "source": [
    "val_preds_model5 = model_list[4].predict(x_vdata, verbose = 1)\n",
    "preds_ensemble.append(val_preds_model5)\n",
    "val_preds_model5 = [np.argmax(pred) for pred in val_preds_model5]"
   ]
  },
  {
   "cell_type": "code",
   "execution_count": 39,
   "metadata": {
    "colab": {
     "base_uri": "https://localhost:8080/"
    },
    "executionInfo": {
     "elapsed": 641,
     "status": "ok",
     "timestamp": 1604621793691,
     "user": {
      "displayName": "Jorge Diego Garcia Torres",
      "photoUrl": "https://lh3.googleusercontent.com/a-/AOh14GgUm411NCPxL0CyuKgBlBhJ9SxhXr8inmS25Nfq=s64",
      "userId": "03990517325461913005"
     },
     "user_tz": 360
    },
    "id": "5s0AvKGXje1M",
    "outputId": "68e5fff4-69cd-4150-ea20-c6c4d37c0255"
   },
   "outputs": [
    {
     "name": "stdout",
     "output_type": "stream",
     "text": [
      "Val Cohen Kappa score: 0.899\n"
     ]
    }
   ],
   "source": [
    "print(\"Val Cohen Kappa score: %.3f\" % cohen_kappa_score(val_preds_model5, val_gen1, weights='quadratic'))"
   ]
  },
  {
   "cell_type": "code",
   "execution_count": 40,
   "metadata": {
    "executionInfo": {
     "elapsed": 1541,
     "status": "ok",
     "timestamp": 1604621803142,
     "user": {
      "displayName": "Jorge Diego Garcia Torres",
      "photoUrl": "https://lh3.googleusercontent.com/a-/AOh14GgUm411NCPxL0CyuKgBlBhJ9SxhXr8inmS25Nfq=s64",
      "userId": "03990517325461913005"
     },
     "user_tz": 360
    },
    "id": "frAs7R57kWq4"
   },
   "outputs": [],
   "source": [
    "preds_ensemble =  np.mean(preds_ensemble, axis=0)\n",
    "preds_ensemble = [np.argmax(pred) for pred in preds_ensemble]"
   ]
  },
  {
   "cell_type": "code",
   "execution_count": 41,
   "metadata": {
    "colab": {
     "base_uri": "https://localhost:8080/"
    },
    "executionInfo": {
     "elapsed": 795,
     "status": "ok",
     "timestamp": 1604621807155,
     "user": {
      "displayName": "Jorge Diego Garcia Torres",
      "photoUrl": "https://lh3.googleusercontent.com/a-/AOh14GgUm411NCPxL0CyuKgBlBhJ9SxhXr8inmS25Nfq=s64",
      "userId": "03990517325461913005"
     },
     "user_tz": 360
    },
    "id": "CHEJGAwjkzpK",
    "outputId": "70d3cf11-679d-4574-c569-71dd667d303c"
   },
   "outputs": [
    {
     "name": "stdout",
     "output_type": "stream",
     "text": [
      "Val Cohen Kappa score: 0.958\n"
     ]
    }
   ],
   "source": [
    "print(\"Val Cohen Kappa score: %.3f\" % cohen_kappa_score(preds_ensemble, val_gen1, weights='quadratic'))"
   ]
  },
  {
   "cell_type": "code",
   "execution_count": 42,
   "metadata": {
    "executionInfo": {
     "elapsed": 779,
     "status": "ok",
     "timestamp": 1604621812700,
     "user": {
      "displayName": "Jorge Diego Garcia Torres",
      "photoUrl": "https://lh3.googleusercontent.com/a-/AOh14GgUm411NCPxL0CyuKgBlBhJ9SxhXr8inmS25Nfq=s64",
      "userId": "03990517325461913005"
     },
     "user_tz": 360
    },
    "id": "hz9YqSB_NXRl"
   },
   "outputs": [],
   "source": [
    "def plot_conf_matrix(true,pred,classes):\n",
    "    cf = confusion_matrix(true, pred)\n",
    "    \n",
    "    df_cm = pd.DataFrame(cf, range(len(classes)), range(len(classes)))\n",
    "    plt.figure(figsize=(8,5.5))\n",
    "    sns.set(font_scale=1.4)\n",
    "    sns.heatmap(df_cm, annot=True, annot_kws={\"size\": 16},xticklabels = classes ,yticklabels = classes,fmt='g')\n",
    "    #sns.heatmap(df_cm, annot=True, annot_kws={\"size\": 16})\n",
    "    plt.show()"
   ]
  },
  {
   "cell_type": "code",
   "execution_count": 43,
   "metadata": {
    "executionInfo": {
     "elapsed": 1065,
     "status": "ok",
     "timestamp": 1604621815519,
     "user": {
      "displayName": "Jorge Diego Garcia Torres",
      "photoUrl": "https://lh3.googleusercontent.com/a-/AOh14GgUm411NCPxL0CyuKgBlBhJ9SxhXr8inmS25Nfq=s64",
      "userId": "03990517325461913005"
     },
     "user_tz": 360
    },
    "id": "ziKEz1GoNgSA"
   },
   "outputs": [],
   "source": [
    "import seaborn as sns"
   ]
  },
  {
   "cell_type": "code",
   "execution_count": 44,
   "metadata": {
    "colab": {
     "base_uri": "https://localhost:8080/",
     "height": 484
    },
    "executionInfo": {
     "elapsed": 1416,
     "status": "ok",
     "timestamp": 1604621819640,
     "user": {
      "displayName": "Jorge Diego Garcia Torres",
      "photoUrl": "https://lh3.googleusercontent.com/a-/AOh14GgUm411NCPxL0CyuKgBlBhJ9SxhXr8inmS25Nfq=s64",
      "userId": "03990517325461913005"
     },
     "user_tz": 360
    },
    "id": "ENjbYSDKNkJG",
    "outputId": "7f07b5f7-bd56-4e21-cba1-ed49bc816b28"
   },
   "outputs": [
    {
     "data": {
      "image/png": "[encoded data removed]",
      "text/plain": [
       "<Figure size 576x396 with 2 Axes>"
      ]
     },
     "metadata": {
      "needs_background": "light",
      "tags": []
     },
     "output_type": "display_data"
    }
   ],
   "source": [
    "labels = ['0 - No DR', '1 - Leve', '2 - Moderada', '3 - Severa', '4 - Proliferativa DR']\n",
    "plot_conf_matrix(val_gen1,preds_ensemble,labels)"
   ]
  },
  {
   "cell_type": "code",
   "execution_count": 45,
   "metadata": {
    "colab": {
     "base_uri": "https://localhost:8080/",
     "height": 370
    },
    "executionInfo": {
     "elapsed": 1265,
     "status": "ok",
     "timestamp": 1604621824327,
     "user": {
      "displayName": "Jorge Diego Garcia Torres",
      "photoUrl": "https://lh3.googleusercontent.com/a-/AOh14GgUm411NCPxL0CyuKgBlBhJ9SxhXr8inmS25Nfq=s64",
      "userId": "03990517325461913005"
     },
     "user_tz": 360
    },
    "id": "ORCgXzuWN0Zb",
    "outputId": "a761324f-9fad-40c0-ae15-4bed0db168fd"
   },
   "outputs": [
    {
     "data": {
      "image/png": "[encoded data removed]",
      "text/plain": [
       "<Figure size 1152x504 with 2 Axes>"
      ]
     },
     "metadata": {
      "tags": []
     },
     "output_type": "display_data"
    }
   ],
   "source": [
    "cnf_matrix = confusion_matrix(val_gen1, preds_ensemble)\n",
    "cnf_matrix_norm = cnf_matrix.astype('float') / cnf_matrix.sum(axis=1)[:, np.newaxis]\n",
    "df_cm = pd.DataFrame(cnf_matrix_norm, index=labels, columns=labels)\n",
    "plt.figure(figsize=(16, 7))\n",
    "sns.heatmap(df_cm, annot=True, fmt='.2f', cmap=\"Blues\")\n",
    "plt.show()"
   ]
  },
  {
   "cell_type": "code",
   "execution_count": 46,
   "metadata": {
    "executionInfo": {
     "elapsed": 2173,
     "status": "ok",
     "timestamp": 1604621834385,
     "user": {
      "displayName": "Jorge Diego Garcia Torres",
      "photoUrl": "https://lh3.googleusercontent.com/a-/AOh14GgUm411NCPxL0CyuKgBlBhJ9SxhXr8inmS25Nfq=s64",
      "userId": "03990517325461913005"
     },
     "user_tz": 360
    },
    "id": "nWOm7mqDOLkm"
   },
   "outputs": [],
   "source": [
    "from sklearn.metrics import f1_score, recall_score, precision_score, classification_report"
   ]
  },
  {
   "cell_type": "code",
   "execution_count": 47,
   "metadata": {
    "colab": {
     "base_uri": "https://localhost:8080/"
    },
    "executionInfo": {
     "elapsed": 903,
     "status": "ok",
     "timestamp": 1604621863476,
     "user": {
      "displayName": "Jorge Diego Garcia Torres",
      "photoUrl": "https://lh3.googleusercontent.com/a-/AOh14GgUm411NCPxL0CyuKgBlBhJ9SxhXr8inmS25Nfq=s64",
      "userId": "03990517325461913005"
     },
     "user_tz": 360
    },
    "id": "oCwLG7kXOOxY",
    "outputId": "c7a61516-0b7b-42e6-9428-149b0dd2a4b7"
   },
   "outputs": [
    {
     "name": "stdout",
     "output_type": "stream",
     "text": [
      "Val Cohen Kappa score: 0.958\n",
      "Val Accuracy score : 0.925\n",
      "F1 score: 0.925\n",
      "F1 score: 0.923\n",
      "F1 score: 0.845\n",
      "Recall: 0.925\n",
      "Recall: 0.925\n",
      "Recall: 0.817\n",
      "Precision: 0.925\n",
      "Precision: 0.926\n",
      "Precision: 0.884\n",
      "\n",
      " clasification report:\n",
      "                precision    recall  f1-score   support\n",
      "\n",
      "           0       1.00      1.00      1.00       283\n",
      "           1       0.92      0.78      0.85        60\n",
      "           2       0.83      0.95      0.89       164\n",
      "           3       0.74      0.59      0.65        29\n",
      "           4       0.92      0.77      0.84        47\n",
      "\n",
      "    accuracy                           0.92       583\n",
      "   macro avg       0.88      0.82      0.85       583\n",
      "weighted avg       0.93      0.92      0.92       583\n",
      "\n"
     ]
    }
   ],
   "source": [
    "print(\"Val Cohen Kappa score: %.3f\" % cohen_kappa_score(val_gen1, preds_ensemble, weights='quadratic'))\n",
    "print(\"Val Accuracy score : %.3f\" % accuracy_score(val_gen1, preds_ensemble))\n",
    "\n",
    "print('F1 score: %.3f' % f1_score(val_gen1, preds_ensemble,average='micro'))\n",
    "print('F1 score: %.3f' % f1_score(val_gen1, preds_ensemble,average='weighted'))\n",
    "print('F1 score: %.3f' % f1_score(val_gen1, preds_ensemble,average='macro'))\n",
    "\n",
    "\n",
    "print('Recall: %.3f' % recall_score(val_gen1, preds_ensemble,average='micro'))\n",
    "print('Recall: %.3f' % recall_score(val_gen1, preds_ensemble,average='weighted'))\n",
    "print('Recall: %.3f' % recall_score(val_gen1, preds_ensemble,average='macro'))\n",
    "\n",
    "print('Precision: %.3f' % precision_score(val_gen1, preds_ensemble,average='micro'))\n",
    "print('Precision: %.3f' % precision_score(val_gen1, preds_ensemble,average='weighted'))\n",
    "print('Precision: %.3f' % precision_score(val_gen1, preds_ensemble,average='macro'))\n",
    "\n",
    "print('\\n clasification report:\\n  ' + classification_report(val_gen1, preds_ensemble)) "
   ]
  },
  {
   "cell_type": "markdown",
   "metadata": {
    "id": "YJxUMMukT-ex"
   },
   "source": [
    "test data sin TTA"
   ]
  },
  {
   "cell_type": "code",
   "execution_count": 48,
   "metadata": {
    "executionInfo": {
     "elapsed": 15954,
     "status": "ok",
     "timestamp": 1604621902996,
     "user": {
      "displayName": "Jorge Diego Garcia Torres",
      "photoUrl": "https://lh3.googleusercontent.com/a-/AOh14GgUm411NCPxL0CyuKgBlBhJ9SxhXr8inmS25Nfq=s64",
      "userId": "03990517325461913005"
     },
     "user_tz": 360
    },
    "id": "imFPQqD7T94g"
   },
   "outputs": [],
   "source": [
    "tdata_gen.reset()\n",
    "\n",
    "x_tdata = np.zeros((733,224, 224, 3))\n",
    "y_test2 = np.array([[0,0,0,0,0]])\n",
    "\n",
    "for i in range(733):\n",
    "  y_test2 =np.append(y_test2, tdata_gen[i][1], axis=0)\n",
    "  x_tdata[i]= tdata_gen[i][0]\n",
    "\n",
    "y_test2 = np.delete(y_test2,0, axis=0)\n",
    "\n",
    "tdata_gen.reset()"
   ]
  },
  {
   "cell_type": "code",
   "execution_count": 49,
   "metadata": {
    "executionInfo": {
     "elapsed": 559,
     "status": "ok",
     "timestamp": 1604621904995,
     "user": {
      "displayName": "Jorge Diego Garcia Torres",
      "photoUrl": "https://lh3.googleusercontent.com/a-/AOh14GgUm411NCPxL0CyuKgBlBhJ9SxhXr8inmS25Nfq=s64",
      "userId": "03990517325461913005"
     },
     "user_tz": 360
    },
    "id": "g9QEbPPeU3Rq"
   },
   "outputs": [],
   "source": [
    "tpreds_ensemble = []"
   ]
  },
  {
   "cell_type": "code",
   "execution_count": 50,
   "metadata": {
    "colab": {
     "base_uri": "https://localhost:8080/"
    },
    "executionInfo": {
     "elapsed": 2536,
     "status": "ok",
     "timestamp": 1604621909148,
     "user": {
      "displayName": "Jorge Diego Garcia Torres",
      "photoUrl": "https://lh3.googleusercontent.com/a-/AOh14GgUm411NCPxL0CyuKgBlBhJ9SxhXr8inmS25Nfq=s64",
      "userId": "03990517325461913005"
     },
     "user_tz": 360
    },
    "id": "IPbHoDFDaz0N",
    "outputId": "386e0a25-70f7-464d-d2d5-e83c77dead59"
   },
   "outputs": [
    {
     "name": "stdout",
     "output_type": "stream",
     "text": [
      " 2/23 [=>............................] - ETA: 0sWARNING:tensorflow:Callbacks method `on_predict_batch_end` is slow compared to the batch time (batch time: 0.0202s vs `on_predict_batch_end` time: 0.0518s). Check your callbacks.\n",
      "23/23 [==============================] - 2s 77ms/step\n"
     ]
    }
   ],
   "source": [
    "test_preds_model1 = model_list[0].predict(x_tdata, verbose = 1)\n",
    "tpreds_ensemble.append(test_preds_model1)\n",
    "test_preds_model1 = [np.argmax(pred) for pred in test_preds_model1]"
   ]
  },
  {
   "cell_type": "code",
   "execution_count": 51,
   "metadata": {
    "executionInfo": {
     "elapsed": 1115,
     "status": "ok",
     "timestamp": 1604621911542,
     "user": {
      "displayName": "Jorge Diego Garcia Torres",
      "photoUrl": "https://lh3.googleusercontent.com/a-/AOh14GgUm411NCPxL0CyuKgBlBhJ9SxhXr8inmS25Nfq=s64",
      "userId": "03990517325461913005"
     },
     "user_tz": 360
    },
    "id": "9-1jWEf9c4vv"
   },
   "outputs": [],
   "source": [
    "test_gen1 = [np.argmax(pred) for pred in y_test2]"
   ]
  },
  {
   "cell_type": "code",
   "execution_count": 52,
   "metadata": {
    "colab": {
     "base_uri": "https://localhost:8080/"
    },
    "executionInfo": {
     "elapsed": 819,
     "status": "ok",
     "timestamp": 1604621913400,
     "user": {
      "displayName": "Jorge Diego Garcia Torres",
      "photoUrl": "https://lh3.googleusercontent.com/a-/AOh14GgUm411NCPxL0CyuKgBlBhJ9SxhXr8inmS25Nfq=s64",
      "userId": "03990517325461913005"
     },
     "user_tz": 360
    },
    "id": "ZlEsE8OIcpKF",
    "outputId": "c65e99e7-2f8a-43bb-c564-6e32d9f4af6a"
   },
   "outputs": [
    {
     "name": "stdout",
     "output_type": "stream",
     "text": [
      "test Cohen Kappa score: 0.903\n"
     ]
    }
   ],
   "source": [
    "print(\"test Cohen Kappa score: %.3f\" % cohen_kappa_score(test_preds_model1, test_gen1, weights='quadratic'))"
   ]
  },
  {
   "cell_type": "code",
   "execution_count": 53,
   "metadata": {
    "colab": {
     "base_uri": "https://localhost:8080/"
    },
    "executionInfo": {
     "elapsed": 2366,
     "status": "ok",
     "timestamp": 1604621918893,
     "user": {
      "displayName": "Jorge Diego Garcia Torres",
      "photoUrl": "https://lh3.googleusercontent.com/a-/AOh14GgUm411NCPxL0CyuKgBlBhJ9SxhXr8inmS25Nfq=s64",
      "userId": "03990517325461913005"
     },
     "user_tz": 360
    },
    "id": "L9SBoBk4dnro",
    "outputId": "dfdae746-e46b-4231-cffe-452cb26971bf"
   },
   "outputs": [
    {
     "name": "stdout",
     "output_type": "stream",
     "text": [
      " 2/23 [=>............................] - ETA: 0sWARNING:tensorflow:Callbacks method `on_predict_batch_end` is slow compared to the batch time (batch time: 0.0212s vs `on_predict_batch_end` time: 0.0502s). Check your callbacks.\n",
      "23/23 [==============================] - 2s 69ms/step\n"
     ]
    }
   ],
   "source": [
    "test_preds_model2 = model_list[1].predict(x_tdata, verbose = 1)\n",
    "tpreds_ensemble.append(test_preds_model2)\n",
    "test_preds_model2 = [np.argmax(pred) for pred in test_preds_model2]"
   ]
  },
  {
   "cell_type": "code",
   "execution_count": 54,
   "metadata": {
    "colab": {
     "base_uri": "https://localhost:8080/"
    },
    "executionInfo": {
     "elapsed": 1092,
     "status": "ok",
     "timestamp": 1604621923674,
     "user": {
      "displayName": "Jorge Diego Garcia Torres",
      "photoUrl": "https://lh3.googleusercontent.com/a-/AOh14GgUm411NCPxL0CyuKgBlBhJ9SxhXr8inmS25Nfq=s64",
      "userId": "03990517325461913005"
     },
     "user_tz": 360
    },
    "id": "OFACFJl1dvqg",
    "outputId": "a13e56d1-8aad-4bd3-97a2-8ccd9aa47a71"
   },
   "outputs": [
    {
     "name": "stdout",
     "output_type": "stream",
     "text": [
      "test Cohen Kappa score: 0.916\n"
     ]
    }
   ],
   "source": [
    "print(\"test Cohen Kappa score: %.3f\" % cohen_kappa_score(test_preds_model2, test_gen1, weights='quadratic'))"
   ]
  },
  {
   "cell_type": "code",
   "execution_count": 55,
   "metadata": {
    "colab": {
     "base_uri": "https://localhost:8080/"
    },
    "executionInfo": {
     "elapsed": 2366,
     "status": "ok",
     "timestamp": 1604621932949,
     "user": {
      "displayName": "Jorge Diego Garcia Torres",
      "photoUrl": "https://lh3.googleusercontent.com/a-/AOh14GgUm411NCPxL0CyuKgBlBhJ9SxhXr8inmS25Nfq=s64",
      "userId": "03990517325461913005"
     },
     "user_tz": 360
    },
    "id": "ycyZsZS9d29q",
    "outputId": "46a7a2c0-72ef-479f-b1a1-7675d46fa7fc"
   },
   "outputs": [
    {
     "name": "stdout",
     "output_type": "stream",
     "text": [
      " 2/23 [=>............................] - ETA: 0sWARNING:tensorflow:Callbacks method `on_predict_batch_end` is slow compared to the batch time (batch time: 0.0255s vs `on_predict_batch_end` time: 0.0441s). Check your callbacks.\n",
      "23/23 [==============================] - 2s 68ms/step\n"
     ]
    }
   ],
   "source": [
    "test_preds_model3 = model_list[2].predict(x_tdata, verbose = 1)\n",
    "tpreds_ensemble.append(test_preds_model3)\n",
    "test_preds_model3 = [np.argmax(pred) for pred in test_preds_model3]"
   ]
  },
  {
   "cell_type": "code",
   "execution_count": 56,
   "metadata": {
    "colab": {
     "base_uri": "https://localhost:8080/"
    },
    "executionInfo": {
     "elapsed": 974,
     "status": "ok",
     "timestamp": 1604621936991,
     "user": {
      "displayName": "Jorge Diego Garcia Torres",
      "photoUrl": "https://lh3.googleusercontent.com/a-/AOh14GgUm411NCPxL0CyuKgBlBhJ9SxhXr8inmS25Nfq=s64",
      "userId": "03990517325461913005"
     },
     "user_tz": 360
    },
    "id": "Ngaheq7DeBmM",
    "outputId": "91b0b7c4-1657-42dc-9543-6f870c32113f"
   },
   "outputs": [
    {
     "name": "stdout",
     "output_type": "stream",
     "text": [
      "test Cohen Kappa score: 0.884\n"
     ]
    }
   ],
   "source": [
    "print(\"test Cohen Kappa score: %.3f\" % cohen_kappa_score(test_preds_model3, test_gen1, weights='quadratic'))"
   ]
  },
  {
   "cell_type": "code",
   "execution_count": 57,
   "metadata": {
    "colab": {
     "base_uri": "https://localhost:8080/"
    },
    "executionInfo": {
     "elapsed": 2388,
     "status": "ok",
     "timestamp": 1604621945959,
     "user": {
      "displayName": "Jorge Diego Garcia Torres",
      "photoUrl": "https://lh3.googleusercontent.com/a-/AOh14GgUm411NCPxL0CyuKgBlBhJ9SxhXr8inmS25Nfq=s64",
      "userId": "03990517325461913005"
     },
     "user_tz": 360
    },
    "id": "BmwKyW8reD3Z",
    "outputId": "e5db10a3-0983-4832-e0c9-9573765ce703"
   },
   "outputs": [
    {
     "name": "stdout",
     "output_type": "stream",
     "text": [
      " 2/23 [=>............................] - ETA: 0sWARNING:tensorflow:Callbacks method `on_predict_batch_end` is slow compared to the batch time (batch time: 0.0195s vs `on_predict_batch_end` time: 0.0493s). Check your callbacks.\n",
      "23/23 [==============================] - 2s 68ms/step\n"
     ]
    }
   ],
   "source": [
    "test_preds_model4 = model_list[3].predict(x_tdata, verbose = 1)\n",
    "tpreds_ensemble.append(test_preds_model4)\n",
    "test_preds_model4 = [np.argmax(pred) for pred in test_preds_model4]"
   ]
  },
  {
   "cell_type": "code",
   "execution_count": 58,
   "metadata": {
    "colab": {
     "base_uri": "https://localhost:8080/"
    },
    "executionInfo": {
     "elapsed": 774,
     "status": "ok",
     "timestamp": 1604621948332,
     "user": {
      "displayName": "Jorge Diego Garcia Torres",
      "photoUrl": "https://lh3.googleusercontent.com/a-/AOh14GgUm411NCPxL0CyuKgBlBhJ9SxhXr8inmS25Nfq=s64",
      "userId": "03990517325461913005"
     },
     "user_tz": 360
    },
    "id": "XtczpyNCePxS",
    "outputId": "e41ef64a-6b64-4c7f-ffda-5a43c5bdb05f"
   },
   "outputs": [
    {
     "name": "stdout",
     "output_type": "stream",
     "text": [
      "test Cohen Kappa score: 0.909\n"
     ]
    }
   ],
   "source": [
    "print(\"test Cohen Kappa score: %.3f\" % cohen_kappa_score(test_preds_model4, test_gen1, weights='quadratic'))"
   ]
  },
  {
   "cell_type": "code",
   "execution_count": 59,
   "metadata": {
    "colab": {
     "base_uri": "https://localhost:8080/"
    },
    "executionInfo": {
     "elapsed": 2426,
     "status": "ok",
     "timestamp": 1604621953925,
     "user": {
      "displayName": "Jorge Diego Garcia Torres",
      "photoUrl": "https://lh3.googleusercontent.com/a-/AOh14GgUm411NCPxL0CyuKgBlBhJ9SxhXr8inmS25Nfq=s64",
      "userId": "03990517325461913005"
     },
     "user_tz": 360
    },
    "id": "q61apkDTeRoo",
    "outputId": "4e777c99-13fd-434e-98a6-e7dd69906c2d"
   },
   "outputs": [
    {
     "name": "stdout",
     "output_type": "stream",
     "text": [
      " 2/23 [=>............................] - ETA: 0sWARNING:tensorflow:Callbacks method `on_predict_batch_end` is slow compared to the batch time (batch time: 0.0201s vs `on_predict_batch_end` time: 0.0483s). Check your callbacks.\n",
      "23/23 [==============================] - 2s 67ms/step\n"
     ]
    }
   ],
   "source": [
    "test_preds_model5 = model_list[4].predict(x_tdata, verbose = 1)\n",
    "tpreds_ensemble.append(test_preds_model5)\n",
    "test_preds_model5 = [np.argmax(pred) for pred in test_preds_model5]"
   ]
  },
  {
   "cell_type": "code",
   "execution_count": 60,
   "metadata": {
    "colab": {
     "base_uri": "https://localhost:8080/"
    },
    "executionInfo": {
     "elapsed": 771,
     "status": "ok",
     "timestamp": 1604621957224,
     "user": {
      "displayName": "Jorge Diego Garcia Torres",
      "photoUrl": "https://lh3.googleusercontent.com/a-/AOh14GgUm411NCPxL0CyuKgBlBhJ9SxhXr8inmS25Nfq=s64",
      "userId": "03990517325461913005"
     },
     "user_tz": 360
    },
    "id": "j27LA2-GeXpj",
    "outputId": "4e193cba-3580-4d24-b55a-bcc9a97fad2f"
   },
   "outputs": [
    {
     "name": "stdout",
     "output_type": "stream",
     "text": [
      "test Cohen Kappa score: 0.911\n"
     ]
    }
   ],
   "source": [
    "print(\"test Cohen Kappa score: %.3f\" % cohen_kappa_score(test_preds_model5, test_gen1, weights='quadratic'))"
   ]
  },
  {
   "cell_type": "code",
   "execution_count": 61,
   "metadata": {
    "executionInfo": {
     "elapsed": 467,
     "status": "ok",
     "timestamp": 1604621961553,
     "user": {
      "displayName": "Jorge Diego Garcia Torres",
      "photoUrl": "https://lh3.googleusercontent.com/a-/AOh14GgUm411NCPxL0CyuKgBlBhJ9SxhXr8inmS25Nfq=s64",
      "userId": "03990517325461913005"
     },
     "user_tz": 360
    },
    "id": "IoOKV525emuU"
   },
   "outputs": [],
   "source": [
    "tpreds_ensemble =  np.mean(tpreds_ensemble, axis=0)\n",
    "tpreds_ensemble = [np.argmax(pred) for pred in tpreds_ensemble]"
   ]
  },
  {
   "cell_type": "code",
   "execution_count": 62,
   "metadata": {
    "colab": {
     "base_uri": "https://localhost:8080/"
    },
    "executionInfo": {
     "elapsed": 848,
     "status": "ok",
     "timestamp": 1604621965275,
     "user": {
      "displayName": "Jorge Diego Garcia Torres",
      "photoUrl": "https://lh3.googleusercontent.com/a-/AOh14GgUm411NCPxL0CyuKgBlBhJ9SxhXr8inmS25Nfq=s64",
      "userId": "03990517325461913005"
     },
     "user_tz": 360
    },
    "id": "k9Rtl0ZCfAbH",
    "outputId": "354591be-83c4-446b-a1bc-2a24e5ec6638"
   },
   "outputs": [
    {
     "name": "stdout",
     "output_type": "stream",
     "text": [
      "Test Cohen Kappa score: 0.919\n"
     ]
    }
   ],
   "source": [
    "print(\"Test Cohen Kappa score: %.3f\" % cohen_kappa_score(tpreds_ensemble, test_gen1, weights='quadratic'))"
   ]
  },
  {
   "cell_type": "code",
   "execution_count": 63,
   "metadata": {
    "colab": {
     "base_uri": "https://localhost:8080/",
     "height": 484
    },
    "executionInfo": {
     "elapsed": 1093,
     "status": "ok",
     "timestamp": 1604621985293,
     "user": {
      "displayName": "Jorge Diego Garcia Torres",
      "photoUrl": "https://lh3.googleusercontent.com/a-/AOh14GgUm411NCPxL0CyuKgBlBhJ9SxhXr8inmS25Nfq=s64",
      "userId": "03990517325461913005"
     },
     "user_tz": 360
    },
    "id": "GzPwXE5Tfgop",
    "outputId": "385b7baa-f857-4a7c-df5e-4ff3173073f4"
   },
   "outputs": [
    {
     "data": {
      "image/png": "[encoded data removed]",
      "text/plain": [
       "<Figure size 576x396 with 2 Axes>"
      ]
     },
     "metadata": {
      "tags": []
     },
     "output_type": "display_data"
    }
   ],
   "source": [
    "labels = ['0 - No DR', '1 - Leve', '2 - Moderada', '3 - Severa', '4 - Proliferativa DR']\n",
    "plot_conf_matrix(test_gen1,tpreds_ensemble,labels)"
   ]
  },
  {
   "cell_type": "code",
   "execution_count": 64,
   "metadata": {
    "colab": {
     "base_uri": "https://localhost:8080/",
     "height": 365
    },
    "executionInfo": {
     "elapsed": 1721,
     "status": "ok",
     "timestamp": 1604621990315,
     "user": {
      "displayName": "Jorge Diego Garcia Torres",
      "photoUrl": "https://lh3.googleusercontent.com/a-/AOh14GgUm411NCPxL0CyuKgBlBhJ9SxhXr8inmS25Nfq=s64",
      "userId": "03990517325461913005"
     },
     "user_tz": 360
    },
    "id": "BJantp-LfrPY",
    "outputId": "6a1ff691-6610-4270-9a97-8412b11f3716"
   },
   "outputs": [
    {
     "data": {
      "image/png": "[encoded data removed]",
      "text/plain": [
       "<Figure size 1152x504 with 2 Axes>"
      ]
     },
     "metadata": {
      "tags": []
     },
     "output_type": "display_data"
    }
   ],
   "source": [
    "cnf_matrix = confusion_matrix(test_gen1, tpreds_ensemble)\n",
    "cnf_matrix_norm = cnf_matrix.astype('float') / cnf_matrix.sum(axis=1)[:, np.newaxis]\n",
    "df_cm = pd.DataFrame(cnf_matrix_norm, index=labels, columns=labels)\n",
    "plt.figure(figsize=(16, 7))\n",
    "sns.heatmap(df_cm, annot=True, fmt='.2f', cmap=\"Blues\")\n",
    "plt.show()"
   ]
  },
  {
   "cell_type": "code",
   "execution_count": 67,
   "metadata": {
    "executionInfo": {
     "elapsed": 970,
     "status": "ok",
     "timestamp": 1604622079024,
     "user": {
      "displayName": "Jorge Diego Garcia Torres",
      "photoUrl": "https://lh3.googleusercontent.com/a-/AOh14GgUm411NCPxL0CyuKgBlBhJ9SxhXr8inmS25Nfq=s64",
      "userId": "03990517325461913005"
     },
     "user_tz": 360
    },
    "id": "OwWZ7WoT7Zd_"
   },
   "outputs": [],
   "source": [
    "cf = cnf_matrix"
   ]
  },
  {
   "cell_type": "code",
   "execution_count": null,
   "metadata": {
    "id": "7DCZmLu67hUe"
   },
   "outputs": [],
   "source": []
  },
  {
   "cell_type": "code",
   "execution_count": 68,
   "metadata": {
    "colab": {
     "base_uri": "https://localhost:8080/"
    },
    "executionInfo": {
     "elapsed": 984,
     "status": "ok",
     "timestamp": 1604622099185,
     "user": {
      "displayName": "Jorge Diego Garcia Torres",
      "photoUrl": "https://lh3.googleusercontent.com/a-/AOh14GgUm411NCPxL0CyuKgBlBhJ9SxhXr8inmS25Nfq=s64",
      "userId": "03990517325461913005"
     },
     "user_tz": 360
    },
    "id": "jgO69a1jKOxh",
    "outputId": "ad6f0316-9eb9-4c72-9273-5c0f65c852ff"
   },
   "outputs": [
    {
     "name": "stdout",
     "output_type": "stream",
     "text": [
      "FP\n",
      "[ 3 13 70 12 15]\n",
      "FN\n",
      "[ 5 40 20 25 23]\n",
      "TP\n",
      "[379  30 160  14  37]\n",
      "TN\n",
      "[346 650 483 682 658]\n",
      "Sensitivity\n",
      "[0.98697917 0.42857143 0.88888889 0.35897436 0.61666667]\n",
      "Specificity\n",
      "[0.99140401 0.98039216 0.87341772 0.98270893 0.97771174]\n",
      "Precision\n",
      "[0.9921466  0.69767442 0.69565217 0.53846154 0.71153846]\n",
      "[0.98575499 0.94202899 0.96023857 0.96463932 0.96622614]\n",
      "[0.00859599 0.01960784 0.12658228 0.01729107 0.02228826]\n",
      "[0.01302083 0.57142857 0.11111111 0.64102564 0.38333333]\n",
      "[0.0078534  0.30232558 0.30434783 0.46153846 0.28846154]\n",
      "Acc\n",
      "[0.98908595 0.92769441 0.87721692 0.94952251 0.94815825]\n",
      "Sensitivity mean\n",
      "0.6560161019536019\n",
      "Specificity mean\n",
      "0.9611269124090056\n",
      "Precision mean\n",
      "0.7270946378752667\n"
     ]
    }
   ],
   "source": [
    "FP = cf.sum(axis=0) - np.diag(cf)  \n",
    "FN = cf.sum(axis=1) - np.diag(cf)\n",
    "TP = np.diag(cf)\n",
    "TN = cf.sum() - (FP + FN + TP)\n",
    "\n",
    "# Sensitivity, hit rate, recall, or true positive rate\n",
    "TPR = TP/(TP+FN)\n",
    "# Specificity or true negative rate\n",
    "TNR = TN/(TN+FP) \n",
    "# Precision or positive predictive value\n",
    "PPV = TP/(TP+FP)\n",
    "# Negative predictive value\n",
    "NPV = TN/(TN+FN)\n",
    "# Fall out or false positive rate\n",
    "FPR = FP/(FP+TN)\n",
    "# False negative rate\n",
    "FNR = FN/(TP+FN)\n",
    "# False discovery rate\n",
    "FDR = FP/(TP+FP)\n",
    "\n",
    "# Overall accuracy\n",
    "ACC = (TP+TN)/(TP+FP+FN+TN)\n",
    "\n",
    "print('FP')\n",
    "print(FP)\n",
    "print('FN')\n",
    "print(FN)\n",
    "print('TP')\n",
    "print(TP)\n",
    "print('TN')\n",
    "print(TN)\n",
    "print('Sensitivity')\n",
    "print(TPR)\n",
    "print('Specificity')\n",
    "print(TNR)\n",
    "print('Precision')\n",
    "print(PPV)\n",
    "print(NPV)\n",
    "print(FPR)\n",
    "print(FNR)\n",
    "print(FDR)\n",
    "print('Acc')\n",
    "print(ACC)\n",
    "\n",
    "print('Sensitivity mean')\n",
    "print(np.mean(TPR))\n",
    "print('Specificity mean')\n",
    "print(np.mean(TNR))\n",
    "print('Precision mean')\n",
    "print(np.mean(PPV))\n"
   ]
  },
  {
   "cell_type": "code",
   "execution_count": 66,
   "metadata": {
    "colab": {
     "base_uri": "https://localhost:8080/"
    },
    "executionInfo": {
     "elapsed": 1491,
     "status": "ok",
     "timestamp": 1604622055602,
     "user": {
      "displayName": "Jorge Diego Garcia Torres",
      "photoUrl": "https://lh3.googleusercontent.com/a-/AOh14GgUm411NCPxL0CyuKgBlBhJ9SxhXr8inmS25Nfq=s64",
      "userId": "03990517325461913005"
     },
     "user_tz": 360
    },
    "id": "plSMzkvJf4eS",
    "outputId": "7964fb76-db17-4878-9fea-864ebdf9b472"
   },
   "outputs": [
    {
     "name": "stdout",
     "output_type": "stream",
     "text": [
      "Test Cohen Kappa score: 0.919\n",
      "Test Accuracy score : 0.846\n",
      "F1 score: 0.846\n",
      "F1 score: 0.838\n",
      "F1 score: 0.679\n",
      "Recall: 0.846\n",
      "Recall: 0.846\n",
      "Recall: 0.656\n",
      "Precision: 0.846\n",
      "Precision: 0.844\n",
      "Precision: 0.727\n",
      "\n",
      " clasification report:\n",
      "                precision    recall  f1-score   support\n",
      "\n",
      "           0       0.99      0.99      0.99       384\n",
      "           1       0.70      0.43      0.53        70\n",
      "           2       0.70      0.89      0.78       180\n",
      "           3       0.54      0.36      0.43        39\n",
      "           4       0.71      0.62      0.66        60\n",
      "\n",
      "    accuracy                           0.85       733\n",
      "   macro avg       0.73      0.66      0.68       733\n",
      "weighted avg       0.84      0.85      0.84       733\n",
      "\n"
     ]
    }
   ],
   "source": [
    "print(\"Test Cohen Kappa score: %.3f\" % cohen_kappa_score(test_gen1, tpreds_ensemble, weights='quadratic'))\n",
    "print(\"Test Accuracy score : %.3f\" % accuracy_score(test_gen1, tpreds_ensemble))\n",
    "\n",
    "print('F1 score: %.3f' % f1_score(test_gen1, tpreds_ensemble,average='micro'))\n",
    "print('F1 score: %.3f' % f1_score(test_gen1, tpreds_ensemble,average='weighted'))\n",
    "print('F1 score: %.3f' % f1_score(test_gen1, tpreds_ensemble,average='macro'))\n",
    "\n",
    "print('Recall: %.3f' % recall_score(test_gen1, tpreds_ensemble,average='micro'))\n",
    "print('Recall: %.3f' % recall_score(test_gen1, tpreds_ensemble,average='weighted'))\n",
    "print('Recall: %.3f' % recall_score(test_gen1, tpreds_ensemble,average='macro'))\n",
    "\n",
    "print('Precision: %.3f' % precision_score(test_gen1, tpreds_ensemble,average='micro'))\n",
    "print('Precision: %.3f' % precision_score(test_gen1, tpreds_ensemble,average='weighted'))\n",
    "print('Precision: %.3f' % precision_score(test_gen1, tpreds_ensemble,average='macro'))\n",
    "\n",
    "print('\\n clasification report:\\n  ' + classification_report(test_gen1, tpreds_ensemble)) "
   ]
  },
  {
   "cell_type": "code",
   "execution_count": 69,
   "metadata": {
    "executionInfo": {
     "elapsed": 1078,
     "status": "ok",
     "timestamp": 1604622181560,
     "user": {
      "displayName": "Jorge Diego Garcia Torres",
      "photoUrl": "https://lh3.googleusercontent.com/a-/AOh14GgUm411NCPxL0CyuKgBlBhJ9SxhXr8inmS25Nfq=s64",
      "userId": "03990517325461913005"
     },
     "user_tz": 360
    },
    "id": "xhHGDDHViGAC"
   },
   "outputs": [],
   "source": [
    "from scipy import stats"
   ]
  },
  {
   "cell_type": "code",
   "execution_count": null,
   "metadata": {
    "id": "55EKH3iBiHbr"
   },
   "outputs": [],
   "source": [
    "#stats.trim_mean()"
   ]
  },
  {
   "cell_type": "markdown",
   "metadata": {
    "id": "HD-vD5B6rFiW"
   },
   "source": [
    "trim mean\n"
   ]
  },
  {
   "cell_type": "code",
   "execution_count": 70,
   "metadata": {
    "executionInfo": {
     "elapsed": 15951,
     "status": "ok",
     "timestamp": 1604622199147,
     "user": {
      "displayName": "Jorge Diego Garcia Torres",
      "photoUrl": "https://lh3.googleusercontent.com/a-/AOh14GgUm411NCPxL0CyuKgBlBhJ9SxhXr8inmS25Nfq=s64",
      "userId": "03990517325461913005"
     },
     "user_tz": 360
    },
    "id": "EazHafS7voA8"
   },
   "outputs": [],
   "source": [
    "tdata_gen.reset()\n",
    "\n",
    "x_tdata = np.zeros((733,224, 224, 3))\n",
    "y_test2 = np.array([[0,0,0,0,0]])\n",
    "\n",
    "for i in range(733):\n",
    "  y_test2 =np.append(y_test2, tdata_gen[i][1], axis=0)\n",
    "  x_tdata[i]= tdata_gen[i][0]\n",
    "\n",
    "y_test2 = np.delete(y_test2,0, axis=0)\n",
    "\n",
    "tdata_gen.reset()"
   ]
  },
  {
   "cell_type": "code",
   "execution_count": 71,
   "metadata": {
    "executionInfo": {
     "elapsed": 1973,
     "status": "ok",
     "timestamp": 1604622233583,
     "user": {
      "displayName": "Jorge Diego Garcia Torres",
      "photoUrl": "https://lh3.googleusercontent.com/a-/AOh14GgUm411NCPxL0CyuKgBlBhJ9SxhXr8inmS25Nfq=s64",
      "userId": "03990517325461913005"
     },
     "user_tz": 360
    },
    "id": "vY6cVDfmwJ38"
   },
   "outputs": [],
   "source": [
    "test_gen1 = [np.argmax(pred) for pred in y_test2]"
   ]
  },
  {
   "cell_type": "code",
   "execution_count": 72,
   "metadata": {
    "executionInfo": {
     "elapsed": 1291,
     "status": "ok",
     "timestamp": 1604622236523,
     "user": {
      "displayName": "Jorge Diego Garcia Torres",
      "photoUrl": "https://lh3.googleusercontent.com/a-/AOh14GgUm411NCPxL0CyuKgBlBhJ9SxhXr8inmS25Nfq=s64",
      "userId": "03990517325461913005"
     },
     "user_tz": 360
    },
    "id": "Eyu210PuvzRI"
   },
   "outputs": [],
   "source": [
    "tpreds_ensemble = []"
   ]
  },
  {
   "cell_type": "code",
   "execution_count": 81,
   "metadata": {
    "colab": {
     "base_uri": "https://localhost:8080/"
    },
    "executionInfo": {
     "elapsed": 4295,
     "status": "ok",
     "timestamp": 1604622313612,
     "user": {
      "displayName": "Jorge Diego Garcia Torres",
      "photoUrl": "https://lh3.googleusercontent.com/a-/AOh14GgUm411NCPxL0CyuKgBlBhJ9SxhXr8inmS25Nfq=s64",
      "userId": "03990517325461913005"
     },
     "user_tz": 360
    },
    "id": "P3EICgo3v67J",
    "outputId": "d59fef2c-18c7-407b-df80-018d46534cd0"
   },
   "outputs": [
    {
     "name": "stdout",
     "output_type": "stream",
     "text": [
      " 2/23 [=>............................] - ETA: 0sWARNING:tensorflow:Callbacks method `on_predict_batch_end` is slow compared to the batch time (batch time: 0.0208s vs `on_predict_batch_end` time: 0.0506s). Check your callbacks.\n",
      "23/23 [==============================] - 2s 68ms/step\n",
      "test Cohen Kappa score: 0.905\n"
     ]
    }
   ],
   "source": [
    "test_preds_model1 = model_list[0].predict(x_tdata, verbose = 1)\n",
    "tpreds_ensemble.append(test_preds_model1)\n",
    "test_preds_model1 = [np.argmax(pred) for pred in test_preds_model1]\n",
    "print(\"test Cohen Kappa score: %.3f\" % cohen_kappa_score(test_preds_model1, test_gen1, weights='quadratic'))"
   ]
  },
  {
   "cell_type": "code",
   "execution_count": 82,
   "metadata": {
    "colab": {
     "base_uri": "https://localhost:8080/"
    },
    "executionInfo": {
     "elapsed": 3194,
     "status": "ok",
     "timestamp": 1604622318866,
     "user": {
      "displayName": "Jorge Diego Garcia Torres",
      "photoUrl": "https://lh3.googleusercontent.com/a-/AOh14GgUm411NCPxL0CyuKgBlBhJ9SxhXr8inmS25Nfq=s64",
      "userId": "03990517325461913005"
     },
     "user_tz": 360
    },
    "id": "prHHTuZSwj0B",
    "outputId": "a337e845-dc23-4f0c-896b-cfb163cd36b6"
   },
   "outputs": [
    {
     "name": "stdout",
     "output_type": "stream",
     "text": [
      " 2/23 [=>............................] - ETA: 0sWARNING:tensorflow:Callbacks method `on_predict_batch_end` is slow compared to the batch time (batch time: 0.0209s vs `on_predict_batch_end` time: 0.0485s). Check your callbacks.\n",
      "23/23 [==============================] - 2s 68ms/step\n",
      "test Cohen Kappa score: 0.927\n"
     ]
    }
   ],
   "source": [
    "test_preds_model2 = model_list[1].predict(x_tdata, verbose = 1)\n",
    "tpreds_ensemble.append(test_preds_model2)\n",
    "test_preds_model2 = [np.argmax(pred) for pred in test_preds_model2]\n",
    "print(\"test Cohen Kappa score: %.3f\" % cohen_kappa_score(test_preds_model2, test_gen1, weights='quadratic'))"
   ]
  },
  {
   "cell_type": "code",
   "execution_count": 83,
   "metadata": {
    "colab": {
     "base_uri": "https://localhost:8080/"
    },
    "executionInfo": {
     "elapsed": 3002,
     "status": "ok",
     "timestamp": 1604622323557,
     "user": {
      "displayName": "Jorge Diego Garcia Torres",
      "photoUrl": "https://lh3.googleusercontent.com/a-/AOh14GgUm411NCPxL0CyuKgBlBhJ9SxhXr8inmS25Nfq=s64",
      "userId": "03990517325461913005"
     },
     "user_tz": 360
    },
    "id": "9QymLcmDwssv",
    "outputId": "b427a603-a929-4bc5-d841-02b133d8800f"
   },
   "outputs": [
    {
     "name": "stdout",
     "output_type": "stream",
     "text": [
      " 2/23 [=>............................] - ETA: 0sWARNING:tensorflow:Callbacks method `on_predict_batch_end` is slow compared to the batch time (batch time: 0.0218s vs `on_predict_batch_end` time: 0.0473s). Check your callbacks.\n",
      "23/23 [==============================] - 2s 68ms/step\n",
      "test Cohen Kappa score: 0.894\n"
     ]
    }
   ],
   "source": [
    "test_preds_model3 = model_list[2].predict(x_tdata, verbose = 1)\n",
    "tpreds_ensemble.append(test_preds_model3)\n",
    "test_preds_model3 = [np.argmax(pred) for pred in test_preds_model3]\n",
    "print(\"test Cohen Kappa score: %.3f\" % cohen_kappa_score(test_preds_model3, test_gen1, weights='quadratic'))"
   ]
  },
  {
   "cell_type": "code",
   "execution_count": 84,
   "metadata": {
    "colab": {
     "base_uri": "https://localhost:8080/"
    },
    "executionInfo": {
     "elapsed": 2188,
     "status": "ok",
     "timestamp": 1604622327889,
     "user": {
      "displayName": "Jorge Diego Garcia Torres",
      "photoUrl": "https://lh3.googleusercontent.com/a-/AOh14GgUm411NCPxL0CyuKgBlBhJ9SxhXr8inmS25Nfq=s64",
      "userId": "03990517325461913005"
     },
     "user_tz": 360
    },
    "id": "QfNdfsn_w1fD",
    "outputId": "76e589bc-e916-45ad-ed8d-25068b5046d1"
   },
   "outputs": [
    {
     "name": "stdout",
     "output_type": "stream",
     "text": [
      " 2/23 [=>............................] - ETA: 0sWARNING:tensorflow:Callbacks method `on_predict_batch_end` is slow compared to the batch time (batch time: 0.0209s vs `on_predict_batch_end` time: 0.0482s). Check your callbacks.\n",
      "23/23 [==============================] - 2s 68ms/step\n",
      "test Cohen Kappa score: 0.901\n"
     ]
    }
   ],
   "source": [
    "test_preds_model4 = model_list[3].predict(x_tdata, verbose = 1)\n",
    "tpreds_ensemble.append(test_preds_model4)\n",
    "test_preds_model4 = [np.argmax(pred) for pred in test_preds_model4]\n",
    "print(\"test Cohen Kappa score: %.3f\" % cohen_kappa_score(test_preds_model4, test_gen1, weights='quadratic'))"
   ]
  },
  {
   "cell_type": "code",
   "execution_count": 85,
   "metadata": {
    "colab": {
     "base_uri": "https://localhost:8080/"
    },
    "executionInfo": {
     "elapsed": 4571,
     "status": "ok",
     "timestamp": 1604622334794,
     "user": {
      "displayName": "Jorge Diego Garcia Torres",
      "photoUrl": "https://lh3.googleusercontent.com/a-/AOh14GgUm411NCPxL0CyuKgBlBhJ9SxhXr8inmS25Nfq=s64",
      "userId": "03990517325461913005"
     },
     "user_tz": 360
    },
    "id": "9jSy4LAsxBPF",
    "outputId": "a149e143-a571-428e-a06e-2abcd14ae4d3"
   },
   "outputs": [
    {
     "name": "stdout",
     "output_type": "stream",
     "text": [
      " 2/23 [=>............................] - ETA: 0sWARNING:tensorflow:Callbacks method `on_predict_batch_end` is slow compared to the batch time (batch time: 0.0205s vs `on_predict_batch_end` time: 0.0481s). Check your callbacks.\n",
      "23/23 [==============================] - 2s 67ms/step\n",
      "test Cohen Kappa score: 0.903\n"
     ]
    }
   ],
   "source": [
    "test_preds_model5 = model_list[4].predict(x_tdata, verbose = 1)\n",
    "tpreds_ensemble.append(test_preds_model5)\n",
    "test_preds_model5 = [np.argmax(pred) for pred in test_preds_model5]\n",
    "print(\"test Cohen Kappa score: %.3f\" % cohen_kappa_score(test_preds_model5, test_gen1, weights='quadratic'))"
   ]
  },
  {
   "cell_type": "code",
   "execution_count": 86,
   "metadata": {
    "executionInfo": {
     "elapsed": 1218,
     "status": "ok",
     "timestamp": 1604622338341,
     "user": {
      "displayName": "Jorge Diego Garcia Torres",
      "photoUrl": "https://lh3.googleusercontent.com/a-/AOh14GgUm411NCPxL0CyuKgBlBhJ9SxhXr8inmS25Nfq=s64",
      "userId": "03990517325461913005"
     },
     "user_tz": 360
    },
    "id": "yPYCTn34xeHY"
   },
   "outputs": [],
   "source": [
    "t1preds_ensemble =  stats.trim_mean(tpreds_ensemble,.25, axis=0)\n",
    "t1preds_ensemble = [np.argmax(pred) for pred in t1preds_ensemble]"
   ]
  },
  {
   "cell_type": "code",
   "execution_count": 87,
   "metadata": {
    "colab": {
     "base_uri": "https://localhost:8080/"
    },
    "executionInfo": {
     "elapsed": 534,
     "status": "ok",
     "timestamp": 1604622341792,
     "user": {
      "displayName": "Jorge Diego Garcia Torres",
      "photoUrl": "https://lh3.googleusercontent.com/a-/AOh14GgUm411NCPxL0CyuKgBlBhJ9SxhXr8inmS25Nfq=s64",
      "userId": "03990517325461913005"
     },
     "user_tz": 360
    },
    "id": "Ll1L2hFb1aAz",
    "outputId": "7b9aa38d-12ed-4376-b4d2-1259cfaa3540"
   },
   "outputs": [
    {
     "name": "stdout",
     "output_type": "stream",
     "text": [
      "Test Cohen Kappa score: 0.921\n"
     ]
    }
   ],
   "source": [
    "print(\"Test Cohen Kappa score: %.3f\" % cohen_kappa_score(t1preds_ensemble, test_gen1, weights='quadratic'))"
   ]
  },
  {
   "cell_type": "code",
   "execution_count": 89,
   "metadata": {
    "colab": {
     "base_uri": "https://localhost:8080/",
     "height": 484
    },
    "executionInfo": {
     "elapsed": 1190,
     "status": "ok",
     "timestamp": 1604622446857,
     "user": {
      "displayName": "Jorge Diego Garcia Torres",
      "photoUrl": "https://lh3.googleusercontent.com/a-/AOh14GgUm411NCPxL0CyuKgBlBhJ9SxhXr8inmS25Nfq=s64",
      "userId": "03990517325461913005"
     },
     "user_tz": 360
    },
    "id": "zTRxC_tl8qvS",
    "outputId": "59c90742-114e-449e-8525-cef6a5af15c8"
   },
   "outputs": [
    {
     "data": {
      "image/png": "[encoded data removed]",
      "text/plain": [
       "<Figure size 576x396 with 2 Axes>"
      ]
     },
     "metadata": {
      "tags": []
     },
     "output_type": "display_data"
    }
   ],
   "source": [
    "labels = ['0 - No DR', '1 - Leve', '2 - Moderada', '3 - Severa', '4 - Proliferativa DR']\n",
    "plot_conf_matrix(t1preds_ensemble,test_gen1,labels)"
   ]
  },
  {
   "cell_type": "code",
   "execution_count": 90,
   "metadata": {
    "colab": {
     "base_uri": "https://localhost:8080/",
     "height": 365
    },
    "executionInfo": {
     "elapsed": 1242,
     "status": "ok",
     "timestamp": 1604622488079,
     "user": {
      "displayName": "Jorge Diego Garcia Torres",
      "photoUrl": "https://lh3.googleusercontent.com/a-/AOh14GgUm411NCPxL0CyuKgBlBhJ9SxhXr8inmS25Nfq=s64",
      "userId": "03990517325461913005"
     },
     "user_tz": 360
    },
    "id": "JVIS9x6587u8",
    "outputId": "6b270e96-6fa0-4b45-a3ae-98d730e62aab"
   },
   "outputs": [
    {
     "data": {
      "image/png": "[encoded data removed]",
      "text/plain": [
       "<Figure size 1152x504 with 2 Axes>"
      ]
     },
     "metadata": {
      "tags": []
     },
     "output_type": "display_data"
    }
   ],
   "source": [
    "cnf_matrix = confusion_matrix(t1preds_ensemble, test_gen1)\n",
    "cnf_matrix_norm = cnf_matrix.astype('float') / cnf_matrix.sum(axis=1)[:, np.newaxis]\n",
    "df_cm = pd.DataFrame(cnf_matrix_norm, index=labels, columns=labels)\n",
    "plt.figure(figsize=(16, 7))\n",
    "sns.heatmap(df_cm, annot=True, fmt='.2f', cmap=\"Blues\")\n",
    "plt.show()"
   ]
  },
  {
   "cell_type": "code",
   "execution_count": 91,
   "metadata": {
    "executionInfo": {
     "elapsed": 769,
     "status": "ok",
     "timestamp": 1604622521435,
     "user": {
      "displayName": "Jorge Diego Garcia Torres",
      "photoUrl": "https://lh3.googleusercontent.com/a-/AOh14GgUm411NCPxL0CyuKgBlBhJ9SxhXr8inmS25Nfq=s64",
      "userId": "03990517325461913005"
     },
     "user_tz": 360
    },
    "id": "f0cca2dA9Hfk"
   },
   "outputs": [],
   "source": [
    "cf = cnf_matrix"
   ]
  },
  {
   "cell_type": "code",
   "execution_count": null,
   "metadata": {
    "id": "e_CuhQbR9Out"
   },
   "outputs": [],
   "source": []
  },
  {
   "cell_type": "code",
   "execution_count": 94,
   "metadata": {
    "colab": {
     "base_uri": "https://localhost:8080/"
    },
    "executionInfo": {
     "elapsed": 2178,
     "status": "ok",
     "timestamp": 1604622638475,
     "user": {
      "displayName": "Jorge Diego Garcia Torres",
      "photoUrl": "https://lh3.googleusercontent.com/a-/AOh14GgUm411NCPxL0CyuKgBlBhJ9SxhXr8inmS25Nfq=s64",
      "userId": "03990517325461913005"
     },
     "user_tz": 360
    },
    "id": "FhIbQdWH9O8_",
    "outputId": "e0529b88-bf41-4375-e2b1-f0b605259c30"
   },
   "outputs": [
    {
     "name": "stdout",
     "output_type": "stream",
     "text": [
      "FP\n",
      "[ 5 42 18 24 27]\n",
      "FN\n",
      "[ 5 12 71 16 12]\n",
      "TP\n",
      "[379  28 162  15  33]\n",
      "TN\n",
      "[344 651 482 678 661]\n",
      "Sensitivity\n",
      "[0.98697917 0.7        0.69527897 0.48387097 0.73333333]\n",
      "Specificity\n",
      "[0.98567335 0.93939394 0.964      0.96581197 0.96075581]\n",
      "Precision\n",
      "[0.98697917 0.4        0.9        0.38461538 0.55      ]\n",
      "[0.98567335 0.98190045 0.8716094  0.97694524 0.98216939]\n",
      "[0.01432665 0.06060606 0.036      0.03418803 0.03924419]\n",
      "[0.01302083 0.3        0.30472103 0.51612903 0.26666667]\n",
      "[0.01302083 0.6        0.1        0.61538462 0.45      ]\n",
      "Acc\n",
      "[0.98635744 0.92633015 0.87858117 0.94542974 0.946794  ]\n",
      "Sensitivity mean\n",
      "0.7198924875398034\n",
      "Specificity mean\n",
      "0.9631270143189848\n",
      "Precision mean\n",
      "0.6443189102564103\n"
     ]
    }
   ],
   "source": [
    "FP = cf.sum(axis=0) - np.diag(cf)  \n",
    "FN = cf.sum(axis=1) - np.diag(cf)\n",
    "TP = np.diag(cf)\n",
    "TN = cf.sum() - (FP + FN + TP)\n",
    "\n",
    "# Sensitivity, hit rate, recall, or true positive rate\n",
    "TPR = TP/(TP+FN)\n",
    "# Specificity or true negative rate\n",
    "TNR = TN/(TN+FP) \n",
    "# Precision or positive predictive value\n",
    "PPV = TP/(TP+FP)\n",
    "# Negative predictive value\n",
    "NPV = TN/(TN+FN)\n",
    "# Fall out or false positive rate\n",
    "FPR = FP/(FP+TN)\n",
    "# False negative rate\n",
    "FNR = FN/(TP+FN)\n",
    "# False discovery rate\n",
    "FDR = FP/(TP+FP)\n",
    "\n",
    "# Overall accuracy\n",
    "ACC = (TP+TN)/(TP+FP+FN+TN)\n",
    "\n",
    "print('FP')\n",
    "print(FP)\n",
    "print('FN')\n",
    "print(FN)\n",
    "print('TP')\n",
    "print(TP)\n",
    "print('TN')\n",
    "print(TN)\n",
    "print('Sensitivity')\n",
    "print(TPR)\n",
    "print('Specificity')\n",
    "print(TNR)\n",
    "print('Precision')\n",
    "print(PPV)\n",
    "print(NPV)\n",
    "print(FPR)\n",
    "print(FNR)\n",
    "print(FDR)\n",
    "print('Acc')\n",
    "print(ACC)\n",
    "\n",
    "print('Sensitivity mean')\n",
    "print(np.mean(TPR))\n",
    "print('Specificity mean')\n",
    "print(np.mean(TNR))\n",
    "print('Precision mean')\n",
    "print(np.mean(PPV))\n"
   ]
  },
  {
   "cell_type": "code",
   "execution_count": 95,
   "metadata": {
    "colab": {
     "base_uri": "https://localhost:8080/"
    },
    "executionInfo": {
     "elapsed": 849,
     "status": "ok",
     "timestamp": 1604622668448,
     "user": {
      "displayName": "Jorge Diego Garcia Torres",
      "photoUrl": "https://lh3.googleusercontent.com/a-/AOh14GgUm411NCPxL0CyuKgBlBhJ9SxhXr8inmS25Nfq=s64",
      "userId": "03990517325461913005"
     },
     "user_tz": 360
    },
    "id": "hrdEhPsLlsaf",
    "outputId": "eb7248c4-c858-4f7d-9a6d-ec0ea7b770c2"
   },
   "outputs": [
    {
     "name": "stdout",
     "output_type": "stream",
     "text": [
      "Test Cohen Kappa score: 0.921\n",
      "Test Accuracy score : 0.842\n",
      "F1 score: 0.842\n",
      "F1 score: 0.833\n",
      "F1 score: 0.668\n",
      "Recall: 0.842\n",
      "Recall: 0.842\n",
      "Recall: 0.644\n",
      "Precision: 0.842\n",
      "Precision: 0.840\n",
      "Precision: 0.720\n",
      "\n",
      " clasification report:\n",
      "                precision    recall  f1-score   support\n",
      "\n",
      "           0       0.99      0.99      0.99       384\n",
      "           1       0.70      0.40      0.51        70\n",
      "           2       0.70      0.90      0.78       180\n",
      "           3       0.48      0.38      0.43        39\n",
      "           4       0.73      0.55      0.63        60\n",
      "\n",
      "    accuracy                           0.84       733\n",
      "   macro avg       0.72      0.64      0.67       733\n",
      "weighted avg       0.84      0.84      0.83       733\n",
      "\n"
     ]
    }
   ],
   "source": [
    "print(\"Test Cohen Kappa score: %.3f\" % cohen_kappa_score(test_gen1, t1preds_ensemble, weights='quadratic'))\n",
    "print(\"Test Accuracy score : %.3f\" % accuracy_score(test_gen1, t1preds_ensemble))\n",
    "\n",
    "print('F1 score: %.3f' % f1_score(test_gen1, t1preds_ensemble,average='micro'))\n",
    "print('F1 score: %.3f' % f1_score(test_gen1, t1preds_ensemble,average='weighted'))\n",
    "print('F1 score: %.3f' % f1_score(test_gen1, t1preds_ensemble,average='macro'))\n",
    "\n",
    "print('Recall: %.3f' % recall_score(test_gen1, t1preds_ensemble,average='micro'))\n",
    "print('Recall: %.3f' % recall_score(test_gen1, t1preds_ensemble,average='weighted'))\n",
    "print('Recall: %.3f' % recall_score(test_gen1, t1preds_ensemble,average='macro'))\n",
    "\n",
    "print('Precision: %.3f' % precision_score(test_gen1, t1preds_ensemble,average='micro'))\n",
    "print('Precision: %.3f' % precision_score(test_gen1, t1preds_ensemble,average='weighted'))\n",
    "print('Precision: %.3f' % precision_score(test_gen1, t1preds_ensemble,average='macro'))\n",
    "\n",
    "print('\\n clasification report:\\n  ' + classification_report(test_gen1, t1preds_ensemble))"
   ]
  },
  {
   "cell_type": "markdown",
   "metadata": {
    "id": "-ennol5k7NAi"
   },
   "source": [
    "TTA"
   ]
  },
  {
   "cell_type": "code",
   "execution_count": 96,
   "metadata": {
    "executionInfo": {
     "elapsed": 1311,
     "status": "ok",
     "timestamp": 1604622764837,
     "user": {
      "displayName": "Jorge Diego Garcia Torres",
      "photoUrl": "https://lh3.googleusercontent.com/a-/AOh14GgUm411NCPxL0CyuKgBlBhJ9SxhXr8inmS25Nfq=s64",
      "userId": "03990517325461913005"
     },
     "user_tz": 360
    },
    "id": "EOLVF_SV8Uf_"
   },
   "outputs": [],
   "source": [
    "def apply_tta(model, generator, steps=5):\n",
    "    step_size = generator.n//generator.batch_size\n",
    "    preds_tta = []\n",
    "    for i in range(steps):\n",
    "        generator.reset()\n",
    "        preds = model.predict_generator(generator, steps=step_size, verbose= 1)\n",
    "        preds_tta.append(preds)\n",
    "\n",
    "    return np.mean(preds_tta, axis=0)"
   ]
  },
  {
   "cell_type": "code",
   "execution_count": 97,
   "metadata": {
    "executionInfo": {
     "elapsed": 1330,
     "status": "ok",
     "timestamp": 1604622767427,
     "user": {
      "displayName": "Jorge Diego Garcia Torres",
      "photoUrl": "https://lh3.googleusercontent.com/a-/AOh14GgUm411NCPxL0CyuKgBlBhJ9SxhXr8inmS25Nfq=s64",
      "userId": "03990517325461913005"
     },
     "user_tz": 360
    },
    "id": "yIwhgvWl7OZv"
   },
   "outputs": [],
   "source": [
    "def test_ensemble_preds(model_list, generator, steps=5):\n",
    "    preds_ensemble = []\n",
    "    for model in model_list:\n",
    "        preds = apply_tta(model, generator, steps)\n",
    "        preds_ensemble.append(preds)\n",
    "\n",
    "    return np.mean(preds_ensemble, axis=0)"
   ]
  },
  {
   "cell_type": "code",
   "execution_count": 98,
   "metadata": {
    "executionInfo": {
     "elapsed": 840,
     "status": "ok",
     "timestamp": 1604622770527,
     "user": {
      "displayName": "Jorge Diego Garcia Torres",
      "photoUrl": "https://lh3.googleusercontent.com/a-/AOh14GgUm411NCPxL0CyuKgBlBhJ9SxhXr8inmS25Nfq=s64",
      "userId": "03990517325461913005"
     },
     "user_tz": 360
    },
    "id": "eci9MKTgHn1i"
   },
   "outputs": [],
   "source": [
    "TTA_STEPS = 10"
   ]
  },
  {
   "cell_type": "code",
   "execution_count": 99,
   "metadata": {
    "executionInfo": {
     "elapsed": 15651,
     "status": "ok",
     "timestamp": 1604622787106,
     "user": {
      "displayName": "Jorge Diego Garcia Torres",
      "photoUrl": "https://lh3.googleusercontent.com/a-/AOh14GgUm411NCPxL0CyuKgBlBhJ9SxhXr8inmS25Nfq=s64",
      "userId": "03990517325461913005"
     },
     "user_tz": 360
    },
    "id": "f9fkdj3EnsEv"
   },
   "outputs": [],
   "source": [
    "tdata_gen.reset()\n",
    "\n",
    "x_tdata = np.zeros((733,224, 224, 3))\n",
    "y_test2 = np.array([[0,0,0,0,0]])\n",
    "\n",
    "for i in range(733):\n",
    "  y_test2 =np.append(y_test2, tdata_gen[i][1], axis=0)\n",
    "  x_tdata[i]= tdata_gen[i][0]\n",
    "\n",
    "y_test2 = np.delete(y_test2,0, axis=0)\n",
    "\n",
    "tdata_gen.reset()"
   ]
  },
  {
   "cell_type": "code",
   "execution_count": 100,
   "metadata": {
    "executionInfo": {
     "elapsed": 16546,
     "status": "ok",
     "timestamp": 1604622812038,
     "user": {
      "displayName": "Jorge Diego Garcia Torres",
      "photoUrl": "https://lh3.googleusercontent.com/a-/AOh14GgUm411NCPxL0CyuKgBlBhJ9SxhXr8inmS25Nfq=s64",
      "userId": "03990517325461913005"
     },
     "user_tz": 360
    },
    "id": "r1WF5a1tpRXz"
   },
   "outputs": [],
   "source": [
    "tdata_gen.reset()\n",
    "\n",
    "x_tdata1 = np.zeros((733,224, 224, 3))\n",
    "y_test12 = np.array([[0,0,0,0,0]])\n",
    "\n",
    "for i in range(733):\n",
    "  y_test12 =np.append(y_test12, tdata_gen[i][1], axis=0)\n",
    "  x_tdata1[i]= tdata_gen[i][0]\n",
    "\n",
    "y_test12 = np.delete(y_test12,0, axis=0)\n",
    "\n",
    "tdata_gen.reset()"
   ]
  },
  {
   "cell_type": "code",
   "execution_count": 101,
   "metadata": {
    "executionInfo": {
     "elapsed": 15736,
     "status": "ok",
     "timestamp": 1604622829728,
     "user": {
      "displayName": "Jorge Diego Garcia Torres",
      "photoUrl": "https://lh3.googleusercontent.com/a-/AOh14GgUm411NCPxL0CyuKgBlBhJ9SxhXr8inmS25Nfq=s64",
      "userId": "03990517325461913005"
     },
     "user_tz": 360
    },
    "id": "D6mldZGapYgs"
   },
   "outputs": [],
   "source": [
    "tdata_gen.reset()\n",
    "\n",
    "x_tdata2 = np.zeros((733,224, 224, 3))\n",
    "y_test22 = np.array([[0,0,0,0,0]])\n",
    "\n",
    "for i in range(733):\n",
    "  y_test22 =np.append(y_test22, tdata_gen[i][1], axis=0)\n",
    "  x_tdata2[i]= tdata_gen[i][0]\n",
    "\n",
    "y_test22 = np.delete(y_test22,0, axis=0)\n",
    "\n",
    "tdata_gen.reset()"
   ]
  },
  {
   "cell_type": "code",
   "execution_count": 102,
   "metadata": {
    "executionInfo": {
     "elapsed": 15797,
     "status": "ok",
     "timestamp": 1604622857128,
     "user": {
      "displayName": "Jorge Diego Garcia Torres",
      "photoUrl": "https://lh3.googleusercontent.com/a-/AOh14GgUm411NCPxL0CyuKgBlBhJ9SxhXr8inmS25Nfq=s64",
      "userId": "03990517325461913005"
     },
     "user_tz": 360
    },
    "id": "PrHn-DvMpfjC"
   },
   "outputs": [],
   "source": [
    "tdata_gen.reset()\n",
    "\n",
    "x_tdata3 = np.zeros((733,224, 224, 3))\n",
    "y_test32 = np.array([[0,0,0,0,0]])\n",
    "\n",
    "for i in range(733):\n",
    "  y_test32 =np.append(y_test32, tdata_gen[i][1], axis=0)\n",
    "  x_tdata3[i]= tdata_gen[i][0]\n",
    "\n",
    "y_test32 = np.delete(y_test32,0, axis=0)\n",
    "\n",
    "tdata_gen.reset()"
   ]
  },
  {
   "cell_type": "code",
   "execution_count": 103,
   "metadata": {
    "executionInfo": {
     "elapsed": 16622,
     "status": "ok",
     "timestamp": 1604622880520,
     "user": {
      "displayName": "Jorge Diego Garcia Torres",
      "photoUrl": "https://lh3.googleusercontent.com/a-/AOh14GgUm411NCPxL0CyuKgBlBhJ9SxhXr8inmS25Nfq=s64",
      "userId": "03990517325461913005"
     },
     "user_tz": 360
    },
    "id": "Gs4yvWcpqWR3"
   },
   "outputs": [],
   "source": [
    "tdata_gen.reset()\n",
    "\n",
    "x_tdata4 = np.zeros((733,224, 224, 3))\n",
    "y_test42 = np.array([[0,0,0,0,0]])\n",
    "\n",
    "for i in range(733):\n",
    "  y_test42 =np.append(y_test42, tdata_gen[i][1], axis=0)\n",
    "  x_tdata4[i]= tdata_gen[i][0]\n",
    "\n",
    "y_test42 = np.delete(y_test42,0, axis=0)\n",
    "\n",
    "tdata_gen.reset()"
   ]
  },
  {
   "cell_type": "code",
   "execution_count": 104,
   "metadata": {
    "executionInfo": {
     "elapsed": 15899,
     "status": "ok",
     "timestamp": 1604622903490,
     "user": {
      "displayName": "Jorge Diego Garcia Torres",
      "photoUrl": "https://lh3.googleusercontent.com/a-/AOh14GgUm411NCPxL0CyuKgBlBhJ9SxhXr8inmS25Nfq=s64",
      "userId": "03990517325461913005"
     },
     "user_tz": 360
    },
    "id": "ydMbUTXIq1vq"
   },
   "outputs": [],
   "source": [
    "tdata_gen.reset()\n",
    "\n",
    "x_tdata5 = np.zeros((733,224, 224, 3))\n",
    "y_test52 = np.array([[0,0,0,0,0]])\n",
    "\n",
    "for i in range(733):\n",
    "  y_test52 =np.append(y_test52, tdata_gen[i][1], axis=0)\n",
    "  x_tdata5[i]= tdata_gen[i][0]\n",
    "\n",
    "y_test52 = np.delete(y_test52,0, axis=0)\n",
    "\n",
    "tdata_gen.reset()"
   ]
  },
  {
   "cell_type": "code",
   "execution_count": 105,
   "metadata": {
    "executionInfo": {
     "elapsed": 1160,
     "status": "ok",
     "timestamp": 1604622909903,
     "user": {
      "displayName": "Jorge Diego Garcia Torres",
      "photoUrl": "https://lh3.googleusercontent.com/a-/AOh14GgUm411NCPxL0CyuKgBlBhJ9SxhXr8inmS25Nfq=s64",
      "userId": "03990517325461913005"
     },
     "user_tz": 360
    },
    "id": "cwQ2mAKoteRC"
   },
   "outputs": [],
   "source": [
    "preds_ensemble = []"
   ]
  },
  {
   "cell_type": "code",
   "execution_count": 106,
   "metadata": {
    "executionInfo": {
     "elapsed": 309,
     "status": "ok",
     "timestamp": 1604622910862,
     "user": {
      "displayName": "Jorge Diego Garcia Torres",
      "photoUrl": "https://lh3.googleusercontent.com/a-/AOh14GgUm411NCPxL0CyuKgBlBhJ9SxhXr8inmS25Nfq=s64",
      "userId": "03990517325461913005"
     },
     "user_tz": 360
    },
    "id": "VJlyiYGQrmYp"
   },
   "outputs": [],
   "source": [
    "preds_tta = []"
   ]
  },
  {
   "cell_type": "code",
   "execution_count": 107,
   "metadata": {
    "colab": {
     "base_uri": "https://localhost:8080/"
    },
    "executionInfo": {
     "elapsed": 11450,
     "status": "ok",
     "timestamp": 1604622927104,
     "user": {
      "displayName": "Jorge Diego Garcia Torres",
      "photoUrl": "https://lh3.googleusercontent.com/a-/AOh14GgUm411NCPxL0CyuKgBlBhJ9SxhXr8inmS25Nfq=s64",
      "userId": "03990517325461913005"
     },
     "user_tz": 360
    },
    "id": "9AQ9Sf9Zr1fM",
    "outputId": "ba80db0d-cc3e-40d1-867e-40c5447afcb0"
   },
   "outputs": [
    {
     "name": "stdout",
     "output_type": "stream",
     "text": [
      " 2/23 [=>............................] - ETA: 0sWARNING:tensorflow:Callbacks method `on_predict_batch_end` is slow compared to the batch time (batch time: 0.0256s vs `on_predict_batch_end` time: 0.0482s). Check your callbacks.\n",
      "23/23 [==============================] - 2s 69ms/step\n",
      " 2/23 [=>............................] - ETA: 0sWARNING:tensorflow:Callbacks method `on_predict_batch_end` is slow compared to the batch time (batch time: 0.0256s vs `on_predict_batch_end` time: 0.0441s). Check your callbacks.\n",
      "23/23 [==============================] - 2s 68ms/step\n",
      " 2/23 [=>............................] - ETA: 0sWARNING:tensorflow:Callbacks method `on_predict_batch_end` is slow compared to the batch time (batch time: 0.0212s vs `on_predict_batch_end` time: 0.0484s). Check your callbacks.\n",
      "23/23 [==============================] - 2s 68ms/step\n",
      " 2/23 [=>............................] - ETA: 0sWARNING:tensorflow:Callbacks method `on_predict_batch_end` is slow compared to the batch time (batch time: 0.0216s vs `on_predict_batch_end` time: 0.0484s). Check your callbacks.\n",
      "23/23 [==============================] - 2s 68ms/step\n",
      " 2/23 [=>............................] - ETA: 0sWARNING:tensorflow:Callbacks method `on_predict_batch_end` is slow compared to the batch time (batch time: 0.0201s vs `on_predict_batch_end` time: 0.0488s). Check your callbacks.\n",
      "23/23 [==============================] - 2s 68ms/step\n",
      " 2/23 [=>............................] - ETA: 0sWARNING:tensorflow:Callbacks method `on_predict_batch_end` is slow compared to the batch time (batch time: 0.0203s vs `on_predict_batch_end` time: 0.0487s). Check your callbacks.\n",
      "23/23 [==============================] - 2s 68ms/step\n"
     ]
    }
   ],
   "source": [
    "test_preds_model1 = model_list[0].predict(x_tdata, verbose = 1)\n",
    "preds_tta.append(test_preds_model1)\n",
    "\n",
    "test_preds_model1 = model_list[0].predict(x_tdata1, verbose = 1)\n",
    "preds_tta.append(test_preds_model1)\n",
    "\n",
    "test_preds_model1 = model_list[0].predict(x_tdata2, verbose = 1)\n",
    "preds_tta.append(test_preds_model1)\n",
    "\n",
    "test_preds_model1 = model_list[0].predict(x_tdata3, verbose = 1)\n",
    "preds_tta.append(test_preds_model1)\n",
    "\n",
    "test_preds_model1 = model_list[0].predict(x_tdata4, verbose = 1)\n",
    "preds_tta.append(test_preds_model1)\n",
    "\n",
    "test_preds_model1 = model_list[0].predict(x_tdata5, verbose = 1)\n",
    "preds_tta.append(test_preds_model1)\n",
    "\n",
    "test_model1 = np.mean(preds_tta, axis=0)"
   ]
  },
  {
   "cell_type": "code",
   "execution_count": 108,
   "metadata": {
    "executionInfo": {
     "elapsed": 1124,
     "status": "ok",
     "timestamp": 1604622966687,
     "user": {
      "displayName": "Jorge Diego Garcia Torres",
      "photoUrl": "https://lh3.googleusercontent.com/a-/AOh14GgUm411NCPxL0CyuKgBlBhJ9SxhXr8inmS25Nfq=s64",
      "userId": "03990517325461913005"
     },
     "user_tz": 360
    },
    "id": "8ZcFarA2tCLp"
   },
   "outputs": [],
   "source": [
    "preds_ensemble.append(test_model1)"
   ]
  },
  {
   "cell_type": "code",
   "execution_count": 109,
   "metadata": {
    "executionInfo": {
     "elapsed": 743,
     "status": "ok",
     "timestamp": 1604622970003,
     "user": {
      "displayName": "Jorge Diego Garcia Torres",
      "photoUrl": "https://lh3.googleusercontent.com/a-/AOh14GgUm411NCPxL0CyuKgBlBhJ9SxhXr8inmS25Nfq=s64",
      "userId": "03990517325461913005"
     },
     "user_tz": 360
    },
    "id": "NOj-Z0vCt-Ta"
   },
   "outputs": [],
   "source": [
    "preds_tta = []"
   ]
  },
  {
   "cell_type": "code",
   "execution_count": 110,
   "metadata": {
    "colab": {
     "base_uri": "https://localhost:8080/"
    },
    "executionInfo": {
     "elapsed": 13006,
     "status": "ok",
     "timestamp": 1604622987189,
     "user": {
      "displayName": "Jorge Diego Garcia Torres",
      "photoUrl": "https://lh3.googleusercontent.com/a-/AOh14GgUm411NCPxL0CyuKgBlBhJ9SxhXr8inmS25Nfq=s64",
      "userId": "03990517325461913005"
     },
     "user_tz": 360
    },
    "id": "H2nUagGTt_0T",
    "outputId": "ad00dbc5-6dab-4f23-ff63-17911e4a4e63"
   },
   "outputs": [
    {
     "name": "stdout",
     "output_type": "stream",
     "text": [
      " 2/23 [=>............................] - ETA: 0sWARNING:tensorflow:Callbacks method `on_predict_batch_end` is slow compared to the batch time (batch time: 0.0202s vs `on_predict_batch_end` time: 0.0502s). Check your callbacks.\n",
      "23/23 [==============================] - 2s 68ms/step\n",
      " 2/23 [=>............................] - ETA: 0sWARNING:tensorflow:Callbacks method `on_predict_batch_end` is slow compared to the batch time (batch time: 0.0203s vs `on_predict_batch_end` time: 0.0489s). Check your callbacks.\n",
      "23/23 [==============================] - 2s 68ms/step\n",
      " 2/23 [=>............................] - ETA: 0sWARNING:tensorflow:Callbacks method `on_predict_batch_end` is slow compared to the batch time (batch time: 0.0251s vs `on_predict_batch_end` time: 0.0445s). Check your callbacks.\n",
      "23/23 [==============================] - 2s 68ms/step\n",
      " 2/23 [=>............................] - ETA: 0sWARNING:tensorflow:Callbacks method `on_predict_batch_end` is slow compared to the batch time (batch time: 0.0203s vs `on_predict_batch_end` time: 0.0490s). Check your callbacks.\n",
      "23/23 [==============================] - 2s 68ms/step\n",
      " 2/23 [=>............................] - ETA: 0sWARNING:tensorflow:Callbacks method `on_predict_batch_end` is slow compared to the batch time (batch time: 0.0206s vs `on_predict_batch_end` time: 0.0488s). Check your callbacks.\n",
      "23/23 [==============================] - 2s 68ms/step\n",
      " 2/23 [=>............................] - ETA: 0sWARNING:tensorflow:Callbacks method `on_predict_batch_end` is slow compared to the batch time (batch time: 0.0202s vs `on_predict_batch_end` time: 0.0488s). Check your callbacks.\n",
      "23/23 [==============================] - 2s 68ms/step\n"
     ]
    }
   ],
   "source": [
    "test_preds_model2 = model_list[1].predict(x_tdata, verbose = 1)\n",
    "preds_tta.append(test_preds_model2)\n",
    "\n",
    "test_preds_model2 = model_list[1].predict(x_tdata1, verbose = 1)\n",
    "preds_tta.append(test_preds_model2)\n",
    "\n",
    "test_preds_model2 = model_list[1].predict(x_tdata2, verbose = 1)\n",
    "preds_tta.append(test_preds_model2)\n",
    "\n",
    "test_preds_model2 = model_list[1].predict(x_tdata3, verbose = 1)\n",
    "preds_tta.append(test_preds_model2)\n",
    "\n",
    "test_preds_model2 = model_list[1].predict(x_tdata4, verbose = 1)\n",
    "preds_tta.append(test_preds_model2)\n",
    "\n",
    "test_preds_model2 = model_list[1].predict(x_tdata5, verbose = 1)\n",
    "preds_tta.append(test_preds_model2)\n",
    "\n",
    "test_model2 = np.mean(preds_tta, axis=0)"
   ]
  },
  {
   "cell_type": "code",
   "execution_count": 111,
   "metadata": {
    "executionInfo": {
     "elapsed": 496,
     "status": "ok",
     "timestamp": 1604622992125,
     "user": {
      "displayName": "Jorge Diego Garcia Torres",
      "photoUrl": "https://lh3.googleusercontent.com/a-/AOh14GgUm411NCPxL0CyuKgBlBhJ9SxhXr8inmS25Nfq=s64",
      "userId": "03990517325461913005"
     },
     "user_tz": 360
    },
    "id": "--zCwggquvR9"
   },
   "outputs": [],
   "source": [
    "preds_ensemble.append(test_model2)"
   ]
  },
  {
   "cell_type": "code",
   "execution_count": 112,
   "metadata": {
    "executionInfo": {
     "elapsed": 661,
     "status": "ok",
     "timestamp": 1604622994873,
     "user": {
      "displayName": "Jorge Diego Garcia Torres",
      "photoUrl": "https://lh3.googleusercontent.com/a-/AOh14GgUm411NCPxL0CyuKgBlBhJ9SxhXr8inmS25Nfq=s64",
      "userId": "03990517325461913005"
     },
     "user_tz": 360
    },
    "id": "d30oWZffu0XK"
   },
   "outputs": [],
   "source": [
    "preds_tta = []"
   ]
  },
  {
   "cell_type": "code",
   "execution_count": 113,
   "metadata": {
    "colab": {
     "base_uri": "https://localhost:8080/"
    },
    "executionInfo": {
     "elapsed": 14794,
     "status": "ok",
     "timestamp": 1604623018355,
     "user": {
      "displayName": "Jorge Diego Garcia Torres",
      "photoUrl": "https://lh3.googleusercontent.com/a-/AOh14GgUm411NCPxL0CyuKgBlBhJ9SxhXr8inmS25Nfq=s64",
      "userId": "03990517325461913005"
     },
     "user_tz": 360
    },
    "id": "hwtpBIofu4Ei",
    "outputId": "ec659b93-f6d8-4b1e-979b-6c71e8016ca5"
   },
   "outputs": [
    {
     "name": "stdout",
     "output_type": "stream",
     "text": [
      " 2/23 [=>............................] - ETA: 0sWARNING:tensorflow:Callbacks method `on_predict_batch_end` is slow compared to the batch time (batch time: 0.0207s vs `on_predict_batch_end` time: 0.0527s). Check your callbacks.\n",
      "23/23 [==============================] - 2s 68ms/step\n",
      " 2/23 [=>............................] - ETA: 0sWARNING:tensorflow:Callbacks method `on_predict_batch_end` is slow compared to the batch time (batch time: 0.0205s vs `on_predict_batch_end` time: 0.0487s). Check your callbacks.\n",
      "23/23 [==============================] - 2s 68ms/step\n",
      " 2/23 [=>............................] - ETA: 0sWARNING:tensorflow:Callbacks method `on_predict_batch_end` is slow compared to the batch time (batch time: 0.0208s vs `on_predict_batch_end` time: 0.0487s). Check your callbacks.\n",
      "23/23 [==============================] - 2s 68ms/step\n",
      " 2/23 [=>............................] - ETA: 0sWARNING:tensorflow:Callbacks method `on_predict_batch_end` is slow compared to the batch time (batch time: 0.0206s vs `on_predict_batch_end` time: 0.0487s). Check your callbacks.\n",
      "23/23 [==============================] - 2s 68ms/step\n",
      " 2/23 [=>............................] - ETA: 0sWARNING:tensorflow:Callbacks method `on_predict_batch_end` is slow compared to the batch time (batch time: 0.0244s vs `on_predict_batch_end` time: 0.0463s). Check your callbacks.\n",
      "23/23 [==============================] - 2s 68ms/step\n",
      " 2/23 [=>............................] - ETA: 0sWARNING:tensorflow:Callbacks method `on_predict_batch_end` is slow compared to the batch time (batch time: 0.0215s vs `on_predict_batch_end` time: 0.0486s). Check your callbacks.\n",
      "23/23 [==============================] - 2s 68ms/step\n"
     ]
    }
   ],
   "source": [
    "test_preds_model3 = model_list[2].predict(x_tdata, verbose = 1)\n",
    "preds_tta.append(test_preds_model3)\n",
    "\n",
    "test_preds_model3 = model_list[2].predict(x_tdata1, verbose = 1)\n",
    "preds_tta.append(test_preds_model3)\n",
    "\n",
    "test_preds_model3 = model_list[2].predict(x_tdata2, verbose = 1)\n",
    "preds_tta.append(test_preds_model3)\n",
    "\n",
    "test_preds_model3 = model_list[2].predict(x_tdata3, verbose = 1)\n",
    "preds_tta.append(test_preds_model3)\n",
    "\n",
    "test_preds_model3 = model_list[2].predict(x_tdata4, verbose = 1)\n",
    "preds_tta.append(test_preds_model3)\n",
    "\n",
    "test_preds_model3 = model_list[2].predict(x_tdata5, verbose = 1)\n",
    "preds_tta.append(test_preds_model3)\n",
    "\n",
    "test_model3 = np.mean(preds_tta, axis=0)"
   ]
  },
  {
   "cell_type": "code",
   "execution_count": 114,
   "metadata": {
    "executionInfo": {
     "elapsed": 582,
     "status": "ok",
     "timestamp": 1604623025499,
     "user": {
      "displayName": "Jorge Diego Garcia Torres",
      "photoUrl": "https://lh3.googleusercontent.com/a-/AOh14GgUm411NCPxL0CyuKgBlBhJ9SxhXr8inmS25Nfq=s64",
      "userId": "03990517325461913005"
     },
     "user_tz": 360
    },
    "id": "yGKom6BwvJ20"
   },
   "outputs": [],
   "source": [
    "preds_ensemble.append(test_model3)"
   ]
  },
  {
   "cell_type": "code",
   "execution_count": 115,
   "metadata": {
    "executionInfo": {
     "elapsed": 983,
     "status": "ok",
     "timestamp": 1604623027717,
     "user": {
      "displayName": "Jorge Diego Garcia Torres",
      "photoUrl": "https://lh3.googleusercontent.com/a-/AOh14GgUm411NCPxL0CyuKgBlBhJ9SxhXr8inmS25Nfq=s64",
      "userId": "03990517325461913005"
     },
     "user_tz": 360
    },
    "id": "CjM_F8CmvOsf"
   },
   "outputs": [],
   "source": [
    "preds_tta = []"
   ]
  },
  {
   "cell_type": "code",
   "execution_count": 116,
   "metadata": {
    "colab": {
     "base_uri": "https://localhost:8080/"
    },
    "executionInfo": {
     "elapsed": 12582,
     "status": "ok",
     "timestamp": 1604623050088,
     "user": {
      "displayName": "Jorge Diego Garcia Torres",
      "photoUrl": "https://lh3.googleusercontent.com/a-/AOh14GgUm411NCPxL0CyuKgBlBhJ9SxhXr8inmS25Nfq=s64",
      "userId": "03990517325461913005"
     },
     "user_tz": 360
    },
    "id": "PILflOzBvTxA",
    "outputId": "e732e2fc-14aa-4378-d39c-ae107c37aadf"
   },
   "outputs": [
    {
     "name": "stdout",
     "output_type": "stream",
     "text": [
      " 2/23 [=>............................] - ETA: 0sWARNING:tensorflow:Callbacks method `on_predict_batch_end` is slow compared to the batch time (batch time: 0.0253s vs `on_predict_batch_end` time: 0.0487s). Check your callbacks.\n",
      "23/23 [==============================] - 2s 68ms/step\n",
      " 2/23 [=>............................] - ETA: 0sWARNING:tensorflow:Callbacks method `on_predict_batch_end` is slow compared to the batch time (batch time: 0.0231s vs `on_predict_batch_end` time: 0.0465s). Check your callbacks.\n",
      "23/23 [==============================] - 2s 68ms/step\n",
      " 2/23 [=>............................] - ETA: 0sWARNING:tensorflow:Callbacks method `on_predict_batch_end` is slow compared to the batch time (batch time: 0.0200s vs `on_predict_batch_end` time: 0.0489s). Check your callbacks.\n",
      "23/23 [==============================] - 2s 68ms/step\n",
      " 2/23 [=>............................] - ETA: 0sWARNING:tensorflow:Callbacks method `on_predict_batch_end` is slow compared to the batch time (batch time: 0.0204s vs `on_predict_batch_end` time: 0.0487s). Check your callbacks.\n",
      "23/23 [==============================] - 2s 68ms/step\n",
      " 2/23 [=>............................] - ETA: 0sWARNING:tensorflow:Callbacks method `on_predict_batch_end` is slow compared to the batch time (batch time: 0.0214s vs `on_predict_batch_end` time: 0.0484s). Check your callbacks.\n",
      "23/23 [==============================] - 2s 68ms/step\n",
      " 2/23 [=>............................] - ETA: 0sWARNING:tensorflow:Callbacks method `on_predict_batch_end` is slow compared to the batch time (batch time: 0.0247s vs `on_predict_batch_end` time: 0.0446s). Check your callbacks.\n",
      "23/23 [==============================] - 2s 68ms/step\n"
     ]
    }
   ],
   "source": [
    "test_preds_model3 = model_list[3].predict(x_tdata, verbose = 1)\n",
    "preds_tta.append(test_preds_model3)\n",
    "\n",
    "test_preds_model3 = model_list[3].predict(x_tdata1, verbose = 1)\n",
    "preds_tta.append(test_preds_model3)\n",
    "\n",
    "test_preds_model3 = model_list[3].predict(x_tdata2, verbose = 1)\n",
    "preds_tta.append(test_preds_model3)\n",
    "\n",
    "test_preds_model3 = model_list[3].predict(x_tdata3, verbose = 1)\n",
    "preds_tta.append(test_preds_model3)\n",
    "\n",
    "test_preds_model3 = model_list[3].predict(x_tdata4, verbose = 1)\n",
    "preds_tta.append(test_preds_model3)\n",
    "\n",
    "test_preds_model3 = model_list[3].predict(x_tdata5, verbose = 1)\n",
    "preds_tta.append(test_preds_model3)\n",
    "\n",
    "test_model4 = np.mean(preds_tta, axis=0)"
   ]
  },
  {
   "cell_type": "code",
   "execution_count": 117,
   "metadata": {
    "executionInfo": {
     "elapsed": 1046,
     "status": "ok",
     "timestamp": 1604623061989,
     "user": {
      "displayName": "Jorge Diego Garcia Torres",
      "photoUrl": "https://lh3.googleusercontent.com/a-/AOh14GgUm411NCPxL0CyuKgBlBhJ9SxhXr8inmS25Nfq=s64",
      "userId": "03990517325461913005"
     },
     "user_tz": 360
    },
    "id": "GWgFQrBzve-0"
   },
   "outputs": [],
   "source": [
    "preds_ensemble.append(test_model4)"
   ]
  },
  {
   "cell_type": "code",
   "execution_count": 118,
   "metadata": {
    "executionInfo": {
     "elapsed": 893,
     "status": "ok",
     "timestamp": 1604623063984,
     "user": {
      "displayName": "Jorge Diego Garcia Torres",
      "photoUrl": "https://lh3.googleusercontent.com/a-/AOh14GgUm411NCPxL0CyuKgBlBhJ9SxhXr8inmS25Nfq=s64",
      "userId": "03990517325461913005"
     },
     "user_tz": 360
    },
    "id": "FL0O4Bw4vmit"
   },
   "outputs": [],
   "source": [
    "preds_tta = []"
   ]
  },
  {
   "cell_type": "code",
   "execution_count": 119,
   "metadata": {
    "colab": {
     "base_uri": "https://localhost:8080/"
    },
    "executionInfo": {
     "elapsed": 11264,
     "status": "ok",
     "timestamp": 1604623078423,
     "user": {
      "displayName": "Jorge Diego Garcia Torres",
      "photoUrl": "https://lh3.googleusercontent.com/a-/AOh14GgUm411NCPxL0CyuKgBlBhJ9SxhXr8inmS25Nfq=s64",
      "userId": "03990517325461913005"
     },
     "user_tz": 360
    },
    "id": "yiMi6Z36vpf3",
    "outputId": "3dfa1e1e-826f-454e-b0d1-99acca334c81"
   },
   "outputs": [
    {
     "name": "stdout",
     "output_type": "stream",
     "text": [
      " 2/23 [=>............................] - ETA: 0sWARNING:tensorflow:Callbacks method `on_predict_batch_end` is slow compared to the batch time (batch time: 0.0207s vs `on_predict_batch_end` time: 0.0476s). Check your callbacks.\n",
      "23/23 [==============================] - 2s 67ms/step\n",
      " 2/23 [=>............................] - ETA: 0sWARNING:tensorflow:Callbacks method `on_predict_batch_end` is slow compared to the batch time (batch time: 0.0201s vs `on_predict_batch_end` time: 0.0479s). Check your callbacks.\n",
      "23/23 [==============================] - 2s 67ms/step\n",
      " 2/23 [=>............................] - ETA: 0sWARNING:tensorflow:Callbacks method `on_predict_batch_end` is slow compared to the batch time (batch time: 0.0193s vs `on_predict_batch_end` time: 0.0485s). Check your callbacks.\n",
      "23/23 [==============================] - 2s 67ms/step\n",
      " 2/23 [=>............................] - ETA: 0sWARNING:tensorflow:Callbacks method `on_predict_batch_end` is slow compared to the batch time (batch time: 0.0196s vs `on_predict_batch_end` time: 0.0485s). Check your callbacks.\n",
      "23/23 [==============================] - 2s 68ms/step\n",
      " 2/23 [=>............................] - ETA: 0sWARNING:tensorflow:Callbacks method `on_predict_batch_end` is slow compared to the batch time (batch time: 0.0194s vs `on_predict_batch_end` time: 0.0487s). Check your callbacks.\n",
      "23/23 [==============================] - 2s 67ms/step\n",
      " 2/23 [=>............................] - ETA: 0sWARNING:tensorflow:Callbacks method `on_predict_batch_end` is slow compared to the batch time (batch time: 0.0200s vs `on_predict_batch_end` time: 0.0483s). Check your callbacks.\n",
      "23/23 [==============================] - 2s 67ms/step\n"
     ]
    }
   ],
   "source": [
    "test_preds_model3 = model_list[4].predict(x_tdata, verbose = 1)\n",
    "preds_tta.append(test_preds_model3)\n",
    "\n",
    "test_preds_model3 = model_list[4].predict(x_tdata1, verbose = 1)\n",
    "preds_tta.append(test_preds_model3)\n",
    "\n",
    "test_preds_model3 = model_list[4].predict(x_tdata2, verbose = 1)\n",
    "preds_tta.append(test_preds_model3)\n",
    "\n",
    "test_preds_model3 = model_list[4].predict(x_tdata3, verbose = 1)\n",
    "preds_tta.append(test_preds_model3)\n",
    "\n",
    "test_preds_model3 = model_list[4].predict(x_tdata4, verbose = 1)\n",
    "preds_tta.append(test_preds_model3)\n",
    "\n",
    "test_preds_model3 = model_list[4].predict(x_tdata5, verbose = 1)\n",
    "preds_tta.append(test_preds_model3)\n",
    "\n",
    "test_model5 = np.mean(preds_tta, axis=0)"
   ]
  },
  {
   "cell_type": "code",
   "execution_count": 120,
   "metadata": {
    "executionInfo": {
     "elapsed": 1687,
     "status": "ok",
     "timestamp": 1604623083987,
     "user": {
      "displayName": "Jorge Diego Garcia Torres",
      "photoUrl": "https://lh3.googleusercontent.com/a-/AOh14GgUm411NCPxL0CyuKgBlBhJ9SxhXr8inmS25Nfq=s64",
      "userId": "03990517325461913005"
     },
     "user_tz": 360
    },
    "id": "6amZzSiawNfN"
   },
   "outputs": [],
   "source": [
    "preds_ensemble.append(test_model5)"
   ]
  },
  {
   "cell_type": "code",
   "execution_count": 121,
   "metadata": {
    "executionInfo": {
     "elapsed": 398,
     "status": "ok",
     "timestamp": 1604623088024,
     "user": {
      "displayName": "Jorge Diego Garcia Torres",
      "photoUrl": "https://lh3.googleusercontent.com/a-/AOh14GgUm411NCPxL0CyuKgBlBhJ9SxhXr8inmS25Nfq=s64",
      "userId": "03990517325461913005"
     },
     "user_tz": 360
    },
    "id": "SRm9eDl0wWww"
   },
   "outputs": [],
   "source": [
    "preds_tta = []"
   ]
  },
  {
   "cell_type": "code",
   "execution_count": 122,
   "metadata": {
    "executionInfo": {
     "elapsed": 3752,
     "status": "ok",
     "timestamp": 1604623096053,
     "user": {
      "displayName": "Jorge Diego Garcia Torres",
      "photoUrl": "https://lh3.googleusercontent.com/a-/AOh14GgUm411NCPxL0CyuKgBlBhJ9SxhXr8inmS25Nfq=s64",
      "userId": "03990517325461913005"
     },
     "user_tz": 360
    },
    "id": "KIEVrJSZwYrC"
   },
   "outputs": [],
   "source": [
    "ttapreds= np.mean(preds_ensemble, axis=0)"
   ]
  },
  {
   "cell_type": "code",
   "execution_count": 125,
   "metadata": {
    "executionInfo": {
     "elapsed": 901,
     "status": "ok",
     "timestamp": 1604623115170,
     "user": {
      "displayName": "Jorge Diego Garcia Torres",
      "photoUrl": "https://lh3.googleusercontent.com/a-/AOh14GgUm411NCPxL0CyuKgBlBhJ9SxhXr8inmS25Nfq=s64",
      "userId": "03990517325461913005"
     },
     "user_tz": 360
    },
    "id": "BE7kkqRjwqMQ"
   },
   "outputs": [],
   "source": [
    "ttapreds1 = [np.argmax(pred) for pred in ttapreds]"
   ]
  },
  {
   "cell_type": "code",
   "execution_count": 124,
   "metadata": {
    "colab": {
     "base_uri": "https://localhost:8080/"
    },
    "executionInfo": {
     "elapsed": 1344,
     "status": "ok",
     "timestamp": 1604623110353,
     "user": {
      "displayName": "Jorge Diego Garcia Torres",
      "photoUrl": "https://lh3.googleusercontent.com/a-/AOh14GgUm411NCPxL0CyuKgBlBhJ9SxhXr8inmS25Nfq=s64",
      "userId": "03990517325461913005"
     },
     "user_tz": 360
    },
    "id": "suz1lnpCxwTs",
    "outputId": "4144361e-e89a-4a37-a5bc-f17ad40a4739"
   },
   "outputs": [
    {
     "data": {
      "text/plain": [
       "True"
      ]
     },
     "execution_count": 124,
     "metadata": {
      "tags": []
     },
     "output_type": "execute_result"
    }
   ],
   "source": [
    "c=y_test2 == y_test32\n",
    "c.all()"
   ]
  },
  {
   "cell_type": "code",
   "execution_count": 126,
   "metadata": {
    "executionInfo": {
     "elapsed": 856,
     "status": "ok",
     "timestamp": 1604623122372,
     "user": {
      "displayName": "Jorge Diego Garcia Torres",
      "photoUrl": "https://lh3.googleusercontent.com/a-/AOh14GgUm411NCPxL0CyuKgBlBhJ9SxhXr8inmS25Nfq=s64",
      "userId": "03990517325461913005"
     },
     "user_tz": 360
    },
    "id": "47nZaYMVyQk6"
   },
   "outputs": [],
   "source": [
    "y_test2tta = [np.argmax(pred) for pred in y_test2]"
   ]
  },
  {
   "cell_type": "code",
   "execution_count": 127,
   "metadata": {
    "colab": {
     "base_uri": "https://localhost:8080/"
    },
    "executionInfo": {
     "elapsed": 528,
     "status": "ok",
     "timestamp": 1604623125158,
     "user": {
      "displayName": "Jorge Diego Garcia Torres",
      "photoUrl": "https://lh3.googleusercontent.com/a-/AOh14GgUm411NCPxL0CyuKgBlBhJ9SxhXr8inmS25Nfq=s64",
      "userId": "03990517325461913005"
     },
     "user_tz": 360
    },
    "id": "mzsEBYbNxdEX",
    "outputId": "b76852e5-5f98-4cbf-cce2-7397c796fbc6"
   },
   "outputs": [
    {
     "name": "stdout",
     "output_type": "stream",
     "text": [
      "test Cohen Kappa score: 0.923\n"
     ]
    }
   ],
   "source": [
    "print(\"test Cohen Kappa score: %.3f\" % cohen_kappa_score(ttapreds1, y_test2tta, weights='quadratic'))"
   ]
  },
  {
   "cell_type": "code",
   "execution_count": 131,
   "metadata": {
    "colab": {
     "base_uri": "https://localhost:8080/",
     "height": 484
    },
    "executionInfo": {
     "elapsed": 1172,
     "status": "ok",
     "timestamp": 1604623269626,
     "user": {
      "displayName": "Jorge Diego Garcia Torres",
      "photoUrl": "https://lh3.googleusercontent.com/a-/AOh14GgUm411NCPxL0CyuKgBlBhJ9SxhXr8inmS25Nfq=s64",
      "userId": "03990517325461913005"
     },
     "user_tz": 360
    },
    "id": "7ZLbchi7_xEH",
    "outputId": "73cc96e1-67dd-4d62-d8e7-e27009532fa4"
   },
   "outputs": [
    {
     "data": {
      "image/png": "[encoded data removed]",
      "text/plain": [
       "<Figure size 576x396 with 2 Axes>"
      ]
     },
     "metadata": {
      "tags": []
     },
     "output_type": "display_data"
    }
   ],
   "source": [
    "labels = ['0 - No DR', '1 - Leve', '2 - Moderada', '3 - Severa', '4 - Proliferativa DR']\n",
    "plot_conf_matrix(ttapreds1,y_test2tta, labels)"
   ]
  },
  {
   "cell_type": "code",
   "execution_count": 132,
   "metadata": {
    "executionInfo": {
     "elapsed": 3084,
     "status": "ok",
     "timestamp": 1604623320409,
     "user": {
      "displayName": "Jorge Diego Garcia Torres",
      "photoUrl": "https://lh3.googleusercontent.com/a-/AOh14GgUm411NCPxL0CyuKgBlBhJ9SxhXr8inmS25Nfq=s64",
      "userId": "03990517325461913005"
     },
     "user_tz": 360
    },
    "id": "5jUu1eqHAEYE"
   },
   "outputs": [],
   "source": [
    "cf = confusion_matrix(y_test2tta, ttapreds1)"
   ]
  },
  {
   "cell_type": "code",
   "execution_count": null,
   "metadata": {
    "id": "72bxoST2AO1K"
   },
   "outputs": [],
   "source": []
  },
  {
   "cell_type": "code",
   "execution_count": 133,
   "metadata": {
    "colab": {
     "base_uri": "https://localhost:8080/"
    },
    "executionInfo": {
     "elapsed": 975,
     "status": "ok",
     "timestamp": 1604623334357,
     "user": {
      "displayName": "Jorge Diego Garcia Torres",
      "photoUrl": "https://lh3.googleusercontent.com/a-/AOh14GgUm411NCPxL0CyuKgBlBhJ9SxhXr8inmS25Nfq=s64",
      "userId": "03990517325461913005"
     },
     "user_tz": 360
    },
    "id": "OjJzi6JnAPGz",
    "outputId": "fdb705a4-62de-4f2b-8200-143caed22c9e"
   },
   "outputs": [
    {
     "name": "stdout",
     "output_type": "stream",
     "text": [
      "FP\n",
      "[ 3 14 70 16 12]\n",
      "FN\n",
      "[ 5 40 21 24 25]\n",
      "TP\n",
      "[379  30 159  15  35]\n",
      "TN\n",
      "[346 649 483 678 661]\n",
      "Sensitivity\n",
      "[0.98697917 0.42857143 0.88333333 0.38461538 0.58333333]\n",
      "Specificity\n",
      "[0.99140401 0.97888386 0.87341772 0.97694524 0.98216939]\n",
      "Precision\n",
      "[0.9921466  0.68181818 0.69432314 0.48387097 0.74468085]\n",
      "[0.98575499 0.94194485 0.95833333 0.96581197 0.96355685]\n",
      "[0.00859599 0.02111614 0.12658228 0.02305476 0.01783061]\n",
      "[0.01302083 0.57142857 0.11666667 0.61538462 0.41666667]\n",
      "[0.0078534  0.31818182 0.30567686 0.51612903 0.25531915]\n",
      "Acc\n",
      "[0.98908595 0.92633015 0.87585266 0.94542974 0.94952251]\n",
      "Sensitivity mean\n",
      "0.6533665293040294\n",
      "Specificity mean\n",
      "0.9605640459922796\n",
      "Precision mean\n",
      "0.7193679483174779\n"
     ]
    }
   ],
   "source": [
    "FP = cf.sum(axis=0) - np.diag(cf)  \n",
    "FN = cf.sum(axis=1) - np.diag(cf)\n",
    "TP = np.diag(cf)\n",
    "TN = cf.sum() - (FP + FN + TP)\n",
    "\n",
    "# Sensitivity, hit rate, recall, or true positive rate\n",
    "TPR = TP/(TP+FN)\n",
    "# Specificity or true negative rate\n",
    "TNR = TN/(TN+FP) \n",
    "# Precision or positive predictive value\n",
    "PPV = TP/(TP+FP)\n",
    "# Negative predictive value\n",
    "NPV = TN/(TN+FN)\n",
    "# Fall out or false positive rate\n",
    "FPR = FP/(FP+TN)\n",
    "# False negative rate\n",
    "FNR = FN/(TP+FN)\n",
    "# False discovery rate\n",
    "FDR = FP/(TP+FP)\n",
    "\n",
    "# Overall accuracy\n",
    "ACC = (TP+TN)/(TP+FP+FN+TN)\n",
    "\n",
    "print('FP')\n",
    "print(FP)\n",
    "print('FN')\n",
    "print(FN)\n",
    "print('TP')\n",
    "print(TP)\n",
    "print('TN')\n",
    "print(TN)\n",
    "print('Sensitivity')\n",
    "print(TPR)\n",
    "print('Specificity')\n",
    "print(TNR)\n",
    "print('Precision')\n",
    "print(PPV)\n",
    "print(NPV)\n",
    "print(FPR)\n",
    "print(FNR)\n",
    "print(FDR)\n",
    "print('Acc')\n",
    "print(ACC)\n",
    "\n",
    "print('Sensitivity mean')\n",
    "print(np.mean(TPR))\n",
    "print('Specificity mean')\n",
    "print(np.mean(TNR))\n",
    "print('Precision mean')\n",
    "print(np.mean(PPV))\n"
   ]
  },
  {
   "cell_type": "code",
   "execution_count": 134,
   "metadata": {
    "colab": {
     "base_uri": "https://localhost:8080/"
    },
    "executionInfo": {
     "elapsed": 1215,
     "status": "ok",
     "timestamp": 1604623494575,
     "user": {
      "displayName": "Jorge Diego Garcia Torres",
      "photoUrl": "https://lh3.googleusercontent.com/a-/AOh14GgUm411NCPxL0CyuKgBlBhJ9SxhXr8inmS25Nfq=s64",
      "userId": "03990517325461913005"
     },
     "user_tz": 360
    },
    "id": "5Iz80vecz1S8",
    "outputId": "22b2c6e0-4eb4-4408-8cbb-0c367b9dd962"
   },
   "outputs": [
    {
     "name": "stdout",
     "output_type": "stream",
     "text": [
      "Test Cohen Kappa score: 0.923\n",
      "Test Accuracy score : 0.843\n",
      "F1 score: 0.843\n",
      "F1 score: 0.850\n",
      "F1 score: 0.675\n",
      "Recall: 0.843\n",
      "Recall: 0.843\n",
      "Recall: 0.653\n",
      "Precision: 0.843\n",
      "Precision: 0.870\n",
      "Precision: 0.719\n",
      "\n",
      " clasification report:\n",
      "                precision    recall  f1-score   support\n",
      "\n",
      "           0       0.99      0.99      0.99       382\n",
      "           1       0.43      0.68      0.53        44\n",
      "           2       0.88      0.69      0.78       229\n",
      "           3       0.38      0.48      0.43        31\n",
      "           4       0.58      0.74      0.65        47\n",
      "\n",
      "    accuracy                           0.84       733\n",
      "   macro avg       0.65      0.72      0.68       733\n",
      "weighted avg       0.87      0.84      0.85       733\n",
      "\n"
     ]
    }
   ],
   "source": [
    "print(\"Test Cohen Kappa score: %.3f\" % cohen_kappa_score(ttapreds1, y_test2tta, weights='quadratic'))\n",
    "print(\"Test Accuracy score : %.3f\" % accuracy_score(ttapreds1, y_test2tta))\n",
    "\n",
    "print('F1 score: %.3f' % f1_score(ttapreds1, y_test2tta,average='micro'))\n",
    "print('F1 score: %.3f' % f1_score(ttapreds1, y_test2tta,average='weighted'))\n",
    "print('F1 score: %.3f' % f1_score(y_test2tta,ttapreds1,average='macro'))\n",
    "\n",
    "print('Recall: %.3f' % recall_score(ttapreds1, y_test2tta,average='micro'))\n",
    "print('Recall: %.3f' % recall_score(ttapreds1, y_test2tta,average='weighted'))\n",
    "print('Recall: %.3f' % recall_score(y_test2tta,ttapreds1,average='macro'))\n",
    "\n",
    "print('Precision: %.3f' % precision_score(ttapreds1, y_test2tta,average='micro'))\n",
    "print('Precision: %.3f' % precision_score(ttapreds1, y_test2tta,average='weighted'))\n",
    "print('Precision: %.3f' % precision_score(y_test2tta,ttapreds1,average='macro'))\n",
    "\n",
    "print('\\n clasification report:\\n  ' + classification_report(ttapreds1, y_test2tta))"
   ]
  },
  {
   "cell_type": "code",
   "execution_count": null,
   "metadata": {
    "colab": {
     "base_uri": "https://localhost:8080/",
     "height": 484
    },
    "executionInfo": {
     "elapsed": 1070,
     "status": "ok",
     "timestamp": 1604016600597,
     "user": {
      "displayName": "Jorge Diego Garcia Torres",
      "photoUrl": "https://lh3.googleusercontent.com/a-/AOh14GgUm411NCPxL0CyuKgBlBhJ9SxhXr8inmS25Nfq=s64",
      "userId": "03990517325461913005"
     },
     "user_tz": 360
    },
    "id": "PFnTD2Ve1qbS",
    "outputId": "f063be43-eb94-408a-d61e-874097b7c876"
   },
   "outputs": [
    {
     "data": {
      "image/png": "[encoded data removed]",
      "text/plain": [
       "<Figure size 576x396 with 2 Axes>"
      ]
     },
     "metadata": {
      "tags": []
     },
     "output_type": "display_data"
    }
   ],
   "source": [
    "labels = ['0 - No DR', '1 - Leve', '2 - Moderada', '3 - Severa', '4 - Proliferativa DR']\n",
    "plot_conf_matrix(ttapreds1, y_test2tta,labels)"
   ]
  },
  {
   "cell_type": "code",
   "execution_count": 135,
   "metadata": {
    "colab": {
     "base_uri": "https://localhost:8080/",
     "height": 365
    },
    "executionInfo": {
     "elapsed": 2456,
     "status": "ok",
     "timestamp": 1604623555204,
     "user": {
      "displayName": "Jorge Diego Garcia Torres",
      "photoUrl": "https://lh3.googleusercontent.com/a-/AOh14GgUm411NCPxL0CyuKgBlBhJ9SxhXr8inmS25Nfq=s64",
      "userId": "03990517325461913005"
     },
     "user_tz": 360
    },
    "id": "s4ceoiuq2dh4",
    "outputId": "b3a436e9-2d5c-4ec4-eaae-e9b31764e42b"
   },
   "outputs": [
    {
     "data": {
      "image/png": "[encoded data removed]",
      "text/plain": [
       "<Figure size 1152x504 with 2 Axes>"
      ]
     },
     "metadata": {
      "tags": []
     },
     "output_type": "display_data"
    }
   ],
   "source": [
    "cnf_matrix = confusion_matrix(ttapreds1, y_test2tta)\n",
    "cnf_matrix_norm = cnf_matrix.astype('float') / cnf_matrix.sum(axis=1)[:, np.newaxis]\n",
    "df_cm = pd.DataFrame(cnf_matrix_norm, index=labels, columns=labels)\n",
    "plt.figure(figsize=(16, 7))\n",
    "sns.heatmap(df_cm, annot=True, fmt='.2f', cmap=\"Blues\")\n",
    "plt.show()"
   ]
  },
  {
   "cell_type": "markdown",
   "metadata": {
    "id": "QWGOCSfeGrnC"
   },
   "source": [
    "# TTA y trimedian"
   ]
  },
  {
   "cell_type": "code",
   "execution_count": 136,
   "metadata": {
    "colab": {
     "base_uri": "https://localhost:8080/"
    },
    "executionInfo": {
     "elapsed": 55900,
     "status": "ok",
     "timestamp": 1604623618553,
     "user": {
      "displayName": "Jorge Diego Garcia Torres",
      "photoUrl": "https://lh3.googleusercontent.com/a-/AOh14GgUm411NCPxL0CyuKgBlBhJ9SxhXr8inmS25Nfq=s64",
      "userId": "03990517325461913005"
     },
     "user_tz": 360
    },
    "id": "NdQqodqkHCyS",
    "outputId": "0d58c62b-43f5-4428-e587-306960ec85ff"
   },
   "outputs": [
    {
     "name": "stdout",
     "output_type": "stream",
     "text": [
      " 2/23 [=>............................] - ETA: 0sWARNING:tensorflow:Callbacks method `on_predict_batch_end` is slow compared to the batch time (batch time: 0.0256s vs `on_predict_batch_end` time: 0.0478s). Check your callbacks.\n",
      "23/23 [==============================] - 2s 68ms/step\n",
      " 2/23 [=>............................] - ETA: 0sWARNING:tensorflow:Callbacks method `on_predict_batch_end` is slow compared to the batch time (batch time: 0.0204s vs `on_predict_batch_end` time: 0.0489s). Check your callbacks.\n",
      "23/23 [==============================] - 2s 68ms/step\n",
      " 2/23 [=>............................] - ETA: 0sWARNING:tensorflow:Callbacks method `on_predict_batch_end` is slow compared to the batch time (batch time: 0.0240s vs `on_predict_batch_end` time: 0.0453s). Check your callbacks.\n",
      "23/23 [==============================] - 2s 68ms/step\n",
      " 2/23 [=>............................] - ETA: 0sWARNING:tensorflow:Callbacks method `on_predict_batch_end` is slow compared to the batch time (batch time: 0.0203s vs `on_predict_batch_end` time: 0.0490s). Check your callbacks.\n",
      "23/23 [==============================] - 2s 68ms/step\n",
      " 2/23 [=>............................] - ETA: 0sWARNING:tensorflow:Callbacks method `on_predict_batch_end` is slow compared to the batch time (batch time: 0.0226s vs `on_predict_batch_end` time: 0.0465s). Check your callbacks.\n",
      "23/23 [==============================] - 2s 68ms/step\n",
      " 2/23 [=>............................] - ETA: 0sWARNING:tensorflow:Callbacks method `on_predict_batch_end` is slow compared to the batch time (batch time: 0.0209s vs `on_predict_batch_end` time: 0.0485s). Check your callbacks.\n",
      "23/23 [==============================] - 2s 68ms/step\n",
      " 2/23 [=>............................] - ETA: 0sWARNING:tensorflow:Callbacks method `on_predict_batch_end` is slow compared to the batch time (batch time: 0.0204s vs `on_predict_batch_end` time: 0.0487s). Check your callbacks.\n",
      "23/23 [==============================] - 2s 68ms/step\n",
      " 2/23 [=>............................] - ETA: 0sWARNING:tensorflow:Callbacks method `on_predict_batch_end` is slow compared to the batch time (batch time: 0.0202s vs `on_predict_batch_end` time: 0.0488s). Check your callbacks.\n",
      "23/23 [==============================] - 2s 68ms/step\n",
      " 2/23 [=>............................] - ETA: 0sWARNING:tensorflow:Callbacks method `on_predict_batch_end` is slow compared to the batch time (batch time: 0.0206s vs `on_predict_batch_end` time: 0.0486s). Check your callbacks.\n",
      "23/23 [==============================] - 2s 68ms/step\n",
      " 2/23 [=>............................] - ETA: 0sWARNING:tensorflow:Callbacks method `on_predict_batch_end` is slow compared to the batch time (batch time: 0.0207s vs `on_predict_batch_end` time: 0.0487s). Check your callbacks.\n",
      "23/23 [==============================] - 2s 68ms/step\n",
      " 2/23 [=>............................] - ETA: 0sWARNING:tensorflow:Callbacks method `on_predict_batch_end` is slow compared to the batch time (batch time: 0.0205s vs `on_predict_batch_end` time: 0.0484s). Check your callbacks.\n",
      "23/23 [==============================] - 2s 68ms/step\n",
      " 2/23 [=>............................] - ETA: 0sWARNING:tensorflow:Callbacks method `on_predict_batch_end` is slow compared to the batch time (batch time: 0.0259s vs `on_predict_batch_end` time: 0.0440s). Check your callbacks.\n",
      "23/23 [==============================] - 2s 68ms/step\n",
      " 2/23 [=>............................] - ETA: 0sWARNING:tensorflow:Callbacks method `on_predict_batch_end` is slow compared to the batch time (batch time: 0.0201s vs `on_predict_batch_end` time: 0.0488s). Check your callbacks.\n",
      "23/23 [==============================] - 2s 68ms/step\n",
      " 2/23 [=>............................] - ETA: 0sWARNING:tensorflow:Callbacks method `on_predict_batch_end` is slow compared to the batch time (batch time: 0.0206s vs `on_predict_batch_end` time: 0.0488s). Check your callbacks.\n",
      "23/23 [==============================] - 2s 68ms/step\n",
      " 2/23 [=>............................] - ETA: 0sWARNING:tensorflow:Callbacks method `on_predict_batch_end` is slow compared to the batch time (batch time: 0.0206s vs `on_predict_batch_end` time: 0.0487s). Check your callbacks.\n",
      "23/23 [==============================] - 2s 68ms/step\n",
      " 2/23 [=>............................] - ETA: 0sWARNING:tensorflow:Callbacks method `on_predict_batch_end` is slow compared to the batch time (batch time: 0.0200s vs `on_predict_batch_end` time: 0.0489s). Check your callbacks.\n",
      "23/23 [==============================] - 2s 67ms/step\n",
      " 2/23 [=>............................] - ETA: 0sWARNING:tensorflow:Callbacks method `on_predict_batch_end` is slow compared to the batch time (batch time: 0.0187s vs `on_predict_batch_end` time: 0.0489s). Check your callbacks.\n",
      "23/23 [==============================] - 2s 67ms/step\n",
      " 2/23 [=>............................] - ETA: 0sWARNING:tensorflow:Callbacks method `on_predict_batch_end` is slow compared to the batch time (batch time: 0.0214s vs `on_predict_batch_end` time: 0.0479s). Check your callbacks.\n",
      "23/23 [==============================] - 2s 68ms/step\n",
      " 2/23 [=>............................] - ETA: 0sWARNING:tensorflow:Callbacks method `on_predict_batch_end` is slow compared to the batch time (batch time: 0.0205s vs `on_predict_batch_end` time: 0.0489s). Check your callbacks.\n",
      "23/23 [==============================] - 2s 68ms/step\n",
      " 2/23 [=>............................] - ETA: 0sWARNING:tensorflow:Callbacks method `on_predict_batch_end` is slow compared to the batch time (batch time: 0.0223s vs `on_predict_batch_end` time: 0.0484s). Check your callbacks.\n",
      "23/23 [==============================] - 2s 68ms/step\n",
      " 2/23 [=>............................] - ETA: 0sWARNING:tensorflow:Callbacks method `on_predict_batch_end` is slow compared to the batch time (batch time: 0.0200s vs `on_predict_batch_end` time: 0.0487s). Check your callbacks.\n",
      "23/23 [==============================] - 2s 68ms/step\n",
      " 2/23 [=>............................] - ETA: 0sWARNING:tensorflow:Callbacks method `on_predict_batch_end` is slow compared to the batch time (batch time: 0.0205s vs `on_predict_batch_end` time: 0.0487s). Check your callbacks.\n",
      "23/23 [==============================] - 2s 68ms/step\n",
      " 2/23 [=>............................] - ETA: 0sWARNING:tensorflow:Callbacks method `on_predict_batch_end` is slow compared to the batch time (batch time: 0.0210s vs `on_predict_batch_end` time: 0.0486s). Check your callbacks.\n",
      "23/23 [==============================] - 2s 68ms/step\n",
      " 2/23 [=>............................] - ETA: 0sWARNING:tensorflow:Callbacks method `on_predict_batch_end` is slow compared to the batch time (batch time: 0.0205s vs `on_predict_batch_end` time: 0.0489s). Check your callbacks.\n",
      "23/23 [==============================] - 2s 68ms/step\n",
      " 2/23 [=>............................] - ETA: 0sWARNING:tensorflow:Callbacks method `on_predict_batch_end` is slow compared to the batch time (batch time: 0.0198s vs `on_predict_batch_end` time: 0.0485s). Check your callbacks.\n",
      "23/23 [==============================] - 2s 67ms/step\n",
      " 2/23 [=>............................] - ETA: 0sWARNING:tensorflow:Callbacks method `on_predict_batch_end` is slow compared to the batch time (batch time: 0.0190s vs `on_predict_batch_end` time: 0.0488s). Check your callbacks.\n",
      "23/23 [==============================] - 2s 67ms/step\n",
      " 2/23 [=>............................] - ETA: 0sWARNING:tensorflow:Callbacks method `on_predict_batch_end` is slow compared to the batch time (batch time: 0.0254s vs `on_predict_batch_end` time: 0.0441s). Check your callbacks.\n",
      "23/23 [==============================] - 2s 67ms/step\n",
      " 2/23 [=>............................] - ETA: 0sWARNING:tensorflow:Callbacks method `on_predict_batch_end` is slow compared to the batch time (batch time: 0.0201s vs `on_predict_batch_end` time: 0.0481s). Check your callbacks.\n",
      "23/23 [==============================] - 2s 67ms/step\n",
      " 2/23 [=>............................] - ETA: 0sWARNING:tensorflow:Callbacks method `on_predict_batch_end` is slow compared to the batch time (batch time: 0.0195s vs `on_predict_batch_end` time: 0.0490s). Check your callbacks.\n",
      "23/23 [==============================] - 2s 67ms/step\n",
      " 2/23 [=>............................] - ETA: 0sWARNING:tensorflow:Callbacks method `on_predict_batch_end` is slow compared to the batch time (batch time: 0.0209s vs `on_predict_batch_end` time: 0.0476s). Check your callbacks.\n",
      "23/23 [==============================] - 2s 67ms/step\n"
     ]
    }
   ],
   "source": [
    "preds_ensemble = []\n",
    "\n",
    "\n",
    "for i in range(len(model_list)):\n",
    "  preds_tta = []\n",
    "\n",
    "  test_preds_model = model_list[i].predict(x_tdata, verbose = 1)\n",
    "  preds_tta.append(test_preds_model)\n",
    "\n",
    "  test_preds_model = model_list[i].predict(x_tdata1, verbose = 1)\n",
    "  preds_tta.append(test_preds_model)\n",
    "\n",
    "  test_preds_model = model_list[i].predict(x_tdata2, verbose = 1)\n",
    "  preds_tta.append(test_preds_model)\n",
    "\n",
    "  test_preds_model = model_list[i].predict(x_tdata3, verbose = 1)\n",
    "  preds_tta.append(test_preds_model)\n",
    "\n",
    "  test_preds_model = model_list[i].predict(x_tdata4, verbose = 1)\n",
    "  preds_tta.append(test_preds_model)\n",
    "\n",
    "  test_preds_model = model_list[i].predict(x_tdata5, verbose = 1)\n",
    "  preds_tta.append(test_preds_model)\n",
    "\n",
    "  test_model = stats.trim_mean(preds_tta,0.25, axis=0)\n",
    "  preds_ensemble.append(test_model)\n",
    "\n",
    "preds1_ensemble = stats.trim_mean(preds_ensemble,0.25, axis=0)\n"
   ]
  },
  {
   "cell_type": "code",
   "execution_count": 137,
   "metadata": {
    "executionInfo": {
     "elapsed": 1651,
     "status": "ok",
     "timestamp": 1604623636558,
     "user": {
      "displayName": "Jorge Diego Garcia Torres",
      "photoUrl": "https://lh3.googleusercontent.com/a-/AOh14GgUm411NCPxL0CyuKgBlBhJ9SxhXr8inmS25Nfq=s64",
      "userId": "03990517325461913005"
     },
     "user_tz": 360
    },
    "id": "BlPyjkEYLXzl"
   },
   "outputs": [],
   "source": [
    "preds1_ensemble1 = [np.argmax(pred) for pred in preds1_ensemble]"
   ]
  },
  {
   "cell_type": "code",
   "execution_count": 139,
   "metadata": {
    "colab": {
     "base_uri": "https://localhost:8080/"
    },
    "executionInfo": {
     "elapsed": 817,
     "status": "ok",
     "timestamp": 1604623720987,
     "user": {
      "displayName": "Jorge Diego Garcia Torres",
      "photoUrl": "https://lh3.googleusercontent.com/a-/AOh14GgUm411NCPxL0CyuKgBlBhJ9SxhXr8inmS25Nfq=s64",
      "userId": "03990517325461913005"
     },
     "user_tz": 360
    },
    "id": "jyzGfeoTMuFm",
    "outputId": "301d8357-8229-4248-b58d-5cd516483369"
   },
   "outputs": [
    {
     "name": "stdout",
     "output_type": "stream",
     "text": [
      "Test Cohen Kappa score: 0.922\n",
      "Test Accuracy score : 0.843\n",
      "F1 score: 0.843\n",
      "F1 score: 0.851\n",
      "F1 score: 0.669\n",
      "Recall: 0.843\n",
      "Recall: 0.843\n",
      "Recall: 0.647\n",
      "Precision: 0.843\n",
      "Precision: 0.873\n",
      "Precision: 0.716\n",
      "\n",
      " clasification report:\n",
      "                precision    recall  f1-score   support\n",
      "\n",
      "           0       0.99      0.99      0.99       383\n",
      "           1       0.43      0.71      0.54        42\n",
      "           2       0.89      0.70      0.79       230\n",
      "           3       0.36      0.47      0.41        30\n",
      "           4       0.57      0.71      0.63        48\n",
      "\n",
      "    accuracy                           0.84       733\n",
      "   macro avg       0.65      0.72      0.67       733\n",
      "weighted avg       0.87      0.84      0.85       733\n",
      "\n"
     ]
    }
   ],
   "source": [
    "print(\"Test Cohen Kappa score: %.3f\" % cohen_kappa_score(preds1_ensemble1, y_test2tta, weights='quadratic'))\n",
    "print(\"Test Accuracy score : %.3f\" % accuracy_score(preds1_ensemble1, y_test2tta))\n",
    "\n",
    "print('F1 score: %.3f' % f1_score(preds1_ensemble1, y_test2tta,average='micro'))\n",
    "print('F1 score: %.3f' % f1_score(preds1_ensemble1, y_test2tta,average='weighted'))\n",
    "print('F1 score: %.3f' % f1_score( y_test2tta,preds1_ensemble1,average='macro'))\n",
    "\n",
    "print('Recall: %.3f' % recall_score(preds1_ensemble1, y_test2tta,average='micro'))\n",
    "print('Recall: %.3f' % recall_score(y_test2tta,preds1_ensemble1,average='weighted'))\n",
    "print('Recall: %.3f' % recall_score(y_test2tta,preds1_ensemble1,average='macro'))\n",
    "\n",
    "\n",
    "print('Precision: %.3f' % precision_score(preds1_ensemble1, y_test2tta,average='micro'))\n",
    "print('Precision: %.3f' % precision_score(preds1_ensemble1, y_test2tta,average='weighted'))\n",
    "print('Precision: %.3f' % precision_score(y_test2tta, preds1_ensemble1, average='macro'))\n",
    "\n",
    "print('\\n clasification report:\\n  ' + classification_report(preds1_ensemble1, y_test2tta))"
   ]
  }
 ],
 "metadata": {
  "accelerator": "GPU",
  "colab": {
   "authorship_tag": "ABX9TyMR7/xeSrovvq5XzEV7fgaO",
   "collapsed_sections": [],
   "machine_shape": "hm",
   "name": "exp3_ensamble.ipynb",
   "provenance": [
    {
     "file_id": "1nAzgQcXasq3r3kSnHufkKrrpgxfjEwfP",
     "timestamp": 1603987286286
    },
    {
     "file_id": "1My-VkpVWMCoQgcE2mT49F6xcIOQ1hWwP",
     "timestamp": 1602699042312
    },
    {
     "file_id": "1SWAmiXNdEI0d0olnnQpmsxmO5oQEFM07",
     "timestamp": 1602694501776
    },
    {
     "file_id": "1qrm490RUFjRQz5ePNOx3x_SN_IZxQX7N",
     "timestamp": 1602691237554
    },
    {
     "file_id": "16oQtNa0kcqNK6UfPhZQKUDUC5PgWLPo6",
     "timestamp": 1602653047501
    },
    {
     "file_id": "1KWSCpDXHL2pEZTr5K6pVJqubzgFiGDJv",
     "timestamp": 1602649103471
    }
   ],
   "toc_visible": true
  },
  "kernelspec": {
   "display_name": "Python 3",
   "language": "python",
   "name": "python3"
  },
  "language_info": {
   "codemirror_mode": {
    "name": "ipython",
    "version": 3
   },
   "file_extension": ".py",
   "mimetype": "text/x-python",
   "name": "python",
   "nbconvert_exporter": "python",
   "pygments_lexer": "ipython3",
   "version": "3.7.4"
  }
 },
 "nbformat": 4,
 "nbformat_minor": 1
}
