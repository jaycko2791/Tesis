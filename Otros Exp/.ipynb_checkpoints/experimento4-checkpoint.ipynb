{
 "cells": [
  {
   "cell_type": "markdown",
   "metadata": {},
   "source": [
    "### Otros\n",
    "### IPN- CIC\n",
    "### Alumno: Jorge Diego García Torres\n",
    "#### Titulo : Clasificación de los grados de retinopatía diabética en imágenes del fondo del ojo mediante algoritmos de aprendizaje profundo."
   ]
  },
  {
   "cell_type": "code",
   "execution_count": 1,
   "metadata": {
    "colab": {
     "base_uri": "https://localhost:8080/",
     "height": 54
    },
    "colab_type": "code",
    "executionInfo": {
     "elapsed": 446,
     "status": "ok",
     "timestamp": 1594089238856,
     "user": {
      "displayName": "Jorge Diego Garcia Torres",
      "photoUrl": "https://lh3.googleusercontent.com/a-/AOh14GhBF0I3KGeDuabV013Yv55J3UsmQY0xCj7MVpQZ=s64",
      "userId": "03990517325461913005"
     },
     "user_tz": 300
    },
    "id": "T_PFcihDwvaI",
    "outputId": "8c01386a-1bf6-402c-a4ef-98c5f81c2037"
   },
   "outputs": [
    {
     "name": "stdout",
     "output_type": "stream",
     "text": [
      "Drive already mounted at /content/gdrive; to attempt to forcibly remount, call drive.mount(\"/content/gdrive\", force_remount=True).\n"
     ]
    }
   ],
   "source": [
    "from google.colab import drive\n",
    "drive.mount('/content/gdrive')"
   ]
  },
  {
   "cell_type": "code",
   "execution_count": 1,
   "metadata": {
    "colab": {},
    "colab_type": "code",
    "executionInfo": {
     "elapsed": 632,
     "status": "ok",
     "timestamp": 1594090719827,
     "user": {
      "displayName": "Jorge Diego Garcia Torres",
      "photoUrl": "https://lh3.googleusercontent.com/a-/AOh14GhBF0I3KGeDuabV013Yv55J3UsmQY0xCj7MVpQZ=s64",
      "userId": "03990517325461913005"
     },
     "user_tz": 300
    },
    "id": "If1ZATIJxMTH"
   },
   "outputs": [],
   "source": [
    "%tensorflow_version 2.x"
   ]
  },
  {
   "cell_type": "code",
   "execution_count": 2,
   "metadata": {
    "colab": {
     "base_uri": "https://localhost:8080/",
     "height": 34
    },
    "colab_type": "code",
    "executionInfo": {
     "elapsed": 7910,
     "status": "ok",
     "timestamp": 1594090731072,
     "user": {
      "displayName": "Jorge Diego Garcia Torres",
      "photoUrl": "https://lh3.googleusercontent.com/a-/AOh14GhBF0I3KGeDuabV013Yv55J3UsmQY0xCj7MVpQZ=s64",
      "userId": "03990517325461913005"
     },
     "user_tz": 300
    },
    "id": "3fzWqRl_xNF6",
    "outputId": "88ccab50-541f-42e0-a525-af2f1201aa8a"
   },
   "outputs": [
    {
     "name": "stderr",
     "output_type": "stream",
     "text": [
      "Using TensorFlow backend.\n"
     ]
    }
   ],
   "source": [
    "import json\n",
    "import math\n",
    "import os\n",
    "\n",
    "import cv2\n",
    "from PIL import Image\n",
    "import numpy as np\n",
    "from keras import layers\n",
    "from keras.applications import DenseNet121\n",
    "#from keras.callbacks import Callback, ModelCheckpoint\n",
    "from keras.preprocessing.image import ImageDataGenerator\n",
    "from keras.models import Sequential\n",
    "from keras.optimizers import Adam\n",
    "import matplotlib.pyplot as plt\n",
    "import pandas as pd\n",
    "from sklearn.model_selection import train_test_split\n",
    "from sklearn.metrics import cohen_kappa_score, accuracy_score\n",
    "import scipy\n",
    "import tensorflow as tf\n",
    "from tensorflow.keras.callbacks import Callback, ModelCheckpoint\n",
    "from tqdm import tqdm\n",
    "\n",
    "%matplotlib inline"
   ]
  },
  {
   "cell_type": "code",
   "execution_count": 3,
   "metadata": {
    "colab": {},
    "colab_type": "code",
    "executionInfo": {
     "elapsed": 23682,
     "status": "ok",
     "timestamp": 1594090769421,
     "user": {
      "displayName": "Jorge Diego Garcia Torres",
      "photoUrl": "https://lh3.googleusercontent.com/a-/AOh14GhBF0I3KGeDuabV013Yv55J3UsmQY0xCj7MVpQZ=s64",
      "userId": "03990517325461913005"
     },
     "user_tz": 300
    },
    "id": "btUezCqzxQGn"
   },
   "outputs": [],
   "source": [
    "from numpy import load\n",
    "x_train = load('/content/gdrive/My Drive/APTOS1/x_train.npy')\n",
    "x_test = load('/content/gdrive/My Drive/APTOS1/x_test.npy')"
   ]
  },
  {
   "cell_type": "code",
   "execution_count": 4,
   "metadata": {
    "colab": {},
    "colab_type": "code",
    "executionInfo": {
     "elapsed": 2210,
     "status": "ok",
     "timestamp": 1594090822536,
     "user": {
      "displayName": "Jorge Diego Garcia Torres",
      "photoUrl": "https://lh3.googleusercontent.com/a-/AOh14GhBF0I3KGeDuabV013Yv55J3UsmQY0xCj7MVpQZ=s64",
      "userId": "03990517325461913005"
     },
     "user_tz": 300
    },
    "id": "I-AsgYXux5nf"
   },
   "outputs": [],
   "source": [
    "train_df = pd.read_csv('/content/gdrive/My Drive/APTOS1/train.csv')\n",
    "test_df = pd.read_csv('/content/gdrive/My Drive/APTOS1/test.csv')"
   ]
  },
  {
   "cell_type": "code",
   "execution_count": 5,
   "metadata": {
    "colab": {
     "base_uri": "https://localhost:8080/",
     "height": 204
    },
    "colab_type": "code",
    "executionInfo": {
     "elapsed": 409,
     "status": "ok",
     "timestamp": 1594090825432,
     "user": {
      "displayName": "Jorge Diego Garcia Torres",
      "photoUrl": "https://lh3.googleusercontent.com/a-/AOh14GhBF0I3KGeDuabV013Yv55J3UsmQY0xCj7MVpQZ=s64",
      "userId": "03990517325461913005"
     },
     "user_tz": 300
    },
    "id": "YnQE9mkox_Sc",
    "outputId": "42669bcb-0b93-4c2a-b3c6-a7b1c2f634af"
   },
   "outputs": [
    {
     "data": {
      "text/html": [
       "<div>\n",
       "<style scoped>\n",
       "    .dataframe tbody tr th:only-of-type {\n",
       "        vertical-align: middle;\n",
       "    }\n",
       "\n",
       "    .dataframe tbody tr th {\n",
       "        vertical-align: top;\n",
       "    }\n",
       "\n",
       "    .dataframe thead th {\n",
       "        text-align: right;\n",
       "    }\n",
       "</style>\n",
       "<table border=\"1\" class=\"dataframe\">\n",
       "  <thead>\n",
       "    <tr style=\"text-align: right;\">\n",
       "      <th></th>\n",
       "      <th>id_code</th>\n",
       "      <th>diagnosis</th>\n",
       "    </tr>\n",
       "  </thead>\n",
       "  <tbody>\n",
       "    <tr>\n",
       "      <th>0</th>\n",
       "      <td>000c1434d8d7</td>\n",
       "      <td>2</td>\n",
       "    </tr>\n",
       "    <tr>\n",
       "      <th>1</th>\n",
       "      <td>001639a390f0</td>\n",
       "      <td>4</td>\n",
       "    </tr>\n",
       "    <tr>\n",
       "      <th>2</th>\n",
       "      <td>0024cdab0c1e</td>\n",
       "      <td>1</td>\n",
       "    </tr>\n",
       "    <tr>\n",
       "      <th>3</th>\n",
       "      <td>002c21358ce6</td>\n",
       "      <td>0</td>\n",
       "    </tr>\n",
       "    <tr>\n",
       "      <th>4</th>\n",
       "      <td>005b95c28852</td>\n",
       "      <td>0</td>\n",
       "    </tr>\n",
       "  </tbody>\n",
       "</table>\n",
       "</div>"
      ],
      "text/plain": [
       "        id_code  diagnosis\n",
       "0  000c1434d8d7          2\n",
       "1  001639a390f0          4\n",
       "2  0024cdab0c1e          1\n",
       "3  002c21358ce6          0\n",
       "4  005b95c28852          0"
      ]
     },
     "execution_count": 5,
     "metadata": {
      "tags": []
     },
     "output_type": "execute_result"
    }
   ],
   "source": [
    "train_df.head()"
   ]
  },
  {
   "cell_type": "code",
   "execution_count": 6,
   "metadata": {
    "colab": {},
    "colab_type": "code",
    "executionInfo": {
     "elapsed": 409,
     "status": "ok",
     "timestamp": 1594090828674,
     "user": {
      "displayName": "Jorge Diego Garcia Torres",
      "photoUrl": "https://lh3.googleusercontent.com/a-/AOh14GhBF0I3KGeDuabV013Yv55J3UsmQY0xCj7MVpQZ=s64",
      "userId": "03990517325461913005"
     },
     "user_tz": 300
    },
    "id": "zUcp5pTsx6yw"
   },
   "outputs": [],
   "source": [
    "y_train =train_df['diagnosis'].values"
   ]
  },
  {
   "cell_type": "code",
   "execution_count": 7,
   "metadata": {
    "colab": {
     "base_uri": "https://localhost:8080/",
     "height": 34
    },
    "colab_type": "code",
    "executionInfo": {
     "elapsed": 865,
     "status": "ok",
     "timestamp": 1594090830995,
     "user": {
      "displayName": "Jorge Diego Garcia Torres",
      "photoUrl": "https://lh3.googleusercontent.com/a-/AOh14GhBF0I3KGeDuabV013Yv55J3UsmQY0xCj7MVpQZ=s64",
      "userId": "03990517325461913005"
     },
     "user_tz": 300
    },
    "id": "Cd2gMsc-yRfK",
    "outputId": "2522ca09-2008-4e2d-e99d-333b836742d6"
   },
   "outputs": [
    {
     "data": {
      "text/plain": [
       "(3662,)"
      ]
     },
     "execution_count": 7,
     "metadata": {
      "tags": []
     },
     "output_type": "execute_result"
    }
   ],
   "source": [
    "y_train.shape"
   ]
  },
  {
   "cell_type": "code",
   "execution_count": 8,
   "metadata": {
    "colab": {},
    "colab_type": "code",
    "executionInfo": {
     "elapsed": 329,
     "status": "ok",
     "timestamp": 1594090833733,
     "user": {
      "displayName": "Jorge Diego Garcia Torres",
      "photoUrl": "https://lh3.googleusercontent.com/a-/AOh14GhBF0I3KGeDuabV013Yv55J3UsmQY0xCj7MVpQZ=s64",
      "userId": "03990517325461913005"
     },
     "user_tz": 300
    },
    "id": "a4hDwOdaDmSL"
   },
   "outputs": [],
   "source": [
    "def crop_image_from_gray(img, tol=7):\n",
    "    \"\"\"\n",
    "    Applies masks to the orignal image and \n",
    "    returns the a preprocessed image with \n",
    "    3 channels\n",
    "    \n",
    "    :param img: A NumPy Array that will be cropped\n",
    "    :param tol: The tolerance used for masking\n",
    "    \n",
    "    :return: A NumPy array containing the cropped image\n",
    "    \"\"\"\n",
    "    # If for some reason we only have two channels\n",
    "    if img.ndim == 2:\n",
    "        mask = img > tol\n",
    "        return img[np.ix_(mask.any(1),mask.any(0))]\n",
    "    # If we have a normal RGB images\n",
    "    elif img.ndim == 3:\n",
    "        gray_img = cv2.cvtColor(img, cv2.COLOR_RGB2GRAY)\n",
    "        mask = gray_img > tol\n",
    "        \n",
    "        check_shape = img[:,:,0][np.ix_(mask.any(1),mask.any(0))].shape[0]\n",
    "        if (check_shape == 0): # image is too dark so that we crop out everything,\n",
    "            return img # return original image\n",
    "        else:\n",
    "            img1=img[:,:,0][np.ix_(mask.any(1),mask.any(0))]\n",
    "            img2=img[:,:,1][np.ix_(mask.any(1),mask.any(0))]\n",
    "            img3=img[:,:,2][np.ix_(mask.any(1),mask.any(0))]\n",
    "            img = np.stack([img1,img2,img3],axis=-1)\n",
    "        return img"
   ]
  },
  {
   "cell_type": "code",
   "execution_count": 9,
   "metadata": {
    "colab": {},
    "colab_type": "code",
    "executionInfo": {
     "elapsed": 424,
     "status": "ok",
     "timestamp": 1594090836208,
     "user": {
      "displayName": "Jorge Diego Garcia Torres",
      "photoUrl": "https://lh3.googleusercontent.com/a-/AOh14GhBF0I3KGeDuabV013Yv55J3UsmQY0xCj7MVpQZ=s64",
      "userId": "03990517325461913005"
     },
     "user_tz": 300
    },
    "id": "BSdcl_82CeUi"
   },
   "outputs": [],
   "source": [
    "def preprocess_image(image, sigmaX=10):\n",
    "    \"\"\"\n",
    "    The whole preprocessing pipeline:\n",
    "    1. Read in image\n",
    "    2. Apply masks\n",
    "    3. Resize image to desired size\n",
    "    4. Add Gaussian noise to increase Robustness\n",
    "    \n",
    "    :param img: A NumPy Array that will be cropped\n",
    "    :param sigmaX: Value used for add GaussianBlur to the image\n",
    "    \n",
    "    :return: A NumPy array containing the preprocessed image\n",
    "    \"\"\"\n",
    "    image = cv2.cvtColor(image, cv2.COLOR_BGR2RGB)\n",
    "    image = crop_image_from_gray(image)\n",
    "    image = cv2.resize(image, (224, 224))\n",
    "    image = cv2.addWeighted (image,4, cv2.GaussianBlur(image, (0,0) ,sigmaX), -4, 128)\n",
    "    return image"
   ]
  },
  {
   "cell_type": "code",
   "execution_count": 12,
   "metadata": {
    "colab": {},
    "colab_type": "code",
    "executionInfo": {
     "elapsed": 815,
     "status": "ok",
     "timestamp": 1594090849690,
     "user": {
      "displayName": "Jorge Diego Garcia Torres",
      "photoUrl": "https://lh3.googleusercontent.com/a-/AOh14GhBF0I3KGeDuabV013Yv55J3UsmQY0xCj7MVpQZ=s64",
      "userId": "03990517325461913005"
     },
     "user_tz": 300
    },
    "id": "BPnX5PPTCyb4"
   },
   "outputs": [],
   "source": [
    "BATCH_SIZE = 64\n",
    "\n",
    "\n",
    "train_datagen = ImageDataGenerator(\n",
    "                                   horizontal_flip=True,\n",
    "                                   vertical_flip=True,\n",
    "                                   preprocessing_function= preprocess_image, \n",
    "                                   rescale=1 / 255.)\n",
    "\n",
    "test_datagen = ImageDataGenerator( horizontal_flip=True,\n",
    "                                   vertical_flip=True,\n",
    "                                   preprocessing_function= preprocess_image, \n",
    "                                   rescale=1 / 255.)\n",
    "\n",
    "tdata_generator = train_datagen.flow(x_train, y_train, batch_size=BATCH_SIZE, seed=2020)\n",
    "vdata_generator = test_datagen.flow(x_val, y_val, batch_size=BATCH_SIZE, seed=2020)"
   ]
  },
  {
   "cell_type": "code",
   "execution_count": 13,
   "metadata": {
    "colab": {},
    "colab_type": "code",
    "executionInfo": {
     "elapsed": 316,
     "status": "ok",
     "timestamp": 1594090862557,
     "user": {
      "displayName": "Jorge Diego Garcia Torres",
      "photoUrl": "https://lh3.googleusercontent.com/a-/AOh14GhBF0I3KGeDuabV013Yv55J3UsmQY0xCj7MVpQZ=s64",
      "userId": "03990517325461913005"
     },
     "user_tz": 300
    },
    "id": "NlwqkmS9yZra"
   },
   "outputs": [],
   "source": [
    "from tensorflow import keras\n",
    "from tensorflow.keras.layers import Dense, Dropout, Flatten, Conv2D, MaxPooling2D, BatchNormalization, Activation"
   ]
  },
  {
   "cell_type": "code",
   "execution_count": 20,
   "metadata": {
    "colab": {
     "base_uri": "https://localhost:8080/",
     "height": 1000
    },
    "colab_type": "code",
    "executionInfo": {
     "elapsed": 390,
     "status": "ok",
     "timestamp": 1594091003671,
     "user": {
      "displayName": "Jorge Diego Garcia Torres",
      "photoUrl": "https://lh3.googleusercontent.com/a-/AOh14GhBF0I3KGeDuabV013Yv55J3UsmQY0xCj7MVpQZ=s64",
      "userId": "03990517325461913005"
     },
     "user_tz": 300
    },
    "id": "37O_8LQ4yadF",
    "outputId": "aad1c9e3-43df-4f97-bd82-937c7c397150"
   },
   "outputs": [
    {
     "name": "stdout",
     "output_type": "stream",
     "text": [
      "Model: \"sequential_2\"\n",
      "_________________________________________________________________\n",
      "Layer (type)                 Output Shape              Param #   \n",
      "=================================================================\n",
      "conv2d_10 (Conv2D)           (None, 224, 224, 32)      896       \n",
      "_________________________________________________________________\n",
      "activation_14 (Activation)   (None, 224, 224, 32)      0         \n",
      "_________________________________________________________________\n",
      "max_pooling2d_10 (MaxPooling (None, 112, 112, 32)      0         \n",
      "_________________________________________________________________\n",
      "conv2d_11 (Conv2D)           (None, 112, 112, 64)      18496     \n",
      "_________________________________________________________________\n",
      "activation_15 (Activation)   (None, 112, 112, 64)      0         \n",
      "_________________________________________________________________\n",
      "max_pooling2d_11 (MaxPooling (None, 56, 56, 64)        0         \n",
      "_________________________________________________________________\n",
      "conv2d_12 (Conv2D)           (None, 56, 56, 128)       73856     \n",
      "_________________________________________________________________\n",
      "activation_16 (Activation)   (None, 56, 56, 128)       0         \n",
      "_________________________________________________________________\n",
      "max_pooling2d_12 (MaxPooling (None, 28, 28, 128)       0         \n",
      "_________________________________________________________________\n",
      "conv2d_13 (Conv2D)           (None, 28, 28, 256)       295168    \n",
      "_________________________________________________________________\n",
      "activation_17 (Activation)   (None, 28, 28, 256)       0         \n",
      "_________________________________________________________________\n",
      "max_pooling2d_13 (MaxPooling (None, 14, 14, 256)       0         \n",
      "_________________________________________________________________\n",
      "conv2d_14 (Conv2D)           (None, 14, 14, 512)       1180160   \n",
      "_________________________________________________________________\n",
      "activation_18 (Activation)   (None, 14, 14, 512)       0         \n",
      "_________________________________________________________________\n",
      "max_pooling2d_14 (MaxPooling (None, 7, 7, 512)         0         \n",
      "_________________________________________________________________\n",
      "flatten_4 (Flatten)          (None, 25088)             0         \n",
      "_________________________________________________________________\n",
      "dense_8 (Dense)              (None, 2024)              50780136  \n",
      "_________________________________________________________________\n",
      "activation_19 (Activation)   (None, 2024)              0         \n",
      "_________________________________________________________________\n",
      "dropout_4 (Dropout)          (None, 2024)              0         \n",
      "_________________________________________________________________\n",
      "flatten_5 (Flatten)          (None, 2024)              0         \n",
      "_________________________________________________________________\n",
      "dense_9 (Dense)              (None, 512)               1036800   \n",
      "_________________________________________________________________\n",
      "activation_20 (Activation)   (None, 512)               0         \n",
      "_________________________________________________________________\n",
      "dropout_5 (Dropout)          (None, 512)               0         \n",
      "_________________________________________________________________\n",
      "dense_10 (Dense)             (None, 50)                25650     \n",
      "_________________________________________________________________\n",
      "dense_11 (Dense)             (None, 1)                 51        \n",
      "=================================================================\n",
      "Total params: 53,411,213\n",
      "Trainable params: 53,411,213\n",
      "Non-trainable params: 0\n",
      "_________________________________________________________________\n"
     ]
    }
   ],
   "source": [
    "model1 = tf.keras.Sequential()\n",
    "\n",
    "model1.add(Conv2D(32, (3, 3), padding='same', input_shape=(224,224,3)))\n",
    "model1.add(Activation('relu'))\n",
    "model1.add(MaxPooling2D(pool_size=(2, 2)))\n",
    "\n",
    "model1.add(Conv2D(64, (3, 3), padding='same'))\n",
    "model1.add(Activation('relu'))\n",
    "model1.add(MaxPooling2D(pool_size=(2, 2)))\n",
    "\n",
    "model1.add(Conv2D(128, (3, 3), padding='same'))\n",
    "model1.add(Activation('relu'))\n",
    "model1.add(MaxPooling2D(pool_size=(2, 2)))\n",
    "\n",
    "model1.add(Conv2D(256, (3, 3), padding='same'))\n",
    "model1.add(Activation('relu'))\n",
    "model1.add(MaxPooling2D(pool_size=(2, 2)))\n",
    "\n",
    "model1.add(Conv2D(512, (3, 3), padding='same'))\n",
    "model1.add(Activation('relu'))\n",
    "model1.add(MaxPooling2D(pool_size=(2, 2)))\n",
    "\n",
    "model1.add(Flatten())\n",
    "model1.add(Dense(2024))\n",
    "model1.add(Activation('relu'))\n",
    "model1.add(Dropout(0.5))\n",
    "\n",
    "model1.add(Flatten())\n",
    "model1.add(Dense(512))\n",
    "model1.add(Activation('relu'))\n",
    "model1.add(Dropout(0.5))\n",
    "\n",
    "model1.add(Dense(50, activation='elu'))\n",
    "model1.add(Dense(1, activation='linear'))\n",
    "\n",
    "model1.summary()"
   ]
  },
  {
   "cell_type": "code",
   "execution_count": 28,
   "metadata": {
    "colab": {},
    "colab_type": "code",
    "executionInfo": {
     "elapsed": 5533,
     "status": "ok",
     "timestamp": 1594090337884,
     "user": {
      "displayName": "Jorge Diego Garcia Torres",
      "photoUrl": "https://lh3.googleusercontent.com/a-/AOh14GhBF0I3KGeDuabV013Yv55J3UsmQY0xCj7MVpQZ=s64",
      "userId": "03990517325461913005"
     },
     "user_tz": 300
    },
    "id": "zl8J8rGwGsar"
   },
   "outputs": [],
   "source": [
    "densenet = tf.keras.applications.DenseNet121(\n",
    "    weights='imagenet',\n",
    "    include_top=False,\n",
    "    input_shape=(224,224,3)\n",
    ")"
   ]
  },
  {
   "cell_type": "code",
   "execution_count": 29,
   "metadata": {
    "colab": {},
    "colab_type": "code",
    "executionInfo": {
     "elapsed": 4438,
     "status": "ok",
     "timestamp": 1594090344549,
     "user": {
      "displayName": "Jorge Diego Garcia Torres",
      "photoUrl": "https://lh3.googleusercontent.com/a-/AOh14GhBF0I3KGeDuabV013Yv55J3UsmQY0xCj7MVpQZ=s64",
      "userId": "03990517325461913005"
     },
     "user_tz": 300
    },
    "id": "jRLQq-WiGtVj"
   },
   "outputs": [],
   "source": [
    "model1 = tf.keras.Sequential()\n",
    "model1.add(densenet)\n",
    "model1.add(tf.keras.layers.GlobalAveragePooling2D())\n",
    "model1.add(tf.keras.layers.Dropout(0.5))\n",
    "\n",
    "model1.add(tf.keras.layers.Dense(512, activation='relu'))\n",
    "model1.add(tf.keras.layers.Dropout(0.5))\n",
    "\n",
    "model1.add(tf.keras.layers.Dense(256, activation='relu'))\n",
    "model1.add(tf.keras.layers.Dropout(0.5))\n",
    "\n",
    "model1.add(tf.keras.layers.Dense(5, activation='elu'))\n",
    "model1.add(tf.keras.layers.Dense(1, activation='linear'))\n"
   ]
  },
  {
   "cell_type": "code",
   "execution_count": 30,
   "metadata": {
    "colab": {
     "base_uri": "https://localhost:8080/",
     "height": 459
    },
    "colab_type": "code",
    "executionInfo": {
     "elapsed": 496,
     "status": "ok",
     "timestamp": 1594090349462,
     "user": {
      "displayName": "Jorge Diego Garcia Torres",
      "photoUrl": "https://lh3.googleusercontent.com/a-/AOh14GhBF0I3KGeDuabV013Yv55J3UsmQY0xCj7MVpQZ=s64",
      "userId": "03990517325461913005"
     },
     "user_tz": 300
    },
    "id": "05dZl0JuHe9E",
    "outputId": "50b92fe0-6a15-4f51-f789-7f23a9765fc7"
   },
   "outputs": [
    {
     "name": "stdout",
     "output_type": "stream",
     "text": [
      "Model: \"sequential_2\"\n",
      "_________________________________________________________________\n",
      "Layer (type)                 Output Shape              Param #   \n",
      "=================================================================\n",
      "densenet121 (Model)          (None, 7, 7, 1024)        7037504   \n",
      "_________________________________________________________________\n",
      "global_average_pooling2d_2 ( (None, 1024)              0         \n",
      "_________________________________________________________________\n",
      "dropout_5 (Dropout)          (None, 1024)              0         \n",
      "_________________________________________________________________\n",
      "dense_7 (Dense)              (None, 512)               524800    \n",
      "_________________________________________________________________\n",
      "dropout_6 (Dropout)          (None, 512)               0         \n",
      "_________________________________________________________________\n",
      "dense_8 (Dense)              (None, 256)               131328    \n",
      "_________________________________________________________________\n",
      "dropout_7 (Dropout)          (None, 256)               0         \n",
      "_________________________________________________________________\n",
      "dense_9 (Dense)              (None, 5)                 1285      \n",
      "_________________________________________________________________\n",
      "dense_10 (Dense)             (None, 1)                 6         \n",
      "=================================================================\n",
      "Total params: 7,694,923\n",
      "Trainable params: 7,611,275\n",
      "Non-trainable params: 83,648\n",
      "_________________________________________________________________\n"
     ]
    }
   ],
   "source": [
    "model1.summary()"
   ]
  },
  {
   "cell_type": "code",
   "execution_count": 21,
   "metadata": {
    "colab": {},
    "colab_type": "code",
    "executionInfo": {
     "elapsed": 333,
     "status": "ok",
     "timestamp": 1594091010445,
     "user": {
      "displayName": "Jorge Diego Garcia Torres",
      "photoUrl": "https://lh3.googleusercontent.com/a-/AOh14GhBF0I3KGeDuabV013Yv55J3UsmQY0xCj7MVpQZ=s64",
      "userId": "03990517325461913005"
     },
     "user_tz": 300
    },
    "id": "TczLry4-y5XY"
   },
   "outputs": [],
   "source": [
    "model1.compile(loss='mse',optimizer= tf.keras.optimizers.Adam(0.001),metrics=['mse','accuracy'])"
   ]
  },
  {
   "cell_type": "markdown",
   "metadata": {
    "colab_type": "text",
    "id": "QvB9kGxwCabR"
   },
   "source": []
  },
  {
   "cell_type": "code",
   "execution_count": 11,
   "metadata": {
    "colab": {},
    "colab_type": "code",
    "executionInfo": {
     "elapsed": 502,
     "status": "ok",
     "timestamp": 1594090844527,
     "user": {
      "displayName": "Jorge Diego Garcia Torres",
      "photoUrl": "https://lh3.googleusercontent.com/a-/AOh14GhBF0I3KGeDuabV013Yv55J3UsmQY0xCj7MVpQZ=s64",
      "userId": "03990517325461913005"
     },
     "user_tz": 300
    },
    "id": "tdvPGQJnzGUG"
   },
   "outputs": [],
   "source": [
    "x_train, x_val, y_train, y_val = train_test_split(\n",
    "    x_train, y_train, \n",
    "    test_size=0.15, \n",
    "    random_state=2020\n",
    ")"
   ]
  },
  {
   "cell_type": "code",
   "execution_count": 21,
   "metadata": {
    "colab": {},
    "colab_type": "code",
    "executionInfo": {
     "elapsed": 549,
     "status": "ok",
     "timestamp": 1594084386975,
     "user": {
      "displayName": "Jorge Diego Garcia Torres",
      "photoUrl": "https://lh3.googleusercontent.com/a-/AOh14GhBF0I3KGeDuabV013Yv55J3UsmQY0xCj7MVpQZ=s64",
      "userId": "03990517325461913005"
     },
     "user_tz": 300
    },
    "id": "8kZbGi1uz6KA"
   },
   "outputs": [],
   "source": [
    "class QWKEvaluation(Callback):\n",
    "    def __init__(self, validation_data, batch_size=32, interval=1):\n",
    "        super(Callback, self).__init__()\n",
    "\n",
    "        self.interval = interval\n",
    "        self.batch_size = batch_size\n",
    "        self.y_vals = validation_data\n",
    "        self.history = []\n",
    "\n",
    "    def on_epoch_end(self, epoch, logs={}):\n",
    "        X_val = self.y_vals[0]\n",
    "        y_val = self.y_vals[1]\n",
    "\n",
    "        if epoch % self.interval == 0:\n",
    "            y_pred = self.model.predict(X_val,verbose = 1)\n",
    "\n",
    "            y_pred = np.rint(y_pred).astype(np.uint8).clip(0, 4)\n",
    "            \n",
    "            score = cohen_kappa_score(y_val,\n",
    "                                      y_pred,\n",
    "                                      weights='quadratic')\n",
    "            print(\"\\n epoch: %d - QWK_score: %.6f \\n\" % (epoch+1, score))\n",
    "            self.history.append(score)\n",
    "            if score >= max(self.history):\n",
    "                print('saving checkpoint: ', score)\n",
    "                self.model.save('densenet_bestqwk.h5')\n",
    "\n",
    "qwk = QWKEvaluation(validation_data=(x_val, y_val),\n",
    "                    batch_size=128, interval=1)"
   ]
  },
  {
   "cell_type": "code",
   "execution_count": 16,
   "metadata": {
    "colab": {
     "base_uri": "https://localhost:8080/",
     "height": 34
    },
    "colab_type": "code",
    "executionInfo": {
     "elapsed": 362,
     "status": "ok",
     "timestamp": 1594090884993,
     "user": {
      "displayName": "Jorge Diego Garcia Torres",
      "photoUrl": "https://lh3.googleusercontent.com/a-/AOh14GhBF0I3KGeDuabV013Yv55J3UsmQY0xCj7MVpQZ=s64",
      "userId": "03990517325461913005"
     },
     "user_tz": 300
    },
    "id": "L-VhBg8zFCFo",
    "outputId": "5e667fd1-9075-4c23-baf7-6e64f408ed1c"
   },
   "outputs": [
    {
     "data": {
      "text/plain": [
       "(550, 224, 224, 3)"
      ]
     },
     "execution_count": 16,
     "metadata": {
      "tags": []
     },
     "output_type": "execute_result"
    }
   ],
   "source": [
    "x_val.shape"
   ]
  },
  {
   "cell_type": "code",
   "execution_count": 17,
   "metadata": {
    "colab": {
     "base_uri": "https://localhost:8080/",
     "height": 34
    },
    "colab_type": "code",
    "executionInfo": {
     "elapsed": 303,
     "status": "ok",
     "timestamp": 1594090886144,
     "user": {
      "displayName": "Jorge Diego Garcia Torres",
      "photoUrl": "https://lh3.googleusercontent.com/a-/AOh14GhBF0I3KGeDuabV013Yv55J3UsmQY0xCj7MVpQZ=s64",
      "userId": "03990517325461913005"
     },
     "user_tz": 300
    },
    "id": "p13amgi_FDw0",
    "outputId": "7ec743df-d653-4736-b341-72339fc43b0b"
   },
   "outputs": [
    {
     "data": {
      "text/plain": [
       "(3112, 224, 224, 3)"
      ]
     },
     "execution_count": 17,
     "metadata": {
      "tags": []
     },
     "output_type": "execute_result"
    }
   ],
   "source": [
    "x_train.shape"
   ]
  },
  {
   "cell_type": "code",
   "execution_count": 20,
   "metadata": {
    "colab": {},
    "colab_type": "code",
    "executionInfo": {
     "elapsed": 4527,
     "status": "ok",
     "timestamp": 1594089366472,
     "user": {
      "displayName": "Jorge Diego Garcia Torres",
      "photoUrl": "https://lh3.googleusercontent.com/a-/AOh14GhBF0I3KGeDuabV013Yv55J3UsmQY0xCj7MVpQZ=s64",
      "userId": "03990517325461913005"
     },
     "user_tz": 300
    },
    "id": "v2f-91MLE8OH"
   },
   "outputs": [],
   "source": [
    "x_val1 = np.zeros((550, 224, 224, 3),dtype=float)\n",
    "for i in range(len(x_val)):\n",
    "  x_val1[i]=preprocess_image(x_val[i])"
   ]
  },
  {
   "cell_type": "code",
   "execution_count": 21,
   "metadata": {
    "colab": {},
    "colab_type": "code",
    "executionInfo": {
     "elapsed": 24655,
     "status": "ok",
     "timestamp": 1594089392883,
     "user": {
      "displayName": "Jorge Diego Garcia Torres",
      "photoUrl": "https://lh3.googleusercontent.com/a-/AOh14GhBF0I3KGeDuabV013Yv55J3UsmQY0xCj7MVpQZ=s64",
      "userId": "03990517325461913005"
     },
     "user_tz": 300
    },
    "id": "-tD0ogLgFH5N"
   },
   "outputs": [],
   "source": [
    "x_train1 = np.zeros((3112, 224, 224, 3),dtype=float)\n",
    "for i in range(len(x_train)):\n",
    "  x_train1[i]=preprocess_image(x_train[i])"
   ]
  },
  {
   "cell_type": "code",
   "execution_count": 32,
   "metadata": {
    "colab": {
     "base_uri": "https://localhost:8080/",
     "height": 34
    },
    "colab_type": "code",
    "executionInfo": {
     "elapsed": 497,
     "status": "ok",
     "timestamp": 1594090369845,
     "user": {
      "displayName": "Jorge Diego Garcia Torres",
      "photoUrl": "https://lh3.googleusercontent.com/a-/AOh14GhBF0I3KGeDuabV013Yv55J3UsmQY0xCj7MVpQZ=s64",
      "userId": "03990517325461913005"
     },
     "user_tz": 300
    },
    "id": "MjBSP6wXFSlV",
    "outputId": "e1e99b9d-4cc4-4b74-f81e-5ee527ec74f4"
   },
   "outputs": [
    {
     "data": {
      "text/plain": [
       "(550, 224, 224, 3)"
      ]
     },
     "execution_count": 32,
     "metadata": {
      "tags": []
     },
     "output_type": "execute_result"
    }
   ],
   "source": [
    "x_val1.shape"
   ]
  },
  {
   "cell_type": "code",
   "execution_count": 33,
   "metadata": {
    "colab": {
     "base_uri": "https://localhost:8080/",
     "height": 34
    },
    "colab_type": "code",
    "executionInfo": {
     "elapsed": 514,
     "status": "ok",
     "timestamp": 1594090371649,
     "user": {
      "displayName": "Jorge Diego Garcia Torres",
      "photoUrl": "https://lh3.googleusercontent.com/a-/AOh14GhBF0I3KGeDuabV013Yv55J3UsmQY0xCj7MVpQZ=s64",
      "userId": "03990517325461913005"
     },
     "user_tz": 300
    },
    "id": "mUglmbJnFYpW",
    "outputId": "83377d67-76aa-4baf-aaa5-26b9fa255694"
   },
   "outputs": [
    {
     "data": {
      "text/plain": [
       "(3112, 224, 224, 3)"
      ]
     },
     "execution_count": 33,
     "metadata": {
      "tags": []
     },
     "output_type": "execute_result"
    }
   ],
   "source": [
    "x_train1.shape"
   ]
  },
  {
   "cell_type": "code",
   "execution_count": 22,
   "metadata": {
    "colab": {
     "base_uri": "https://localhost:8080/",
     "height": 1000
    },
    "colab_type": "code",
    "executionInfo": {
     "elapsed": 93693,
     "status": "error",
     "timestamp": 1594091107913,
     "user": {
      "displayName": "Jorge Diego Garcia Torres",
      "photoUrl": "https://lh3.googleusercontent.com/a-/AOh14GhBF0I3KGeDuabV013Yv55J3UsmQY0xCj7MVpQZ=s64",
      "userId": "03990517325461913005"
     },
     "user_tz": 300
    },
    "id": "Z9SSEZcTzLZs",
    "outputId": "dbc45ba4-3db6-4a22-e7f6-d6b724d7e197"
   },
   "outputs": [
    {
     "name": "stdout",
     "output_type": "stream",
     "text": [
      "Epoch 1/50\n",
      "25/25 [==============================] - 4s 158ms/step - loss: 6.8671 - mse: 6.8671 - accuracy: 0.2799 - val_loss: 1.8054 - val_mse: 1.8054 - val_accuracy: 0.0927\n",
      "Epoch 2/50\n",
      "25/25 [==============================] - 4s 152ms/step - loss: 1.6938 - mse: 1.6938 - accuracy: 0.1031 - val_loss: 1.3556 - val_mse: 1.3556 - val_accuracy: 0.1036\n",
      "Epoch 3/50\n",
      "25/25 [==============================] - 4s 152ms/step - loss: 1.1200 - mse: 1.1200 - accuracy: 0.3573 - val_loss: 0.8898 - val_mse: 0.8898 - val_accuracy: 0.5018\n",
      "Epoch 4/50\n",
      "25/25 [==============================] - 4s 153ms/step - loss: 0.9092 - mse: 0.9092 - accuracy: 0.4708 - val_loss: 0.7993 - val_mse: 0.7993 - val_accuracy: 0.4818\n",
      "Epoch 5/50\n",
      "25/25 [==============================] - 4s 152ms/step - loss: 0.7837 - mse: 0.7837 - accuracy: 0.4900 - val_loss: 0.8555 - val_mse: 0.8555 - val_accuracy: 0.5382\n",
      "Epoch 6/50\n",
      "25/25 [==============================] - 4s 155ms/step - loss: 0.8013 - mse: 0.8013 - accuracy: 0.5032 - val_loss: 0.7051 - val_mse: 0.7051 - val_accuracy: 0.5382\n",
      "Epoch 7/50\n",
      "25/25 [==============================] - 4s 164ms/step - loss: 0.7198 - mse: 0.7198 - accuracy: 0.5260 - val_loss: 0.7347 - val_mse: 0.7347 - val_accuracy: 0.5418\n",
      "Epoch 8/50\n",
      "25/25 [==============================] - 4s 163ms/step - loss: 0.7030 - mse: 0.7030 - accuracy: 0.5254 - val_loss: 0.6619 - val_mse: 0.6619 - val_accuracy: 0.5709\n",
      "Epoch 9/50\n",
      "25/25 [==============================] - 4s 163ms/step - loss: 0.6785 - mse: 0.6785 - accuracy: 0.5328 - val_loss: 0.6842 - val_mse: 0.6842 - val_accuracy: 0.5418\n",
      "Epoch 10/50\n",
      "25/25 [==============================] - 4s 159ms/step - loss: 0.6822 - mse: 0.6822 - accuracy: 0.5199 - val_loss: 0.6764 - val_mse: 0.6764 - val_accuracy: 0.5364\n",
      "Epoch 11/50\n",
      "25/25 [==============================] - 4s 153ms/step - loss: 0.6691 - mse: 0.6691 - accuracy: 0.5289 - val_loss: 0.6802 - val_mse: 0.6802 - val_accuracy: 0.5400\n",
      "Epoch 12/50\n",
      "25/25 [==============================] - 4s 153ms/step - loss: 0.6771 - mse: 0.6771 - accuracy: 0.5289 - val_loss: 0.6379 - val_mse: 0.6379 - val_accuracy: 0.5327\n",
      "Epoch 13/50\n",
      "25/25 [==============================] - 4s 154ms/step - loss: 0.6600 - mse: 0.6600 - accuracy: 0.5231 - val_loss: 0.6663 - val_mse: 0.6663 - val_accuracy: 0.5600\n",
      "Epoch 14/50\n",
      "25/25 [==============================] - 4s 153ms/step - loss: 0.6528 - mse: 0.6528 - accuracy: 0.5273 - val_loss: 0.6238 - val_mse: 0.6238 - val_accuracy: 0.5564\n",
      "Epoch 15/50\n",
      "25/25 [==============================] - 4s 153ms/step - loss: 0.6282 - mse: 0.6282 - accuracy: 0.5302 - val_loss: 0.6768 - val_mse: 0.6768 - val_accuracy: 0.5709\n",
      "Epoch 16/50\n",
      "25/25 [==============================] - 4s 154ms/step - loss: 0.6449 - mse: 0.6449 - accuracy: 0.5318 - val_loss: 0.6471 - val_mse: 0.6471 - val_accuracy: 0.5364\n",
      "Epoch 17/50\n",
      "25/25 [==============================] - 4s 153ms/step - loss: 0.6164 - mse: 0.6164 - accuracy: 0.5267 - val_loss: 0.6208 - val_mse: 0.6208 - val_accuracy: 0.5673\n",
      "Epoch 18/50\n",
      "25/25 [==============================] - 4s 153ms/step - loss: 0.5906 - mse: 0.5906 - accuracy: 0.5370 - val_loss: 0.6566 - val_mse: 0.6566 - val_accuracy: 0.5691\n",
      "Epoch 19/50\n",
      "25/25 [==============================] - 4s 153ms/step - loss: 0.5975 - mse: 0.5975 - accuracy: 0.5379 - val_loss: 0.6312 - val_mse: 0.6312 - val_accuracy: 0.5673\n",
      "Epoch 20/50\n",
      "25/25 [==============================] - 4s 152ms/step - loss: 0.6155 - mse: 0.6155 - accuracy: 0.5379 - val_loss: 0.6320 - val_mse: 0.6320 - val_accuracy: 0.5327\n",
      "Epoch 21/50\n",
      "25/25 [==============================] - 4s 154ms/step - loss: 0.5975 - mse: 0.5975 - accuracy: 0.5350 - val_loss: 0.6748 - val_mse: 0.6748 - val_accuracy: 0.5473\n",
      "Epoch 22/50\n",
      "25/25 [==============================] - 4s 154ms/step - loss: 0.6018 - mse: 0.6018 - accuracy: 0.5299 - val_loss: 0.6298 - val_mse: 0.6298 - val_accuracy: 0.5618\n",
      "Epoch 23/50\n",
      "14/25 [===============>..............] - ETA: 1s - loss: 0.5931 - mse: 0.5931 - accuracy: 0.5312"
     ]
    },
    {
     "ename": "KeyboardInterrupt",
     "evalue": "ignored",
     "output_type": "error",
     "traceback": [
      "\u001b[0;31m---------------------------------------------------------------------------\u001b[0m",
      "\u001b[0;31mKeyboardInterrupt\u001b[0m                         Traceback (most recent call last)",
      "\u001b[0;32m<ipython-input-22-b445b091530d>\u001b[0m in \u001b[0;36m<module>\u001b[0;34m()\u001b[0m\n\u001b[0;32m----> 1\u001b[0;31m \u001b[0mmodel1\u001b[0m\u001b[0;34m.\u001b[0m\u001b[0mfit\u001b[0m\u001b[0;34m(\u001b[0m\u001b[0mx\u001b[0m\u001b[0;34m=\u001b[0m\u001b[0mx_train\u001b[0m\u001b[0;34m/\u001b[0m\u001b[0;36m255.\u001b[0m\u001b[0;34m,\u001b[0m \u001b[0my\u001b[0m\u001b[0;34m=\u001b[0m\u001b[0my_train\u001b[0m\u001b[0;34m,\u001b[0m\u001b[0mbatch_size\u001b[0m\u001b[0;34m=\u001b[0m\u001b[0;36m128\u001b[0m\u001b[0;34m,\u001b[0m \u001b[0mepochs\u001b[0m\u001b[0;34m=\u001b[0m\u001b[0;36m50\u001b[0m\u001b[0;34m,\u001b[0m \u001b[0mvalidation_data\u001b[0m\u001b[0;34m=\u001b[0m\u001b[0;34m(\u001b[0m\u001b[0mx_val\u001b[0m\u001b[0;34m/\u001b[0m\u001b[0;36m255.\u001b[0m\u001b[0;34m,\u001b[0m\u001b[0my_val\u001b[0m\u001b[0;34m)\u001b[0m\u001b[0;34m,\u001b[0m\u001b[0mcallbacks\u001b[0m\u001b[0;34m=\u001b[0m\u001b[0;34m[\u001b[0m\u001b[0;34m]\u001b[0m\u001b[0;34m)\u001b[0m\u001b[0;34m\u001b[0m\u001b[0;34m\u001b[0m\u001b[0m\n\u001b[0m",
      "\u001b[0;32m/usr/local/lib/python3.6/dist-packages/tensorflow/python/keras/engine/training.py\u001b[0m in \u001b[0;36m_method_wrapper\u001b[0;34m(self, *args, **kwargs)\u001b[0m\n\u001b[1;32m     64\u001b[0m   \u001b[0;32mdef\u001b[0m \u001b[0m_method_wrapper\u001b[0m\u001b[0;34m(\u001b[0m\u001b[0mself\u001b[0m\u001b[0;34m,\u001b[0m \u001b[0;34m*\u001b[0m\u001b[0margs\u001b[0m\u001b[0;34m,\u001b[0m \u001b[0;34m**\u001b[0m\u001b[0mkwargs\u001b[0m\u001b[0;34m)\u001b[0m\u001b[0;34m:\u001b[0m\u001b[0;34m\u001b[0m\u001b[0;34m\u001b[0m\u001b[0m\n\u001b[1;32m     65\u001b[0m     \u001b[0;32mif\u001b[0m \u001b[0;32mnot\u001b[0m \u001b[0mself\u001b[0m\u001b[0;34m.\u001b[0m\u001b[0m_in_multi_worker_mode\u001b[0m\u001b[0;34m(\u001b[0m\u001b[0;34m)\u001b[0m\u001b[0;34m:\u001b[0m  \u001b[0;31m# pylint: disable=protected-access\u001b[0m\u001b[0;34m\u001b[0m\u001b[0;34m\u001b[0m\u001b[0m\n\u001b[0;32m---> 66\u001b[0;31m       \u001b[0;32mreturn\u001b[0m \u001b[0mmethod\u001b[0m\u001b[0;34m(\u001b[0m\u001b[0mself\u001b[0m\u001b[0;34m,\u001b[0m \u001b[0;34m*\u001b[0m\u001b[0margs\u001b[0m\u001b[0;34m,\u001b[0m \u001b[0;34m**\u001b[0m\u001b[0mkwargs\u001b[0m\u001b[0;34m)\u001b[0m\u001b[0;34m\u001b[0m\u001b[0;34m\u001b[0m\u001b[0m\n\u001b[0m\u001b[1;32m     67\u001b[0m \u001b[0;34m\u001b[0m\u001b[0m\n\u001b[1;32m     68\u001b[0m     \u001b[0;31m# Running inside `run_distribute_coordinator` already.\u001b[0m\u001b[0;34m\u001b[0m\u001b[0;34m\u001b[0m\u001b[0;34m\u001b[0m\u001b[0m\n",
      "\u001b[0;32m/usr/local/lib/python3.6/dist-packages/tensorflow/python/keras/engine/training.py\u001b[0m in \u001b[0;36mfit\u001b[0;34m(self, x, y, batch_size, epochs, verbose, callbacks, validation_split, validation_data, shuffle, class_weight, sample_weight, initial_epoch, steps_per_epoch, validation_steps, validation_batch_size, validation_freq, max_queue_size, workers, use_multiprocessing)\u001b[0m\n\u001b[1;32m    846\u001b[0m                 batch_size=batch_size):\n\u001b[1;32m    847\u001b[0m               \u001b[0mcallbacks\u001b[0m\u001b[0;34m.\u001b[0m\u001b[0mon_train_batch_begin\u001b[0m\u001b[0;34m(\u001b[0m\u001b[0mstep\u001b[0m\u001b[0;34m)\u001b[0m\u001b[0;34m\u001b[0m\u001b[0;34m\u001b[0m\u001b[0m\n\u001b[0;32m--> 848\u001b[0;31m               \u001b[0mtmp_logs\u001b[0m \u001b[0;34m=\u001b[0m \u001b[0mtrain_function\u001b[0m\u001b[0;34m(\u001b[0m\u001b[0miterator\u001b[0m\u001b[0;34m)\u001b[0m\u001b[0;34m\u001b[0m\u001b[0;34m\u001b[0m\u001b[0m\n\u001b[0m\u001b[1;32m    849\u001b[0m               \u001b[0;31m# Catch OutOfRangeError for Datasets of unknown size.\u001b[0m\u001b[0;34m\u001b[0m\u001b[0;34m\u001b[0m\u001b[0;34m\u001b[0m\u001b[0m\n\u001b[1;32m    850\u001b[0m               \u001b[0;31m# This blocks until the batch has finished executing.\u001b[0m\u001b[0;34m\u001b[0m\u001b[0;34m\u001b[0m\u001b[0;34m\u001b[0m\u001b[0m\n",
      "\u001b[0;32m/usr/local/lib/python3.6/dist-packages/tensorflow/python/eager/def_function.py\u001b[0m in \u001b[0;36m__call__\u001b[0;34m(self, *args, **kwds)\u001b[0m\n\u001b[1;32m    578\u001b[0m         \u001b[0mxla_context\u001b[0m\u001b[0;34m.\u001b[0m\u001b[0mExit\u001b[0m\u001b[0;34m(\u001b[0m\u001b[0;34m)\u001b[0m\u001b[0;34m\u001b[0m\u001b[0;34m\u001b[0m\u001b[0m\n\u001b[1;32m    579\u001b[0m     \u001b[0;32melse\u001b[0m\u001b[0;34m:\u001b[0m\u001b[0;34m\u001b[0m\u001b[0;34m\u001b[0m\u001b[0m\n\u001b[0;32m--> 580\u001b[0;31m       \u001b[0mresult\u001b[0m \u001b[0;34m=\u001b[0m \u001b[0mself\u001b[0m\u001b[0;34m.\u001b[0m\u001b[0m_call\u001b[0m\u001b[0;34m(\u001b[0m\u001b[0;34m*\u001b[0m\u001b[0margs\u001b[0m\u001b[0;34m,\u001b[0m \u001b[0;34m**\u001b[0m\u001b[0mkwds\u001b[0m\u001b[0;34m)\u001b[0m\u001b[0;34m\u001b[0m\u001b[0;34m\u001b[0m\u001b[0m\n\u001b[0m\u001b[1;32m    581\u001b[0m \u001b[0;34m\u001b[0m\u001b[0m\n\u001b[1;32m    582\u001b[0m     \u001b[0;32mif\u001b[0m \u001b[0mtracing_count\u001b[0m \u001b[0;34m==\u001b[0m \u001b[0mself\u001b[0m\u001b[0;34m.\u001b[0m\u001b[0m_get_tracing_count\u001b[0m\u001b[0;34m(\u001b[0m\u001b[0;34m)\u001b[0m\u001b[0;34m:\u001b[0m\u001b[0;34m\u001b[0m\u001b[0;34m\u001b[0m\u001b[0m\n",
      "\u001b[0;32m/usr/local/lib/python3.6/dist-packages/tensorflow/python/eager/def_function.py\u001b[0m in \u001b[0;36m_call\u001b[0;34m(self, *args, **kwds)\u001b[0m\n\u001b[1;32m    609\u001b[0m       \u001b[0;31m# In this case we have created variables on the first call, so we run the\u001b[0m\u001b[0;34m\u001b[0m\u001b[0;34m\u001b[0m\u001b[0;34m\u001b[0m\u001b[0m\n\u001b[1;32m    610\u001b[0m       \u001b[0;31m# defunned version which is guaranteed to never create variables.\u001b[0m\u001b[0;34m\u001b[0m\u001b[0;34m\u001b[0m\u001b[0;34m\u001b[0m\u001b[0m\n\u001b[0;32m--> 611\u001b[0;31m       \u001b[0;32mreturn\u001b[0m \u001b[0mself\u001b[0m\u001b[0;34m.\u001b[0m\u001b[0m_stateless_fn\u001b[0m\u001b[0;34m(\u001b[0m\u001b[0;34m*\u001b[0m\u001b[0margs\u001b[0m\u001b[0;34m,\u001b[0m \u001b[0;34m**\u001b[0m\u001b[0mkwds\u001b[0m\u001b[0;34m)\u001b[0m  \u001b[0;31m# pylint: disable=not-callable\u001b[0m\u001b[0;34m\u001b[0m\u001b[0;34m\u001b[0m\u001b[0m\n\u001b[0m\u001b[1;32m    612\u001b[0m     \u001b[0;32melif\u001b[0m \u001b[0mself\u001b[0m\u001b[0;34m.\u001b[0m\u001b[0m_stateful_fn\u001b[0m \u001b[0;32mis\u001b[0m \u001b[0;32mnot\u001b[0m \u001b[0;32mNone\u001b[0m\u001b[0;34m:\u001b[0m\u001b[0;34m\u001b[0m\u001b[0;34m\u001b[0m\u001b[0m\n\u001b[1;32m    613\u001b[0m       \u001b[0;31m# Release the lock early so that multiple threads can perform the call\u001b[0m\u001b[0;34m\u001b[0m\u001b[0;34m\u001b[0m\u001b[0;34m\u001b[0m\u001b[0m\n",
      "\u001b[0;32m/usr/local/lib/python3.6/dist-packages/tensorflow/python/eager/function.py\u001b[0m in \u001b[0;36m__call__\u001b[0;34m(self, *args, **kwargs)\u001b[0m\n\u001b[1;32m   2418\u001b[0m     \u001b[0;32mwith\u001b[0m \u001b[0mself\u001b[0m\u001b[0;34m.\u001b[0m\u001b[0m_lock\u001b[0m\u001b[0;34m:\u001b[0m\u001b[0;34m\u001b[0m\u001b[0;34m\u001b[0m\u001b[0m\n\u001b[1;32m   2419\u001b[0m       \u001b[0mgraph_function\u001b[0m\u001b[0;34m,\u001b[0m \u001b[0margs\u001b[0m\u001b[0;34m,\u001b[0m \u001b[0mkwargs\u001b[0m \u001b[0;34m=\u001b[0m \u001b[0mself\u001b[0m\u001b[0;34m.\u001b[0m\u001b[0m_maybe_define_function\u001b[0m\u001b[0;34m(\u001b[0m\u001b[0margs\u001b[0m\u001b[0;34m,\u001b[0m \u001b[0mkwargs\u001b[0m\u001b[0;34m)\u001b[0m\u001b[0;34m\u001b[0m\u001b[0;34m\u001b[0m\u001b[0m\n\u001b[0;32m-> 2420\u001b[0;31m     \u001b[0;32mreturn\u001b[0m \u001b[0mgraph_function\u001b[0m\u001b[0;34m.\u001b[0m\u001b[0m_filtered_call\u001b[0m\u001b[0;34m(\u001b[0m\u001b[0margs\u001b[0m\u001b[0;34m,\u001b[0m \u001b[0mkwargs\u001b[0m\u001b[0;34m)\u001b[0m  \u001b[0;31m# pylint: disable=protected-access\u001b[0m\u001b[0;34m\u001b[0m\u001b[0;34m\u001b[0m\u001b[0m\n\u001b[0m\u001b[1;32m   2421\u001b[0m \u001b[0;34m\u001b[0m\u001b[0m\n\u001b[1;32m   2422\u001b[0m   \u001b[0;34m@\u001b[0m\u001b[0mproperty\u001b[0m\u001b[0;34m\u001b[0m\u001b[0;34m\u001b[0m\u001b[0m\n",
      "\u001b[0;32m/usr/local/lib/python3.6/dist-packages/tensorflow/python/eager/function.py\u001b[0m in \u001b[0;36m_filtered_call\u001b[0;34m(self, args, kwargs)\u001b[0m\n\u001b[1;32m   1663\u001b[0m          if isinstance(t, (ops.Tensor,\n\u001b[1;32m   1664\u001b[0m                            resource_variable_ops.BaseResourceVariable))),\n\u001b[0;32m-> 1665\u001b[0;31m         self.captured_inputs)\n\u001b[0m\u001b[1;32m   1666\u001b[0m \u001b[0;34m\u001b[0m\u001b[0m\n\u001b[1;32m   1667\u001b[0m   \u001b[0;32mdef\u001b[0m \u001b[0m_call_flat\u001b[0m\u001b[0;34m(\u001b[0m\u001b[0mself\u001b[0m\u001b[0;34m,\u001b[0m \u001b[0margs\u001b[0m\u001b[0;34m,\u001b[0m \u001b[0mcaptured_inputs\u001b[0m\u001b[0;34m,\u001b[0m \u001b[0mcancellation_manager\u001b[0m\u001b[0;34m=\u001b[0m\u001b[0;32mNone\u001b[0m\u001b[0;34m)\u001b[0m\u001b[0;34m:\u001b[0m\u001b[0;34m\u001b[0m\u001b[0;34m\u001b[0m\u001b[0m\n",
      "\u001b[0;32m/usr/local/lib/python3.6/dist-packages/tensorflow/python/eager/function.py\u001b[0m in \u001b[0;36m_call_flat\u001b[0;34m(self, args, captured_inputs, cancellation_manager)\u001b[0m\n\u001b[1;32m   1744\u001b[0m       \u001b[0;31m# No tape is watching; skip to running the function.\u001b[0m\u001b[0;34m\u001b[0m\u001b[0;34m\u001b[0m\u001b[0;34m\u001b[0m\u001b[0m\n\u001b[1;32m   1745\u001b[0m       return self._build_call_outputs(self._inference_function.call(\n\u001b[0;32m-> 1746\u001b[0;31m           ctx, args, cancellation_manager=cancellation_manager))\n\u001b[0m\u001b[1;32m   1747\u001b[0m     forward_backward = self._select_forward_and_backward_functions(\n\u001b[1;32m   1748\u001b[0m         \u001b[0margs\u001b[0m\u001b[0;34m,\u001b[0m\u001b[0;34m\u001b[0m\u001b[0;34m\u001b[0m\u001b[0m\n",
      "\u001b[0;32m/usr/local/lib/python3.6/dist-packages/tensorflow/python/eager/function.py\u001b[0m in \u001b[0;36mcall\u001b[0;34m(self, ctx, args, cancellation_manager)\u001b[0m\n\u001b[1;32m    596\u001b[0m               \u001b[0minputs\u001b[0m\u001b[0;34m=\u001b[0m\u001b[0margs\u001b[0m\u001b[0;34m,\u001b[0m\u001b[0;34m\u001b[0m\u001b[0;34m\u001b[0m\u001b[0m\n\u001b[1;32m    597\u001b[0m               \u001b[0mattrs\u001b[0m\u001b[0;34m=\u001b[0m\u001b[0mattrs\u001b[0m\u001b[0;34m,\u001b[0m\u001b[0;34m\u001b[0m\u001b[0;34m\u001b[0m\u001b[0m\n\u001b[0;32m--> 598\u001b[0;31m               ctx=ctx)\n\u001b[0m\u001b[1;32m    599\u001b[0m         \u001b[0;32melse\u001b[0m\u001b[0;34m:\u001b[0m\u001b[0;34m\u001b[0m\u001b[0;34m\u001b[0m\u001b[0m\n\u001b[1;32m    600\u001b[0m           outputs = execute.execute_with_cancellation(\n",
      "\u001b[0;32m/usr/local/lib/python3.6/dist-packages/tensorflow/python/eager/execute.py\u001b[0m in \u001b[0;36mquick_execute\u001b[0;34m(op_name, num_outputs, inputs, attrs, ctx, name)\u001b[0m\n\u001b[1;32m     58\u001b[0m     \u001b[0mctx\u001b[0m\u001b[0;34m.\u001b[0m\u001b[0mensure_initialized\u001b[0m\u001b[0;34m(\u001b[0m\u001b[0;34m)\u001b[0m\u001b[0;34m\u001b[0m\u001b[0;34m\u001b[0m\u001b[0m\n\u001b[1;32m     59\u001b[0m     tensors = pywrap_tfe.TFE_Py_Execute(ctx._handle, device_name, op_name,\n\u001b[0;32m---> 60\u001b[0;31m                                         inputs, attrs, num_outputs)\n\u001b[0m\u001b[1;32m     61\u001b[0m   \u001b[0;32mexcept\u001b[0m \u001b[0mcore\u001b[0m\u001b[0;34m.\u001b[0m\u001b[0m_NotOkStatusException\u001b[0m \u001b[0;32mas\u001b[0m \u001b[0me\u001b[0m\u001b[0;34m:\u001b[0m\u001b[0;34m\u001b[0m\u001b[0;34m\u001b[0m\u001b[0m\n\u001b[1;32m     62\u001b[0m     \u001b[0;32mif\u001b[0m \u001b[0mname\u001b[0m \u001b[0;32mis\u001b[0m \u001b[0;32mnot\u001b[0m \u001b[0;32mNone\u001b[0m\u001b[0;34m:\u001b[0m\u001b[0;34m\u001b[0m\u001b[0;34m\u001b[0m\u001b[0m\n",
      "\u001b[0;31mKeyboardInterrupt\u001b[0m: "
     ]
    }
   ],
   "source": [
    "model1.fit(x=x_train/255., y=y_train,batch_size=128, epochs=50, validation_data=(x_val/255.,y_val),callbacks=[])"
   ]
  },
  {
   "cell_type": "code",
   "execution_count": 32,
   "metadata": {
    "colab": {
     "base_uri": "https://localhost:8080/",
     "height": 340
    },
    "colab_type": "code",
    "executionInfo": {
     "elapsed": 390,
     "status": "ok",
     "timestamp": 1594087474539,
     "user": {
      "displayName": "Jorge Diego Garcia Torres",
      "photoUrl": "https://lh3.googleusercontent.com/a-/AOh14GhBF0I3KGeDuabV013Yv55J3UsmQY0xCj7MVpQZ=s64",
      "userId": "03990517325461913005"
     },
     "user_tz": 300
    },
    "id": "TYHSHa9kA8S-",
    "outputId": "9bd0afbd-0d56-42ed-9b30-13852bae4e38"
   },
   "outputs": [
    {
     "data": {
      "text/plain": [
       "array([[3.0088634 ],\n",
       "       [2.0028012 ],\n",
       "       [0.02011839],\n",
       "       [2.656844  ],\n",
       "       [0.02011839],\n",
       "       [0.02011839],\n",
       "       [2.6272943 ],\n",
       "       [1.915221  ],\n",
       "       [0.02011839],\n",
       "       [2.4760973 ],\n",
       "       [1.9873918 ],\n",
       "       [0.02011839],\n",
       "       [0.01910734],\n",
       "       [1.9853209 ],\n",
       "       [2.018503  ],\n",
       "       [0.02011839],\n",
       "       [0.02011839],\n",
       "       [1.9971044 ],\n",
       "       [0.02011839]], dtype=float32)"
      ]
     },
     "execution_count": 32,
     "metadata": {
      "tags": []
     },
     "output_type": "execute_result"
    }
   ],
   "source": [
    "model1.predict(x_train[1:20])"
   ]
  }
 ],
 "metadata": {
  "accelerator": "GPU",
  "colab": {
   "authorship_tag": "ABX9TyN0U45XUaUEPvS6iXNCXtm3",
   "machine_shape": "hm",
   "name": "Untitled17.ipynb",
   "provenance": []
  },
  "kernelspec": {
   "display_name": "Python 3",
   "language": "python",
   "name": "python3"
  },
  "language_info": {
   "codemirror_mode": {
    "name": "ipython",
    "version": 3
   },
   "file_extension": ".py",
   "mimetype": "text/x-python",
   "name": "python",
   "nbconvert_exporter": "python",
   "pygments_lexer": "ipython3",
   "version": "3.7.4"
  }
 },
 "nbformat": 4,
 "nbformat_minor": 1
}
