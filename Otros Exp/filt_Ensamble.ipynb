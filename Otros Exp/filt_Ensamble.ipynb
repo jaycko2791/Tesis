{
 "cells": [
  {
   "cell_type": "code",
   "execution_count": 1,
   "metadata": {
    "executionInfo": {
     "elapsed": 3891,
     "status": "ok",
     "timestamp": 1602734424788,
     "user": {
      "displayName": "Jorge Diego Garcia Torres",
      "photoUrl": "https://lh3.googleusercontent.com/a-/AOh14GgUm411NCPxL0CyuKgBlBhJ9SxhXr8inmS25Nfq=s64",
      "userId": "03990517325461913005"
     },
     "user_tz": 300
    },
    "id": "UFk_I_4z3kSv"
   },
   "outputs": [],
   "source": [
    "import os\n",
    "import cv2\n",
    "import random\n",
    "import warnings\n",
    "import numpy as np\n",
    "import pandas as pd\n",
    "import seaborn as sns\n",
    "import matplotlib.pyplot as plt\n",
    "from sklearn.model_selection import train_test_split, StratifiedKFold\n",
    "\n",
    "import os\n",
    "import sys\n",
    "import cv2\n",
    "import shutil\n",
    "import random\n",
    "import warnings\n",
    "import numpy as np\n",
    "import pandas as pd\n",
    "import seaborn as sns\n",
    "import multiprocessing as mp\n",
    "import matplotlib.pyplot as plt\n",
    "\n",
    "from sklearn.metrics import confusion_matrix, cohen_kappa_score\n",
    "from keras.models import Model\n",
    "from keras.preprocessing.image import ImageDataGenerator\n",
    "from keras.layers import Dense, GlobalAveragePooling2D, Input\n",
    "\n",
    "\n",
    "def seed_everything(seed=0):\n",
    "    random.seed(seed)\n",
    "    os.environ['PYTHONHASHSEED'] = str(seed)\n",
    "    np.random.seed(seed)\n",
    "    \n",
    "seed = 0\n",
    "seed_everything(seed)\n",
    "\n",
    "\n",
    "sns.set(style=\"whitegrid\")\n",
    "warnings.filterwarnings(\"ignore\")"
   ]
  },
  {
   "cell_type": "code",
   "execution_count": 2,
   "metadata": {
    "colab": {
     "base_uri": "https://localhost:8080/",
     "height": 34
    },
    "executionInfo": {
     "elapsed": 23716,
     "status": "ok",
     "timestamp": 1602734474071,
     "user": {
      "displayName": "Jorge Diego Garcia Torres",
      "photoUrl": "https://lh3.googleusercontent.com/a-/AOh14GgUm411NCPxL0CyuKgBlBhJ9SxhXr8inmS25Nfq=s64",
      "userId": "03990517325461913005"
     },
     "user_tz": 300
    },
    "id": "vumYJchG3znS",
    "outputId": "822dd7bb-1035-4b3d-d3ad-8fd45f3863ec"
   },
   "outputs": [
    {
     "name": "stdout",
     "output_type": "stream",
     "text": [
      "Mounted at /content/gdrive\n"
     ]
    }
   ],
   "source": [
    "from google.colab import drive\n",
    "drive.mount('/content/gdrive')"
   ]
  },
  {
   "cell_type": "code",
   "execution_count": 3,
   "metadata": {
    "colab": {
     "base_uri": "https://localhost:8080/",
     "height": 238
    },
    "executionInfo": {
     "elapsed": 2288,
     "status": "ok",
     "timestamp": 1602734479533,
     "user": {
      "displayName": "Jorge Diego Garcia Torres",
      "photoUrl": "https://lh3.googleusercontent.com/a-/AOh14GgUm411NCPxL0CyuKgBlBhJ9SxhXr8inmS25Nfq=s64",
      "userId": "03990517325461913005"
     },
     "user_tz": 300
    },
    "id": "pgxXV2kt3sbZ",
    "outputId": "7a92d115-c327-4830-f273-5da471cf4078"
   },
   "outputs": [
    {
     "name": "stdout",
     "output_type": "stream",
     "text": [
      "Number of train samples:  3662\n",
      "Number of test samples:  1928\n"
     ]
    },
    {
     "data": {
      "text/html": [
       "<div>\n",
       "<style scoped>\n",
       "    .dataframe tbody tr th:only-of-type {\n",
       "        vertical-align: middle;\n",
       "    }\n",
       "\n",
       "    .dataframe tbody tr th {\n",
       "        vertical-align: top;\n",
       "    }\n",
       "\n",
       "    .dataframe thead th {\n",
       "        text-align: right;\n",
       "    }\n",
       "</style>\n",
       "<table border=\"1\" class=\"dataframe\">\n",
       "  <thead>\n",
       "    <tr style=\"text-align: right;\">\n",
       "      <th></th>\n",
       "      <th>id_code</th>\n",
       "      <th>diagnosis</th>\n",
       "    </tr>\n",
       "  </thead>\n",
       "  <tbody>\n",
       "    <tr>\n",
       "      <th>0</th>\n",
       "      <td>000c1434d8d7</td>\n",
       "      <td>2</td>\n",
       "    </tr>\n",
       "    <tr>\n",
       "      <th>1</th>\n",
       "      <td>001639a390f0</td>\n",
       "      <td>4</td>\n",
       "    </tr>\n",
       "    <tr>\n",
       "      <th>2</th>\n",
       "      <td>0024cdab0c1e</td>\n",
       "      <td>1</td>\n",
       "    </tr>\n",
       "    <tr>\n",
       "      <th>3</th>\n",
       "      <td>002c21358ce6</td>\n",
       "      <td>0</td>\n",
       "    </tr>\n",
       "    <tr>\n",
       "      <th>4</th>\n",
       "      <td>005b95c28852</td>\n",
       "      <td>0</td>\n",
       "    </tr>\n",
       "  </tbody>\n",
       "</table>\n",
       "</div>"
      ],
      "text/plain": [
       "        id_code  diagnosis\n",
       "0  000c1434d8d7          2\n",
       "1  001639a390f0          4\n",
       "2  0024cdab0c1e          1\n",
       "3  002c21358ce6          0\n",
       "4  005b95c28852          0"
      ]
     },
     "metadata": {
      "tags": []
     },
     "output_type": "display_data"
    }
   ],
   "source": [
    "train_df = pd.read_csv('/content/gdrive/My Drive/tesis/aptos/train.csv')\n",
    "test_df = pd.read_csv('/content/gdrive/My Drive/tesis/aptos/test.csv')\n",
    "print('Number of train samples: ', train_df.shape[0])\n",
    "print('Number of test samples: ', test_df.shape[0])\n",
    "display(train_df.head())"
   ]
  },
  {
   "cell_type": "code",
   "execution_count": null,
   "metadata": {
    "id": "FHc4FvKE78Xv"
   },
   "outputs": [],
   "source": [
    "train, validation = train_test_split(train_df, test_size=0.2, random_state=seed)"
   ]
  },
  {
   "cell_type": "code",
   "execution_count": null,
   "metadata": {
    "colab": {
     "base_uri": "https://localhost:8080/",
     "height": 204
    },
    "executionInfo": {
     "elapsed": 594,
     "status": "ok",
     "timestamp": 1602698680545,
     "user": {
      "displayName": "Jorge Diego Garcia Torres",
      "photoUrl": "https://lh3.googleusercontent.com/a-/AOh14GgUm411NCPxL0CyuKgBlBhJ9SxhXr8inmS25Nfq=s64",
      "userId": "03990517325461913005"
     },
     "user_tz": 300
    },
    "id": "tHIZAYYs8Qof",
    "outputId": "0ae01b97-626d-460f-fa8f-75104969bf63"
   },
   "outputs": [
    {
     "data": {
      "text/html": [
       "<div>\n",
       "<style scoped>\n",
       "    .dataframe tbody tr th:only-of-type {\n",
       "        vertical-align: middle;\n",
       "    }\n",
       "\n",
       "    .dataframe tbody tr th {\n",
       "        vertical-align: top;\n",
       "    }\n",
       "\n",
       "    .dataframe thead th {\n",
       "        text-align: right;\n",
       "    }\n",
       "</style>\n",
       "<table border=\"1\" class=\"dataframe\">\n",
       "  <thead>\n",
       "    <tr style=\"text-align: right;\">\n",
       "      <th></th>\n",
       "      <th>id_code</th>\n",
       "      <th>diagnosis</th>\n",
       "      <th>set</th>\n",
       "    </tr>\n",
       "  </thead>\n",
       "  <tbody>\n",
       "    <tr>\n",
       "      <th>1236</th>\n",
       "      <td>55eac26bd383</td>\n",
       "      <td>1</td>\n",
       "      <td>train</td>\n",
       "    </tr>\n",
       "    <tr>\n",
       "      <th>962</th>\n",
       "      <td>44e0d56e9d42</td>\n",
       "      <td>2</td>\n",
       "      <td>train</td>\n",
       "    </tr>\n",
       "    <tr>\n",
       "      <th>2447</th>\n",
       "      <td>aa4407aab872</td>\n",
       "      <td>0</td>\n",
       "      <td>train</td>\n",
       "    </tr>\n",
       "    <tr>\n",
       "      <th>2991</th>\n",
       "      <td>cffc50047828</td>\n",
       "      <td>0</td>\n",
       "      <td>train</td>\n",
       "    </tr>\n",
       "    <tr>\n",
       "      <th>2559</th>\n",
       "      <td>b0f0fa677d5f</td>\n",
       "      <td>0</td>\n",
       "      <td>train</td>\n",
       "    </tr>\n",
       "  </tbody>\n",
       "</table>\n",
       "</div>"
      ],
      "text/plain": [
       "           id_code  diagnosis    set\n",
       "1236  55eac26bd383          1  train\n",
       "962   44e0d56e9d42          2  train\n",
       "2447  aa4407aab872          0  train\n",
       "2991  cffc50047828          0  train\n",
       "2559  b0f0fa677d5f          0  train"
      ]
     },
     "execution_count": 61,
     "metadata": {
      "tags": []
     },
     "output_type": "execute_result"
    }
   ],
   "source": [
    "train['set'] = 'train'\n",
    "validation['set'] = 'validation'\n",
    "train_complete = train.append(validation)\n",
    "train_complete.head()\n",
    "train_complete.to_csv('hold-out.csv', index=False)\n",
    "train_complete.head()"
   ]
  },
  {
   "cell_type": "code",
   "execution_count": null,
   "metadata": {
    "id": "lqXhJ1_gSSpk"
   },
   "outputs": [],
   "source": [
    "train_complete.to_csv('/content/gdrive/My Drive/tesis2/hold-out.csv')"
   ]
  },
  {
   "cell_type": "code",
   "execution_count": 4,
   "metadata": {
    "executionInfo": {
     "elapsed": 913,
     "status": "ok",
     "timestamp": 1602734490343,
     "user": {
      "displayName": "Jorge Diego Garcia Torres",
      "photoUrl": "https://lh3.googleusercontent.com/a-/AOh14GgUm411NCPxL0CyuKgBlBhJ9SxhXr8inmS25Nfq=s64",
      "userId": "03990517325461913005"
     },
     "user_tz": 300
    },
    "id": "52APc2NKa-Ud"
   },
   "outputs": [],
   "source": [
    "train_df = pd.read_csv('/content/gdrive/My Drive/tesis2/hold-out.csv')"
   ]
  },
  {
   "cell_type": "code",
   "execution_count": 5,
   "metadata": {
    "colab": {
     "base_uri": "https://localhost:8080/",
     "height": 359
    },
    "executionInfo": {
     "elapsed": 606,
     "status": "ok",
     "timestamp": 1602734492509,
     "user": {
      "displayName": "Jorge Diego Garcia Torres",
      "photoUrl": "https://lh3.googleusercontent.com/a-/AOh14GgUm411NCPxL0CyuKgBlBhJ9SxhXr8inmS25Nfq=s64",
      "userId": "03990517325461913005"
     },
     "user_tz": 300
    },
    "id": "B8v_cnHgbU0j",
    "outputId": "cc7df02a-efef-49f7-d9bb-ca4a775f423a"
   },
   "outputs": [
    {
     "data": {
      "text/html": [
       "<div>\n",
       "<style scoped>\n",
       "    .dataframe tbody tr th:only-of-type {\n",
       "        vertical-align: middle;\n",
       "    }\n",
       "\n",
       "    .dataframe tbody tr th {\n",
       "        vertical-align: top;\n",
       "    }\n",
       "\n",
       "    .dataframe thead th {\n",
       "        text-align: right;\n",
       "    }\n",
       "</style>\n",
       "<table border=\"1\" class=\"dataframe\">\n",
       "  <thead>\n",
       "    <tr style=\"text-align: right;\">\n",
       "      <th></th>\n",
       "      <th>Unnamed: 0</th>\n",
       "      <th>id_code</th>\n",
       "      <th>diagnosis</th>\n",
       "      <th>set</th>\n",
       "    </tr>\n",
       "  </thead>\n",
       "  <tbody>\n",
       "    <tr>\n",
       "      <th>0</th>\n",
       "      <td>1236</td>\n",
       "      <td>55eac26bd383</td>\n",
       "      <td>1</td>\n",
       "      <td>train</td>\n",
       "    </tr>\n",
       "    <tr>\n",
       "      <th>1</th>\n",
       "      <td>962</td>\n",
       "      <td>44e0d56e9d42</td>\n",
       "      <td>2</td>\n",
       "      <td>train</td>\n",
       "    </tr>\n",
       "    <tr>\n",
       "      <th>2</th>\n",
       "      <td>2447</td>\n",
       "      <td>aa4407aab872</td>\n",
       "      <td>0</td>\n",
       "      <td>train</td>\n",
       "    </tr>\n",
       "    <tr>\n",
       "      <th>3</th>\n",
       "      <td>2991</td>\n",
       "      <td>cffc50047828</td>\n",
       "      <td>0</td>\n",
       "      <td>train</td>\n",
       "    </tr>\n",
       "    <tr>\n",
       "      <th>4</th>\n",
       "      <td>2559</td>\n",
       "      <td>b0f0fa677d5f</td>\n",
       "      <td>0</td>\n",
       "      <td>train</td>\n",
       "    </tr>\n",
       "    <tr>\n",
       "      <th>5</th>\n",
       "      <td>728</td>\n",
       "      <td>345b1f0abbba</td>\n",
       "      <td>0</td>\n",
       "      <td>train</td>\n",
       "    </tr>\n",
       "    <tr>\n",
       "      <th>6</th>\n",
       "      <td>2472</td>\n",
       "      <td>ab7991df166b</td>\n",
       "      <td>0</td>\n",
       "      <td>train</td>\n",
       "    </tr>\n",
       "    <tr>\n",
       "      <th>7</th>\n",
       "      <td>2911</td>\n",
       "      <td>ca63fe4f4b52</td>\n",
       "      <td>1</td>\n",
       "      <td>train</td>\n",
       "    </tr>\n",
       "    <tr>\n",
       "      <th>8</th>\n",
       "      <td>2572</td>\n",
       "      <td>b200c23b299b</td>\n",
       "      <td>0</td>\n",
       "      <td>train</td>\n",
       "    </tr>\n",
       "    <tr>\n",
       "      <th>9</th>\n",
       "      <td>1675</td>\n",
       "      <td>76bc31e0d3be</td>\n",
       "      <td>0</td>\n",
       "      <td>train</td>\n",
       "    </tr>\n",
       "  </tbody>\n",
       "</table>\n",
       "</div>"
      ],
      "text/plain": [
       "   Unnamed: 0       id_code  diagnosis    set\n",
       "0        1236  55eac26bd383          1  train\n",
       "1         962  44e0d56e9d42          2  train\n",
       "2        2447  aa4407aab872          0  train\n",
       "3        2991  cffc50047828          0  train\n",
       "4        2559  b0f0fa677d5f          0  train\n",
       "5         728  345b1f0abbba          0  train\n",
       "6        2472  ab7991df166b          0  train\n",
       "7        2911  ca63fe4f4b52          1  train\n",
       "8        2572  b200c23b299b          0  train\n",
       "9        1675  76bc31e0d3be          0  train"
      ]
     },
     "execution_count": 5,
     "metadata": {
      "tags": []
     },
     "output_type": "execute_result"
    }
   ],
   "source": [
    "train_df.head(10)"
   ]
  },
  {
   "cell_type": "code",
   "execution_count": 6,
   "metadata": {
    "executionInfo": {
     "elapsed": 2973,
     "status": "ok",
     "timestamp": 1602734525814,
     "user": {
      "displayName": "Jorge Diego Garcia Torres",
      "photoUrl": "https://lh3.googleusercontent.com/a-/AOh14GgUm411NCPxL0CyuKgBlBhJ9SxhXr8inmS25Nfq=s64",
      "userId": "03990517325461913005"
     },
     "user_tz": 300
    },
    "id": "noghPiNW-wow"
   },
   "outputs": [],
   "source": [
    "x_train = np.load('/content/gdrive/My Drive/tesis/aptos/train224c.npy')"
   ]
  },
  {
   "cell_type": "code",
   "execution_count": 7,
   "metadata": {
    "colab": {
     "base_uri": "https://localhost:8080/",
     "height": 288
    },
    "executionInfo": {
     "elapsed": 1617,
     "status": "ok",
     "timestamp": 1602734529372,
     "user": {
      "displayName": "Jorge Diego Garcia Torres",
      "photoUrl": "https://lh3.googleusercontent.com/a-/AOh14GgUm411NCPxL0CyuKgBlBhJ9SxhXr8inmS25Nfq=s64",
      "userId": "03990517325461913005"
     },
     "user_tz": 300
    },
    "id": "XPhZ34yaDlUS",
    "outputId": "5e30a3de-2d7f-4079-a306-71647009d640"
   },
   "outputs": [
    {
     "data": {
      "text/plain": [
       "<matplotlib.image.AxesImage at 0x7f5ba3655ef0>"
      ]
     },
     "execution_count": 7,
     "metadata": {
      "tags": []
     },
     "output_type": "execute_result"
    },
    {
     "data": {
      "image/png": "[encoded data removed]",
      "text/plain": [
       "<Figure size 432x288 with 1 Axes>"
      ]
     },
     "metadata": {
      "needs_background": "light",
      "tags": []
     },
     "output_type": "display_data"
    }
   ],
   "source": [
    "plt.imshow(x_train[0])"
   ]
  },
  {
   "cell_type": "code",
   "execution_count": 8,
   "metadata": {
    "executionInfo": {
     "elapsed": 664,
     "status": "ok",
     "timestamp": 1602734534198,
     "user": {
      "displayName": "Jorge Diego Garcia Torres",
      "photoUrl": "https://lh3.googleusercontent.com/a-/AOh14GgUm411NCPxL0CyuKgBlBhJ9SxhXr8inmS25Nfq=s64",
      "userId": "03990517325461913005"
     },
     "user_tz": 300
    },
    "id": "KbrmaaexCMmk"
   },
   "outputs": [],
   "source": [
    "X_train = train_df[train_df['set'] == 'train']\n",
    "X_val = train_df[train_df['set'] == 'validation']"
   ]
  },
  {
   "cell_type": "code",
   "execution_count": 9,
   "metadata": {
    "executionInfo": {
     "elapsed": 600,
     "status": "ok",
     "timestamp": 1602734537056,
     "user": {
      "displayName": "Jorge Diego Garcia Torres",
      "photoUrl": "https://lh3.googleusercontent.com/a-/AOh14GgUm411NCPxL0CyuKgBlBhJ9SxhXr8inmS25Nfq=s64",
      "userId": "03990517325461913005"
     },
     "user_tz": 300
    },
    "id": "QA6Gt1a_Fl48"
   },
   "outputs": [],
   "source": [
    "x_train_index =np.array(X_train['Unnamed: 0'])\n",
    "x_val_index = np.array(X_val['Unnamed: 0'])"
   ]
  },
  {
   "cell_type": "code",
   "execution_count": 10,
   "metadata": {
    "executionInfo": {
     "elapsed": 493,
     "status": "ok",
     "timestamp": 1602734540173,
     "user": {
      "displayName": "Jorge Diego Garcia Torres",
      "photoUrl": "https://lh3.googleusercontent.com/a-/AOh14GgUm411NCPxL0CyuKgBlBhJ9SxhXr8inmS25Nfq=s64",
      "userId": "03990517325461913005"
     },
     "user_tz": 300
    },
    "id": "mTnVZ3DiKqm8"
   },
   "outputs": [],
   "source": [
    "y_train = pd.get_dummies(train_df['diagnosis']).values"
   ]
  },
  {
   "cell_type": "code",
   "execution_count": 11,
   "metadata": {
    "colab": {
     "base_uri": "https://localhost:8080/",
     "height": 51
    },
    "executionInfo": {
     "elapsed": 535,
     "status": "ok",
     "timestamp": 1602734542077,
     "user": {
      "displayName": "Jorge Diego Garcia Torres",
      "photoUrl": "https://lh3.googleusercontent.com/a-/AOh14GgUm411NCPxL0CyuKgBlBhJ9SxhXr8inmS25Nfq=s64",
      "userId": "03990517325461913005"
     },
     "user_tz": 300
    },
    "id": "MMt9Ij_Dfxh7",
    "outputId": "937d5689-ea3d-46fb-bf96-c8cf232a5276"
   },
   "outputs": [
    {
     "name": "stdout",
     "output_type": "stream",
     "text": [
      "2929\n",
      "733\n"
     ]
    }
   ],
   "source": [
    "print(len(X_train))\n",
    "print(len(X_val))"
   ]
  },
  {
   "cell_type": "code",
   "execution_count": 12,
   "metadata": {
    "executionInfo": {
     "elapsed": 753,
     "status": "ok",
     "timestamp": 1602734546221,
     "user": {
      "displayName": "Jorge Diego Garcia Torres",
      "photoUrl": "https://lh3.googleusercontent.com/a-/AOh14GgUm411NCPxL0CyuKgBlBhJ9SxhXr8inmS25Nfq=s64",
      "userId": "03990517325461913005"
     },
     "user_tz": 300
    },
    "id": "TPuDja5rGytD"
   },
   "outputs": [],
   "source": [
    "x_train1 = np.empty((2929,224,224,3),dtype='uint8')\n",
    "x_val1 = np.empty((733,224,224,3),dtype='uint8')\n",
    "\n",
    "y_train1 =  np.empty((2929,5),dtype='uint8')\n",
    "y_val1 = np.empty((733,5),dtype='uint8')\n",
    "\n",
    "for i in range(len(x_train_index)):\n",
    "  x_train1[i] = x_train[x_train_index[i]]\n",
    "  y_train1[i] = y_train[x_train_index[i]]\n",
    "\n",
    "for j in range(len(x_val_index)):\n",
    "  x_val1[j] = x_train[x_val_index[j]]\n",
    "  y_val1[j] = y_train[x_val_index[j]]"
   ]
  },
  {
   "cell_type": "code",
   "execution_count": 13,
   "metadata": {
    "executionInfo": {
     "elapsed": 647,
     "status": "ok",
     "timestamp": 1602734550363,
     "user": {
      "displayName": "Jorge Diego Garcia Torres",
      "photoUrl": "https://lh3.googleusercontent.com/a-/AOh14GgUm411NCPxL0CyuKgBlBhJ9SxhXr8inmS25Nfq=s64",
      "userId": "03990517325461913005"
     },
     "user_tz": 300
    },
    "id": "1bvnNCI3hcXj"
   },
   "outputs": [],
   "source": [
    "y_train1 = pd.get_dummies(X_train['diagnosis']).values\n",
    "y_val1 = pd.get_dummies(X_val['diagnosis']).values"
   ]
  },
  {
   "cell_type": "code",
   "execution_count": 15,
   "metadata": {
    "colab": {
     "base_uri": "https://localhost:8080/",
     "height": 979
    },
    "executionInfo": {
     "elapsed": 513,
     "status": "ok",
     "timestamp": 1602734559856,
     "user": {
      "displayName": "Jorge Diego Garcia Torres",
      "photoUrl": "https://lh3.googleusercontent.com/a-/AOh14GgUm411NCPxL0CyuKgBlBhJ9SxhXr8inmS25Nfq=s64",
      "userId": "03990517325461913005"
     },
     "user_tz": 300
    },
    "id": "e0uAkhGdg3xB",
    "outputId": "19348eba-19c9-4bec-f765-a0d89a53169c"
   },
   "outputs": [
    {
     "data": {
      "text/html": [
       "<div>\n",
       "<style scoped>\n",
       "    .dataframe tbody tr th:only-of-type {\n",
       "        vertical-align: middle;\n",
       "    }\n",
       "\n",
       "    .dataframe tbody tr th {\n",
       "        vertical-align: top;\n",
       "    }\n",
       "\n",
       "    .dataframe thead th {\n",
       "        text-align: right;\n",
       "    }\n",
       "</style>\n",
       "<table border=\"1\" class=\"dataframe\">\n",
       "  <thead>\n",
       "    <tr style=\"text-align: right;\">\n",
       "      <th></th>\n",
       "      <th>Unnamed: 0</th>\n",
       "      <th>id_code</th>\n",
       "      <th>diagnosis</th>\n",
       "      <th>set</th>\n",
       "    </tr>\n",
       "  </thead>\n",
       "  <tbody>\n",
       "    <tr>\n",
       "      <th>0</th>\n",
       "      <td>1236</td>\n",
       "      <td>55eac26bd383</td>\n",
       "      <td>1</td>\n",
       "      <td>train</td>\n",
       "    </tr>\n",
       "    <tr>\n",
       "      <th>1</th>\n",
       "      <td>962</td>\n",
       "      <td>44e0d56e9d42</td>\n",
       "      <td>2</td>\n",
       "      <td>train</td>\n",
       "    </tr>\n",
       "    <tr>\n",
       "      <th>2</th>\n",
       "      <td>2447</td>\n",
       "      <td>aa4407aab872</td>\n",
       "      <td>0</td>\n",
       "      <td>train</td>\n",
       "    </tr>\n",
       "    <tr>\n",
       "      <th>3</th>\n",
       "      <td>2991</td>\n",
       "      <td>cffc50047828</td>\n",
       "      <td>0</td>\n",
       "      <td>train</td>\n",
       "    </tr>\n",
       "    <tr>\n",
       "      <th>4</th>\n",
       "      <td>2559</td>\n",
       "      <td>b0f0fa677d5f</td>\n",
       "      <td>0</td>\n",
       "      <td>train</td>\n",
       "    </tr>\n",
       "    <tr>\n",
       "      <th>5</th>\n",
       "      <td>728</td>\n",
       "      <td>345b1f0abbba</td>\n",
       "      <td>0</td>\n",
       "      <td>train</td>\n",
       "    </tr>\n",
       "    <tr>\n",
       "      <th>6</th>\n",
       "      <td>2472</td>\n",
       "      <td>ab7991df166b</td>\n",
       "      <td>0</td>\n",
       "      <td>train</td>\n",
       "    </tr>\n",
       "    <tr>\n",
       "      <th>7</th>\n",
       "      <td>2911</td>\n",
       "      <td>ca63fe4f4b52</td>\n",
       "      <td>1</td>\n",
       "      <td>train</td>\n",
       "    </tr>\n",
       "    <tr>\n",
       "      <th>8</th>\n",
       "      <td>2572</td>\n",
       "      <td>b200c23b299b</td>\n",
       "      <td>0</td>\n",
       "      <td>train</td>\n",
       "    </tr>\n",
       "    <tr>\n",
       "      <th>9</th>\n",
       "      <td>1675</td>\n",
       "      <td>76bc31e0d3be</td>\n",
       "      <td>0</td>\n",
       "      <td>train</td>\n",
       "    </tr>\n",
       "    <tr>\n",
       "      <th>10</th>\n",
       "      <td>3038</td>\n",
       "      <td>d2cd47ed2c1d</td>\n",
       "      <td>0</td>\n",
       "      <td>train</td>\n",
       "    </tr>\n",
       "    <tr>\n",
       "      <th>11</th>\n",
       "      <td>3232</td>\n",
       "      <td>e12d41e7b221</td>\n",
       "      <td>2</td>\n",
       "      <td>train</td>\n",
       "    </tr>\n",
       "    <tr>\n",
       "      <th>12</th>\n",
       "      <td>2346</td>\n",
       "      <td>a4359815f152</td>\n",
       "      <td>2</td>\n",
       "      <td>train</td>\n",
       "    </tr>\n",
       "    <tr>\n",
       "      <th>13</th>\n",
       "      <td>905</td>\n",
       "      <td>417f408ee8e0</td>\n",
       "      <td>2</td>\n",
       "      <td>train</td>\n",
       "    </tr>\n",
       "    <tr>\n",
       "      <th>14</th>\n",
       "      <td>748</td>\n",
       "      <td>35ac70c0d08f</td>\n",
       "      <td>0</td>\n",
       "      <td>train</td>\n",
       "    </tr>\n",
       "    <tr>\n",
       "      <th>15</th>\n",
       "      <td>924</td>\n",
       "      <td>42b9c1977681</td>\n",
       "      <td>0</td>\n",
       "      <td>train</td>\n",
       "    </tr>\n",
       "    <tr>\n",
       "      <th>16</th>\n",
       "      <td>641</td>\n",
       "      <td>2d3f4094c08a</td>\n",
       "      <td>0</td>\n",
       "      <td>train</td>\n",
       "    </tr>\n",
       "    <tr>\n",
       "      <th>17</th>\n",
       "      <td>1646</td>\n",
       "      <td>7455e2b5fc57</td>\n",
       "      <td>2</td>\n",
       "      <td>train</td>\n",
       "    </tr>\n",
       "    <tr>\n",
       "      <th>18</th>\n",
       "      <td>2088</td>\n",
       "      <td>92889b863ae6</td>\n",
       "      <td>0</td>\n",
       "      <td>train</td>\n",
       "    </tr>\n",
       "    <tr>\n",
       "      <th>19</th>\n",
       "      <td>2530</td>\n",
       "      <td>af133a85ea0c</td>\n",
       "      <td>1</td>\n",
       "      <td>train</td>\n",
       "    </tr>\n",
       "    <tr>\n",
       "      <th>20</th>\n",
       "      <td>1450</td>\n",
       "      <td>65e51e18242b</td>\n",
       "      <td>1</td>\n",
       "      <td>train</td>\n",
       "    </tr>\n",
       "    <tr>\n",
       "      <th>21</th>\n",
       "      <td>3617</td>\n",
       "      <td>fcc55ae641ae</td>\n",
       "      <td>2</td>\n",
       "      <td>train</td>\n",
       "    </tr>\n",
       "    <tr>\n",
       "      <th>22</th>\n",
       "      <td>1386</td>\n",
       "      <td>613bacb35c05</td>\n",
       "      <td>1</td>\n",
       "      <td>train</td>\n",
       "    </tr>\n",
       "    <tr>\n",
       "      <th>23</th>\n",
       "      <td>559</td>\n",
       "      <td>27b68863349f</td>\n",
       "      <td>2</td>\n",
       "      <td>train</td>\n",
       "    </tr>\n",
       "    <tr>\n",
       "      <th>24</th>\n",
       "      <td>2203</td>\n",
       "      <td>9ac2e3e9fca5</td>\n",
       "      <td>0</td>\n",
       "      <td>train</td>\n",
       "    </tr>\n",
       "    <tr>\n",
       "      <th>25</th>\n",
       "      <td>3133</td>\n",
       "      <td>d994203deb64</td>\n",
       "      <td>2</td>\n",
       "      <td>train</td>\n",
       "    </tr>\n",
       "    <tr>\n",
       "      <th>26</th>\n",
       "      <td>385</td>\n",
       "      <td>1c4f3aa4df06</td>\n",
       "      <td>4</td>\n",
       "      <td>train</td>\n",
       "    </tr>\n",
       "    <tr>\n",
       "      <th>27</th>\n",
       "      <td>1999</td>\n",
       "      <td>8c4ceddeb1c6</td>\n",
       "      <td>0</td>\n",
       "      <td>train</td>\n",
       "    </tr>\n",
       "    <tr>\n",
       "      <th>28</th>\n",
       "      <td>861</td>\n",
       "      <td>3e1f8fecb06f</td>\n",
       "      <td>2</td>\n",
       "      <td>train</td>\n",
       "    </tr>\n",
       "    <tr>\n",
       "      <th>29</th>\n",
       "      <td>2931</td>\n",
       "      <td>cb39761f0712</td>\n",
       "      <td>0</td>\n",
       "      <td>train</td>\n",
       "    </tr>\n",
       "  </tbody>\n",
       "</table>\n",
       "</div>"
      ],
      "text/plain": [
       "    Unnamed: 0       id_code  diagnosis    set\n",
       "0         1236  55eac26bd383          1  train\n",
       "1          962  44e0d56e9d42          2  train\n",
       "2         2447  aa4407aab872          0  train\n",
       "3         2991  cffc50047828          0  train\n",
       "4         2559  b0f0fa677d5f          0  train\n",
       "5          728  345b1f0abbba          0  train\n",
       "6         2472  ab7991df166b          0  train\n",
       "7         2911  ca63fe4f4b52          1  train\n",
       "8         2572  b200c23b299b          0  train\n",
       "9         1675  76bc31e0d3be          0  train\n",
       "10        3038  d2cd47ed2c1d          0  train\n",
       "11        3232  e12d41e7b221          2  train\n",
       "12        2346  a4359815f152          2  train\n",
       "13         905  417f408ee8e0          2  train\n",
       "14         748  35ac70c0d08f          0  train\n",
       "15         924  42b9c1977681          0  train\n",
       "16         641  2d3f4094c08a          0  train\n",
       "17        1646  7455e2b5fc57          2  train\n",
       "18        2088  92889b863ae6          0  train\n",
       "19        2530  af133a85ea0c          1  train\n",
       "20        1450  65e51e18242b          1  train\n",
       "21        3617  fcc55ae641ae          2  train\n",
       "22        1386  613bacb35c05          1  train\n",
       "23         559  27b68863349f          2  train\n",
       "24        2203  9ac2e3e9fca5          0  train\n",
       "25        3133  d994203deb64          2  train\n",
       "26         385  1c4f3aa4df06          4  train\n",
       "27        1999  8c4ceddeb1c6          0  train\n",
       "28         861  3e1f8fecb06f          2  train\n",
       "29        2931  cb39761f0712          0  train"
      ]
     },
     "execution_count": 15,
     "metadata": {
      "tags": []
     },
     "output_type": "execute_result"
    }
   ],
   "source": [
    "X_train[:30]"
   ]
  },
  {
   "cell_type": "code",
   "execution_count": 16,
   "metadata": {
    "colab": {
     "base_uri": "https://localhost:8080/",
     "height": 288
    },
    "executionInfo": {
     "elapsed": 1084,
     "status": "ok",
     "timestamp": 1602734565543,
     "user": {
      "displayName": "Jorge Diego Garcia Torres",
      "photoUrl": "https://lh3.googleusercontent.com/a-/AOh14GgUm411NCPxL0CyuKgBlBhJ9SxhXr8inmS25Nfq=s64",
      "userId": "03990517325461913005"
     },
     "user_tz": 300
    },
    "id": "IYhUP1BTjJRA",
    "outputId": "1a038680-4003-4b15-d637-a297f31d078b"
   },
   "outputs": [
    {
     "data": {
      "text/plain": [
       "<matplotlib.image.AxesImage at 0x7f5ba19395f8>"
      ]
     },
     "execution_count": 16,
     "metadata": {
      "tags": []
     },
     "output_type": "execute_result"
    },
    {
     "data": {
      "image/png": "[encoded data removed]",
      "text/plain": [
       "<Figure size 432x288 with 1 Axes>"
      ]
     },
     "metadata": {
      "needs_background": "light",
      "tags": []
     },
     "output_type": "display_data"
    }
   ],
   "source": [
    "plt.imshow(x_train1[21])"
   ]
  },
  {
   "cell_type": "code",
   "execution_count": 17,
   "metadata": {
    "colab": {
     "base_uri": "https://localhost:8080/",
     "height": 51
    },
    "executionInfo": {
     "elapsed": 660,
     "status": "ok",
     "timestamp": 1602734571287,
     "user": {
      "displayName": "Jorge Diego Garcia Torres",
      "photoUrl": "https://lh3.googleusercontent.com/a-/AOh14GgUm411NCPxL0CyuKgBlBhJ9SxhXr8inmS25Nfq=s64",
      "userId": "03990517325461913005"
     },
     "user_tz": 300
    },
    "id": "D9lBr4h8gi0Q",
    "outputId": "35e5fad1-a9da-41af-a56b-488e61beedbe"
   },
   "outputs": [
    {
     "data": {
      "text/plain": [
       "array([[0, 1, 0, 0, 0],\n",
       "       [0, 0, 1, 0, 0]], dtype=uint8)"
      ]
     },
     "execution_count": 17,
     "metadata": {
      "tags": []
     },
     "output_type": "execute_result"
    }
   ],
   "source": [
    "y_train1[:2]"
   ]
  },
  {
   "cell_type": "code",
   "execution_count": 18,
   "metadata": {
    "colab": {
     "base_uri": "https://localhost:8080/",
     "height": 979
    },
    "executionInfo": {
     "elapsed": 816,
     "status": "ok",
     "timestamp": 1602734576155,
     "user": {
      "displayName": "Jorge Diego Garcia Torres",
      "photoUrl": "https://lh3.googleusercontent.com/a-/AOh14GgUm411NCPxL0CyuKgBlBhJ9SxhXr8inmS25Nfq=s64",
      "userId": "03990517325461913005"
     },
     "user_tz": 300
    },
    "id": "CepGdwnyidnW",
    "outputId": "ea5ff579-5756-44c8-ee77-e103a34c7e53"
   },
   "outputs": [
    {
     "data": {
      "text/html": [
       "<div>\n",
       "<style scoped>\n",
       "    .dataframe tbody tr th:only-of-type {\n",
       "        vertical-align: middle;\n",
       "    }\n",
       "\n",
       "    .dataframe tbody tr th {\n",
       "        vertical-align: top;\n",
       "    }\n",
       "\n",
       "    .dataframe thead th {\n",
       "        text-align: right;\n",
       "    }\n",
       "</style>\n",
       "<table border=\"1\" class=\"dataframe\">\n",
       "  <thead>\n",
       "    <tr style=\"text-align: right;\">\n",
       "      <th></th>\n",
       "      <th>Unnamed: 0</th>\n",
       "      <th>id_code</th>\n",
       "      <th>diagnosis</th>\n",
       "      <th>set</th>\n",
       "    </tr>\n",
       "  </thead>\n",
       "  <tbody>\n",
       "    <tr>\n",
       "      <th>2929</th>\n",
       "      <td>2596</td>\n",
       "      <td>b460ca9fa26f</td>\n",
       "      <td>0</td>\n",
       "      <td>validation</td>\n",
       "    </tr>\n",
       "    <tr>\n",
       "      <th>2930</th>\n",
       "      <td>1548</td>\n",
       "      <td>6cee2e148520</td>\n",
       "      <td>0</td>\n",
       "      <td>validation</td>\n",
       "    </tr>\n",
       "    <tr>\n",
       "      <th>2931</th>\n",
       "      <td>2912</td>\n",
       "      <td>ca6842bfcbc9</td>\n",
       "      <td>1</td>\n",
       "      <td>validation</td>\n",
       "    </tr>\n",
       "    <tr>\n",
       "      <th>2932</th>\n",
       "      <td>1544</td>\n",
       "      <td>6cbc3dad809c</td>\n",
       "      <td>2</td>\n",
       "      <td>validation</td>\n",
       "    </tr>\n",
       "    <tr>\n",
       "      <th>2933</th>\n",
       "      <td>2438</td>\n",
       "      <td>a9bc2f892cb3</td>\n",
       "      <td>0</td>\n",
       "      <td>validation</td>\n",
       "    </tr>\n",
       "    <tr>\n",
       "      <th>2934</th>\n",
       "      <td>898</td>\n",
       "      <td>40e9b5630438</td>\n",
       "      <td>1</td>\n",
       "      <td>validation</td>\n",
       "    </tr>\n",
       "    <tr>\n",
       "      <th>2935</th>\n",
       "      <td>3297</td>\n",
       "      <td>e4e343eaae2a</td>\n",
       "      <td>2</td>\n",
       "      <td>validation</td>\n",
       "    </tr>\n",
       "    <tr>\n",
       "      <th>2936</th>\n",
       "      <td>3513</td>\n",
       "      <td>f4d3777f2710</td>\n",
       "      <td>2</td>\n",
       "      <td>validation</td>\n",
       "    </tr>\n",
       "    <tr>\n",
       "      <th>2937</th>\n",
       "      <td>224</td>\n",
       "      <td>10a5026eb8e6</td>\n",
       "      <td>0</td>\n",
       "      <td>validation</td>\n",
       "    </tr>\n",
       "    <tr>\n",
       "      <th>2938</th>\n",
       "      <td>3121</td>\n",
       "      <td>d8da9de62743</td>\n",
       "      <td>0</td>\n",
       "      <td>validation</td>\n",
       "    </tr>\n",
       "    <tr>\n",
       "      <th>2939</th>\n",
       "      <td>2192</td>\n",
       "      <td>9a3109657ac1</td>\n",
       "      <td>1</td>\n",
       "      <td>validation</td>\n",
       "    </tr>\n",
       "    <tr>\n",
       "      <th>2940</th>\n",
       "      <td>3203</td>\n",
       "      <td>df0886f1e76b</td>\n",
       "      <td>0</td>\n",
       "      <td>validation</td>\n",
       "    </tr>\n",
       "    <tr>\n",
       "      <th>2941</th>\n",
       "      <td>1922</td>\n",
       "      <td>876deb29f000</td>\n",
       "      <td>0</td>\n",
       "      <td>validation</td>\n",
       "    </tr>\n",
       "    <tr>\n",
       "      <th>2942</th>\n",
       "      <td>1501</td>\n",
       "      <td>6987804eb464</td>\n",
       "      <td>2</td>\n",
       "      <td>validation</td>\n",
       "    </tr>\n",
       "    <tr>\n",
       "      <th>2943</th>\n",
       "      <td>2115</td>\n",
       "      <td>94a67ec0714f</td>\n",
       "      <td>2</td>\n",
       "      <td>validation</td>\n",
       "    </tr>\n",
       "    <tr>\n",
       "      <th>2944</th>\n",
       "      <td>3463</td>\n",
       "      <td>f06e7a9df795</td>\n",
       "      <td>0</td>\n",
       "      <td>validation</td>\n",
       "    </tr>\n",
       "    <tr>\n",
       "      <th>2945</th>\n",
       "      <td>1387</td>\n",
       "      <td>6155cf375354</td>\n",
       "      <td>0</td>\n",
       "      <td>validation</td>\n",
       "    </tr>\n",
       "    <tr>\n",
       "      <th>2946</th>\n",
       "      <td>3090</td>\n",
       "      <td>d74ccc796517</td>\n",
       "      <td>0</td>\n",
       "      <td>validation</td>\n",
       "    </tr>\n",
       "    <tr>\n",
       "      <th>2947</th>\n",
       "      <td>958</td>\n",
       "      <td>44976c3b11a6</td>\n",
       "      <td>0</td>\n",
       "      <td>validation</td>\n",
       "    </tr>\n",
       "    <tr>\n",
       "      <th>2948</th>\n",
       "      <td>1069</td>\n",
       "      <td>4c5ab774a381</td>\n",
       "      <td>0</td>\n",
       "      <td>validation</td>\n",
       "    </tr>\n",
       "    <tr>\n",
       "      <th>2949</th>\n",
       "      <td>1118</td>\n",
       "      <td>4ec7796df40e</td>\n",
       "      <td>0</td>\n",
       "      <td>validation</td>\n",
       "    </tr>\n",
       "    <tr>\n",
       "      <th>2950</th>\n",
       "      <td>2947</td>\n",
       "      <td>cc964bf04dbc</td>\n",
       "      <td>0</td>\n",
       "      <td>validation</td>\n",
       "    </tr>\n",
       "    <tr>\n",
       "      <th>2951</th>\n",
       "      <td>569</td>\n",
       "      <td>28503940d10b</td>\n",
       "      <td>0</td>\n",
       "      <td>validation</td>\n",
       "    </tr>\n",
       "    <tr>\n",
       "      <th>2952</th>\n",
       "      <td>1691</td>\n",
       "      <td>77a9538b8362</td>\n",
       "      <td>1</td>\n",
       "      <td>validation</td>\n",
       "    </tr>\n",
       "    <tr>\n",
       "      <th>2953</th>\n",
       "      <td>2360</td>\n",
       "      <td>a505981d1cab</td>\n",
       "      <td>2</td>\n",
       "      <td>validation</td>\n",
       "    </tr>\n",
       "    <tr>\n",
       "      <th>2954</th>\n",
       "      <td>3587</td>\n",
       "      <td>fa3e544a7401</td>\n",
       "      <td>2</td>\n",
       "      <td>validation</td>\n",
       "    </tr>\n",
       "    <tr>\n",
       "      <th>2955</th>\n",
       "      <td>682</td>\n",
       "      <td>308f7fce6f0d</td>\n",
       "      <td>2</td>\n",
       "      <td>validation</td>\n",
       "    </tr>\n",
       "    <tr>\n",
       "      <th>2956</th>\n",
       "      <td>3003</td>\n",
       "      <td>d144144a2f3f</td>\n",
       "      <td>2</td>\n",
       "      <td>validation</td>\n",
       "    </tr>\n",
       "    <tr>\n",
       "      <th>2957</th>\n",
       "      <td>192</td>\n",
       "      <td>0e0fc1d9810c</td>\n",
       "      <td>4</td>\n",
       "      <td>validation</td>\n",
       "    </tr>\n",
       "    <tr>\n",
       "      <th>2958</th>\n",
       "      <td>443</td>\n",
       "      <td>1f3f32efaf20</td>\n",
       "      <td>0</td>\n",
       "      <td>validation</td>\n",
       "    </tr>\n",
       "  </tbody>\n",
       "</table>\n",
       "</div>"
      ],
      "text/plain": [
       "      Unnamed: 0       id_code  diagnosis         set\n",
       "2929        2596  b460ca9fa26f          0  validation\n",
       "2930        1548  6cee2e148520          0  validation\n",
       "2931        2912  ca6842bfcbc9          1  validation\n",
       "2932        1544  6cbc3dad809c          2  validation\n",
       "2933        2438  a9bc2f892cb3          0  validation\n",
       "2934         898  40e9b5630438          1  validation\n",
       "2935        3297  e4e343eaae2a          2  validation\n",
       "2936        3513  f4d3777f2710          2  validation\n",
       "2937         224  10a5026eb8e6          0  validation\n",
       "2938        3121  d8da9de62743          0  validation\n",
       "2939        2192  9a3109657ac1          1  validation\n",
       "2940        3203  df0886f1e76b          0  validation\n",
       "2941        1922  876deb29f000          0  validation\n",
       "2942        1501  6987804eb464          2  validation\n",
       "2943        2115  94a67ec0714f          2  validation\n",
       "2944        3463  f06e7a9df795          0  validation\n",
       "2945        1387  6155cf375354          0  validation\n",
       "2946        3090  d74ccc796517          0  validation\n",
       "2947         958  44976c3b11a6          0  validation\n",
       "2948        1069  4c5ab774a381          0  validation\n",
       "2949        1118  4ec7796df40e          0  validation\n",
       "2950        2947  cc964bf04dbc          0  validation\n",
       "2951         569  28503940d10b          0  validation\n",
       "2952        1691  77a9538b8362          1  validation\n",
       "2953        2360  a505981d1cab          2  validation\n",
       "2954        3587  fa3e544a7401          2  validation\n",
       "2955         682  308f7fce6f0d          2  validation\n",
       "2956        3003  d144144a2f3f          2  validation\n",
       "2957         192  0e0fc1d9810c          4  validation\n",
       "2958         443  1f3f32efaf20          0  validation"
      ]
     },
     "execution_count": 18,
     "metadata": {
      "tags": []
     },
     "output_type": "execute_result"
    }
   ],
   "source": [
    "X_val[:30]"
   ]
  },
  {
   "cell_type": "code",
   "execution_count": 19,
   "metadata": {
    "colab": {
     "base_uri": "https://localhost:8080/",
     "height": 288
    },
    "executionInfo": {
     "elapsed": 1148,
     "status": "ok",
     "timestamp": 1602734581986,
     "user": {
      "displayName": "Jorge Diego Garcia Torres",
      "photoUrl": "https://lh3.googleusercontent.com/a-/AOh14GgUm411NCPxL0CyuKgBlBhJ9SxhXr8inmS25Nfq=s64",
      "userId": "03990517325461913005"
     },
     "user_tz": 300
    },
    "id": "_eQg7um1jpxW",
    "outputId": "a10fa653-bc0d-4c99-afc9-8e8468eb63dd"
   },
   "outputs": [
    {
     "data": {
      "text/plain": [
       "<matplotlib.image.AxesImage at 0x7f5ba18a62b0>"
      ]
     },
     "execution_count": 19,
     "metadata": {
      "tags": []
     },
     "output_type": "execute_result"
    },
    {
     "data": {
      "image/png": "[encoded data removed]",
      "text/plain": [
       "<Figure size 432x288 with 1 Axes>"
      ]
     },
     "metadata": {
      "needs_background": "light",
      "tags": []
     },
     "output_type": "display_data"
    }
   ],
   "source": [
    "plt.imshow(x_val1[28])"
   ]
  },
  {
   "cell_type": "code",
   "execution_count": 20,
   "metadata": {
    "colab": {
     "base_uri": "https://localhost:8080/",
     "height": 187
    },
    "executionInfo": {
     "elapsed": 551,
     "status": "ok",
     "timestamp": 1602734587137,
     "user": {
      "displayName": "Jorge Diego Garcia Torres",
      "photoUrl": "https://lh3.googleusercontent.com/a-/AOh14GgUm411NCPxL0CyuKgBlBhJ9SxhXr8inmS25Nfq=s64",
      "userId": "03990517325461913005"
     },
     "user_tz": 300
    },
    "id": "NVxvn5htiiDp",
    "outputId": "12294ab1-9971-42fa-83c0-774d868b0dac"
   },
   "outputs": [
    {
     "data": {
      "text/plain": [
       "array([[1, 0, 0, 0, 0],\n",
       "       [1, 0, 0, 0, 0],\n",
       "       [0, 1, 0, 0, 0],\n",
       "       [0, 0, 1, 0, 0],\n",
       "       [1, 0, 0, 0, 0],\n",
       "       [0, 1, 0, 0, 0],\n",
       "       [0, 0, 1, 0, 0],\n",
       "       [0, 0, 1, 0, 0],\n",
       "       [1, 0, 0, 0, 0],\n",
       "       [1, 0, 0, 0, 0]], dtype=uint8)"
      ]
     },
     "execution_count": 20,
     "metadata": {
      "tags": []
     },
     "output_type": "execute_result"
    }
   ],
   "source": [
    "y_val1[:10]"
   ]
  },
  {
   "cell_type": "code",
   "execution_count": 21,
   "metadata": {
    "colab": {
     "base_uri": "https://localhost:8080/",
     "height": 85
    },
    "executionInfo": {
     "elapsed": 649,
     "status": "ok",
     "timestamp": 1602734591615,
     "user": {
      "displayName": "Jorge Diego Garcia Torres",
      "photoUrl": "https://lh3.googleusercontent.com/a-/AOh14GgUm411NCPxL0CyuKgBlBhJ9SxhXr8inmS25Nfq=s64",
      "userId": "03990517325461913005"
     },
     "user_tz": 300
    },
    "id": "trUFEyAwI3_V",
    "outputId": "be2e14d4-b7cf-4d49-ae2e-c36c653729db"
   },
   "outputs": [
    {
     "name": "stdout",
     "output_type": "stream",
     "text": [
      "(2929, 224, 224, 3)\n",
      "(733, 224, 224, 3)\n",
      "(2929, 5)\n",
      "(733, 5)\n"
     ]
    }
   ],
   "source": [
    "print(x_train1.shape)\n",
    "print(x_val1.shape)\n",
    "print(y_train1.shape)\n",
    "print(y_val1.shape)"
   ]
  },
  {
   "cell_type": "code",
   "execution_count": 22,
   "metadata": {
    "executionInfo": {
     "elapsed": 506,
     "status": "ok",
     "timestamp": 1602734626043,
     "user": {
      "displayName": "Jorge Diego Garcia Torres",
      "photoUrl": "https://lh3.googleusercontent.com/a-/AOh14GgUm411NCPxL0CyuKgBlBhJ9SxhXr8inmS25Nfq=s64",
      "userId": "03990517325461913005"
     },
     "user_tz": 300
    },
    "id": "n5Wgb_dEORX8"
   },
   "outputs": [],
   "source": [
    "import json\n",
    "import math\n",
    "import os\n",
    "\n",
    "import cv2\n",
    "from PIL import Image\n",
    "import numpy as np\n",
    "from keras import layers\n",
    "from keras.applications import DenseNet121\n",
    "#from keras.callbacks import Callback, ModelCheckpoint\n",
    "from keras.preprocessing.image import ImageDataGenerator\n",
    "from keras.models import Sequential\n",
    "from keras.optimizers import Adam\n",
    "import matplotlib.pyplot as plt\n",
    "import pandas as pd\n",
    "from sklearn.model_selection import train_test_split\n",
    "from sklearn.metrics import cohen_kappa_score, accuracy_score\n",
    "import scipy\n",
    "import tensorflow as tf\n",
    "from tensorflow.keras.callbacks import Callback, ModelCheckpoint\n",
    "from tqdm import tqdm"
   ]
  },
  {
   "cell_type": "code",
   "execution_count": 23,
   "metadata": {
    "executionInfo": {
     "elapsed": 744,
     "status": "ok",
     "timestamp": 1602734653403,
     "user": {
      "displayName": "Jorge Diego Garcia Torres",
      "photoUrl": "https://lh3.googleusercontent.com/a-/AOh14GgUm411NCPxL0CyuKgBlBhJ9SxhXr8inmS25Nfq=s64",
      "userId": "03990517325461913005"
     },
     "user_tz": 300
    },
    "id": "tT-lbmWbmPlt"
   },
   "outputs": [],
   "source": [
    "weights_path_list = ['/content/gdrive/My Drive/tesis2/filter_effNetB5_fold0.h5', '/content/gdrive/My Drive/tesis2/filter_effNetB5_fold1.h5',\n",
    "                     '/content/gdrive/My Drive/tesis2/filter_effNetB5_fold2.h5', '/content/gdrive/My Drive/tesis2/filter_effNetB5_fold3.h5',\n",
    "                     '/content/gdrive/My Drive/tesis2/filter_effNetB5_fold4.h5']"
   ]
  },
  {
   "cell_type": "code",
   "execution_count": 24,
   "metadata": {
    "executionInfo": {
     "elapsed": 643,
     "status": "ok",
     "timestamp": 1602734656186,
     "user": {
      "displayName": "Jorge Diego Garcia Torres",
      "photoUrl": "https://lh3.googleusercontent.com/a-/AOh14GgUm411NCPxL0CyuKgBlBhJ9SxhXr8inmS25Nfq=s64",
      "userId": "03990517325461913005"
     },
     "user_tz": 300
    },
    "id": "pDeufGe2nEEe"
   },
   "outputs": [],
   "source": [
    "def ensemble_preds(model_list, generator):\n",
    "    preds_ensemble = []\n",
    "    for model in model_list:\n",
    "        generator.reset()\n",
    "        preds = model.predict(generator, verbose = 1)\n",
    "        preds_ensemble.append(preds)\n",
    "        generator.reset()\n",
    "\n",
    "    return np.mean(preds_ensemble, axis=0)\n",
    "\n",
    "\n",
    "def apply_tta(model, generator, steps=5):\n",
    "    step_size = generator.n//generator.batch_size\n",
    "    preds_tta = []\n",
    "    for i in range(steps):\n",
    "        generator.reset()\n",
    "        preds = model.predict_generator(generator, steps=step_size)\n",
    "        preds_tta.append(preds)\n",
    "\n",
    "    return np.mean(preds_tta, axis=0)\n",
    "\n",
    "def test_ensemble_preds(model_list, generator, steps=5):\n",
    "    preds_ensemble = []\n",
    "    for model in model_list:\n",
    "        preds = apply_tta(model, generator, steps)\n",
    "        preds_ensemble.append(preds)\n",
    "\n",
    "    return np.mean(preds_ensemble, axis=0)\n"
   ]
  },
  {
   "cell_type": "code",
   "execution_count": 25,
   "metadata": {
    "executionInfo": {
     "elapsed": 551,
     "status": "ok",
     "timestamp": 1602734659049,
     "user": {
      "displayName": "Jorge Diego Garcia Torres",
      "photoUrl": "https://lh3.googleusercontent.com/a-/AOh14GgUm411NCPxL0CyuKgBlBhJ9SxhXr8inmS25Nfq=s64",
      "userId": "03990517325461913005"
     },
     "user_tz": 300
    },
    "id": "KK_B18zRNW6F"
   },
   "outputs": [],
   "source": [
    "BATCH_SIZE = 16\n",
    "\n",
    "train_datagen = ImageDataGenerator(rescale=1./ 255.,\n",
    "                                   rotation_range=360,                               \n",
    "                                   #shear_range=0.01,\n",
    "                                   zoom_range=[0.9, 1.25],\n",
    "                                   horizontal_flip=True,\n",
    "                                   vertical_flip=True)\n",
    "\n",
    "val_datagen = ImageDataGenerator(rescale=1./ 255.,\n",
    "                                   rotation_range=360,                               \n",
    "                                   #shear_range=0.01,\n",
    "                                   zoom_range=[0.9, 1.25],\n",
    "                                   horizontal_flip=True,\n",
    "                                   vertical_flip=True)\n",
    "\n",
    "test_datagen = ImageDataGenerator(rescale=1./ 255.,\n",
    "                                   rotation_range=360,                               \n",
    "                                   #shear_range=0.01,\n",
    "                                   zoom_range=[0.9, 1.25],\n",
    "                                   horizontal_flip=True,\n",
    "                                   vertical_flip=True)\n"
   ]
  },
  {
   "cell_type": "code",
   "execution_count": 26,
   "metadata": {
    "executionInfo": {
     "elapsed": 1115,
     "status": "ok",
     "timestamp": 1602734663038,
     "user": {
      "displayName": "Jorge Diego Garcia Torres",
      "photoUrl": "https://lh3.googleusercontent.com/a-/AOh14GgUm411NCPxL0CyuKgBlBhJ9SxhXr8inmS25Nfq=s64",
      "userId": "03990517325461913005"
     },
     "user_tz": 300
    },
    "id": "Pv5iiJANOY5v"
   },
   "outputs": [],
   "source": [
    "data_generator = train_datagen.flow(x_train1, y_train1, batch_size=1, seed=2020)\n",
    "vdata_gen =  test_datagen.flow(x_val1, y_val1, batch_size=1, seed=2020)"
   ]
  },
  {
   "cell_type": "code",
   "execution_count": 27,
   "metadata": {
    "executionInfo": {
     "elapsed": 574,
     "status": "ok",
     "timestamp": 1602734798357,
     "user": {
      "displayName": "Jorge Diego Garcia Torres",
      "photoUrl": "https://lh3.googleusercontent.com/a-/AOh14GgUm411NCPxL0CyuKgBlBhJ9SxhXr8inmS25Nfq=s64",
      "userId": "03990517325461913005"
     },
     "user_tz": 300
    },
    "id": "ehbBXbE1RYqk"
   },
   "outputs": [],
   "source": [
    "from tensorflow import keras\n",
    "from tensorflow.keras.layers import Dense, Dropout, Flatten, Conv2D, MaxPooling2D, BatchNormalization, Activation\n",
    "from keras.callbacks import Callback, EarlyStopping, ReduceLROnPlateau\n",
    "from keras.layers import Input,GlobalAveragePooling2D,Dropout,Dense,Activation\n",
    "from keras import applications\n",
    "from keras import optimizers,Model,Sequential"
   ]
  },
  {
   "cell_type": "code",
   "execution_count": 28,
   "metadata": {
    "colab": {
     "base_uri": "https://localhost:8080/",
     "height": 411
    },
    "executionInfo": {
     "elapsed": 4579,
     "status": "ok",
     "timestamp": 1602734804533,
     "user": {
      "displayName": "Jorge Diego Garcia Torres",
      "photoUrl": "https://lh3.googleusercontent.com/a-/AOh14GgUm411NCPxL0CyuKgBlBhJ9SxhXr8inmS25Nfq=s64",
      "userId": "03990517325461913005"
     },
     "user_tz": 300
    },
    "id": "gR9R0QnPNeJO",
    "outputId": "9672d751-6cea-41f0-db39-c76ccaba49f7"
   },
   "outputs": [
    {
     "name": "stdout",
     "output_type": "stream",
     "text": [
      "Collecting efficientnet\n",
      "  Downloading https://files.pythonhosted.org/packages/53/97/84f88e581d6ac86dcf1ab347c497c4c568c38784e3a2bd659b96912ab793/efficientnet-1.1.1-py3-none-any.whl\n",
      "Requirement already satisfied, skipping upgrade: scikit-image in /usr/local/lib/python3.6/dist-packages (from efficientnet) (0.16.2)\n",
      "Collecting keras-applications<=1.0.8,>=1.0.7\n",
      "\u001b[?25l  Downloading https://files.pythonhosted.org/packages/71/e3/19762fdfc62877ae9102edf6342d71b28fbfd9dea3d2f96a882ce099b03f/Keras_Applications-1.0.8-py3-none-any.whl (50kB)\n",
      "\u001b[K     |████████████████████████████████| 51kB 3.9MB/s \n",
      "\u001b[?25hRequirement already satisfied, skipping upgrade: networkx>=2.0 in /usr/local/lib/python3.6/dist-packages (from scikit-image->efficientnet) (2.5)\n",
      "Requirement already satisfied, skipping upgrade: pillow>=4.3.0 in /usr/local/lib/python3.6/dist-packages (from scikit-image->efficientnet) (7.0.0)\n",
      "Requirement already satisfied, skipping upgrade: scipy>=0.19.0 in /usr/local/lib/python3.6/dist-packages (from scikit-image->efficientnet) (1.4.1)\n",
      "Requirement already satisfied, skipping upgrade: PyWavelets>=0.4.0 in /usr/local/lib/python3.6/dist-packages (from scikit-image->efficientnet) (1.1.1)\n",
      "Requirement already satisfied, skipping upgrade: matplotlib!=3.0.0,>=2.0.0 in /usr/local/lib/python3.6/dist-packages (from scikit-image->efficientnet) (3.2.2)\n",
      "Requirement already satisfied, skipping upgrade: imageio>=2.3.0 in /usr/local/lib/python3.6/dist-packages (from scikit-image->efficientnet) (2.4.1)\n",
      "Requirement already satisfied, skipping upgrade: h5py in /usr/local/lib/python3.6/dist-packages (from keras-applications<=1.0.8,>=1.0.7->efficientnet) (2.10.0)\n",
      "Requirement already satisfied, skipping upgrade: numpy>=1.9.1 in /usr/local/lib/python3.6/dist-packages (from keras-applications<=1.0.8,>=1.0.7->efficientnet) (1.18.5)\n",
      "Requirement already satisfied, skipping upgrade: decorator>=4.3.0 in /usr/local/lib/python3.6/dist-packages (from networkx>=2.0->scikit-image->efficientnet) (4.4.2)\n",
      "Requirement already satisfied, skipping upgrade: python-dateutil>=2.1 in /usr/local/lib/python3.6/dist-packages (from matplotlib!=3.0.0,>=2.0.0->scikit-image->efficientnet) (2.8.1)\n",
      "Requirement already satisfied, skipping upgrade: pyparsing!=2.0.4,!=2.1.2,!=2.1.6,>=2.0.1 in /usr/local/lib/python3.6/dist-packages (from matplotlib!=3.0.0,>=2.0.0->scikit-image->efficientnet) (2.4.7)\n",
      "Requirement already satisfied, skipping upgrade: kiwisolver>=1.0.1 in /usr/local/lib/python3.6/dist-packages (from matplotlib!=3.0.0,>=2.0.0->scikit-image->efficientnet) (1.2.0)\n",
      "Requirement already satisfied, skipping upgrade: cycler>=0.10 in /usr/local/lib/python3.6/dist-packages (from matplotlib!=3.0.0,>=2.0.0->scikit-image->efficientnet) (0.10.0)\n",
      "Requirement already satisfied, skipping upgrade: six in /usr/local/lib/python3.6/dist-packages (from h5py->keras-applications<=1.0.8,>=1.0.7->efficientnet) (1.15.0)\n",
      "Installing collected packages: keras-applications, efficientnet\n",
      "Successfully installed efficientnet-1.1.1 keras-applications-1.0.8\n"
     ]
    }
   ],
   "source": [
    "pip install -U efficientnet"
   ]
  },
  {
   "cell_type": "code",
   "execution_count": 29,
   "metadata": {
    "executionInfo": {
     "elapsed": 604,
     "status": "ok",
     "timestamp": 1602734806729,
     "user": {
      "displayName": "Jorge Diego Garcia Torres",
      "photoUrl": "https://lh3.googleusercontent.com/a-/AOh14GgUm411NCPxL0CyuKgBlBhJ9SxhXr8inmS25Nfq=s64",
      "userId": "03990517325461913005"
     },
     "user_tz": 300
    },
    "id": "Kx68eODUNzUT"
   },
   "outputs": [],
   "source": [
    "import efficientnet.keras as efn "
   ]
  },
  {
   "cell_type": "code",
   "execution_count": 30,
   "metadata": {
    "executionInfo": {
     "elapsed": 533,
     "status": "ok",
     "timestamp": 1602734810022,
     "user": {
      "displayName": "Jorge Diego Garcia Torres",
      "photoUrl": "https://lh3.googleusercontent.com/a-/AOh14GgUm411NCPxL0CyuKgBlBhJ9SxhXr8inmS25Nfq=s64",
      "userId": "03990517325461913005"
     },
     "user_tz": 300
    },
    "id": "BHSXrbvxRZ6g"
   },
   "outputs": [],
   "source": [
    "def create_model(input_shape, n_out, weights_path):\n",
    "    input_tensor = Input(shape=input_shape)\n",
    "    base_model = efn.EfficientNetB5(weights=None,include_top=False,input_tensor=input_tensor)\n",
    "    #base_model = applications.ResNet50(weights='imagenet', include_top=False,input_tensor=input_tensor)\n",
    "    #base_model.load_weights('resnet50_weights_tf_dim_ordering_tf_kernels_notop.h5')\n",
    "\n",
    "    x = GlobalAveragePooling2D()(base_model.output)\n",
    "    x = Dropout(0.5)(x)\n",
    "    x = Dense(2048, activation='relu')(x)\n",
    "    x = Dropout(0.5)(x)\n",
    "    final_output = Dense(n_out, activation='softmax', name='final_output')(x)\n",
    "    model = Model(input_tensor, final_output)\n",
    "\n",
    "    model.load_weights(weights_path)\n",
    "    return model"
   ]
  },
  {
   "cell_type": "code",
   "execution_count": 31,
   "metadata": {
    "executionInfo": {
     "elapsed": 58730,
     "status": "ok",
     "timestamp": 1602734872285,
     "user": {
      "displayName": "Jorge Diego Garcia Torres",
      "photoUrl": "https://lh3.googleusercontent.com/a-/AOh14GgUm411NCPxL0CyuKgBlBhJ9SxhXr8inmS25Nfq=s64",
      "userId": "03990517325461913005"
     },
     "user_tz": 300
    },
    "id": "L8JLAQxqoNSl"
   },
   "outputs": [],
   "source": [
    "model_list = []\n",
    "\n",
    "for weights_path in weights_path_list:\n",
    "  model_list.append(create_model(input_shape=(224, 224, 3), n_out=5, weights_path= weights_path))"
   ]
  },
  {
   "cell_type": "code",
   "execution_count": 47,
   "metadata": {
    "executionInfo": {
     "elapsed": 16366,
     "status": "ok",
     "timestamp": 1602735113649,
     "user": {
      "displayName": "Jorge Diego Garcia Torres",
      "photoUrl": "https://lh3.googleusercontent.com/a-/AOh14GgUm411NCPxL0CyuKgBlBhJ9SxhXr8inmS25Nfq=s64",
      "userId": "03990517325461913005"
     },
     "user_tz": 300
    },
    "id": "x2L3jurvTI9X"
   },
   "outputs": [],
   "source": [
    "vdata_gen.reset()\n",
    "\n",
    "x_vdata = np.zeros((733,224, 224, 3))\n",
    "y_val2 = np.array([[0,0,0,0,0]])\n",
    "\n",
    "for i in range(733):\n",
    "  y_val2 =np.append(y_val2, vdata_gen[i][1], axis=0)\n",
    "  x_vdata[i]= vdata_gen[i][0]\n",
    "\n",
    "y_val2 = np.delete(y_val2,0, axis=0)\n",
    "\n",
    "vdata_gen.reset()"
   ]
  },
  {
   "cell_type": "code",
   "execution_count": 48,
   "metadata": {
    "colab": {
     "base_uri": "https://localhost:8080/",
     "height": 1000
    },
    "executionInfo": {
     "elapsed": 680,
     "status": "ok",
     "timestamp": 1602735162582,
     "user": {
      "displayName": "Jorge Diego Garcia Torres",
      "photoUrl": "https://lh3.googleusercontent.com/a-/AOh14GgUm411NCPxL0CyuKgBlBhJ9SxhXr8inmS25Nfq=s64",
      "userId": "03990517325461913005"
     },
     "user_tz": 300
    },
    "id": "V-MYEsUsUTUI",
    "outputId": "dc65096f-60b3-4f6b-bed5-949adfdccedd"
   },
   "outputs": [
    {
     "data": {
      "text/plain": [
       "[2,\n",
       " 0,\n",
       " 2,\n",
       " 2,\n",
       " 0,\n",
       " 0,\n",
       " 4,\n",
       " 0,\n",
       " 0,\n",
       " 0,\n",
       " 0,\n",
       " 0,\n",
       " 0,\n",
       " 3,\n",
       " 0,\n",
       " 0,\n",
       " 4,\n",
       " 0,\n",
       " 0,\n",
       " 4,\n",
       " 2,\n",
       " 0,\n",
       " 0,\n",
       " 0,\n",
       " 0,\n",
       " 0,\n",
       " 0,\n",
       " 0,\n",
       " 1,\n",
       " 4,\n",
       " 0,\n",
       " 2,\n",
       " 0,\n",
       " 0,\n",
       " 2,\n",
       " 0,\n",
       " 0,\n",
       " 1,\n",
       " 2,\n",
       " 0,\n",
       " 3,\n",
       " 0,\n",
       " 0,\n",
       " 0,\n",
       " 0,\n",
       " 0,\n",
       " 4,\n",
       " 0,\n",
       " 4,\n",
       " 0,\n",
       " 0,\n",
       " 0,\n",
       " 0,\n",
       " 0,\n",
       " 0,\n",
       " 0,\n",
       " 0,\n",
       " 0,\n",
       " 0,\n",
       " 2,\n",
       " 2,\n",
       " 0,\n",
       " 0,\n",
       " 0,\n",
       " 0,\n",
       " 0,\n",
       " 0,\n",
       " 0,\n",
       " 1,\n",
       " 0,\n",
       " 0,\n",
       " 0,\n",
       " 2,\n",
       " 1,\n",
       " 4,\n",
       " 1,\n",
       " 2,\n",
       " 2,\n",
       " 0,\n",
       " 2,\n",
       " 2,\n",
       " 0,\n",
       " 2,\n",
       " 0,\n",
       " 0,\n",
       " 0,\n",
       " 4,\n",
       " 2,\n",
       " 0,\n",
       " 0,\n",
       " 0,\n",
       " 0,\n",
       " 0,\n",
       " 0,\n",
       " 0,\n",
       " 2,\n",
       " 0,\n",
       " 1,\n",
       " 0,\n",
       " 0,\n",
       " 0,\n",
       " 2,\n",
       " 2,\n",
       " 1,\n",
       " 0,\n",
       " 0,\n",
       " 0,\n",
       " 0,\n",
       " 0,\n",
       " 0,\n",
       " 4,\n",
       " 0,\n",
       " 2,\n",
       " 2,\n",
       " 0,\n",
       " 0,\n",
       " 0,\n",
       " 4,\n",
       " 2,\n",
       " 0,\n",
       " 0,\n",
       " 0,\n",
       " 1,\n",
       " 1,\n",
       " 2,\n",
       " 2,\n",
       " 2,\n",
       " 0,\n",
       " 0,\n",
       " 2,\n",
       " 0,\n",
       " 2,\n",
       " 2,\n",
       " 1,\n",
       " 0,\n",
       " 0,\n",
       " 0,\n",
       " 2,\n",
       " 1,\n",
       " 0,\n",
       " 0,\n",
       " 0,\n",
       " 2,\n",
       " 2,\n",
       " 2,\n",
       " 2,\n",
       " 0,\n",
       " 2,\n",
       " 0,\n",
       " 2,\n",
       " 0,\n",
       " 0,\n",
       " 3,\n",
       " 0,\n",
       " 4,\n",
       " 4,\n",
       " 0,\n",
       " 4,\n",
       " 2,\n",
       " 3,\n",
       " 1,\n",
       " 1,\n",
       " 2,\n",
       " 0,\n",
       " 2,\n",
       " 0,\n",
       " 2,\n",
       " 0,\n",
       " 2,\n",
       " 2,\n",
       " 0,\n",
       " 2,\n",
       " 0,\n",
       " 0,\n",
       " 0,\n",
       " 0,\n",
       " 1,\n",
       " 2,\n",
       " 0,\n",
       " 0,\n",
       " 3,\n",
       " 0,\n",
       " 0,\n",
       " 2,\n",
       " 0,\n",
       " 0,\n",
       " 1,\n",
       " 0,\n",
       " 4,\n",
       " 1,\n",
       " 2,\n",
       " 3,\n",
       " 1,\n",
       " 0,\n",
       " 0,\n",
       " 0,\n",
       " 2,\n",
       " 1,\n",
       " 2,\n",
       " 1,\n",
       " 4,\n",
       " 0,\n",
       " 2,\n",
       " 2,\n",
       " 2,\n",
       " 2,\n",
       " 0,\n",
       " 1,\n",
       " 2,\n",
       " 1,\n",
       " 3,\n",
       " 0,\n",
       " 0,\n",
       " 0,\n",
       " 1,\n",
       " 0,\n",
       " 4,\n",
       " 2,\n",
       " 2,\n",
       " 0,\n",
       " 0,\n",
       " 0,\n",
       " 2,\n",
       " 2,\n",
       " 2,\n",
       " 0,\n",
       " 0,\n",
       " 0,\n",
       " 2,\n",
       " 0,\n",
       " 0,\n",
       " 4,\n",
       " 2,\n",
       " 2,\n",
       " 2,\n",
       " 2,\n",
       " 2,\n",
       " 1,\n",
       " 2,\n",
       " 0,\n",
       " 0,\n",
       " 2,\n",
       " 0,\n",
       " 4,\n",
       " 0,\n",
       " 2,\n",
       " 4,\n",
       " 2,\n",
       " 0,\n",
       " 3,\n",
       " 0,\n",
       " 0,\n",
       " 0,\n",
       " 0,\n",
       " 2,\n",
       " 0,\n",
       " 2,\n",
       " 0,\n",
       " 2,\n",
       " 2,\n",
       " 4,\n",
       " 0,\n",
       " 0,\n",
       " 2,\n",
       " 0,\n",
       " 2,\n",
       " 0,\n",
       " 2,\n",
       " 0,\n",
       " 1,\n",
       " 3,\n",
       " 0,\n",
       " 0,\n",
       " 0,\n",
       " 1,\n",
       " 4,\n",
       " 2,\n",
       " 0,\n",
       " 2,\n",
       " 0,\n",
       " 2,\n",
       " 4,\n",
       " 2,\n",
       " 0,\n",
       " 2,\n",
       " 2,\n",
       " 0,\n",
       " 1,\n",
       " 0,\n",
       " 0,\n",
       " 1,\n",
       " 2,\n",
       " 0,\n",
       " 0,\n",
       " 0,\n",
       " 0,\n",
       " 0,\n",
       " 2,\n",
       " 2,\n",
       " 0,\n",
       " 1,\n",
       " 2,\n",
       " 0,\n",
       " 0,\n",
       " 2,\n",
       " 2,\n",
       " 2,\n",
       " 0,\n",
       " 0,\n",
       " 0,\n",
       " 4,\n",
       " 1,\n",
       " 3,\n",
       " 0,\n",
       " 1,\n",
       " 0,\n",
       " 0,\n",
       " 0,\n",
       " 1,\n",
       " 0,\n",
       " 2,\n",
       " 2,\n",
       " 1,\n",
       " 0,\n",
       " 0,\n",
       " 0,\n",
       " 0,\n",
       " 0,\n",
       " 0,\n",
       " 2,\n",
       " 1,\n",
       " 0,\n",
       " 0,\n",
       " 2,\n",
       " 2,\n",
       " 0,\n",
       " 0,\n",
       " 4,\n",
       " 2,\n",
       " 4,\n",
       " 2,\n",
       " 0,\n",
       " 0,\n",
       " 0,\n",
       " 4,\n",
       " 0,\n",
       " 1,\n",
       " 4,\n",
       " 0,\n",
       " 0,\n",
       " 2,\n",
       " 0,\n",
       " 0,\n",
       " 0,\n",
       " 4,\n",
       " 4,\n",
       " 0,\n",
       " 2,\n",
       " 3,\n",
       " 3,\n",
       " 3,\n",
       " 0,\n",
       " 1,\n",
       " 2,\n",
       " 4,\n",
       " 2,\n",
       " 2,\n",
       " 0,\n",
       " 0,\n",
       " 0,\n",
       " 1,\n",
       " 4,\n",
       " 4,\n",
       " 0,\n",
       " 1,\n",
       " 1,\n",
       " 2,\n",
       " 1,\n",
       " 2,\n",
       " 0,\n",
       " 2,\n",
       " 0,\n",
       " 0,\n",
       " 0,\n",
       " 4,\n",
       " 0,\n",
       " 1,\n",
       " 0,\n",
       " 2,\n",
       " 2,\n",
       " 0,\n",
       " 3,\n",
       " 0,\n",
       " 0,\n",
       " 1,\n",
       " 0,\n",
       " 0,\n",
       " 2,\n",
       " 0,\n",
       " 1,\n",
       " 0,\n",
       " 1,\n",
       " 0,\n",
       " 0,\n",
       " 1,\n",
       " 0,\n",
       " 0,\n",
       " 0,\n",
       " 0,\n",
       " 0,\n",
       " 0,\n",
       " 1,\n",
       " 1,\n",
       " 3,\n",
       " 0,\n",
       " 0,\n",
       " 0,\n",
       " 0,\n",
       " 2,\n",
       " 0,\n",
       " 2,\n",
       " 2,\n",
       " 0,\n",
       " 3,\n",
       " 0,\n",
       " 2,\n",
       " 1,\n",
       " 0,\n",
       " 0,\n",
       " 0,\n",
       " 4,\n",
       " 2,\n",
       " 0,\n",
       " 0,\n",
       " 0,\n",
       " 2,\n",
       " 2,\n",
       " 0,\n",
       " 0,\n",
       " 2,\n",
       " 0,\n",
       " 0,\n",
       " 0,\n",
       " 2,\n",
       " 2,\n",
       " 2,\n",
       " 4,\n",
       " 0,\n",
       " 2,\n",
       " 1,\n",
       " 2,\n",
       " 2,\n",
       " 4,\n",
       " 0,\n",
       " 0,\n",
       " 0,\n",
       " 1,\n",
       " 4,\n",
       " 2,\n",
       " 2,\n",
       " 0,\n",
       " 0,\n",
       " 2,\n",
       " 0,\n",
       " 0,\n",
       " 2,\n",
       " 2,\n",
       " 2,\n",
       " 0,\n",
       " 0,\n",
       " 0,\n",
       " 2,\n",
       " 0,\n",
       " 2,\n",
       " 0,\n",
       " 2,\n",
       " 2,\n",
       " 0,\n",
       " 2,\n",
       " 1,\n",
       " 0,\n",
       " 2,\n",
       " 2,\n",
       " 0,\n",
       " 0,\n",
       " 0,\n",
       " 2,\n",
       " 0,\n",
       " 0,\n",
       " 0,\n",
       " 2,\n",
       " 0,\n",
       " 0,\n",
       " 1,\n",
       " 0,\n",
       " 0,\n",
       " 2,\n",
       " 4,\n",
       " 1,\n",
       " 4,\n",
       " 1,\n",
       " 4,\n",
       " 0,\n",
       " 0,\n",
       " 0,\n",
       " 0,\n",
       " 2,\n",
       " 0,\n",
       " 0,\n",
       " 0,\n",
       " 2,\n",
       " 0,\n",
       " 2,\n",
       " 2,\n",
       " 1,\n",
       " 4,\n",
       " 2,\n",
       " 1,\n",
       " 0,\n",
       " 2,\n",
       " 2,\n",
       " 3,\n",
       " 3,\n",
       " 0,\n",
       " 4,\n",
       " 4,\n",
       " 3,\n",
       " 0,\n",
       " 1,\n",
       " 3,\n",
       " 0,\n",
       " 1,\n",
       " 0,\n",
       " 4,\n",
       " 0,\n",
       " 1,\n",
       " 2,\n",
       " 1,\n",
       " 2,\n",
       " 1,\n",
       " 0,\n",
       " 0,\n",
       " 3,\n",
       " 2,\n",
       " 2,\n",
       " 2,\n",
       " 3,\n",
       " 2,\n",
       " 2,\n",
       " 2,\n",
       " 2,\n",
       " 1,\n",
       " 0,\n",
       " 0,\n",
       " 0,\n",
       " 2,\n",
       " 2,\n",
       " 0,\n",
       " 2,\n",
       " 2,\n",
       " 2,\n",
       " 0,\n",
       " 3,\n",
       " 2,\n",
       " 0,\n",
       " 0,\n",
       " 2,\n",
       " 0,\n",
       " 0,\n",
       " 0,\n",
       " 0,\n",
       " 2,\n",
       " 0,\n",
       " 4,\n",
       " 0,\n",
       " 2,\n",
       " 4,\n",
       " 2,\n",
       " 2,\n",
       " 2,\n",
       " 0,\n",
       " 1,\n",
       " 2,\n",
       " 0,\n",
       " 4,\n",
       " 2,\n",
       " 2,\n",
       " 0,\n",
       " 4,\n",
       " 4,\n",
       " 4,\n",
       " 0,\n",
       " 0,\n",
       " 4,\n",
       " 4,\n",
       " 4,\n",
       " 1,\n",
       " 2,\n",
       " 2,\n",
       " 0,\n",
       " 1,\n",
       " 2,\n",
       " 2,\n",
       " 2,\n",
       " 2,\n",
       " 3,\n",
       " 0,\n",
       " 4,\n",
       " 4,\n",
       " 2,\n",
       " 0,\n",
       " 4,\n",
       " 0,\n",
       " 0,\n",
       " 0,\n",
       " 4,\n",
       " 0,\n",
       " 4,\n",
       " 2,\n",
       " 2,\n",
       " 0,\n",
       " 0,\n",
       " 1,\n",
       " 1,\n",
       " 0,\n",
       " 0,\n",
       " 0,\n",
       " 2,\n",
       " 2,\n",
       " 4,\n",
       " 2,\n",
       " 2,\n",
       " 0,\n",
       " 0,\n",
       " 2,\n",
       " 2,\n",
       " 1,\n",
       " 3,\n",
       " 0,\n",
       " 2,\n",
       " 0,\n",
       " 0,\n",
       " 2,\n",
       " 0,\n",
       " 2,\n",
       " 1,\n",
       " 0,\n",
       " 2,\n",
       " 0,\n",
       " 0,\n",
       " 4,\n",
       " 0,\n",
       " 2,\n",
       " 0,\n",
       " 0,\n",
       " 0,\n",
       " 0,\n",
       " 0,\n",
       " 0,\n",
       " 2,\n",
       " 0,\n",
       " 2,\n",
       " 0,\n",
       " 0,\n",
       " 4,\n",
       " 2,\n",
       " 3,\n",
       " 0,\n",
       " 2,\n",
       " 0,\n",
       " 0,\n",
       " 0,\n",
       " 1,\n",
       " 0,\n",
       " 0,\n",
       " 1,\n",
       " 2,\n",
       " 3,\n",
       " 0,\n",
       " 2,\n",
       " 0,\n",
       " 4,\n",
       " 0,\n",
       " 2,\n",
       " 0,\n",
       " 2,\n",
       " 3,\n",
       " 0,\n",
       " 0,\n",
       " 3,\n",
       " 4,\n",
       " 2,\n",
       " 2,\n",
       " 4,\n",
       " 0,\n",
       " 2,\n",
       " 2,\n",
       " 0,\n",
       " 4,\n",
       " 2,\n",
       " 4,\n",
       " 0,\n",
       " 2,\n",
       " 0,\n",
       " 2,\n",
       " 0,\n",
       " 0,\n",
       " 2,\n",
       " 4,\n",
       " 4,\n",
       " 4,\n",
       " 2,\n",
       " 0,\n",
       " 0,\n",
       " 0,\n",
       " 0,\n",
       " 0,\n",
       " 0,\n",
       " 0,\n",
       " 4,\n",
       " 0,\n",
       " 1,\n",
       " 2,\n",
       " 2,\n",
       " 0,\n",
       " 2,\n",
       " 3,\n",
       " 0,\n",
       " 2,\n",
       " 3,\n",
       " 0,\n",
       " 0,\n",
       " 2]"
      ]
     },
     "execution_count": 48,
     "metadata": {
      "tags": []
     },
     "output_type": "execute_result"
    }
   ],
   "source": [
    "val_gen1 = [np.argmax(pred) for pred in y_val2]\n",
    "val_gen1"
   ]
  },
  {
   "cell_type": "code",
   "execution_count": 49,
   "metadata": {
    "executionInfo": {
     "elapsed": 652,
     "status": "ok",
     "timestamp": 1602735166668,
     "user": {
      "displayName": "Jorge Diego Garcia Torres",
      "photoUrl": "https://lh3.googleusercontent.com/a-/AOh14GgUm411NCPxL0CyuKgBlBhJ9SxhXr8inmS25Nfq=s64",
      "userId": "03990517325461913005"
     },
     "user_tz": 300
    },
    "id": "yucQOcQqjyjG"
   },
   "outputs": [],
   "source": [
    "preds_ensemble = []"
   ]
  },
  {
   "cell_type": "code",
   "execution_count": 50,
   "metadata": {
    "colab": {
     "base_uri": "https://localhost:8080/",
     "height": 71
    },
    "executionInfo": {
     "elapsed": 2287,
     "status": "ok",
     "timestamp": 1602735170248,
     "user": {
      "displayName": "Jorge Diego Garcia Torres",
      "photoUrl": "https://lh3.googleusercontent.com/a-/AOh14GgUm411NCPxL0CyuKgBlBhJ9SxhXr8inmS25Nfq=s64",
      "userId": "03990517325461913005"
     },
     "user_tz": 300
    },
    "id": "N9Ut3Qlqag3i",
    "outputId": "23cc7cbd-2d9f-41ad-b9df-8c6497e8a7ed"
   },
   "outputs": [
    {
     "name": "stdout",
     "output_type": "stream",
     "text": [
      " 2/23 [=>............................] - ETA: 0sWARNING:tensorflow:Callbacks method `on_predict_batch_end` is slow compared to the batch time (batch time: 0.0219s vs `on_predict_batch_end` time: 0.0524s). Check your callbacks.\n",
      "23/23 [==============================] - 2s 68ms/step\n"
     ]
    }
   ],
   "source": [
    "val_preds_model1 = model_list[0].predict(x_vdata, verbose = 1)\n",
    "preds_ensemble.append(val_preds_model1)\n",
    "val_preds_model1 = [np.argmax(pred) for pred in val_preds_model1]\n"
   ]
  },
  {
   "cell_type": "code",
   "execution_count": 51,
   "metadata": {
    "colab": {
     "base_uri": "https://localhost:8080/",
     "height": 34
    },
    "executionInfo": {
     "elapsed": 543,
     "status": "ok",
     "timestamp": 1602735172795,
     "user": {
      "displayName": "Jorge Diego Garcia Torres",
      "photoUrl": "https://lh3.googleusercontent.com/a-/AOh14GgUm411NCPxL0CyuKgBlBhJ9SxhXr8inmS25Nfq=s64",
      "userId": "03990517325461913005"
     },
     "user_tz": 300
    },
    "id": "U1XKkTkUbrXA",
    "outputId": "f929eca5-99e2-4162-f260-db7ce0ac2830"
   },
   "outputs": [
    {
     "name": "stdout",
     "output_type": "stream",
     "text": [
      "Val Cohen Kappa score: 0.942\n"
     ]
    }
   ],
   "source": [
    "print(\"Val Cohen Kappa score: %.3f\" % cohen_kappa_score(val_preds_model1, val_gen1, weights='quadratic'))"
   ]
  },
  {
   "cell_type": "code",
   "execution_count": 52,
   "metadata": {
    "colab": {
     "base_uri": "https://localhost:8080/",
     "height": 71
    },
    "executionInfo": {
     "elapsed": 2421,
     "status": "ok",
     "timestamp": 1602735177320,
     "user": {
      "displayName": "Jorge Diego Garcia Torres",
      "photoUrl": "https://lh3.googleusercontent.com/a-/AOh14GgUm411NCPxL0CyuKgBlBhJ9SxhXr8inmS25Nfq=s64",
      "userId": "03990517325461913005"
     },
     "user_tz": 300
    },
    "id": "iUYePlv-c_sd",
    "outputId": "e7aa161e-2e22-4ecf-978d-ed83875ee631"
   },
   "outputs": [
    {
     "name": "stdout",
     "output_type": "stream",
     "text": [
      " 2/23 [=>............................] - ETA: 0sWARNING:tensorflow:Callbacks method `on_predict_batch_end` is slow compared to the batch time (batch time: 0.0193s vs `on_predict_batch_end` time: 0.0528s). Check your callbacks.\n",
      "23/23 [==============================] - 2s 68ms/step\n"
     ]
    }
   ],
   "source": [
    "val_preds_model2 = model_list[1].predict(x_vdata, verbose = 1)\n",
    "preds_ensemble.append(val_preds_model2)\n",
    "val_preds_model2 = [np.argmax(pred) for pred in val_preds_model2]"
   ]
  },
  {
   "cell_type": "code",
   "execution_count": 53,
   "metadata": {
    "colab": {
     "base_uri": "https://localhost:8080/",
     "height": 34
    },
    "executionInfo": {
     "elapsed": 602,
     "status": "ok",
     "timestamp": 1602735179186,
     "user": {
      "displayName": "Jorge Diego Garcia Torres",
      "photoUrl": "https://lh3.googleusercontent.com/a-/AOh14GgUm411NCPxL0CyuKgBlBhJ9SxhXr8inmS25Nfq=s64",
      "userId": "03990517325461913005"
     },
     "user_tz": 300
    },
    "id": "Cr0VSySjdDKV",
    "outputId": "c5bc8b18-5b94-452e-f9fd-619b6cf30e82"
   },
   "outputs": [
    {
     "name": "stdout",
     "output_type": "stream",
     "text": [
      "Val Cohen Kappa score: 0.936\n"
     ]
    }
   ],
   "source": [
    "print(\"Val Cohen Kappa score: %.3f\" % cohen_kappa_score(val_preds_model2, val_gen1, weights='quadratic'))"
   ]
  },
  {
   "cell_type": "code",
   "execution_count": 54,
   "metadata": {
    "colab": {
     "base_uri": "https://localhost:8080/",
     "height": 71
    },
    "executionInfo": {
     "elapsed": 2163,
     "status": "ok",
     "timestamp": 1602735184412,
     "user": {
      "displayName": "Jorge Diego Garcia Torres",
      "photoUrl": "https://lh3.googleusercontent.com/a-/AOh14GgUm411NCPxL0CyuKgBlBhJ9SxhXr8inmS25Nfq=s64",
      "userId": "03990517325461913005"
     },
     "user_tz": 300
    },
    "id": "YApWo_19iwD9",
    "outputId": "6b6a830d-d3dd-43aa-b685-c170368342a5"
   },
   "outputs": [
    {
     "name": "stdout",
     "output_type": "stream",
     "text": [
      " 2/23 [=>............................] - ETA: 0sWARNING:tensorflow:Callbacks method `on_predict_batch_end` is slow compared to the batch time (batch time: 0.0206s vs `on_predict_batch_end` time: 0.0484s). Check your callbacks.\n",
      "23/23 [==============================] - 2s 68ms/step\n"
     ]
    }
   ],
   "source": [
    "val_preds_model3 = model_list[2].predict(x_vdata, verbose = 1)\n",
    "preds_ensemble.append(val_preds_model3)\n",
    "val_preds_model3 = [np.argmax(pred) for pred in val_preds_model3]"
   ]
  },
  {
   "cell_type": "code",
   "execution_count": 55,
   "metadata": {
    "colab": {
     "base_uri": "https://localhost:8080/",
     "height": 34
    },
    "executionInfo": {
     "elapsed": 539,
     "status": "ok",
     "timestamp": 1602735187285,
     "user": {
      "displayName": "Jorge Diego Garcia Torres",
      "photoUrl": "https://lh3.googleusercontent.com/a-/AOh14GgUm411NCPxL0CyuKgBlBhJ9SxhXr8inmS25Nfq=s64",
      "userId": "03990517325461913005"
     },
     "user_tz": 300
    },
    "id": "RVRfcfVVi7C4",
    "outputId": "4e1acbef-25c5-4b2e-bead-0f75e47b921c"
   },
   "outputs": [
    {
     "name": "stdout",
     "output_type": "stream",
     "text": [
      "Val Cohen Kappa score: 0.933\n"
     ]
    }
   ],
   "source": [
    "print(\"Val Cohen Kappa score: %.3f\" % cohen_kappa_score(val_preds_model3, val_gen1, weights='quadratic'))"
   ]
  },
  {
   "cell_type": "code",
   "execution_count": 56,
   "metadata": {
    "colab": {
     "base_uri": "https://localhost:8080/",
     "height": 71
    },
    "executionInfo": {
     "elapsed": 2242,
     "status": "ok",
     "timestamp": 1602735191146,
     "user": {
      "displayName": "Jorge Diego Garcia Torres",
      "photoUrl": "https://lh3.googleusercontent.com/a-/AOh14GgUm411NCPxL0CyuKgBlBhJ9SxhXr8inmS25Nfq=s64",
      "userId": "03990517325461913005"
     },
     "user_tz": 300
    },
    "id": "k5v7NGwgjKb0",
    "outputId": "5a35951e-519a-438b-ad66-dad6e458256f"
   },
   "outputs": [
    {
     "name": "stdout",
     "output_type": "stream",
     "text": [
      " 2/23 [=>............................] - ETA: 0sWARNING:tensorflow:Callbacks method `on_predict_batch_end` is slow compared to the batch time (batch time: 0.0198s vs `on_predict_batch_end` time: 0.0483s). Check your callbacks.\n",
      "23/23 [==============================] - 2s 68ms/step\n"
     ]
    }
   ],
   "source": [
    "val_preds_model4 = model_list[3].predict(x_vdata, verbose = 1)\n",
    "preds_ensemble.append(val_preds_model4)\n",
    "val_preds_model4 = [np.argmax(pred) for pred in val_preds_model4]"
   ]
  },
  {
   "cell_type": "code",
   "execution_count": 57,
   "metadata": {
    "colab": {
     "base_uri": "https://localhost:8080/",
     "height": 34
    },
    "executionInfo": {
     "elapsed": 570,
     "status": "ok",
     "timestamp": 1602735193035,
     "user": {
      "displayName": "Jorge Diego Garcia Torres",
      "photoUrl": "https://lh3.googleusercontent.com/a-/AOh14GgUm411NCPxL0CyuKgBlBhJ9SxhXr8inmS25Nfq=s64",
      "userId": "03990517325461913005"
     },
     "user_tz": 300
    },
    "id": "QkZ8UOivjQgH",
    "outputId": "b6dca0a1-c104-4504-efbc-87f279647b8c"
   },
   "outputs": [
    {
     "name": "stdout",
     "output_type": "stream",
     "text": [
      "Val Cohen Kappa score: 0.937\n"
     ]
    }
   ],
   "source": [
    "print(\"Val Cohen Kappa score: %.3f\" % cohen_kappa_score(val_preds_model4, val_gen1, weights='quadratic'))"
   ]
  },
  {
   "cell_type": "code",
   "execution_count": 58,
   "metadata": {
    "colab": {
     "base_uri": "https://localhost:8080/",
     "height": 71
    },
    "executionInfo": {
     "elapsed": 2330,
     "status": "ok",
     "timestamp": 1602735198479,
     "user": {
      "displayName": "Jorge Diego Garcia Torres",
      "photoUrl": "https://lh3.googleusercontent.com/a-/AOh14GgUm411NCPxL0CyuKgBlBhJ9SxhXr8inmS25Nfq=s64",
      "userId": "03990517325461913005"
     },
     "user_tz": 300
    },
    "id": "NgAhi4WAjZ8R",
    "outputId": "b186440d-857f-4e1f-fba3-776fc9e934b3"
   },
   "outputs": [
    {
     "name": "stdout",
     "output_type": "stream",
     "text": [
      " 2/23 [=>............................] - ETA: 0sWARNING:tensorflow:Callbacks method `on_predict_batch_end` is slow compared to the batch time (batch time: 0.0204s vs `on_predict_batch_end` time: 0.0484s). Check your callbacks.\n",
      "23/23 [==============================] - 2s 68ms/step\n"
     ]
    }
   ],
   "source": [
    "val_preds_model5 = model_list[4].predict(x_vdata, verbose = 1)\n",
    "preds_ensemble.append(val_preds_model5)\n",
    "val_preds_model5 = [np.argmax(pred) for pred in val_preds_model5]"
   ]
  },
  {
   "cell_type": "code",
   "execution_count": 59,
   "metadata": {
    "colab": {
     "base_uri": "https://localhost:8080/",
     "height": 34
    },
    "executionInfo": {
     "elapsed": 684,
     "status": "ok",
     "timestamp": 1602735200753,
     "user": {
      "displayName": "Jorge Diego Garcia Torres",
      "photoUrl": "https://lh3.googleusercontent.com/a-/AOh14GgUm411NCPxL0CyuKgBlBhJ9SxhXr8inmS25Nfq=s64",
      "userId": "03990517325461913005"
     },
     "user_tz": 300
    },
    "id": "5s0AvKGXje1M",
    "outputId": "8b88c9bd-3560-478d-cc65-bed6cee718c4"
   },
   "outputs": [
    {
     "name": "stdout",
     "output_type": "stream",
     "text": [
      "Val Cohen Kappa score: 0.928\n"
     ]
    }
   ],
   "source": [
    "print(\"Val Cohen Kappa score: %.3f\" % cohen_kappa_score(val_preds_model5, val_gen1, weights='quadratic'))"
   ]
  },
  {
   "cell_type": "code",
   "execution_count": 60,
   "metadata": {
    "executionInfo": {
     "elapsed": 651,
     "status": "ok",
     "timestamp": 1602735202857,
     "user": {
      "displayName": "Jorge Diego Garcia Torres",
      "photoUrl": "https://lh3.googleusercontent.com/a-/AOh14GgUm411NCPxL0CyuKgBlBhJ9SxhXr8inmS25Nfq=s64",
      "userId": "03990517325461913005"
     },
     "user_tz": 300
    },
    "id": "frAs7R57kWq4"
   },
   "outputs": [],
   "source": [
    "preds_ensemble=np.mean(preds_ensemble, axis=0)\n",
    "preds_ensemble = [np.argmax(pred) for pred in preds_ensemble]"
   ]
  },
  {
   "cell_type": "code",
   "execution_count": 61,
   "metadata": {
    "colab": {
     "base_uri": "https://localhost:8080/",
     "height": 34
    },
    "executionInfo": {
     "elapsed": 571,
     "status": "ok",
     "timestamp": 1602735204889,
     "user": {
      "displayName": "Jorge Diego Garcia Torres",
      "photoUrl": "https://lh3.googleusercontent.com/a-/AOh14GgUm411NCPxL0CyuKgBlBhJ9SxhXr8inmS25Nfq=s64",
      "userId": "03990517325461913005"
     },
     "user_tz": 300
    },
    "id": "CHEJGAwjkzpK",
    "outputId": "3cfb6e13-14f5-49fd-8dd1-9e5e82916c30"
   },
   "outputs": [
    {
     "name": "stdout",
     "output_type": "stream",
     "text": [
      "Val Cohen Kappa score: 0.943\n"
     ]
    }
   ],
   "source": [
    "print(\"Val Cohen Kappa score: %.3f\" % cohen_kappa_score(preds_ensemble, val_gen1, weights='quadratic'))"
   ]
  }
 ],
 "metadata": {
  "accelerator": "GPU",
  "colab": {
   "authorship_tag": "ABX9TyO193tpwMHHJrEipn2+7ng5",
   "machine_shape": "hm",
   "name": "filt_Ensamble.ipynb",
   "provenance": [
    {
     "file_id": "1nAzgQcXasq3r3kSnHufkKrrpgxfjEwfP",
     "timestamp": 1602734259139
    },
    {
     "file_id": "1My-VkpVWMCoQgcE2mT49F6xcIOQ1hWwP",
     "timestamp": 1602699042312
    },
    {
     "file_id": "1SWAmiXNdEI0d0olnnQpmsxmO5oQEFM07",
     "timestamp": 1602694501776
    },
    {
     "file_id": "1qrm490RUFjRQz5ePNOx3x_SN_IZxQX7N",
     "timestamp": 1602691237554
    },
    {
     "file_id": "16oQtNa0kcqNK6UfPhZQKUDUC5PgWLPo6",
     "timestamp": 1602653047501
    },
    {
     "file_id": "1KWSCpDXHL2pEZTr5K6pVJqubzgFiGDJv",
     "timestamp": 1602649103471
    }
   ]
  },
  "kernelspec": {
   "display_name": "Python 3",
   "language": "python",
   "name": "python3"
  },
  "language_info": {
   "codemirror_mode": {
    "name": "ipython",
    "version": 3
   },
   "file_extension": ".py",
   "mimetype": "text/x-python",
   "name": "python",
   "nbconvert_exporter": "python",
   "pygments_lexer": "ipython3",
   "version": "3.7.4"
  }
 },
 "nbformat": 4,
 "nbformat_minor": 1
}
